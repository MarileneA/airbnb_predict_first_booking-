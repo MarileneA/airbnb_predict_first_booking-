{
 "cells": [
  {
   "cell_type": "markdown",
   "id": "8b28c85b",
   "metadata": {},
   "source": [
    "# 0.0 IMPORTS"
   ]
  },
  {
   "cell_type": "code",
   "execution_count": 1,
   "id": "ea4b5e8d",
   "metadata": {
    "ExecuteTime": {
     "end_time": "2022-07-25T10:02:14.101952Z",
     "start_time": "2022-07-25T10:00:22.784438Z"
    }
   },
   "outputs": [
    {
     "name": "stderr",
     "output_type": "stream",
     "text": [
      "C:\\Users\\PC\\anaconda3\\envs\\pa006_airbnb\\lib\\site-packages\\tqdm\\auto.py:22: TqdmWarning: IProgress not found. Please update jupyter and ipywidgets. See https://ipywidgets.readthedocs.io/en/stable/user_install.html\n",
      "  from .autonotebook import tqdm as notebook_tqdm\n"
     ]
    }
   ],
   "source": [
    "import random\n",
    "import warnings\n",
    "from pandas_profiling import ProfileReport\n",
    "import pandas      as pd\n",
    "import numpy       as np\n",
    "import seaborn     as sns\n",
    "\n",
    "import matplotlib.pyplot as plt\n",
    "from category_encoders       import TargetEncoder\n",
    "from sklearn.metrics         import confusion_matrix\n",
    "from imblearn.under_sampling import RandomUnderSampler\n",
    "from imblearn                import combine as c\n",
    "from imblearn                import under_sampling as us\n",
    "from imblearn                import over_sampling as oversamp\n",
    "from scipy                   import stats as ss\n",
    "from sklearn                 import model_selection as ms\n",
    "from sklearn                 import preprocessing as pp\n",
    "from sklearn                 import metrics       as m\n",
    "from keras                   import models as ml\n",
    "from keras                   import layers as l\n",
    "#from pandas_profiling        import ProfileReport\n",
    "from IPython.core.display    import HTML\n",
    "\n",
    "warnings.filterwarnings( 'ignore' )"
   ]
  },
  {
   "cell_type": "markdown",
   "id": "b3786119",
   "metadata": {},
   "source": [
    "## 0.1 Helper Functions"
   ]
  },
  {
   "cell_type": "code",
   "execution_count": 2,
   "id": "bb9dfdd1",
   "metadata": {
    "ExecuteTime": {
     "end_time": "2022-07-25T10:02:14.117970Z",
     "start_time": "2022-07-25T10:02:14.105004Z"
    }
   },
   "outputs": [],
   "source": [
    "def cramer_v( x, y ):\n",
    "    cm = pd.crosstab( x, y ).values\n",
    "    n = cm.sum()\n",
    "    r, k = cm.shape\n",
    "    \n",
    "    chi2 = ss.chi2_contingency( cm )[0]\n",
    "    chi2corr = max( 0, chi2 - (k-1)*(r-1)/(n-1) )\n",
    "    \n",
    "    kcorr = k - (k-1)**2/(n-1)\n",
    "    rcorr = r - (r-1)**2/(n-1)\n",
    "    \n",
    "    return np.sqrt( (chi2corr/n) / ( min( kcorr-1, rcorr-1 ) ) )\n",
    "\n",
    "#def jupyter_settings():\n",
    "#    %matplotlib inline\n",
    "#    %pylab inline\n",
    "#    \n",
    "#    plt.style.use( 'bmh' )\n",
    "#    plt.rcParams['figure.figsize'] = [25, 12]\n",
    "#    plt.rcParams['font.size'] = 24\n",
    "#    \n",
    "#    display( HTML( '<style>.container { width:100% !important; }</style>') )\n",
    "#    pd.options.display.max_columns = None\n",
    "#    pd.options.display.max_rows = None\n",
    "#    pd.set_option( 'display.expand_frame_repr', False )\n",
    "#    \n",
    "#    sns.set()"
   ]
  },
  {
   "cell_type": "markdown",
   "id": "deef088f",
   "metadata": {},
   "source": [
    "## 0.2 Loading Data"
   ]
  },
  {
   "cell_type": "code",
   "execution_count": 3,
   "id": "c1a87f24",
   "metadata": {
    "ExecuteTime": {
     "end_time": "2022-07-25T10:02:35.545535Z",
     "start_time": "2022-07-25T10:02:14.120962Z"
    }
   },
   "outputs": [],
   "source": [
    "df_raw = pd.read_csv('C:/Users/PC/SejaUmDataScientist/DS_Classificacao/airbnb_project/Data/train_users.csv', low_memory=True) \n",
    "\n",
    "df_sessions = pd.read_csv('C:/Users/PC/SejaUmDataScientist/DS_Classificacao/airbnb_project/Data/sessions.csv', low_memory=True)\n"
   ]
  },
  {
   "cell_type": "markdown",
   "id": "ad797c27",
   "metadata": {},
   "source": [
    "# 1.0 Passo 01 - DESCRIÇÃO DOS DADOS"
   ]
  },
  {
   "cell_type": "code",
   "execution_count": 4,
   "id": "ce02b07b",
   "metadata": {
    "ExecuteTime": {
     "end_time": "2022-07-25T10:02:35.887621Z",
     "start_time": "2022-07-25T10:02:35.550523Z"
    }
   },
   "outputs": [],
   "source": [
    "df1 = df_raw.copy()\n",
    "df1_sessions = df_sessions.copy()"
   ]
  },
  {
   "cell_type": "markdown",
   "id": "21360516",
   "metadata": {},
   "source": [
    "## 1.1 Data Dimensions"
   ]
  },
  {
   "cell_type": "code",
   "execution_count": 5,
   "id": "532bd7c8",
   "metadata": {
    "ExecuteTime": {
     "end_time": "2022-07-25T10:02:36.055206Z",
     "start_time": "2022-07-25T10:02:35.890613Z"
    }
   },
   "outputs": [
    {
     "name": "stdout",
     "output_type": "stream",
     "text": [
      "Número de linhas é igual a: 213451\n",
      "Número de colunas é igual a: 16\n"
     ]
    }
   ],
   "source": [
    "print(f'Número de linhas é igual a: {df1.shape[0]}')\n",
    "print(f'Número de colunas é igual a: {df1.shape[1]}')"
   ]
  },
  {
   "cell_type": "code",
   "execution_count": 6,
   "id": "1cada9ec",
   "metadata": {
    "ExecuteTime": {
     "end_time": "2022-07-25T10:02:36.272590Z",
     "start_time": "2022-07-25T10:02:36.058166Z"
    }
   },
   "outputs": [
    {
     "name": "stdout",
     "output_type": "stream",
     "text": [
      "Número de linhas é igual a: 10567737\n",
      "Número de colunas é igual a: 6\n"
     ]
    }
   ],
   "source": [
    "#Sessions\n",
    "print(f'Número de linhas é igual a: {df1_sessions.shape[0]}')\n",
    "print(f'Número de colunas é igual a: {df1_sessions.shape[1]}')"
   ]
  },
  {
   "cell_type": "markdown",
   "id": "036a688e",
   "metadata": {},
   "source": [
    "## 1.2 Data Types"
   ]
  },
  {
   "cell_type": "code",
   "execution_count": 7,
   "id": "75e0b913",
   "metadata": {
    "ExecuteTime": {
     "end_time": "2022-07-25T10:02:36.925822Z",
     "start_time": "2022-07-25T10:02:36.275584Z"
    }
   },
   "outputs": [
    {
     "data": {
      "text/plain": [
       "id                          object\n",
       "date_account_created        object\n",
       "timestamp_first_active       int64\n",
       "date_first_booking          object\n",
       "gender                      object\n",
       "age                        float64\n",
       "signup_method               object\n",
       "signup_flow                  int64\n",
       "language                    object\n",
       "affiliate_channel           object\n",
       "affiliate_provider          object\n",
       "first_affiliate_tracked     object\n",
       "signup_app                  object\n",
       "first_device_type           object\n",
       "first_browser               object\n",
       "country_destination         object\n",
       "dtype: object"
      ]
     },
     "execution_count": 7,
     "metadata": {},
     "output_type": "execute_result"
    }
   ],
   "source": [
    "#Data types df1\n",
    "df1.dtypes"
   ]
  },
  {
   "cell_type": "code",
   "execution_count": 8,
   "id": "fcc8fe0b",
   "metadata": {
    "ExecuteTime": {
     "end_time": "2022-07-25T10:02:36.941812Z",
     "start_time": "2022-07-25T10:02:36.928816Z"
    }
   },
   "outputs": [
    {
     "data": {
      "text/plain": [
       "user_id           object\n",
       "action            object\n",
       "action_type       object\n",
       "action_detail     object\n",
       "device_type       object\n",
       "secs_elapsed     float64\n",
       "dtype: object"
      ]
     },
     "execution_count": 8,
     "metadata": {},
     "output_type": "execute_result"
    }
   ],
   "source": [
    "#Data types df1_sessions\n",
    "df1_sessions.dtypes"
   ]
  },
  {
   "cell_type": "markdown",
   "id": "676935f8",
   "metadata": {},
   "source": [
    "## 1.3 Check NA"
   ]
  },
  {
   "cell_type": "code",
   "execution_count": 9,
   "id": "4e70d27d",
   "metadata": {
    "ExecuteTime": {
     "end_time": "2022-07-25T10:02:37.590623Z",
     "start_time": "2022-07-25T10:02:36.943773Z"
    }
   },
   "outputs": [
    {
     "data": {
      "text/plain": [
       "id                         0.000000\n",
       "date_account_created       0.000000\n",
       "timestamp_first_active     0.000000\n",
       "date_first_booking         0.583473\n",
       "gender                     0.000000\n",
       "age                        0.412226\n",
       "signup_method              0.000000\n",
       "signup_flow                0.000000\n",
       "language                   0.000000\n",
       "affiliate_channel          0.000000\n",
       "affiliate_provider         0.000000\n",
       "first_affiliate_tracked    0.028414\n",
       "signup_app                 0.000000\n",
       "first_device_type          0.000000\n",
       "first_browser              0.000000\n",
       "country_destination        0.000000\n",
       "dtype: float64"
      ]
     },
     "execution_count": 9,
     "metadata": {},
     "output_type": "execute_result"
    }
   ],
   "source": [
    "df1.isna().sum() /len(df1)"
   ]
  },
  {
   "cell_type": "code",
   "execution_count": 10,
   "id": "6c78cd26",
   "metadata": {
    "ExecuteTime": {
     "end_time": "2022-07-25T10:02:44.447017Z",
     "start_time": "2022-07-25T10:02:37.595577Z"
    }
   },
   "outputs": [
    {
     "data": {
      "text/plain": [
       "user_id          0.003264\n",
       "action           0.007535\n",
       "action_type      0.106570\n",
       "action_detail    0.106570\n",
       "device_type      0.000000\n",
       "secs_elapsed     0.012872\n",
       "dtype: float64"
      ]
     },
     "execution_count": 10,
     "metadata": {},
     "output_type": "execute_result"
    }
   ],
   "source": [
    "df1_sessions.isna().sum()/len(df1_sessions)"
   ]
  },
  {
   "cell_type": "code",
   "execution_count": 11,
   "id": "2df3799b",
   "metadata": {
    "ExecuteTime": {
     "end_time": "2022-07-25T10:02:44.868019Z",
     "start_time": "2022-07-25T10:02:44.450010Z"
    }
   },
   "outputs": [
    {
     "data": {
      "text/plain": [
       "0            untracked\n",
       "5                  omg\n",
       "12                 NaN\n",
       "13              linked\n",
       "79       tracked-other\n",
       "257            product\n",
       "6270         marketing\n",
       "11184        local ops\n",
       "Name: first_affiliate_tracked, dtype: object"
      ]
     },
     "execution_count": 11,
     "metadata": {},
     "output_type": "execute_result"
    }
   ],
   "source": [
    "df1['first_affiliate_tracked'].drop_duplicates()\n",
    "#aux = df1[df1[ 'age'].isna()]\n",
    "#aux['country_destination'].value_counts(normalize=True)"
   ]
  },
  {
   "cell_type": "code",
   "execution_count": 12,
   "id": "cba700f3",
   "metadata": {
    "ExecuteTime": {
     "end_time": "2022-07-25T10:02:52.410007Z",
     "start_time": "2022-07-25T10:02:44.870976Z"
    }
   },
   "outputs": [],
   "source": [
    "#Remover NAs\n",
    "# =====================USERS======================================\n",
    "\n",
    "#date_first_booking\n",
    "date_first_booking_max =  pd.to_datetime( df1['date_first_booking']).max().strftime('%Y%m%d')\n",
    "\n",
    "df1['date_first_booking'] = df1['date_first_booking'].fillna( date_first_booking_max)\n",
    "\n",
    "\n",
    "#age: Preencher como valor médio\n",
    "df1 = df1[( df1['age'] > 15 ) & ( df1['age'] < 120 )]\n",
    "avg_age = df1['age'].mean()\n",
    "df1['age'] = df1['age'].fillna( avg_age).astype(int)\n",
    "\n",
    "#first_affiliate_tracked\n",
    "df1 = df1[~df1['first_affiliate_tracked'].isna()]\n",
    "\n",
    "\n",
    "#============================================SESSIONS=========================================\n",
    "#user_id        3%\n",
    "df1_sessions = df1_sessions[~df1_sessions['user_id'].isna()]\n",
    "\n",
    "#action         0.7%\n",
    "df1_sessions = df1_sessions[~df1_sessions['action'].isna()]\n",
    "\n",
    "#action_type    11%\n",
    "df1_sessions = df1_sessions[~df1_sessions['action_type'].isna()]\n",
    "\n",
    "#action_detail  11%\n",
    "df1_sessions = df1_sessions[~df1_sessions['action_detail'].isna()]\n",
    "\n",
    "#secs_elapsed   1.2%\n",
    "df1_sessions = df1_sessions[~df1_sessions['secs_elapsed'].isna()]"
   ]
  },
  {
   "cell_type": "code",
   "execution_count": 13,
   "id": "151ac2ca",
   "metadata": {
    "ExecuteTime": {
     "end_time": "2022-07-25T10:02:52.691288Z",
     "start_time": "2022-07-25T10:02:52.413001Z"
    }
   },
   "outputs": [
    {
     "data": {
      "text/plain": [
       "id                         0.0\n",
       "date_account_created       0.0\n",
       "timestamp_first_active     0.0\n",
       "date_first_booking         0.0\n",
       "gender                     0.0\n",
       "age                        0.0\n",
       "signup_method              0.0\n",
       "signup_flow                0.0\n",
       "language                   0.0\n",
       "affiliate_channel          0.0\n",
       "affiliate_provider         0.0\n",
       "first_affiliate_tracked    0.0\n",
       "signup_app                 0.0\n",
       "first_device_type          0.0\n",
       "first_browser              0.0\n",
       "country_destination        0.0\n",
       "dtype: float64"
      ]
     },
     "execution_count": 13,
     "metadata": {},
     "output_type": "execute_result"
    }
   ],
   "source": [
    "df1.isna().sum() / len( df1 )"
   ]
  },
  {
   "cell_type": "code",
   "execution_count": 14,
   "id": "5b17b78d",
   "metadata": {
    "ExecuteTime": {
     "end_time": "2022-07-25T10:03:00.732178Z",
     "start_time": "2022-07-25T10:02:52.694249Z"
    }
   },
   "outputs": [
    {
     "data": {
      "text/plain": [
       "user_id          0.003264\n",
       "action           0.007535\n",
       "action_type      0.106570\n",
       "action_detail    0.106570\n",
       "device_type      0.000000\n",
       "secs_elapsed     0.012872\n",
       "dtype: float64"
      ]
     },
     "execution_count": 14,
     "metadata": {},
     "output_type": "execute_result"
    }
   ],
   "source": [
    "df_sessions.isna().sum() / len( df_sessions)"
   ]
  },
  {
   "cell_type": "markdown",
   "id": "c9fcc60e",
   "metadata": {},
   "source": [
    "## 1.4 Change Data Types"
   ]
  },
  {
   "cell_type": "code",
   "execution_count": 15,
   "id": "6c02a070",
   "metadata": {
    "ExecuteTime": {
     "end_time": "2022-07-25T10:03:00.964933Z",
     "start_time": "2022-07-25T10:03:00.735139Z"
    }
   },
   "outputs": [
    {
     "data": {
      "text/plain": [
       "id                         object\n",
       "date_account_created       object\n",
       "timestamp_first_active      int64\n",
       "date_first_booking         object\n",
       "gender                     object\n",
       "age                         int32\n",
       "signup_method              object\n",
       "signup_flow                 int64\n",
       "language                   object\n",
       "affiliate_channel          object\n",
       "affiliate_provider         object\n",
       "first_affiliate_tracked    object\n",
       "signup_app                 object\n",
       "first_device_type          object\n",
       "first_browser              object\n",
       "country_destination        object\n",
       "dtype: object"
      ]
     },
     "execution_count": 15,
     "metadata": {},
     "output_type": "execute_result"
    }
   ],
   "source": [
    "df1.dtypes"
   ]
  },
  {
   "cell_type": "code",
   "execution_count": 16,
   "id": "54ab12ec",
   "metadata": {
    "ExecuteTime": {
     "end_time": "2022-07-25T10:03:02.291516Z",
     "start_time": "2022-07-25T10:03:00.967787Z"
    }
   },
   "outputs": [],
   "source": [
    "#date_account_created   \n",
    "df1['date_account_created']=pd.to_datetime( df1['date_account_created'])\n",
    "#timestamp_first_active  \n",
    "df1['timestamp_first_active']=pd.to_datetime( df1['timestamp_first_active'], format='%Y%m%d%H%M%S')\n",
    "\n",
    "#date_first_booking\n",
    "df1['date_first_booking']=pd.to_datetime( df1['date_first_booking'])\n",
    "#age                      \n",
    "df1['age']= df1['age'].astype('int64')\n"
   ]
  },
  {
   "cell_type": "markdown",
   "id": "aec1b0a7",
   "metadata": {
    "ExecuteTime": {
     "end_time": "2022-06-27T19:06:45.522729Z",
     "start_time": "2022-06-27T19:06:45.496801Z"
    }
   },
   "source": [
    "## 1.5 Check Balanced Data"
   ]
  },
  {
   "cell_type": "code",
   "execution_count": 17,
   "id": "eb0c8cb6",
   "metadata": {
    "ExecuteTime": {
     "end_time": "2022-07-25T10:03:02.370837Z",
     "start_time": "2022-07-25T10:03:02.293513Z"
    }
   },
   "outputs": [
    {
     "data": {
      "text/plain": [
       "NDF      0.447275\n",
       "US       0.391867\n",
       "other    0.061246\n",
       "FR       0.029918\n",
       "IT       0.016423\n",
       "GB       0.014335\n",
       "ES       0.013740\n",
       "CA       0.008676\n",
       "DE       0.006858\n",
       "NL       0.004852\n",
       "AU       0.003531\n",
       "PT       0.001280\n",
       "Name: country_destination, dtype: float64"
      ]
     },
     "execution_count": 17,
     "metadata": {},
     "output_type": "execute_result"
    }
   ],
   "source": [
    "df1['country_destination'].value_counts(normalize=True)"
   ]
  },
  {
   "cell_type": "markdown",
   "id": "4e5f57a2",
   "metadata": {},
   "source": [
    "## 1.6 Descriptive Analyses"
   ]
  },
  {
   "cell_type": "code",
   "execution_count": 18,
   "id": "43f8e7f2",
   "metadata": {
    "ExecuteTime": {
     "end_time": "2022-07-25T10:03:02.712552Z",
     "start_time": "2022-07-25T10:03:02.372800Z"
    }
   },
   "outputs": [],
   "source": [
    "#==================Users===================================\n",
    "num_attributes = df1.select_dtypes( include=['int64', 'float64'])\n",
    "cat_attributes = df1.select_dtypes( exclude=['int64', 'float64', 'datetime64[ns]'])\n",
    "time_attributes = df1.select_dtypes( include= ['datetime64[ns]'])\n",
    "\n",
    "\n",
    "#====================Sessions==========================================\n",
    "num_attributes_sessions  = df1_sessions.select_dtypes( include=['int64', 'float64'])\n",
    "cat_attributes_sessions  = df1_sessions.select_dtypes( exclude=['int64', 'float64', 'datetime64[ns]'])\n",
    "time_attributes_sessions = df1_sessions.select_dtypes( include= ['datetime64[ns]'])"
   ]
  },
  {
   "cell_type": "markdown",
   "id": "f0d6058a",
   "metadata": {},
   "source": [
    "### 1.6.1 Numerical -Users"
   ]
  },
  {
   "cell_type": "code",
   "execution_count": 19,
   "id": "2416cc0b",
   "metadata": {
    "ExecuteTime": {
     "end_time": "2022-07-25T10:03:04.127155Z",
     "start_time": "2022-07-25T10:03:02.715465Z"
    }
   },
   "outputs": [
    {
     "data": {
      "text/html": [
       "<div>\n",
       "<style scoped>\n",
       "    .dataframe tbody tr th:only-of-type {\n",
       "        vertical-align: middle;\n",
       "    }\n",
       "\n",
       "    .dataframe tbody tr th {\n",
       "        vertical-align: top;\n",
       "    }\n",
       "\n",
       "    .dataframe thead th {\n",
       "        text-align: right;\n",
       "    }\n",
       "</style>\n",
       "<table border=\"1\" class=\"dataframe\">\n",
       "  <thead>\n",
       "    <tr style=\"text-align: right;\">\n",
       "      <th></th>\n",
       "      <th>attributes</th>\n",
       "      <th>min</th>\n",
       "      <th>max</th>\n",
       "      <th>range</th>\n",
       "      <th>mean</th>\n",
       "      <th>median</th>\n",
       "      <th>std</th>\n",
       "      <th>skew</th>\n",
       "      <th>kurtosis</th>\n",
       "    </tr>\n",
       "  </thead>\n",
       "  <tbody>\n",
       "    <tr>\n",
       "      <th>0</th>\n",
       "      <td>age</td>\n",
       "      <td>16.0</td>\n",
       "      <td>115.0</td>\n",
       "      <td>99.0</td>\n",
       "      <td>37.405591</td>\n",
       "      <td>34.0</td>\n",
       "      <td>13.939844</td>\n",
       "      <td>2.089718</td>\n",
       "      <td>6.516468</td>\n",
       "    </tr>\n",
       "    <tr>\n",
       "      <th>1</th>\n",
       "      <td>signup_flow</td>\n",
       "      <td>0.0</td>\n",
       "      <td>25.0</td>\n",
       "      <td>25.0</td>\n",
       "      <td>2.519513</td>\n",
       "      <td>0.0</td>\n",
       "      <td>6.604696</td>\n",
       "      <td>2.705871</td>\n",
       "      <td>5.928298</td>\n",
       "    </tr>\n",
       "  </tbody>\n",
       "</table>\n",
       "</div>"
      ],
      "text/plain": [
       "    attributes   min    max  range       mean  median        std      skew  \\\n",
       "0          age  16.0  115.0   99.0  37.405591    34.0  13.939844  2.089718   \n",
       "1  signup_flow   0.0   25.0   25.0   2.519513     0.0   6.604696  2.705871   \n",
       "\n",
       "   kurtosis  \n",
       "0  6.516468  \n",
       "1  5.928298  "
      ]
     },
     "execution_count": 19,
     "metadata": {},
     "output_type": "execute_result"
    }
   ],
   "source": [
    "#central tendency - Mean and Median\n",
    "ct1 = pd.DataFrame( num_attributes.apply(np.mean)).T\n",
    "ct2 = pd.DataFrame( num_attributes.apply(np.median)).T\n",
    "\n",
    "#Dispersions -  std, min, max. range, skew, kurtosis\n",
    "d1 = pd.DataFrame( num_attributes.apply(np.std)).T\n",
    "d2 = pd.DataFrame( num_attributes.apply(min)).T\n",
    "d3 = pd.DataFrame( num_attributes.apply(max)).T\n",
    "d4 = pd.DataFrame( num_attributes.apply( lambda x : x.max() - x.min() )).T\n",
    "d5 = pd.DataFrame( num_attributes.apply( lambda x : x.skew() )).T\n",
    "d6 = pd.DataFrame( num_attributes.apply( lambda x : x.kurtosis() )).T\n",
    "\n",
    "#Concatenar\n",
    "ct = pd.concat( [ d2, d3, d4, ct1, ct2, d1, d5, d6]).T.reset_index()\n",
    "ct.columns = ['attributes', 'min', 'max', 'range', 'mean', 'median', 'std', 'skew', 'kurtosis']\n",
    "ct"
   ]
  },
  {
   "cell_type": "markdown",
   "id": "aa910fc0",
   "metadata": {
    "ExecuteTime": {
     "end_time": "2022-06-29T13:53:34.492600Z",
     "start_time": "2022-06-29T13:53:34.465713Z"
    }
   },
   "source": [
    "### 1.6.1 Numerical -Sessions"
   ]
  },
  {
   "cell_type": "code",
   "execution_count": 20,
   "id": "07244c0f",
   "metadata": {
    "ExecuteTime": {
     "end_time": "2022-07-25T10:03:07.098962Z",
     "start_time": "2022-07-25T10:03:04.130116Z"
    }
   },
   "outputs": [
    {
     "data": {
      "text/html": [
       "<div>\n",
       "<style scoped>\n",
       "    .dataframe tbody tr th:only-of-type {\n",
       "        vertical-align: middle;\n",
       "    }\n",
       "\n",
       "    .dataframe tbody tr th {\n",
       "        vertical-align: top;\n",
       "    }\n",
       "\n",
       "    .dataframe thead th {\n",
       "        text-align: right;\n",
       "    }\n",
       "</style>\n",
       "<table border=\"1\" class=\"dataframe\">\n",
       "  <thead>\n",
       "    <tr style=\"text-align: right;\">\n",
       "      <th></th>\n",
       "      <th>attributes</th>\n",
       "      <th>min</th>\n",
       "      <th>max</th>\n",
       "      <th>range</th>\n",
       "      <th>mean</th>\n",
       "      <th>median</th>\n",
       "      <th>std</th>\n",
       "      <th>skew</th>\n",
       "      <th>kurtosis</th>\n",
       "    </tr>\n",
       "  </thead>\n",
       "  <tbody>\n",
       "    <tr>\n",
       "      <th>0</th>\n",
       "      <td>secs_elapsed</td>\n",
       "      <td>0.0</td>\n",
       "      <td>1799977.0</td>\n",
       "      <td>1799977.0</td>\n",
       "      <td>19961.8251</td>\n",
       "      <td>1369.0</td>\n",
       "      <td>88849.388449</td>\n",
       "      <td>11.137761</td>\n",
       "      <td>154.84312</td>\n",
       "    </tr>\n",
       "  </tbody>\n",
       "</table>\n",
       "</div>"
      ],
      "text/plain": [
       "     attributes  min        max      range        mean  median           std  \\\n",
       "0  secs_elapsed  0.0  1799977.0  1799977.0  19961.8251  1369.0  88849.388449   \n",
       "\n",
       "        skew   kurtosis  \n",
       "0  11.137761  154.84312  "
      ]
     },
     "execution_count": 20,
     "metadata": {},
     "output_type": "execute_result"
    }
   ],
   "source": [
    "#central tendency - Mean and Median\n",
    "ct1 = pd.DataFrame( num_attributes_sessions.apply(np.mean)).T\n",
    "ct2 = pd.DataFrame( num_attributes_sessions.apply(np.median)).T\n",
    "\n",
    "#Dispersions -  std, min, max. range, skew, kurtosis\n",
    "d1 = pd.DataFrame( num_attributes_sessions.apply(np.std)).T\n",
    "d2 = pd.DataFrame( num_attributes_sessions.apply(min)).T\n",
    "d3 = pd.DataFrame( num_attributes_sessions.apply(max)).T\n",
    "d4 = pd.DataFrame( num_attributes_sessions.apply( lambda x : x.max() - x.min() )).T\n",
    "d5 = pd.DataFrame( num_attributes_sessions.apply( lambda x : x.skew() )).T\n",
    "d6 = pd.DataFrame( num_attributes_sessions.apply( lambda x : x.kurtosis() )).T\n",
    "\n",
    "#Concatenar\n",
    "ct = pd.concat( [ d2, d3, d4, ct1, ct2, d1, d5, d6]).T.reset_index()\n",
    "ct.columns = ['attributes', 'min', 'max', 'range', 'mean', 'median', 'std', 'skew', 'kurtosis']\n",
    "ct"
   ]
  },
  {
   "cell_type": "markdown",
   "id": "8f398cd2",
   "metadata": {},
   "source": [
    "### 1.6.2 Numerical - Users"
   ]
  },
  {
   "cell_type": "code",
   "execution_count": 21,
   "id": "c64e9d2a",
   "metadata": {
    "ExecuteTime": {
     "end_time": "2022-07-25T10:03:07.300422Z",
     "start_time": "2022-07-25T10:03:07.101954Z"
    }
   },
   "outputs": [
    {
     "data": {
      "text/html": [
       "<div>\n",
       "<style scoped>\n",
       "    .dataframe tbody tr th:only-of-type {\n",
       "        vertical-align: middle;\n",
       "    }\n",
       "\n",
       "    .dataframe tbody tr th {\n",
       "        vertical-align: top;\n",
       "    }\n",
       "\n",
       "    .dataframe thead th {\n",
       "        text-align: right;\n",
       "    }\n",
       "</style>\n",
       "<table border=\"1\" class=\"dataframe\">\n",
       "  <thead>\n",
       "    <tr style=\"text-align: right;\">\n",
       "      <th></th>\n",
       "      <th>gender</th>\n",
       "      <th>signup_method</th>\n",
       "      <th>language</th>\n",
       "      <th>affiliate_channel</th>\n",
       "      <th>affiliate_provider</th>\n",
       "      <th>first_affiliate_tracked</th>\n",
       "      <th>signup_app</th>\n",
       "      <th>first_device_type</th>\n",
       "      <th>first_browser</th>\n",
       "      <th>country_destination</th>\n",
       "    </tr>\n",
       "  </thead>\n",
       "  <tbody>\n",
       "    <tr>\n",
       "      <th>count</th>\n",
       "      <td>122636</td>\n",
       "      <td>122636</td>\n",
       "      <td>122636</td>\n",
       "      <td>122636</td>\n",
       "      <td>122636</td>\n",
       "      <td>122636</td>\n",
       "      <td>122636</td>\n",
       "      <td>122636</td>\n",
       "      <td>122636</td>\n",
       "      <td>122636</td>\n",
       "    </tr>\n",
       "    <tr>\n",
       "      <th>unique</th>\n",
       "      <td>4</td>\n",
       "      <td>3</td>\n",
       "      <td>25</td>\n",
       "      <td>8</td>\n",
       "      <td>17</td>\n",
       "      <td>7</td>\n",
       "      <td>4</td>\n",
       "      <td>9</td>\n",
       "      <td>41</td>\n",
       "      <td>12</td>\n",
       "    </tr>\n",
       "    <tr>\n",
       "      <th>top</th>\n",
       "      <td>FEMALE</td>\n",
       "      <td>basic</td>\n",
       "      <td>en</td>\n",
       "      <td>direct</td>\n",
       "      <td>direct</td>\n",
       "      <td>untracked</td>\n",
       "      <td>Web</td>\n",
       "      <td>Mac Desktop</td>\n",
       "      <td>Chrome</td>\n",
       "      <td>NDF</td>\n",
       "    </tr>\n",
       "    <tr>\n",
       "      <th>freq</th>\n",
       "      <td>56362</td>\n",
       "      <td>66039</td>\n",
       "      <td>118205</td>\n",
       "      <td>79093</td>\n",
       "      <td>78954</td>\n",
       "      <td>64712</td>\n",
       "      <td>108283</td>\n",
       "      <td>57943</td>\n",
       "      <td>41778</td>\n",
       "      <td>54852</td>\n",
       "    </tr>\n",
       "  </tbody>\n",
       "</table>\n",
       "</div>"
      ],
      "text/plain": [
       "        gender signup_method language affiliate_channel affiliate_provider  \\\n",
       "count   122636        122636   122636            122636             122636   \n",
       "unique       4             3       25                 8                 17   \n",
       "top     FEMALE         basic       en            direct             direct   \n",
       "freq     56362         66039   118205             79093              78954   \n",
       "\n",
       "       first_affiliate_tracked signup_app first_device_type first_browser  \\\n",
       "count                   122636     122636            122636        122636   \n",
       "unique                       7          4                 9            41   \n",
       "top                  untracked        Web       Mac Desktop        Chrome   \n",
       "freq                     64712     108283             57943         41778   \n",
       "\n",
       "       country_destination  \n",
       "count               122636  \n",
       "unique                  12  \n",
       "top                    NDF  \n",
       "freq                 54852  "
      ]
     },
     "execution_count": 21,
     "metadata": {},
     "output_type": "execute_result"
    }
   ],
   "source": [
    "cat_attributes.drop('id', axis=1).describe()"
   ]
  },
  {
   "cell_type": "markdown",
   "id": "f2c78aa6",
   "metadata": {
    "ExecuteTime": {
     "end_time": "2022-06-29T13:53:34.492600Z",
     "start_time": "2022-06-29T13:53:34.465713Z"
    }
   },
   "source": [
    "### 1.6.3 Categorical -Sessions"
   ]
  },
  {
   "cell_type": "code",
   "execution_count": 22,
   "id": "6f933b4d",
   "metadata": {
    "ExecuteTime": {
     "end_time": "2022-07-25T10:03:11.806451Z",
     "start_time": "2022-07-25T10:03:07.302419Z"
    }
   },
   "outputs": [
    {
     "data": {
      "text/html": [
       "<div>\n",
       "<style scoped>\n",
       "    .dataframe tbody tr th:only-of-type {\n",
       "        vertical-align: middle;\n",
       "    }\n",
       "\n",
       "    .dataframe tbody tr th {\n",
       "        vertical-align: top;\n",
       "    }\n",
       "\n",
       "    .dataframe thead th {\n",
       "        text-align: right;\n",
       "    }\n",
       "</style>\n",
       "<table border=\"1\" class=\"dataframe\">\n",
       "  <thead>\n",
       "    <tr style=\"text-align: right;\">\n",
       "      <th></th>\n",
       "      <th>action</th>\n",
       "      <th>action_type</th>\n",
       "      <th>action_detail</th>\n",
       "      <th>device_type</th>\n",
       "    </tr>\n",
       "  </thead>\n",
       "  <tbody>\n",
       "    <tr>\n",
       "      <th>count</th>\n",
       "      <td>9213930</td>\n",
       "      <td>9213930</td>\n",
       "      <td>9213930</td>\n",
       "      <td>9213930</td>\n",
       "    </tr>\n",
       "    <tr>\n",
       "      <th>unique</th>\n",
       "      <td>347</td>\n",
       "      <td>10</td>\n",
       "      <td>155</td>\n",
       "      <td>14</td>\n",
       "    </tr>\n",
       "    <tr>\n",
       "      <th>top</th>\n",
       "      <td>show</td>\n",
       "      <td>view</td>\n",
       "      <td>view_search_results</td>\n",
       "      <td>Mac Desktop</td>\n",
       "    </tr>\n",
       "    <tr>\n",
       "      <th>freq</th>\n",
       "      <td>2178382</td>\n",
       "      <td>3545621</td>\n",
       "      <td>1770931</td>\n",
       "      <td>3019523</td>\n",
       "    </tr>\n",
       "  </tbody>\n",
       "</table>\n",
       "</div>"
      ],
      "text/plain": [
       "         action action_type        action_detail  device_type\n",
       "count   9213930     9213930              9213930      9213930\n",
       "unique      347          10                  155           14\n",
       "top        show        view  view_search_results  Mac Desktop\n",
       "freq    2178382     3545621              1770931      3019523"
      ]
     },
     "execution_count": 22,
     "metadata": {},
     "output_type": "execute_result"
    }
   ],
   "source": [
    "cat_attributes_sessions.drop('user_id', axis=1).describe()"
   ]
  },
  {
   "cell_type": "code",
   "execution_count": 23,
   "id": "41c7299e",
   "metadata": {
    "ExecuteTime": {
     "end_time": "2022-07-25T10:03:47.527642Z",
     "start_time": "2022-07-25T10:03:11.808370Z"
    }
   },
   "outputs": [],
   "source": [
    "#lista de atributos para cramer v\n",
    "cat_attributes_list = cat_attributes_sessions.drop('user_id', axis=1).columns.tolist()\n",
    "\n",
    "corr_dict = {}\n",
    "\n",
    "for i in range( len(cat_attributes_list) ):\n",
    "    corr_list = []\n",
    "    \n",
    "    for j in range (len(cat_attributes_list ) ):\n",
    "        ref  = cat_attributes_list[i]\n",
    "        feat = cat_attributes_list[j]\n",
    "        \n",
    "        #Correlação\n",
    "        corr = cramer_v(cat_attributes_sessions[ref], cat_attributes_sessions[feat] )\n",
    "        \n",
    "        #append a list\n",
    "        corr_list.append( corr )\n",
    "    # append correlation para cada ref atrtibuts\n",
    "    corr_dict[ref] = corr_list"
   ]
  },
  {
   "cell_type": "code",
   "execution_count": 24,
   "id": "61e1fea7",
   "metadata": {
    "ExecuteTime": {
     "end_time": "2022-07-25T10:03:53.407537Z",
     "start_time": "2022-07-25T10:03:47.529641Z"
    }
   },
   "outputs": [
    {
     "data": {
      "image/png": "[encoded data removed]",
      "text/plain": [
       "<Figure size 432x288 with 2 Axes>"
      ]
     },
     "metadata": {
      "needs_background": "light"
     },
     "output_type": "display_data"
    }
   ],
   "source": [
    "d = pd.DataFrame( corr_dict)\n",
    "d = d.set_index(d.columns)\n",
    "sns.heatmap( d, annot=True);"
   ]
  },
  {
   "cell_type": "markdown",
   "id": "dab8fd33",
   "metadata": {},
   "source": [
    "# 2.0 PASSO 02 - Feature Engeneering\n"
   ]
  },
  {
   "cell_type": "code",
   "execution_count": 25,
   "id": "01902b00",
   "metadata": {
    "ExecuteTime": {
     "end_time": "2022-07-25T10:03:53.438453Z",
     "start_time": "2022-07-25T10:03:53.410527Z"
    },
    "scrolled": true
   },
   "outputs": [
    {
     "data": {
      "text/plain": [
       "(122636, 16)"
      ]
     },
     "execution_count": 25,
     "metadata": {},
     "output_type": "execute_result"
    }
   ],
   "source": [
    "df2 =df1.copy()\n",
    "\n",
    "df2.shape\n"
   ]
  },
  {
   "cell_type": "code",
   "execution_count": 26,
   "id": "417faa2d",
   "metadata": {
    "ExecuteTime": {
     "end_time": "2022-07-25T10:03:53.657791Z",
     "start_time": "2022-07-25T10:03:53.441445Z"
    }
   },
   "outputs": [
    {
     "data": {
      "text/plain": [
       "id                                 object\n",
       "date_account_created       datetime64[ns]\n",
       "timestamp_first_active     datetime64[ns]\n",
       "date_first_booking         datetime64[ns]\n",
       "gender                             object\n",
       "age                                 int64\n",
       "signup_method                      object\n",
       "signup_flow                         int64\n",
       "language                           object\n",
       "affiliate_channel                  object\n",
       "affiliate_provider                 object\n",
       "first_affiliate_tracked            object\n",
       "signup_app                         object\n",
       "first_device_type                  object\n",
       "first_browser                      object\n",
       "country_destination                object\n",
       "dtype: object"
      ]
     },
     "execution_count": 26,
     "metadata": {},
     "output_type": "execute_result"
    }
   ],
   "source": [
    "df2.dtypes"
   ]
  },
  {
   "cell_type": "markdown",
   "id": "3e2242af",
   "metadata": {
    "ExecuteTime": {
     "end_time": "2022-06-29T19:29:05.194393Z",
     "start_time": "2022-06-29T19:29:05.188409Z"
    }
   },
   "source": [
    "## 2.1 Create new Features"
   ]
  },
  {
   "cell_type": "code",
   "execution_count": 27,
   "id": "ecb9b2ad",
   "metadata": {
    "ExecuteTime": {
     "end_time": "2022-07-25T10:04:00.564169Z",
     "start_time": "2022-07-25T10:03:53.661781Z"
    }
   },
   "outputs": [],
   "source": [
    "# days from first activate up to first booking\n",
    "df2['first_active'] = pd.to_datetime( df2['timestamp_first_active'].dt.strftime(\"%Y-%m-%d\") )\n",
    "df2['days_from_first_active_until_booking'] = (df2['date_first_booking'] -df2['first_active']).apply( lambda x: x.days)\n",
    "\n",
    "#days from first activate up to account create\n",
    "df2['days_from_first_active_until_account_created'] = (df2['date_account_created'] -df2['first_active']).apply( lambda x: x.days)\n",
    "\n",
    "#days from account create up to first booking\n",
    "df2['days_from_account_created_until_first_booking'] = (df2['date_first_booking'] -df2['date_account_created']).apply( lambda x: x.days)\n",
    "    \n",
    "\n",
    "#===================================First activate======================================\n",
    "#Year first active\n",
    "df2['year_first_active'] = df2['first_active'].dt.year\n",
    "\n",
    "#Month first active\n",
    "df2['month_first_active'] = df2['first_active'].dt.month\n",
    "\n",
    "\n",
    "#Day first active\n",
    "df2['day_first_active'] = df2['first_active'].dt.day\n",
    "\n",
    "\n",
    "#Day of week first active\n",
    "df2['day_of_week_first_active'] = df2['first_active'].dt.dayofweek\n",
    "\n",
    "\n",
    "#Week of year first active\n",
    "df2['week_of_year_first_active'] = df2['first_active'].dt.weekofyear\n",
    "\n",
    "\n",
    "#===================================Booking======================================\n",
    "#Year first booking\n",
    "df2['year_first_booking'] = df2['date_first_booking'].dt.year\n",
    "\n",
    "#Month first booking\n",
    "df2['month_first_booking'] = df2['date_first_booking'].dt.month\n",
    "\n",
    "#Day first booking\n",
    "df2['day_first_booking'] = df2['date_first_booking'].dt.day\n",
    "\n",
    "#Day of Week of first booking\n",
    "df2['day_of_week_first_booking'] = df2['date_first_booking'].dt.dayofweek\n",
    "\n",
    "#Week of first booking\n",
    "df2['week_of_year_first_booking'] = df2['date_first_booking'].dt.weekofyear\n",
    "\n",
    "\n",
    "#===================================First account created======================================\n",
    "#Year first active\n",
    "df2['year_account_created'] = df2['date_account_created'].dt.year\n",
    "\n",
    "#Month first active\n",
    "df2['month_account_created'] = df2['date_account_created'].dt.month\n",
    "\n",
    "\n",
    "#Day first active\n",
    "df2['day_account_created'] = df2['date_account_created'].dt.day\n",
    "\n",
    "\n",
    "#Day of week first active\n",
    "df2['day_of _week_first_account_created'] = df2['date_account_created'].dt.dayofweek\n",
    "\n",
    "\n",
    "#Week of year first active\n",
    "df2['week_of _year_first_account_created'] = df2['date_account_created'].dt.weekofyear\n",
    "\n",
    "\n"
   ]
  },
  {
   "cell_type": "code",
   "execution_count": 28,
   "id": "5296f0ad",
   "metadata": {
    "ExecuteTime": {
     "end_time": "2022-07-25T10:04:00.598005Z",
     "start_time": "2022-07-25T10:04:00.576061Z"
    }
   },
   "outputs": [
    {
     "data": {
      "text/plain": [
       "(122636, 35)"
      ]
     },
     "execution_count": 28,
     "metadata": {},
     "output_type": "execute_result"
    }
   ],
   "source": [
    "df2.shape"
   ]
  },
  {
   "cell_type": "markdown",
   "id": "9f69dc92",
   "metadata": {},
   "source": [
    "# 3.0 PASSO 03 - Data Filtering\n"
   ]
  },
  {
   "cell_type": "code",
   "execution_count": 29,
   "id": "7861d0fa",
   "metadata": {
    "ExecuteTime": {
     "end_time": "2022-07-25T10:04:00.782579Z",
     "start_time": "2022-07-25T10:04:00.604986Z"
    }
   },
   "outputs": [],
   "source": [
    "df3 = df2.copy()"
   ]
  },
  {
   "cell_type": "markdown",
   "id": "fda01745",
   "metadata": {},
   "source": [
    "## 3.1 Filtering Rows"
   ]
  },
  {
   "cell_type": "code",
   "execution_count": 30,
   "id": "765e83e7",
   "metadata": {
    "ExecuteTime": {
     "end_time": "2022-07-25T10:04:00.968311Z",
     "start_time": "2022-07-25T10:04:00.787567Z"
    }
   },
   "outputs": [],
   "source": [
    "#Age:entre 15 e 120 pois há poucas pessoas como mais de 120 anos\n",
    "df3 =  df3[( df2['age']> 15) & (df3['age'] < 120 )]\n",
    "\n",
    "# secs_elapsed - Não há possibilidade de ter 0 elapsed\n",
    "#df1_sessions = df1_sessions[ df1_sessions['secs_elapsed']> 0]"
   ]
  },
  {
   "cell_type": "markdown",
   "id": "c9f932d3",
   "metadata": {},
   "source": [
    "## 3.2 Columns Selection"
   ]
  },
  {
   "cell_type": "code",
   "execution_count": 31,
   "id": "7c4b463d",
   "metadata": {
    "ExecuteTime": {
     "end_time": "2022-07-25T10:04:01.107596Z",
     "start_time": "2022-07-25T10:04:00.970125Z"
    }
   },
   "outputs": [],
   "source": [
    " cols = ['date_account_created', 'date_account_created', 'date_first_booking', 'timestamp_first_active', \n",
    "        'first_active'] # original datetime"
   ]
  },
  {
   "cell_type": "markdown",
   "id": "c4cbba6f",
   "metadata": {},
   "source": [
    "# 4.0 - BALANCED DATASET"
   ]
  },
  {
   "cell_type": "code",
   "execution_count": 32,
   "id": "eba9b281",
   "metadata": {
    "ExecuteTime": {
     "end_time": "2022-07-25T10:04:01.247479Z",
     "start_time": "2022-07-25T10:04:01.109595Z"
    }
   },
   "outputs": [
    {
     "data": {
      "text/plain": [
       "(122636, 31)"
      ]
     },
     "execution_count": 32,
     "metadata": {},
     "output_type": "execute_result"
    }
   ],
   "source": [
    "df4 = df3.drop( cols, axis=1 )\n",
    "df4.shape"
   ]
  },
  {
   "cell_type": "code",
   "execution_count": 33,
   "id": "4d9988b7",
   "metadata": {
    "ExecuteTime": {
     "end_time": "2022-07-25T10:04:02.187254Z",
     "start_time": "2022-07-25T10:04:01.249475Z"
    }
   },
   "outputs": [
    {
     "data": {
      "text/plain": [
       "(122636, 138)"
      ]
     },
     "execution_count": 33,
     "metadata": {},
     "output_type": "execute_result"
    }
   ],
   "source": [
    "# Encoder Categorical Variables\n",
    "ohe = pp.OneHotEncoder()\n",
    "\n",
    "# Numerical\n",
    "col_num = df4.select_dtypes( include=['int64', 'float64'] ).columns.tolist()\n",
    "\n",
    "# Categorical\n",
    "col_cat = df4.select_dtypes( exclude=['int64', 'float64', 'datetime64[ns]'] ).drop( ['id', 'country_destination'], axis=1 ).columns.tolist()\n",
    "\n",
    "# encoding\n",
    "df4_dummy = pd.DataFrame( ohe.fit_transform( df4[ col_cat] ).toarray(), index=df4.index )\n",
    "\n",
    "# join numerical and categorical\n",
    "df42 = pd.concat( [df4[col_num], df4_dummy], axis=1 )\n",
    "df42.shape"
   ]
  },
  {
   "cell_type": "markdown",
   "id": "e474cf1d",
   "metadata": {},
   "source": [
    " - Para usar o tomeklink, é preciso fazer o encoder das variaveis categoricas"
   ]
  },
  {
   "cell_type": "markdown",
   "id": "fb51b0f9",
   "metadata": {},
   "source": [
    "## 4.1 Random Undersampling"
   ]
  },
  {
   "cell_type": "code",
   "execution_count": 34,
   "id": "71310c7d",
   "metadata": {
    "ExecuteTime": {
     "end_time": "2022-07-25T10:04:03.144087Z",
     "start_time": "2022-07-25T10:04:02.190248Z"
    }
   },
   "outputs": [],
   "source": [
    "# ratio_balanced\n",
    "ratio_balanced = {'NDF': 10000 }\n",
    "# define sampler\n",
    "undersampling = us.RandomUnderSampler( sampling_strategy=ratio_balanced, random_state=32 )\n",
    "\n",
    "# apply sampler\n",
    "X_under, y_under = undersampling.fit_resample( df42, df4['country_destination'] )"
   ]
  },
  {
   "cell_type": "code",
   "execution_count": 35,
   "id": "e8c77a3b",
   "metadata": {
    "ExecuteTime": {
     "end_time": "2022-07-25T10:04:03.175824Z",
     "start_time": "2022-07-25T10:04:03.146900Z"
    },
    "cell_style": "split",
    "scrolled": false
   },
   "outputs": [
    {
     "data": {
      "text/plain": [
       "NDF      54852\n",
       "US       48057\n",
       "other     7511\n",
       "FR        3669\n",
       "IT        2014\n",
       "GB        1758\n",
       "ES        1685\n",
       "CA        1064\n",
       "DE         841\n",
       "NL         595\n",
       "AU         433\n",
       "PT         157\n",
       "Name: country_destination, dtype: int64"
      ]
     },
     "execution_count": 35,
     "metadata": {},
     "output_type": "execute_result"
    }
   ],
   "source": [
    "df4['country_destination'].value_counts()"
   ]
  },
  {
   "cell_type": "code",
   "execution_count": 36,
   "id": "89b22d95",
   "metadata": {
    "ExecuteTime": {
     "end_time": "2022-07-25T10:04:03.330062Z",
     "start_time": "2022-07-25T10:04:03.178817Z"
    },
    "cell_style": "split"
   },
   "outputs": [
    {
     "data": {
      "text/plain": [
       "US       48057\n",
       "NDF      10000\n",
       "other     7511\n",
       "FR        3669\n",
       "IT        2014\n",
       "GB        1758\n",
       "ES        1685\n",
       "CA        1064\n",
       "DE         841\n",
       "NL         595\n",
       "AU         433\n",
       "PT         157\n",
       "Name: country_destination, dtype: int64"
      ]
     },
     "execution_count": 36,
     "metadata": {},
     "output_type": "execute_result"
    }
   ],
   "source": [
    "y_under.value_counts()"
   ]
  },
  {
   "cell_type": "markdown",
   "id": "56aed11a",
   "metadata": {},
   "source": [
    "## 4.2 Random Oversampling"
   ]
  },
  {
   "cell_type": "code",
   "execution_count": 37,
   "id": "8eed9f7e",
   "metadata": {
    "ExecuteTime": {
     "end_time": "2022-07-25T10:04:10.589948Z",
     "start_time": "2022-07-25T10:04:03.332055Z"
    }
   },
   "outputs": [],
   "source": [
    "# ratio_balanced\n",
    "#ratio_balanced = {'NDF': 10000 }\n",
    "\n",
    "# define sampler\n",
    "oversampling = oversamp.RandomOverSampler( sampling_strategy='all', random_state=32 )\n",
    "\n",
    "# apply sampler\n",
    "X_over, y_over = oversampling.fit_resample( df42, df4['country_destination'] )"
   ]
  },
  {
   "cell_type": "code",
   "execution_count": 38,
   "id": "572971dd",
   "metadata": {
    "ExecuteTime": {
     "end_time": "2022-07-25T10:04:10.636822Z",
     "start_time": "2022-07-25T10:04:10.594936Z"
    },
    "cell_style": "split",
    "scrolled": true
   },
   "outputs": [
    {
     "data": {
      "text/plain": [
       "NDF      54852\n",
       "US       48057\n",
       "other     7511\n",
       "FR        3669\n",
       "IT        2014\n",
       "GB        1758\n",
       "ES        1685\n",
       "CA        1064\n",
       "DE         841\n",
       "NL         595\n",
       "AU         433\n",
       "PT         157\n",
       "Name: country_destination, dtype: int64"
      ]
     },
     "execution_count": 38,
     "metadata": {},
     "output_type": "execute_result"
    }
   ],
   "source": [
    "df4['country_destination'].value_counts()"
   ]
  },
  {
   "cell_type": "code",
   "execution_count": 39,
   "id": "f172616d",
   "metadata": {
    "ExecuteTime": {
     "end_time": "2022-07-25T10:04:11.401778Z",
     "start_time": "2022-07-25T10:04:10.639816Z"
    },
    "cell_style": "split",
    "scrolled": true
   },
   "outputs": [
    {
     "data": {
      "text/plain": [
       "NDF      54852\n",
       "US       54852\n",
       "other    54852\n",
       "CA       54852\n",
       "FR       54852\n",
       "IT       54852\n",
       "ES       54852\n",
       "GB       54852\n",
       "NL       54852\n",
       "DE       54852\n",
       "AU       54852\n",
       "PT       54852\n",
       "Name: country_destination, dtype: int64"
      ]
     },
     "execution_count": 39,
     "metadata": {},
     "output_type": "execute_result"
    }
   ],
   "source": [
    "y_over.value_counts()"
   ]
  },
  {
   "cell_type": "markdown",
   "id": "c7998a81",
   "metadata": {},
   "source": [
    "## 4.3 Smote + Tomeklink"
   ]
  },
  {
   "cell_type": "code",
   "execution_count": 40,
   "id": "24bf179a",
   "metadata": {
    "ExecuteTime": {
     "end_time": "2022-07-25T10:04:12.154799Z",
     "start_time": "2022-07-25T10:04:11.404771Z"
    },
    "scrolled": true
   },
   "outputs": [],
   "source": [
    "#df4['country_destination'].value_counts().to_dict()\n",
    "#Imputar valores manualmente para a amostra ficar próxima dos valores \n",
    "ratio_balanced =  {'NDF':   54852,\n",
    "                   'US':    48057,\n",
    "                   'other': 6*7511,\n",
    "                   'FR':    12*3669,\n",
    "                   'IT':    20*2014,\n",
    "                   'GB':    30*1758,\n",
    "                   'ES':    30*1685,\n",
    "                   'CA':    40*1064,\n",
    "                   'DE':    45*841,\n",
    "                   'NL':    80*595,\n",
    "                   'AU':    85*433,\n",
    "                   'PT':    300*157}"
   ]
  },
  {
   "cell_type": "code",
   "execution_count": 41,
   "id": "12bc25b6",
   "metadata": {
    "ExecuteTime": {
     "end_time": "2022-07-25T10:44:06.388417Z",
     "start_time": "2022-07-25T10:04:12.157758Z"
    }
   },
   "outputs": [],
   "source": [
    "#define sampler\n",
    "smt = c.SMOTETomek(sampling_strategy=ratio_balanced, random_state=32, n_jobs=-1)\n",
    "\n",
    "# apply sampler\n",
    "X_smt, y_smt = smt.fit_resample(df42, df4['country_destination'])"
   ]
  },
  {
   "cell_type": "code",
   "execution_count": 42,
   "id": "b2d7d2cf",
   "metadata": {
    "ExecuteTime": {
     "end_time": "2022-07-25T10:44:09.707717Z",
     "start_time": "2022-07-25T10:44:06.419333Z"
    }
   },
   "outputs": [],
   "source": [
    "# numerical data\n",
    "df43 = X_smt[ col_num ]\n",
    "\n",
    "# categorical data\n",
    "df44 = X_smt.drop( col_num, axis=1 )\n",
    "df45 = pd.DataFrame( ohe.inverse_transform( df44 ), columns=col_cat, index=df44.index )\n",
    "\n",
    "# join numerical categorical\n",
    "df46 = pd.concat( [df43, df45], axis=1 )\n",
    "df46['country_destination'] = y_smt"
   ]
  },
  {
   "cell_type": "code",
   "execution_count": 43,
   "id": "2d65bf40",
   "metadata": {
    "ExecuteTime": {
     "end_time": "2022-07-25T10:44:09.722891Z",
     "start_time": "2022-07-25T10:44:09.711920Z"
    }
   },
   "outputs": [
    {
     "data": {
      "text/plain": [
       "(122636, 138)"
      ]
     },
     "execution_count": 43,
     "metadata": {},
     "output_type": "execute_result"
    }
   ],
   "source": [
    "df42.shape"
   ]
  },
  {
   "cell_type": "code",
   "execution_count": 44,
   "id": "4f0aecdd",
   "metadata": {
    "ExecuteTime": {
     "end_time": "2022-07-25T10:44:10.813154Z",
     "start_time": "2022-07-25T10:44:09.725884Z"
    }
   },
   "outputs": [
    {
     "data": {
      "text/plain": [
       "NDF      54852\n",
       "US       48057\n",
       "other     7511\n",
       "FR        3669\n",
       "IT        2014\n",
       "GB        1758\n",
       "ES        1685\n",
       "CA        1064\n",
       "DE         841\n",
       "NL         595\n",
       "AU         433\n",
       "PT         157\n",
       "Name: country_destination, dtype: int64"
      ]
     },
     "execution_count": 44,
     "metadata": {},
     "output_type": "execute_result"
    }
   ],
   "source": [
    "df4['country_destination'].value_counts()"
   ]
  },
  {
   "cell_type": "markdown",
   "id": "470dc8b5",
   "metadata": {},
   "source": [
    "# 5.0 - EXPLORATORY DATA ANALYSIS (EDA)"
   ]
  },
  {
   "cell_type": "markdown",
   "id": "46d66491",
   "metadata": {},
   "source": [
    "A análise exporatória deverá ser feita com os dados originais para tirar insights do négócio."
   ]
  },
  {
   "cell_type": "markdown",
   "id": "73447065",
   "metadata": {
    "ExecuteTime": {
     "end_time": "2022-07-01T19:58:53.442063Z",
     "start_time": "2022-07-01T19:58:53.337356Z"
    }
   },
   "source": [
    "## 5.1  Validação de hipoteses -  Dados  desbalanceados\n"
   ]
  },
  {
   "cell_type": "code",
   "execution_count": 45,
   "id": "8952d754",
   "metadata": {
    "ExecuteTime": {
     "end_time": "2022-07-25T10:44:11.418480Z",
     "start_time": "2022-07-25T10:44:10.816997Z"
    }
   },
   "outputs": [],
   "source": [
    "df51 = df4.copy()"
   ]
  },
  {
   "cell_type": "markdown",
   "id": "021d9ce3",
   "metadata": {},
   "source": [
    "**H01**. Em todos os destinos, os usuários levam 15 dias em média, para fazer a primeira reserva no airbnb, desde a primeira ativação"
   ]
  },
  {
   "cell_type": "markdown",
   "id": "71e73823",
   "metadata": {},
   "source": [
    "**Verdadeiro** em todo destinos os usuários levam em média  até 6 dias para fazer a primeira reserva"
   ]
  },
  {
   "cell_type": "code",
   "execution_count": 46,
   "id": "f754135d",
   "metadata": {
    "ExecuteTime": {
     "end_time": "2022-07-25T10:44:15.768832Z",
     "start_time": "2022-07-25T10:44:11.720769Z"
    }
   },
   "outputs": [
    {
     "data": {
      "text/plain": [
       "<AxesSubplot:xlabel='country_destination', ylabel='days_from_first_active_until_booking'>"
      ]
     },
     "execution_count": 46,
     "metadata": {},
     "output_type": "execute_result"
    },
    {
     "data": {
      "image/png": "[encoded data removed]",
      "text/plain": [
       "<Figure size 1440x864 with 2 Axes>"
      ]
     },
     "metadata": {
      "needs_background": "light"
     },
     "output_type": "display_data"
    }
   ],
   "source": [
    "\n",
    "plt.figure( figsize=(20, 12))\n",
    "plt.subplot( 3, 1, 1 )\n",
    "aux01 = df51[['days_from_first_active_until_booking', 'country_destination']].groupby( 'country_destination' ).median().reset_index()\n",
    "sns.barplot( x='country_destination', y='days_from_first_active_until_booking', \n",
    "             data=aux01.sort_values( 'days_from_first_active_until_booking' ) )\n",
    "\n",
    "# remove outlier\n",
    "plt.subplot( 3, 1, 2 )\n",
    "aux02 = df51[df51['country_destination'] != 'NDF']\n",
    "aux02 = aux02[['days_from_first_active_until_booking', 'country_destination']].groupby( 'country_destination' ).median().reset_index()\n",
    "sns.barplot( x='country_destination', y='days_from_first_active_until_booking', \n",
    "             data=aux02.sort_values( 'days_from_first_active_until_booking' ) )"
   ]
  },
  {
   "cell_type": "markdown",
   "id": "b7f6f71d",
   "metadata": {},
   "source": [
    "**H02**. Em todos os destinos, os usuários levam 3 dias em média, para fazer o cadastro no site"
   ]
  },
  {
   "cell_type": "markdown",
   "id": "e3188928",
   "metadata": {},
   "source": [
    "**Verdadeiro** Em todos os destinos os usuario levam até 2 dias para ativar o cadastro"
   ]
  },
  {
   "cell_type": "code",
   "execution_count": 47,
   "id": "966b0df5",
   "metadata": {
    "ExecuteTime": {
     "end_time": "2022-07-25T10:44:16.144261Z",
     "start_time": "2022-07-25T10:44:15.772679Z"
    }
   },
   "outputs": [
    {
     "data": {
      "text/plain": [
       "<AxesSubplot:xlabel='country_destination', ylabel='days_from_first_active_until_account_created'>"
      ]
     },
     "execution_count": 47,
     "metadata": {},
     "output_type": "execute_result"
    },
    {
     "data": {
      "image/png": "[encoded data removed]",
      "text/plain": [
       "<Figure size 1440x864 with 1 Axes>"
      ]
     },
     "metadata": {
      "needs_background": "light"
     },
     "output_type": "display_data"
    }
   ],
   "source": [
    "\n",
    "plt.figure( figsize=(20, 12))\n",
    "aux01 = df51[['days_from_first_active_until_account_created', 'country_destination']].groupby( 'country_destination' ).mean().reset_index()\n",
    "sns.barplot( x='country_destination', y='days_from_first_active_until_account_created', \n",
    "             data=aux01.sort_values( 'days_from_first_active_until_account_created' ) )"
   ]
  },
  {
   "cell_type": "markdown",
   "id": "99f6501c",
   "metadata": {},
   "source": [
    "**H03**. O Volume de reserva anual feitas durante  o verão aumentaram 20% para destinos dentro dos USA"
   ]
  },
  {
   "cell_type": "markdown",
   "id": "dfcbc52c",
   "metadata": {
    "ExecuteTime": {
     "end_time": "2022-07-03T18:28:27.437132Z",
     "start_time": "2022-07-03T18:28:27.422174Z"
    }
   },
   "source": [
    "**Falsa** Há um volume maior que 20% até 2013, depois elas caem."
   ]
  },
  {
   "cell_type": "code",
   "execution_count": 48,
   "id": "39a0ee03",
   "metadata": {
    "ExecuteTime": {
     "end_time": "2022-07-25T10:44:17.114309Z",
     "start_time": "2022-07-25T10:44:16.148252Z"
    },
    "code_folding": []
   },
   "outputs": [
    {
     "data": {
      "text/plain": [
       "<AxesSubplot:xlabel='year_first_booking', ylabel='delta'>"
      ]
     },
     "execution_count": 48,
     "metadata": {},
     "output_type": "execute_result"
    },
    {
     "data": {
      "image/png": "[encoded data removed]",
      "text/plain": [
       "<Figure size 1440x864 with 1 Axes>"
      ]
     },
     "metadata": {
      "needs_background": "light"
     },
     "output_type": "display_data"
    }
   ],
   "source": [
    "aux01 = df51[['year_first_booking', 'month_first_booking', 'country_destination']].\\\n",
    "                groupby( ['year_first_booking', 'month_first_booking', 'country_destination'] ). \\\n",
    "                size().reset_index().rename( columns={0:'count'})\n",
    "\n",
    "# select only summer\n",
    "aux01 = aux01[( aux01['month_first_booking'].isin( [6, 7, 8, 9] ) ) & (aux01['country_destination'] == 'US')]\n",
    "\n",
    "aux02 = aux01[['year_first_booking', 'count']].groupby( 'year_first_booking' ).sum().reset_index()\n",
    "\n",
    "aux02['delta'] = 100*aux02['count'].pct_change().fillna( 0 )\n",
    "\n",
    "plt.figure( figsize=(20,12))\n",
    "sns.barplot( x='year_first_booking', y='delta', data=aux02)"
   ]
  },
  {
   "cell_type": "markdown",
   "id": "a3dc323f",
   "metadata": {},
   "source": [
    "**H04**. Os usuários do sexo feminino fazem 10% mais reservas fara fora dos USA"
   ]
  },
  {
   "cell_type": "code",
   "execution_count": 82,
   "id": "9a7966d8",
   "metadata": {
    "ExecuteTime": {
     "end_time": "2022-07-25T19:06:57.416641Z",
     "start_time": "2022-07-25T19:06:57.245739Z"
    }
   },
   "outputs": [
    {
     "data": {
      "text/html": [
       "<div>\n",
       "<style scoped>\n",
       "    .dataframe tbody tr th:only-of-type {\n",
       "        vertical-align: middle;\n",
       "    }\n",
       "\n",
       "    .dataframe tbody tr th {\n",
       "        vertical-align: top;\n",
       "    }\n",
       "\n",
       "    .dataframe thead th {\n",
       "        text-align: right;\n",
       "    }\n",
       "</style>\n",
       "<table border=\"1\" class=\"dataframe\">\n",
       "  <thead>\n",
       "    <tr style=\"text-align: right;\">\n",
       "      <th></th>\n",
       "      <th>id</th>\n",
       "      <th>gender</th>\n",
       "      <th>age</th>\n",
       "      <th>signup_method</th>\n",
       "      <th>signup_flow</th>\n",
       "      <th>language</th>\n",
       "      <th>affiliate_channel</th>\n",
       "      <th>affiliate_provider</th>\n",
       "      <th>first_affiliate_tracked</th>\n",
       "      <th>signup_app</th>\n",
       "      <th>...</th>\n",
       "      <th>year_first_booking</th>\n",
       "      <th>month_first_booking</th>\n",
       "      <th>day_first_booking</th>\n",
       "      <th>day_of_week_first_booking</th>\n",
       "      <th>week_of_year_first_booking</th>\n",
       "      <th>year_account_created</th>\n",
       "      <th>month_account_created</th>\n",
       "      <th>day_account_created</th>\n",
       "      <th>day_of _week_first_account_created</th>\n",
       "      <th>week_of _year_first_account_created</th>\n",
       "    </tr>\n",
       "  </thead>\n",
       "  <tbody>\n",
       "    <tr>\n",
       "      <th>1</th>\n",
       "      <td>820tgsjxq7</td>\n",
       "      <td>MALE</td>\n",
       "      <td>38</td>\n",
       "      <td>facebook</td>\n",
       "      <td>0</td>\n",
       "      <td>en</td>\n",
       "      <td>seo</td>\n",
       "      <td>google</td>\n",
       "      <td>untracked</td>\n",
       "      <td>Web</td>\n",
       "      <td>...</td>\n",
       "      <td>2015</td>\n",
       "      <td>6</td>\n",
       "      <td>29</td>\n",
       "      <td>0</td>\n",
       "      <td>27</td>\n",
       "      <td>2011</td>\n",
       "      <td>5</td>\n",
       "      <td>25</td>\n",
       "      <td>2</td>\n",
       "      <td>21</td>\n",
       "    </tr>\n",
       "    <tr>\n",
       "      <th>2</th>\n",
       "      <td>4ft3gnwmtx</td>\n",
       "      <td>FEMALE</td>\n",
       "      <td>56</td>\n",
       "      <td>basic</td>\n",
       "      <td>3</td>\n",
       "      <td>en</td>\n",
       "      <td>direct</td>\n",
       "      <td>direct</td>\n",
       "      <td>untracked</td>\n",
       "      <td>Web</td>\n",
       "      <td>...</td>\n",
       "      <td>2010</td>\n",
       "      <td>8</td>\n",
       "      <td>2</td>\n",
       "      <td>0</td>\n",
       "      <td>31</td>\n",
       "      <td>2010</td>\n",
       "      <td>9</td>\n",
       "      <td>28</td>\n",
       "      <td>1</td>\n",
       "      <td>39</td>\n",
       "    </tr>\n",
       "    <tr>\n",
       "      <th>3</th>\n",
       "      <td>bjjt8pjhuk</td>\n",
       "      <td>FEMALE</td>\n",
       "      <td>42</td>\n",
       "      <td>facebook</td>\n",
       "      <td>0</td>\n",
       "      <td>en</td>\n",
       "      <td>direct</td>\n",
       "      <td>direct</td>\n",
       "      <td>untracked</td>\n",
       "      <td>Web</td>\n",
       "      <td>...</td>\n",
       "      <td>2012</td>\n",
       "      <td>9</td>\n",
       "      <td>8</td>\n",
       "      <td>5</td>\n",
       "      <td>36</td>\n",
       "      <td>2011</td>\n",
       "      <td>12</td>\n",
       "      <td>5</td>\n",
       "      <td>0</td>\n",
       "      <td>49</td>\n",
       "    </tr>\n",
       "    <tr>\n",
       "      <th>6</th>\n",
       "      <td>lsw9q7uk0j</td>\n",
       "      <td>FEMALE</td>\n",
       "      <td>46</td>\n",
       "      <td>basic</td>\n",
       "      <td>0</td>\n",
       "      <td>en</td>\n",
       "      <td>other</td>\n",
       "      <td>craigslist</td>\n",
       "      <td>untracked</td>\n",
       "      <td>Web</td>\n",
       "      <td>...</td>\n",
       "      <td>2010</td>\n",
       "      <td>1</td>\n",
       "      <td>5</td>\n",
       "      <td>1</td>\n",
       "      <td>1</td>\n",
       "      <td>2010</td>\n",
       "      <td>1</td>\n",
       "      <td>2</td>\n",
       "      <td>5</td>\n",
       "      <td>53</td>\n",
       "    </tr>\n",
       "    <tr>\n",
       "      <th>7</th>\n",
       "      <td>0d01nltbrs</td>\n",
       "      <td>FEMALE</td>\n",
       "      <td>47</td>\n",
       "      <td>basic</td>\n",
       "      <td>0</td>\n",
       "      <td>en</td>\n",
       "      <td>direct</td>\n",
       "      <td>direct</td>\n",
       "      <td>omg</td>\n",
       "      <td>Web</td>\n",
       "      <td>...</td>\n",
       "      <td>2010</td>\n",
       "      <td>1</td>\n",
       "      <td>13</td>\n",
       "      <td>2</td>\n",
       "      <td>2</td>\n",
       "      <td>2010</td>\n",
       "      <td>1</td>\n",
       "      <td>3</td>\n",
       "      <td>6</td>\n",
       "      <td>53</td>\n",
       "    </tr>\n",
       "    <tr>\n",
       "      <th>...</th>\n",
       "      <td>...</td>\n",
       "      <td>...</td>\n",
       "      <td>...</td>\n",
       "      <td>...</td>\n",
       "      <td>...</td>\n",
       "      <td>...</td>\n",
       "      <td>...</td>\n",
       "      <td>...</td>\n",
       "      <td>...</td>\n",
       "      <td>...</td>\n",
       "      <td>...</td>\n",
       "      <td>...</td>\n",
       "      <td>...</td>\n",
       "      <td>...</td>\n",
       "      <td>...</td>\n",
       "      <td>...</td>\n",
       "      <td>...</td>\n",
       "      <td>...</td>\n",
       "      <td>...</td>\n",
       "      <td>...</td>\n",
       "      <td>...</td>\n",
       "    </tr>\n",
       "    <tr>\n",
       "      <th>213440</th>\n",
       "      <td>04y8115avm</td>\n",
       "      <td>FEMALE</td>\n",
       "      <td>24</td>\n",
       "      <td>basic</td>\n",
       "      <td>25</td>\n",
       "      <td>en</td>\n",
       "      <td>direct</td>\n",
       "      <td>direct</td>\n",
       "      <td>untracked</td>\n",
       "      <td>iOS</td>\n",
       "      <td>...</td>\n",
       "      <td>2015</td>\n",
       "      <td>6</td>\n",
       "      <td>29</td>\n",
       "      <td>0</td>\n",
       "      <td>27</td>\n",
       "      <td>2014</td>\n",
       "      <td>6</td>\n",
       "      <td>30</td>\n",
       "      <td>0</td>\n",
       "      <td>27</td>\n",
       "    </tr>\n",
       "    <tr>\n",
       "      <th>213441</th>\n",
       "      <td>omlc9iku7t</td>\n",
       "      <td>FEMALE</td>\n",
       "      <td>34</td>\n",
       "      <td>basic</td>\n",
       "      <td>0</td>\n",
       "      <td>en</td>\n",
       "      <td>direct</td>\n",
       "      <td>direct</td>\n",
       "      <td>linked</td>\n",
       "      <td>Web</td>\n",
       "      <td>...</td>\n",
       "      <td>2014</td>\n",
       "      <td>8</td>\n",
       "      <td>13</td>\n",
       "      <td>2</td>\n",
       "      <td>33</td>\n",
       "      <td>2014</td>\n",
       "      <td>6</td>\n",
       "      <td>30</td>\n",
       "      <td>0</td>\n",
       "      <td>27</td>\n",
       "    </tr>\n",
       "    <tr>\n",
       "      <th>213443</th>\n",
       "      <td>0k26r3mir0</td>\n",
       "      <td>FEMALE</td>\n",
       "      <td>36</td>\n",
       "      <td>basic</td>\n",
       "      <td>0</td>\n",
       "      <td>en</td>\n",
       "      <td>sem-brand</td>\n",
       "      <td>google</td>\n",
       "      <td>linked</td>\n",
       "      <td>Web</td>\n",
       "      <td>...</td>\n",
       "      <td>2014</td>\n",
       "      <td>7</td>\n",
       "      <td>13</td>\n",
       "      <td>6</td>\n",
       "      <td>28</td>\n",
       "      <td>2014</td>\n",
       "      <td>6</td>\n",
       "      <td>30</td>\n",
       "      <td>0</td>\n",
       "      <td>27</td>\n",
       "    </tr>\n",
       "    <tr>\n",
       "      <th>213445</th>\n",
       "      <td>qbxza0xojf</td>\n",
       "      <td>FEMALE</td>\n",
       "      <td>23</td>\n",
       "      <td>basic</td>\n",
       "      <td>0</td>\n",
       "      <td>en</td>\n",
       "      <td>sem-brand</td>\n",
       "      <td>google</td>\n",
       "      <td>omg</td>\n",
       "      <td>Web</td>\n",
       "      <td>...</td>\n",
       "      <td>2014</td>\n",
       "      <td>7</td>\n",
       "      <td>2</td>\n",
       "      <td>2</td>\n",
       "      <td>27</td>\n",
       "      <td>2014</td>\n",
       "      <td>6</td>\n",
       "      <td>30</td>\n",
       "      <td>0</td>\n",
       "      <td>27</td>\n",
       "    </tr>\n",
       "    <tr>\n",
       "      <th>213446</th>\n",
       "      <td>zxodksqpep</td>\n",
       "      <td>MALE</td>\n",
       "      <td>32</td>\n",
       "      <td>basic</td>\n",
       "      <td>0</td>\n",
       "      <td>en</td>\n",
       "      <td>sem-brand</td>\n",
       "      <td>google</td>\n",
       "      <td>omg</td>\n",
       "      <td>Web</td>\n",
       "      <td>...</td>\n",
       "      <td>2015</td>\n",
       "      <td>6</td>\n",
       "      <td>29</td>\n",
       "      <td>0</td>\n",
       "      <td>27</td>\n",
       "      <td>2014</td>\n",
       "      <td>6</td>\n",
       "      <td>30</td>\n",
       "      <td>0</td>\n",
       "      <td>27</td>\n",
       "    </tr>\n",
       "  </tbody>\n",
       "</table>\n",
       "<p>105846 rows × 31 columns</p>\n",
       "</div>"
      ],
      "text/plain": [
       "                id  gender  age signup_method  signup_flow language  \\\n",
       "1       820tgsjxq7    MALE   38      facebook            0       en   \n",
       "2       4ft3gnwmtx  FEMALE   56         basic            3       en   \n",
       "3       bjjt8pjhuk  FEMALE   42      facebook            0       en   \n",
       "6       lsw9q7uk0j  FEMALE   46         basic            0       en   \n",
       "7       0d01nltbrs  FEMALE   47         basic            0       en   \n",
       "...            ...     ...  ...           ...          ...      ...   \n",
       "213440  04y8115avm  FEMALE   24         basic           25       en   \n",
       "213441  omlc9iku7t  FEMALE   34         basic            0       en   \n",
       "213443  0k26r3mir0  FEMALE   36         basic            0       en   \n",
       "213445  qbxza0xojf  FEMALE   23         basic            0       en   \n",
       "213446  zxodksqpep    MALE   32         basic            0       en   \n",
       "\n",
       "       affiliate_channel affiliate_provider first_affiliate_tracked  \\\n",
       "1                    seo             google               untracked   \n",
       "2                 direct             direct               untracked   \n",
       "3                 direct             direct               untracked   \n",
       "6                  other         craigslist               untracked   \n",
       "7                 direct             direct                     omg   \n",
       "...                  ...                ...                     ...   \n",
       "213440            direct             direct               untracked   \n",
       "213441            direct             direct                  linked   \n",
       "213443         sem-brand             google                  linked   \n",
       "213445         sem-brand             google                     omg   \n",
       "213446         sem-brand             google                     omg   \n",
       "\n",
       "       signup_app  ... year_first_booking month_first_booking  \\\n",
       "1             Web  ...               2015                   6   \n",
       "2             Web  ...               2010                   8   \n",
       "3             Web  ...               2012                   9   \n",
       "6             Web  ...               2010                   1   \n",
       "7             Web  ...               2010                   1   \n",
       "...           ...  ...                ...                 ...   \n",
       "213440        iOS  ...               2015                   6   \n",
       "213441        Web  ...               2014                   8   \n",
       "213443        Web  ...               2014                   7   \n",
       "213445        Web  ...               2014                   7   \n",
       "213446        Web  ...               2015                   6   \n",
       "\n",
       "       day_first_booking  day_of_week_first_booking  \\\n",
       "1                     29                          0   \n",
       "2                      2                          0   \n",
       "3                      8                          5   \n",
       "6                      5                          1   \n",
       "7                     13                          2   \n",
       "...                  ...                        ...   \n",
       "213440                29                          0   \n",
       "213441                13                          2   \n",
       "213443                13                          6   \n",
       "213445                 2                          2   \n",
       "213446                29                          0   \n",
       "\n",
       "        week_of_year_first_booking  year_account_created  \\\n",
       "1                               27                  2011   \n",
       "2                               31                  2010   \n",
       "3                               36                  2011   \n",
       "6                                1                  2010   \n",
       "7                                2                  2010   \n",
       "...                            ...                   ...   \n",
       "213440                          27                  2014   \n",
       "213441                          33                  2014   \n",
       "213443                          28                  2014   \n",
       "213445                          27                  2014   \n",
       "213446                          27                  2014   \n",
       "\n",
       "        month_account_created  day_account_created  \\\n",
       "1                           5                   25   \n",
       "2                           9                   28   \n",
       "3                          12                    5   \n",
       "6                           1                    2   \n",
       "7                           1                    3   \n",
       "...                       ...                  ...   \n",
       "213440                      6                   30   \n",
       "213441                      6                   30   \n",
       "213443                      6                   30   \n",
       "213445                      6                   30   \n",
       "213446                      6                   30   \n",
       "\n",
       "        day_of _week_first_account_created  \\\n",
       "1                                        2   \n",
       "2                                        1   \n",
       "3                                        0   \n",
       "6                                        5   \n",
       "7                                        6   \n",
       "...                                    ...   \n",
       "213440                                   0   \n",
       "213441                                   0   \n",
       "213443                                   0   \n",
       "213445                                   0   \n",
       "213446                                   0   \n",
       "\n",
       "        week_of _year_first_account_created  \n",
       "1                                        21  \n",
       "2                                        39  \n",
       "3                                        49  \n",
       "6                                        53  \n",
       "7                                        53  \n",
       "...                                     ...  \n",
       "213440                                   27  \n",
       "213441                                   27  \n",
       "213443                                   27  \n",
       "213445                                   27  \n",
       "213446                                   27  \n",
       "\n",
       "[105846 rows x 31 columns]"
      ]
     },
     "execution_count": 82,
     "metadata": {},
     "output_type": "execute_result"
    }
   ],
   "source": [
    "aux = df51[df51['gender'].isin(['FEMALE','MALE'])]\n",
    "aux"
   ]
  },
  {
   "cell_type": "code",
   "execution_count": 50,
   "id": "b15be802",
   "metadata": {
    "ExecuteTime": {
     "end_time": "2022-07-25T10:44:17.700339Z",
     "start_time": "2022-07-25T10:44:17.132558Z"
    }
   },
   "outputs": [
    {
     "data": {
      "text/html": [
       "<div>\n",
       "<style scoped>\n",
       "    .dataframe tbody tr th:only-of-type {\n",
       "        vertical-align: middle;\n",
       "    }\n",
       "\n",
       "    .dataframe tbody tr th {\n",
       "        vertical-align: top;\n",
       "    }\n",
       "\n",
       "    .dataframe thead th {\n",
       "        text-align: right;\n",
       "    }\n",
       "</style>\n",
       "<table border=\"1\" class=\"dataframe\">\n",
       "  <thead>\n",
       "    <tr style=\"text-align: right;\">\n",
       "      <th>gender</th>\n",
       "      <th>-unknown-</th>\n",
       "      <th>FEMALE</th>\n",
       "      <th>MALE</th>\n",
       "      <th>OTHER</th>\n",
       "    </tr>\n",
       "    <tr>\n",
       "      <th>country_destination</th>\n",
       "      <th></th>\n",
       "      <th></th>\n",
       "      <th></th>\n",
       "      <th></th>\n",
       "    </tr>\n",
       "  </thead>\n",
       "  <tbody>\n",
       "    <tr>\n",
       "      <th>False</th>\n",
       "      <td>8003</td>\n",
       "      <td>35295</td>\n",
       "      <td>31158</td>\n",
       "      <td>123</td>\n",
       "    </tr>\n",
       "    <tr>\n",
       "      <th>True</th>\n",
       "      <td>8562</td>\n",
       "      <td>21067</td>\n",
       "      <td>18326</td>\n",
       "      <td>102</td>\n",
       "    </tr>\n",
       "  </tbody>\n",
       "</table>\n",
       "</div>"
      ],
      "text/plain": [
       "gender               -unknown-  FEMALE   MALE  OTHER\n",
       "country_destination                                 \n",
       "False                     8003   35295  31158    123\n",
       "True                      8562   21067  18326    102"
      ]
     },
     "execution_count": 50,
     "metadata": {},
     "output_type": "execute_result"
    }
   ],
   "source": [
    "gender = pd.crosstab(index=df51[\"country_destination\"]=='US', \n",
    "             columns=df51[\"gender\"])\n",
    "\n",
    "#gender_exited.index= [\"Cliente\",\"Deixou de ser cliente\"]\n",
    "gender\n",
    "#sns.displot(x='gender', y='country_destination', data=gender)"
   ]
  },
  {
   "cell_type": "markdown",
   "id": "8a09e726",
   "metadata": {},
   "source": [
    "**H05**. O Canal de mkt do google representa 40% das reservas para fora dos USA"
   ]
  },
  {
   "cell_type": "markdown",
   "id": "959483a2",
   "metadata": {},
   "source": [
    "**H06**. Destino dentro dos USA, representa 20% em todos os canais"
   ]
  },
  {
   "cell_type": "markdown",
   "id": "c5fcd6b6",
   "metadata": {},
   "source": [
    "**H07**. A idade média das pessoas é de 35 anos em todos os destinos"
   ]
  },
  {
   "cell_type": "markdown",
   "id": "89aa9e45",
   "metadata": {},
   "source": [
    "**H08**. A porcentagem de usuarios que usam o site na lingua ingles_Americano para reservar acomodações em qualquer destino é maior que 40%"
   ]
  },
  {
   "cell_type": "markdown",
   "id": "61caf5f0",
   "metadata": {},
   "source": [
    "**H09**. O número de reservas do airbnb é crescente ou decrescente ao longo dos anos?"
   ]
  },
  {
   "cell_type": "markdown",
   "id": "c629f709",
   "metadata": {},
   "source": [
    "**H10**. O número de reservas do airbnb é crescente ao longo dos anos?"
   ]
  },
  {
   "cell_type": "markdown",
   "id": "656d58fa",
   "metadata": {},
   "source": [
    "O objetivo de usar o pandas profiling:\n",
    " - ter uma visão geral das variáveis,\n",
    " - Encontrar as váriáveis que não carregam nenhuma informação,\n",
    " - Descobrir as variáveis muito correlacionadas, pois variáveis com grande correlação tem as mesmas informações."
   ]
  },
  {
   "cell_type": "markdown",
   "id": "348b71b1",
   "metadata": {},
   "source": [
    "## Impacto das Variáveis"
   ]
  },
  {
   "cell_type": "code",
   "execution_count": 51,
   "id": "688f79d1",
   "metadata": {
    "ExecuteTime": {
     "end_time": "2022-07-25T10:44:17.746310Z",
     "start_time": "2022-07-25T10:44:17.727324Z"
    }
   },
   "outputs": [],
   "source": [
    "#profile = ProfileReport(df52, title=\"Pandas Profiling Report\")\n",
    "#profile.to_file(\"airbnb_booking_statistics_after_cleaning.html\")"
   ]
  },
  {
   "cell_type": "code",
   "execution_count": 52,
   "id": "6f8404b5",
   "metadata": {
    "ExecuteTime": {
     "end_time": "2022-07-25T10:44:17.916997Z",
     "start_time": "2022-07-25T10:44:17.749301Z"
    }
   },
   "outputs": [],
   "source": [
    "df52 = df4.copy()"
   ]
  },
  {
   "cell_type": "markdown",
   "id": "87f8bd55",
   "metadata": {},
   "source": [
    "Nesta etapa usaremos os dados balanceados, pois o objetivo é aprender os dados em relação ao modelo ML"
   ]
  },
  {
   "cell_type": "markdown",
   "id": "23a54195",
   "metadata": {},
   "source": [
    "### Univariate Analysis"
   ]
  },
  {
   "cell_type": "markdown",
   "id": "89de83bc",
   "metadata": {},
   "source": [
    "O Objetivo da Análise Univaridade é estudar as variáveis e verificar como elas impactam a variável resposta"
   ]
  },
  {
   "cell_type": "markdown",
   "id": "89122e6c",
   "metadata": {},
   "source": [
    "O Obetivo da Análise Univariada:\n",
    "\n",
    "    - Verificar a distribuição dos dados\n",
    "    - Minimo, Máximo e Range\n",
    "    - Observar os quartis (Q1 e Q3)\n",
    "    - Skew e Kurtosis"
   ]
  },
  {
   "cell_type": "markdown",
   "id": "03e26b4e",
   "metadata": {},
   "source": [
    "### Bivariate Analysis"
   ]
  },
  {
   "cell_type": "markdown",
   "id": "df71dad1",
   "metadata": {},
   "source": [
    "O Objetivo:\n",
    " - pode ser continua, ordinal ou categórica\n",
    " - Verificar o impacto de duas variáveis combinadas"
   ]
  },
  {
   "cell_type": "markdown",
   "id": "0bce7f37",
   "metadata": {},
   "source": [
    "### Multivariate Analysis"
   ]
  },
  {
   "cell_type": "code",
   "execution_count": 53,
   "id": "526c94e0",
   "metadata": {
    "ExecuteTime": {
     "end_time": "2022-07-25T10:44:18.104452Z",
     "start_time": "2022-07-25T10:44:17.918992Z"
    }
   },
   "outputs": [],
   "source": [
    "cols = ['days_from_first_active_until_booking',  'year_first_active',  'month_first_active', 'day_first_active',\n",
    "        'day_of_week_first_active', 'week_of_year_first_active', 'month_first_booking', 'month_account_created',\n",
    "        'year_first_booking', 'week_of_year_first_booking', 'affiliate_provider',\n",
    "        'first_browser', 'first_device_type', 'language'] # high correlation"
   ]
  },
  {
   "cell_type": "markdown",
   "id": "20a0b389",
   "metadata": {},
   "source": [
    "## 6.0 - DATA PREPARATION"
   ]
  },
  {
   "cell_type": "code",
   "execution_count": 54,
   "id": "1fc2c5fc",
   "metadata": {
    "ExecuteTime": {
     "end_time": "2022-07-25T10:44:18.414758Z",
     "start_time": "2022-07-25T10:44:18.108362Z"
    }
   },
   "outputs": [],
   "source": [
    "df6 = df46.drop(cols, axis=1)"
   ]
  },
  {
   "cell_type": "code",
   "execution_count": 55,
   "id": "1764492b",
   "metadata": {
    "ExecuteTime": {
     "end_time": "2022-07-25T10:44:18.444608Z",
     "start_time": "2022-07-25T10:44:18.417683Z"
    }
   },
   "outputs": [
    {
     "data": {
      "text/plain": [
       "age                                               int64\n",
       "signup_flow                                       int64\n",
       "days_from_first_active_until_account_created      int64\n",
       "days_from_account_created_until_first_booking     int64\n",
       "day_first_booking                                 int64\n",
       "day_of_week_first_booking                         int64\n",
       "year_account_created                              int64\n",
       "day_account_created                               int64\n",
       "day_of _week_first_account_created                int64\n",
       "week_of _year_first_account_created               int64\n",
       "gender                                           object\n",
       "signup_method                                    object\n",
       "affiliate_channel                                object\n",
       "first_affiliate_tracked                          object\n",
       "signup_app                                       object\n",
       "country_destination                              object\n",
       "dtype: object"
      ]
     },
     "execution_count": 55,
     "metadata": {},
     "output_type": "execute_result"
    }
   ],
   "source": [
    "df6.dtypes"
   ]
  },
  {
   "cell_type": "markdown",
   "id": "06f5c4a4",
   "metadata": {},
   "source": [
    "## 6.1 Rescaling"
   ]
  },
  {
   "cell_type": "code",
   "execution_count": 56,
   "id": "bb64d563",
   "metadata": {
    "ExecuteTime": {
     "end_time": "2022-07-25T10:44:18.613254Z",
     "start_time": "2022-07-25T10:44:18.447601Z"
    }
   },
   "outputs": [],
   "source": [
    "ss = pp.StandardScaler()\n",
    "rs = pp.RobustScaler()\n",
    "mms = pp.MinMaxScaler()"
   ]
  },
  {
   "cell_type": "code",
   "execution_count": 57,
   "id": "4239ba93",
   "metadata": {
    "ExecuteTime": {
     "end_time": "2022-07-25T10:44:19.237474Z",
     "start_time": "2022-07-25T10:44:18.616485Z"
    }
   },
   "outputs": [],
   "source": [
    " # age - Standardization\n",
    "df6['age'] = ss.fit_transform( df6[['age']].values )\n",
    "\n",
    "# signup_flow - Robust Scaler\n",
    "df6['signup_flow'] = rs.fit_transform( df6[['signup_flow']].values )\n",
    "\n",
    "# days_from_first_active_until_account_created - Robust Scaler\n",
    "df6['days_from_first_active_until_account_created'] = rs.fit_transform( df6[['days_from_first_active_until_account_created']].values )\n",
    "\n",
    "# days_from_account_created_until_first_booking - Robust Scaler\n",
    "df6['days_from_account_created_until_first_booking'] = rs.fit_transform( df6[['days_from_account_created_until_first_booking']].values )\n",
    "\n",
    "# year_account_created - MinMax Scaler\n",
    "df6['year_account_created'] = mms.fit_transform( df6[['year_account_created']].values )"
   ]
  },
  {
   "cell_type": "markdown",
   "id": "093421fa",
   "metadata": {},
   "source": [
    "## 6.2 Encoding"
   ]
  },
  {
   "cell_type": "code",
   "execution_count": 58,
   "id": "6a7080a1",
   "metadata": {
    "ExecuteTime": {
     "end_time": "2022-07-25T10:44:19.840335Z",
     "start_time": "2022-07-25T10:44:19.241313Z"
    }
   },
   "outputs": [],
   "source": [
    " te = TargetEncoder()"
   ]
  },
  {
   "cell_type": "code",
   "execution_count": 59,
   "id": "1cdb1776",
   "metadata": {
    "ExecuteTime": {
     "end_time": "2022-07-25T10:44:23.212342Z",
     "start_time": "2022-07-25T10:44:19.844139Z"
    }
   },
   "outputs": [],
   "source": [
    "# gender - One Hot Encoder\n",
    "df6 = pd.get_dummies( df6, prefix=['gender'], columns=['gender'] )\n",
    "\n",
    "# signup_method - One Hot Encoder\n",
    "df6 = pd.get_dummies( df6, prefix=['signup_method'], columns=['signup_method'] )\n",
    "\n",
    "# signup_app - One Hot Encoder\n",
    "df6 = pd.get_dummies( df6, prefix=['signup_app'], columns=['signup_app'] )\n",
    "\n",
    "# affiliate_channel - Target Encoder\n",
    "c = {'NDF':0, 'US':1, 'other':2, 'CA':3, 'FR':4, 'IT':5, 'ES':6, 'GB':7, 'NL':8, 'DE':9, 'AU':10, 'PT':11}\n",
    "df6['affiliate_channel'] = te.fit_transform( df6[['affiliate_channel']].values, df6['country_destination'].map( c ) )\n",
    "\n",
    "# first_affiliate_tracked - Target Encoder\n",
    "df6['first_affiliate_tracked'] = te.fit_transform( df6[['first_affiliate_tracked']].values, df6['country_destination'].map( c ) )"
   ]
  },
  {
   "cell_type": "markdown",
   "id": "95b1ed0b",
   "metadata": {},
   "source": [
    "## 6.3 Transformation"
   ]
  },
  {
   "cell_type": "code",
   "execution_count": 60,
   "id": "c3cc7996",
   "metadata": {
    "ExecuteTime": {
     "end_time": "2022-07-25T10:44:35.628795Z",
     "start_time": "2022-07-25T10:44:23.238544Z"
    }
   },
   "outputs": [],
   "source": [
    "# week_of_year_account_created\n",
    "df6['week_of _year_first_account_created_sin'] = df6['week_of _year_first_account_created'].apply( lambda x: np.sin( x * (2*np.pi/52 ) ) )\n",
    "df6['week_of _year_first_account_created_cos'] = df6['week_of _year_first_account_created'].apply( lambda x: np.cos( x * (2*np.pi/52 ) ) )\n",
    "\n",
    "# day_of_week_first_booking\n",
    "df6['day_of_week_first_booking_sin'] = df6['day_of_week_first_booking'].apply( lambda x: np.sin( x * (2*np.pi/7 ) ) )\n",
    "df6['day_of_week_first_booking_cos'] = df6['day_of_week_first_booking'].apply( lambda x: np.cos( x * (2*np.pi/7 ) ) )\n",
    "\n",
    "# day_account_created\n",
    "df6['day_account_created_sin'] = df6['day_account_created'].apply( lambda x: np.sin( x * (2*np.pi/31 ) ) )\n",
    "df6['day_account_created_cos'] = df6['day_account_created'].apply( lambda x: np.cos( x * (2*np.pi/31 ) ) )\n",
    "\n",
    "# day_of_week_account_created\n",
    "df6['day_of _week_first_account_created_sin'] = df6['day_of _week_first_account_created'].apply( lambda x: np.sin( x * (2*np.pi/7 ) ) )\n",
    "df6['day_of _week_first_account_created_cos'] = df6['day_of _week_first_account_created'].apply( lambda x: np.cos( x * (2*np.pi/7 ) ) )"
   ]
  },
  {
   "cell_type": "markdown",
   "id": "50ecb8e2",
   "metadata": {},
   "source": [
    "# 7.0 Feature Selection"
   ]
  },
  {
   "cell_type": "code",
   "execution_count": 61,
   "id": "80157292",
   "metadata": {
    "ExecuteTime": {
     "end_time": "2022-07-25T10:44:35.801403Z",
     "start_time": "2022-07-25T10:44:35.631793Z"
    }
   },
   "outputs": [],
   "source": [
    "df7 = df6.copy()"
   ]
  },
  {
   "cell_type": "code",
   "execution_count": 62,
   "id": "64026525",
   "metadata": {
    "ExecuteTime": {
     "end_time": "2022-07-25T10:44:35.989094Z",
     "start_time": "2022-07-25T10:44:35.803332Z"
    }
   },
   "outputs": [],
   "source": [
    "X = df7.drop( 'country_destination', axis=1 )\n",
    "y = df7['country_destination'].copy()"
   ]
  },
  {
   "cell_type": "code",
   "execution_count": 63,
   "id": "466d689c",
   "metadata": {
    "ExecuteTime": {
     "end_time": "2022-07-25T10:44:37.635010Z",
     "start_time": "2022-07-25T10:44:35.992089Z"
    }
   },
   "outputs": [],
   "source": [
    "#Split dataset\n",
    "X_train, X_test, y_train, y_test = ms.train_test_split( X, y, test_size=0.2, random_state=32 ) "
   ]
  },
  {
   "cell_type": "markdown",
   "id": "919e0003",
   "metadata": {},
   "source": [
    "# 8.0 MACHINE LEARNING MODEL"
   ]
  },
  {
   "cell_type": "code",
   "execution_count": 64,
   "id": "86b4b527",
   "metadata": {
    "ExecuteTime": {
     "end_time": "2022-07-25T10:44:37.696962Z",
     "start_time": "2022-07-25T10:44:37.639001Z"
    }
   },
   "outputs": [],
   "source": [
    "x_train = X_train\n",
    "x_test = X_test"
   ]
  },
  {
   "cell_type": "markdown",
   "id": "1314ea2c",
   "metadata": {},
   "source": [
    "## 8.1 Baseline Model "
   ]
  },
  {
   "cell_type": "code",
   "execution_count": 65,
   "id": "a530ce6d",
   "metadata": {
    "ExecuteTime": {
     "end_time": "2022-07-25T10:44:38.722021Z",
     "start_time": "2022-07-25T10:44:37.821050Z"
    }
   },
   "outputs": [],
   "source": [
    "#random.choices(populacao =, weght= , k=)\n",
    "country_destination_list = df1['country_destination'].drop_duplicates().sort_values().to_list()\n",
    "k_num = y_test.shape[0]\n",
    "country_destination_weghts = df1['country_destination'].value_counts(normalize=True).sort_index().to_list()\n",
    "\n",
    "# Modelo aleatório\n",
    "yhat_random = random.choices(population= country_destination_list, \n",
    "                             weights = country_destination_weghts,\n",
    "                             k = k_num)\n"
   ]
  },
  {
   "cell_type": "markdown",
   "id": "604d7705",
   "metadata": {},
   "source": [
    "### 8.1.1 Baseline Model Performance"
   ]
  },
  {
   "cell_type": "code",
   "execution_count": 66,
   "id": "9f7ddda7",
   "metadata": {
    "ExecuteTime": {
     "end_time": "2022-07-25T10:44:57.701812Z",
     "start_time": "2022-07-25T10:44:38.729009Z"
    }
   },
   "outputs": [
    {
     "name": "stdout",
     "output_type": "stream",
     "text": [
      "Accuracy: 0.09250581193139175\n",
      "Balanced Accuracy: 0.08381625818892542\n",
      "Balanced Accuracy: 0.0005375268893209606\n",
      "\n",
      "\n",
      "              precision    recall  f1-score   support\n",
      "\n",
      "          AU       0.07      0.00      0.01      7362\n",
      "          CA       0.08      0.01      0.01      8422\n",
      "          DE       0.07      0.01      0.01      7588\n",
      "          ES       0.09      0.01      0.02     10108\n",
      "          FR       0.09      0.03      0.05      8820\n",
      "          GB       0.10      0.02      0.03     10446\n",
      "          IT       0.07      0.02      0.03      8079\n",
      "         NDF       0.10      0.44      0.16     10946\n",
      "          NL       0.08      0.00      0.01      9599\n",
      "          PT       0.05      0.00      0.00      9450\n",
      "          US       0.09      0.40      0.14      9487\n",
      "       other       0.08      0.06      0.07      8951\n",
      "\n",
      "    accuracy                           0.09    109258\n",
      "   macro avg       0.08      0.08      0.05    109258\n",
      "weighted avg       0.08      0.09      0.05    109258\n",
      "\n"
     ]
    },
    {
     "data": {
      "image/png": "[encoded data removed]",
      "text/plain": [
       "<Figure size 1080x720 with 2 Axes>"
      ]
     },
     "metadata": {
      "needs_background": "light"
     },
     "output_type": "display_data"
    }
   ],
   "source": [
    "#Accuracy\n",
    "acc_random = m.accuracy_score(y_test, yhat_random)\n",
    "print(f'Accuracy: {acc_random}')\n",
    "\n",
    "#Balanced Accuracy\n",
    "balanced_acc_random = m.balanced_accuracy_score(y_test, yhat_random)\n",
    "print(f'Balanced Accuracy: {balanced_acc_random}')\n",
    "\n",
    "#Kappa Metrics\n",
    "kappa_random = m.cohen_kappa_score(y_test, yhat_random)\n",
    "print(f'Balanced Accuracy: {kappa_random}')\n",
    "print('\\n')\n",
    "\n",
    "#Classification Report\n",
    "print(m.classification_report(y_test, yhat_random))\n",
    "\n",
    "#Confusion Matrix\n",
    "cm = confusion_matrix( y_test, yhat_random)\n",
    "plt.figure(figsize=(15, 10))\n",
    "sns.heatmap(cm, annot=True);\n"
   ]
  },
  {
   "cell_type": "markdown",
   "id": "dee2fab3",
   "metadata": {},
   "source": [
    "## 8.2 Neural Network - MLP"
   ]
  },
  {
   "cell_type": "code",
   "execution_count": 67,
   "id": "40f8bf32",
   "metadata": {
    "ExecuteTime": {
     "end_time": "2022-07-25T10:44:58.156477Z",
     "start_time": "2022-07-25T10:44:57.704652Z"
    }
   },
   "outputs": [],
   "source": [
    "ohe = pp.OneHotEncoder()\n",
    "y_train_nn = ohe.fit_transform( y_train.values.reshape(-1, 1 ) ).toarray()"
   ]
  },
  {
   "cell_type": "code",
   "execution_count": 68,
   "id": "713ab89d",
   "metadata": {
    "ExecuteTime": {
     "end_time": "2022-07-25T10:44:58.264221Z",
     "start_time": "2022-07-25T10:44:58.160430Z"
    }
   },
   "outputs": [
    {
     "name": "stdout",
     "output_type": "stream",
     "text": [
      "Number of Rows: 437029\n",
      "Number of Features: 31\n",
      "Number of Classes: 12\n"
     ]
    }
   ],
   "source": [
    "print( 'Number of Rows: {}'.format( x_train.shape[0] ) )\n",
    "print( 'Number of Features: {}'.format( x_train.shape[1] ) )\n",
    "print( 'Number of Classes: {}'.format( y_train.nunique() ) )"
   ]
  },
  {
   "cell_type": "code",
   "execution_count": 69,
   "id": "4fe2af7a",
   "metadata": {
    "ExecuteTime": {
     "end_time": "2022-07-25T11:28:13.598736Z",
     "start_time": "2022-07-25T10:44:58.267203Z"
    }
   },
   "outputs": [
    {
     "name": "stdout",
     "output_type": "stream",
     "text": [
      "Epoch 1/100\n",
      "13658/13658 [==============================] - 37s 2ms/step - loss: 2.1105 - accuracy: 0.2476\n",
      "Epoch 2/100\n",
      "13658/13658 [==============================] - 26s 2ms/step - loss: 2.0140 - accuracy: 0.2856\n",
      "Epoch 3/100\n",
      "13658/13658 [==============================] - 28s 2ms/step - loss: 1.9750 - accuracy: 0.3014\n",
      "Epoch 4/100\n",
      "13658/13658 [==============================] - 28s 2ms/step - loss: 1.9528 - accuracy: 0.3093\n",
      "Epoch 5/100\n",
      "13658/13658 [==============================] - 29s 2ms/step - loss: 1.9388 - accuracy: 0.3137\n",
      "Epoch 6/100\n",
      "13658/13658 [==============================] - 29s 2ms/step - loss: 1.9281 - accuracy: 0.3177\n",
      "Epoch 7/100\n",
      "13658/13658 [==============================] - 27s 2ms/step - loss: 1.9202 - accuracy: 0.3210\n",
      "Epoch 8/100\n",
      "13658/13658 [==============================] - 27s 2ms/step - loss: 1.9126 - accuracy: 0.3241\n",
      "Epoch 9/100\n",
      "13658/13658 [==============================] - 26s 2ms/step - loss: 1.9061 - accuracy: 0.3262\n",
      "Epoch 10/100\n",
      "13658/13658 [==============================] - 23s 2ms/step - loss: 1.9014 - accuracy: 0.3279\n",
      "Epoch 11/100\n",
      "13658/13658 [==============================] - 26s 2ms/step - loss: 1.8976 - accuracy: 0.3289\n",
      "Epoch 12/100\n",
      "13658/13658 [==============================] - 27s 2ms/step - loss: 1.8944 - accuracy: 0.3301\n",
      "Epoch 13/100\n",
      "13658/13658 [==============================] - 26s 2ms/step - loss: 1.8920 - accuracy: 0.3317\n",
      "Epoch 14/100\n",
      "13658/13658 [==============================] - 23s 2ms/step - loss: 1.8898 - accuracy: 0.3322\n",
      "Epoch 15/100\n",
      "13658/13658 [==============================] - 25s 2ms/step - loss: 1.8870 - accuracy: 0.3326\n",
      "Epoch 16/100\n",
      "13658/13658 [==============================] - 27s 2ms/step - loss: 1.8855 - accuracy: 0.3335\n",
      "Epoch 17/100\n",
      "13658/13658 [==============================] - 25s 2ms/step - loss: 1.8852 - accuracy: 0.3334\n",
      "Epoch 18/100\n",
      "13658/13658 [==============================] - 30s 2ms/step - loss: 1.8826 - accuracy: 0.3337\n",
      "Epoch 19/100\n",
      "13658/13658 [==============================] - 27s 2ms/step - loss: 1.8824 - accuracy: 0.3346\n",
      "Epoch 20/100\n",
      "13658/13658 [==============================] - 26s 2ms/step - loss: 1.8815 - accuracy: 0.3350\n",
      "Epoch 21/100\n",
      "13658/13658 [==============================] - 26s 2ms/step - loss: 1.8783 - accuracy: 0.3352\n",
      "Epoch 22/100\n",
      "13658/13658 [==============================] - 30s 2ms/step - loss: 1.8777 - accuracy: 0.3354\n",
      "Epoch 23/100\n",
      "13658/13658 [==============================] - 28s 2ms/step - loss: 1.8765 - accuracy: 0.3367\n",
      "Epoch 24/100\n",
      "13658/13658 [==============================] - 25s 2ms/step - loss: 1.8760 - accuracy: 0.3369\n",
      "Epoch 25/100\n",
      "13658/13658 [==============================] - 29s 2ms/step - loss: 1.8750 - accuracy: 0.3374\n",
      "Epoch 26/100\n",
      "13658/13658 [==============================] - 30s 2ms/step - loss: 1.8733 - accuracy: 0.3375\n",
      "Epoch 27/100\n",
      "13658/13658 [==============================] - 27s 2ms/step - loss: 1.8722 - accuracy: 0.3374\n",
      "Epoch 28/100\n",
      "13658/13658 [==============================] - 26s 2ms/step - loss: 1.8712 - accuracy: 0.3383\n",
      "Epoch 29/100\n",
      "13658/13658 [==============================] - 27s 2ms/step - loss: 1.8698 - accuracy: 0.3380\n",
      "Epoch 30/100\n",
      "13658/13658 [==============================] - 31s 2ms/step - loss: 1.8691 - accuracy: 0.3386\n",
      "Epoch 31/100\n",
      "13658/13658 [==============================] - 34s 2ms/step - loss: 1.8690 - accuracy: 0.3387\n",
      "Epoch 32/100\n",
      "13658/13658 [==============================] - 30s 2ms/step - loss: 1.8677 - accuracy: 0.3391\n",
      "Epoch 33/100\n",
      "13658/13658 [==============================] - 27s 2ms/step - loss: 1.8678 - accuracy: 0.3386\n",
      "Epoch 34/100\n",
      "13658/13658 [==============================] - 27s 2ms/step - loss: 1.8675 - accuracy: 0.3388\n",
      "Epoch 35/100\n",
      "13658/13658 [==============================] - 29s 2ms/step - loss: 1.8665 - accuracy: 0.3394\n",
      "Epoch 36/100\n",
      "13658/13658 [==============================] - 31s 2ms/step - loss: 1.8661 - accuracy: 0.3387\n",
      "Epoch 37/100\n",
      "13658/13658 [==============================] - 36s 3ms/step - loss: 1.8654 - accuracy: 0.3396\n",
      "Epoch 38/100\n",
      "13658/13658 [==============================] - 29s 2ms/step - loss: 1.8651 - accuracy: 0.3395\n",
      "Epoch 39/100\n",
      "13658/13658 [==============================] - 29s 2ms/step - loss: 1.8649 - accuracy: 0.3391\n",
      "Epoch 40/100\n",
      "13658/13658 [==============================] - 27s 2ms/step - loss: 1.8646 - accuracy: 0.3394\n",
      "Epoch 41/100\n",
      "13658/13658 [==============================] - 29s 2ms/step - loss: 1.8638 - accuracy: 0.3393\n",
      "Epoch 42/100\n",
      "13658/13658 [==============================] - 28s 2ms/step - loss: 1.8636 - accuracy: 0.3400\n",
      "Epoch 43/100\n",
      "13658/13658 [==============================] - 29s 2ms/step - loss: 1.8635 - accuracy: 0.3394\n",
      "Epoch 44/100\n",
      "13658/13658 [==============================] - 27s 2ms/step - loss: 1.8630 - accuracy: 0.3398\n",
      "Epoch 45/100\n",
      "13658/13658 [==============================] - 28s 2ms/step - loss: 1.8628 - accuracy: 0.3393\n",
      "Epoch 46/100\n",
      "13658/13658 [==============================] - 24s 2ms/step - loss: 1.8619 - accuracy: 0.3401\n",
      "Epoch 47/100\n",
      "13658/13658 [==============================] - 29s 2ms/step - loss: 1.8629 - accuracy: 0.3399\n",
      "Epoch 48/100\n",
      "13658/13658 [==============================] - 22s 2ms/step - loss: 1.8614 - accuracy: 0.3396\n",
      "Epoch 49/100\n",
      "13658/13658 [==============================] - 22s 2ms/step - loss: 1.8613 - accuracy: 0.3397\n",
      "Epoch 50/100\n",
      "13658/13658 [==============================] - 24s 2ms/step - loss: 1.8619 - accuracy: 0.3401\n",
      "Epoch 51/100\n",
      "13658/13658 [==============================] - 22s 2ms/step - loss: 1.8610 - accuracy: 0.3404\n",
      "Epoch 52/100\n",
      "13658/13658 [==============================] - 22s 2ms/step - loss: 1.8609 - accuracy: 0.3401\n",
      "Epoch 53/100\n",
      "13658/13658 [==============================] - 25s 2ms/step - loss: 1.8602 - accuracy: 0.3396\n",
      "Epoch 54/100\n",
      "13658/13658 [==============================] - 21s 2ms/step - loss: 1.8606 - accuracy: 0.3398\n",
      "Epoch 55/100\n",
      "13658/13658 [==============================] - 21s 2ms/step - loss: 1.8594 - accuracy: 0.3407\n",
      "Epoch 56/100\n",
      "13658/13658 [==============================] - 21s 2ms/step - loss: 1.8595 - accuracy: 0.3405\n",
      "Epoch 57/100\n",
      "13658/13658 [==============================] - 20s 1ms/step - loss: 1.8602 - accuracy: 0.3401\n",
      "Epoch 58/100\n",
      "13658/13658 [==============================] - 21s 2ms/step - loss: 1.8600 - accuracy: 0.3407\n",
      "Epoch 59/100\n",
      "13658/13658 [==============================] - 26s 2ms/step - loss: 1.8600 - accuracy: 0.3404\n",
      "Epoch 60/100\n",
      "13658/13658 [==============================] - 23s 2ms/step - loss: 1.8588 - accuracy: 0.3404\n",
      "Epoch 61/100\n",
      "13658/13658 [==============================] - 25s 2ms/step - loss: 1.8586 - accuracy: 0.3404\n",
      "Epoch 62/100\n",
      "13658/13658 [==============================] - 24s 2ms/step - loss: 1.8583 - accuracy: 0.3401\n",
      "Epoch 63/100\n",
      "13658/13658 [==============================] - 23s 2ms/step - loss: 1.8593 - accuracy: 0.3404\n",
      "Epoch 64/100\n",
      "13658/13658 [==============================] - 24s 2ms/step - loss: 1.8579 - accuracy: 0.3408\n",
      "Epoch 65/100\n",
      "13658/13658 [==============================] - 28s 2ms/step - loss: 1.8581 - accuracy: 0.3405\n",
      "Epoch 66/100\n",
      "13658/13658 [==============================] - 26s 2ms/step - loss: 1.8580 - accuracy: 0.3407\n",
      "Epoch 67/100\n",
      "13658/13658 [==============================] - 23s 2ms/step - loss: 1.8576 - accuracy: 0.3404\n",
      "Epoch 68/100\n",
      "13658/13658 [==============================] - 25s 2ms/step - loss: 1.8573 - accuracy: 0.3404\n",
      "Epoch 69/100\n",
      "13658/13658 [==============================] - 23s 2ms/step - loss: 1.8579 - accuracy: 0.3412\n",
      "Epoch 70/100\n",
      "13658/13658 [==============================] - 24s 2ms/step - loss: 1.8571 - accuracy: 0.3405\n",
      "Epoch 71/100\n",
      "13658/13658 [==============================] - 23s 2ms/step - loss: 1.8568 - accuracy: 0.3406\n",
      "Epoch 72/100\n",
      "13658/13658 [==============================] - 25s 2ms/step - loss: 1.8568 - accuracy: 0.3413\n",
      "Epoch 73/100\n",
      "13658/13658 [==============================] - 23s 2ms/step - loss: 1.8562 - accuracy: 0.3410\n",
      "Epoch 74/100\n",
      "13658/13658 [==============================] - 25s 2ms/step - loss: 1.8563 - accuracy: 0.3415\n",
      "Epoch 75/100\n",
      "13658/13658 [==============================] - 23s 2ms/step - loss: 1.8557 - accuracy: 0.3411\n",
      "Epoch 76/100\n",
      "13658/13658 [==============================] - 26s 2ms/step - loss: 1.8557 - accuracy: 0.3415\n",
      "Epoch 77/100\n"
     ]
    },
    {
     "name": "stdout",
     "output_type": "stream",
     "text": [
      "13658/13658 [==============================] - 23s 2ms/step - loss: 1.8553 - accuracy: 0.3422\n",
      "Epoch 78/100\n",
      "13658/13658 [==============================] - 24s 2ms/step - loss: 1.8548 - accuracy: 0.3413\n",
      "Epoch 79/100\n",
      "13658/13658 [==============================] - 24s 2ms/step - loss: 1.8542 - accuracy: 0.3422\n",
      "Epoch 80/100\n",
      "13658/13658 [==============================] - 24s 2ms/step - loss: 1.8547 - accuracy: 0.3421\n",
      "Epoch 81/100\n",
      "13658/13658 [==============================] - 24s 2ms/step - loss: 1.8543 - accuracy: 0.3420\n",
      "Epoch 82/100\n",
      "13658/13658 [==============================] - 25s 2ms/step - loss: 1.8538 - accuracy: 0.3415\n",
      "Epoch 83/100\n",
      "13658/13658 [==============================] - 24s 2ms/step - loss: 1.8548 - accuracy: 0.3424\n",
      "Epoch 84/100\n",
      "13658/13658 [==============================] - 23s 2ms/step - loss: 1.8534 - accuracy: 0.3422\n",
      "Epoch 85/100\n",
      "13658/13658 [==============================] - 21s 2ms/step - loss: 1.8535 - accuracy: 0.3425\n",
      "Epoch 86/100\n",
      "13658/13658 [==============================] - 25s 2ms/step - loss: 1.8528 - accuracy: 0.3431\n",
      "Epoch 87/100\n",
      "13658/13658 [==============================] - 24s 2ms/step - loss: 1.8535 - accuracy: 0.3429\n",
      "Epoch 88/100\n",
      "13658/13658 [==============================] - 25s 2ms/step - loss: 1.8528 - accuracy: 0.3428\n",
      "Epoch 89/100\n",
      "13658/13658 [==============================] - 24s 2ms/step - loss: 1.8522 - accuracy: 0.3424\n",
      "Epoch 90/100\n",
      "13658/13658 [==============================] - 25s 2ms/step - loss: 1.8523 - accuracy: 0.3425\n",
      "Epoch 91/100\n",
      "13658/13658 [==============================] - 23s 2ms/step - loss: 1.8523 - accuracy: 0.3436\n",
      "Epoch 92/100\n",
      "13658/13658 [==============================] - 26s 2ms/step - loss: 1.8523 - accuracy: 0.3433\n",
      "Epoch 93/100\n",
      "13658/13658 [==============================] - 23s 2ms/step - loss: 1.8519 - accuracy: 0.3427\n",
      "Epoch 94/100\n",
      "13658/13658 [==============================] - 25s 2ms/step - loss: 1.8524 - accuracy: 0.3426\n",
      "Epoch 95/100\n",
      "13658/13658 [==============================] - 27s 2ms/step - loss: 1.8520 - accuracy: 0.3432\n",
      "Epoch 96/100\n",
      "13658/13658 [==============================] - 27s 2ms/step - loss: 1.8521 - accuracy: 0.3431\n",
      "Epoch 97/100\n",
      "13658/13658 [==============================] - 26s 2ms/step - loss: 1.8515 - accuracy: 0.3430\n",
      "Epoch 98/100\n",
      "13658/13658 [==============================] - 27s 2ms/step - loss: 1.8515 - accuracy: 0.3425\n",
      "Epoch 99/100\n",
      "13658/13658 [==============================] - 26s 2ms/step - loss: 1.8510 - accuracy: 0.3428\n",
      "Epoch 100/100\n",
      "13658/13658 [==============================] - 24s 2ms/step - loss: 1.8513 - accuracy: 0.3431\n"
     ]
    },
    {
     "data": {
      "text/plain": [
       "<keras.callbacks.History at 0x20b5fe1f640>"
      ]
     },
     "execution_count": 69,
     "metadata": {},
     "output_type": "execute_result"
    }
   ],
   "source": [
    "# model definition\n",
    "model = ml.Sequential()\n",
    "model.add( l.Dense( 64, input_dim=x_train.shape[1], activation='relu' ) )\n",
    "model.add( l.Dense( 12, activation='softmax') )\n",
    "\n",
    "# model compile\n",
    "model.compile( loss='categorical_crossentropy', optimizer='adam', metrics=['accuracy'] )\n",
    "\n",
    "# train model\n",
    "model.fit( x_train, y_train_nn, epochs=100 )"
   ]
  },
  {
   "cell_type": "markdown",
   "id": "e55ed97c",
   "metadata": {},
   "source": [
    "## 8.2.2 NN Performance"
   ]
  },
  {
   "cell_type": "code",
   "execution_count": 70,
   "id": "bf13f189",
   "metadata": {
    "ExecuteTime": {
     "end_time": "2022-07-25T11:28:20.908541Z",
     "start_time": "2022-07-25T11:28:13.618672Z"
    }
   },
   "outputs": [
    {
     "name": "stdout",
     "output_type": "stream",
     "text": [
      "3415/3415 [==============================] - 5s 1ms/step\n"
     ]
    }
   ],
   "source": [
    "#Predict\n",
    "pred_nn = model.predict( x_test )\n",
    "\n",
    "#invert prediction\n",
    "yhat_nn = ohe.inverse_transform( pred_nn)\n",
    "\n",
    "#Prediction Prepare\n",
    "y_test_nn = y_test.to_numpy()\n",
    "yhat_nn =  yhat_nn.reshape(1, -1 )[0]"
   ]
  },
  {
   "cell_type": "code",
   "execution_count": 71,
   "id": "1fe9a192",
   "metadata": {
    "ExecuteTime": {
     "end_time": "2022-07-25T11:28:30.876961Z",
     "start_time": "2022-07-25T11:28:20.912497Z"
    }
   },
   "outputs": [
    {
     "name": "stdout",
     "output_type": "stream",
     "text": [
      "Accuracy: 0.34194292408793864\n",
      "Balanced Accuracy: 0.32474099772691795\n",
      "Kappa score: 0.2802705212900243\n",
      "\n",
      "\n",
      "              precision    recall  f1-score   support\n",
      "\n",
      "          AU       0.29      0.34      0.31      7362\n",
      "          CA       0.19      0.13      0.16      8422\n",
      "          DE       0.21      0.15      0.18      7588\n",
      "          ES       0.18      0.24      0.21     10108\n",
      "          FR       0.14      0.12      0.13      8820\n",
      "          GB       0.18      0.13      0.15     10446\n",
      "          IT       0.16      0.08      0.11      8079\n",
      "         NDF       1.00      1.00      1.00     10946\n",
      "          NL       0.26      0.44      0.33      9599\n",
      "          PT       0.60      0.89      0.71      9450\n",
      "          US       0.25      0.33      0.28      9487\n",
      "       other       0.17      0.04      0.06      8951\n",
      "\n",
      "    accuracy                           0.34    109258\n",
      "   macro avg       0.30      0.32      0.30    109258\n",
      "weighted avg       0.31      0.34      0.32    109258\n",
      "\n"
     ]
    },
    {
     "data": {
      "image/png": "[encoded data removed]",
      "text/plain": [
       "<Figure size 1080x720 with 2 Axes>"
      ]
     },
     "metadata": {
      "needs_background": "light"
     },
     "output_type": "display_data"
    }
   ],
   "source": [
    "#Accuracy\n",
    "acc_nn = m.accuracy_score(y_test_nn, yhat_nn)\n",
    "print(f'Accuracy: {acc_nn}')\n",
    "\n",
    "#Balanced Accuracy\n",
    "balanced_acc_nn = m.balanced_accuracy_score(y_test_nn, yhat_nn)\n",
    "print(f'Balanced Accuracy: {balanced_acc_nn}')\n",
    "\n",
    "#Kappa Metrics\n",
    "kappa_nn = m.cohen_kappa_score(y_test_nn, yhat_nn)\n",
    "print(f'Kappa score: {kappa_nn}')\n",
    "print('\\n')\n",
    "\n",
    "#Classification Report\n",
    "print(m.classification_report(y_test_nn, yhat_nn))\n",
    "\n",
    "#Confusion Matrix\n",
    "cm = confusion_matrix( y_test_nn, yhat_nn)\n",
    "plt.figure(figsize=(15, 10))\n",
    "sns.heatmap(cm, annot=True);\n",
    "\n"
   ]
  },
  {
   "cell_type": "markdown",
   "id": "77b41cd2",
   "metadata": {},
   "source": [
    "## 8.2.3 NN Performance - Cross Validation"
   ]
  },
  {
   "cell_type": "code",
   "execution_count": null,
   "id": "26224f1f",
   "metadata": {},
   "outputs": [],
   "source": [
    "# generate k-fold\n",
    "num_folds = 5\n",
    "kfold = ms.StratifiedKFold( n_splits=num_folds, shuffle=True, random_state=32 )\n",
    "\n",
    "balanced_acc_list = []\n",
    "kappa_acc_list = []\n",
    "\n",
    "i = 1\n",
    "for train_ix, val_ix in kfold.split( x_train, y_train ):\n",
    "    print( 'Fold Number: {}/{}'.format( i, num_folds ) )\n",
    "    \n",
    "    # get fold\n",
    "    x_train_fold = x_train.iloc[train_ix]\n",
    "    y_train_fold = y_train.iloc[train_ix]\n",
    "    \n",
    "    x_val_fold = x_train.iloc[val_ix]\n",
    "    y_val_fold = y_train.iloc[val_ix]\n",
    "    \n",
    "    # target hot-encoding\n",
    "    ohe = pp.OneHotEncoder()\n",
    "    y_train_fold_nn = ohe.fit_transform( y_train_fold.values.reshape( -1, 1 ) ).toarray()\n",
    "\n",
    "    # model definition\n",
    "    model = ml.Sequential()\n",
    "    model.add( l.Dense( 256, input_dim=x_train.shape[1], activation='relu' ) )\n",
    "    model.add( l.Dense( 12, activation='softmax') )\n",
    "\n",
    "    # compile model\n",
    "    model.compile( loss='categorical_crossentropy', optimizer='adam', metrics=['accuracy'] )\n",
    "\n",
    "    # training model\n",
    "    model.fit( x_train_fold, y_train_fold_nn, epochs=100, batch_size=32, verbose=0 )\n",
    "\n",
    "    # prediction\n",
    "    pred_nn = model.predict( x_val_fold )\n",
    "    yhat_nn = ohe.inverse_transform( pred_nn )\n",
    "    \n",
    "    # prepare data\n",
    "    y_test_nn = y_val_fold.to_numpy()\n",
    "    yhat_nn = yhat_nn.reshape( 1, -1 )[0]\n",
    "\n",
    "    # metrics\n",
    "    ## Balanced Accuracy \n",
    "    balanced_acc_nn = m.balanced_accuracy_score( y_test_nn, yhat_nn )\n",
    "    balanced_acc_list.append( balanced_acc_nn )\n",
    "    \n",
    "    ## Kappa Metrics\n",
    "    kappa_acc_nn = m.cohen_kappa_score( y_test_nn, yhat_nn )\n",
    "    kappa_acc_list.append( kappa_acc_nn )\n",
    "    \n",
    "    i += 1"
   ]
  },
  {
   "cell_type": "code",
   "execution_count": 72,
   "id": "fa130275",
   "metadata": {
    "ExecuteTime": {
     "end_time": "2022-07-25T13:31:36.845516Z",
     "start_time": "2022-07-25T11:28:30.880949Z"
    }
   },
   "outputs": [
    {
     "name": "stdout",
     "output_type": "stream",
     "text": [
      "Fold number 1/5\n",
      "\n",
      "2732/2732 [==============================] - 3s 1ms/step\n",
      "Fold number 2/5\n",
      "\n",
      "2732/2732 [==============================] - 4s 1ms/step\n",
      "Fold number 3/5\n",
      "\n",
      "2732/2732 [==============================] - 3s 1ms/step\n",
      "Fold number 4/5\n",
      "\n",
      "2732/2732 [==============================] - 3s 1ms/step\n",
      "Fold number 5/5\n",
      "\n",
      "2732/2732 [==============================] - 3s 1ms/step\n"
     ]
    }
   ],
   "source": [
    "#Generate k-fold\n",
    "#num_folds = 5\n",
    "#kfold = ms.StratifiedKFold(n_splits=num_folds, shuffle=True, random_state=32)\n",
    "#\n",
    "#balanced_acc_list = []\n",
    "#kappa_acc_list = []\n",
    "#\n",
    "#i = 1\n",
    "#\n",
    "#for train_ix, val_ix in kfold.split(x_train, y_train):\n",
    "#    print(f'Fold number {i}/{num_folds}\\n')\n",
    "#    #Get fold\n",
    "#    x_train_fold = x_train.iloc[train_ix]\n",
    "#    y_train_fold = y_train.iloc[train_ix]\n",
    "#   \n",
    "#    x_val_fold = x_train.iloc[val_ix]\n",
    "#    y_val_fold = y_train.iloc[val_ix]\n",
    "#    \n",
    "#    #target hot_encoding\n",
    "#    ohe = pp.OneHotEncoder()\n",
    "#    y_train_fold_nn = ohe.fit_transform(y_train_fold.values.reshape( -1, 1)).toarray()\n",
    "#    \n",
    "#    #Model definition\n",
    "#    model = ml.Sequential()\n",
    "#    model.add(l.Dense(256, input_dim=x_train.shape[1], activation='relu'))\n",
    "#    model.add(l.Dense(12, activation='softmax'))\n",
    "#    \n",
    "#    #Compile Model\n",
    "#    model.compile(loss='categorical_crossentropy', optimizer='adam', metrics=['accuracy'])\n",
    "#    \n",
    "#    #training model\n",
    "#    model.fit( x_train_fold, y_train_fold_nn, epochs=100, batch_size=32, verbose=0)\n",
    "#    \n",
    "#    \n",
    "#    # prediction\n",
    "#    pred_nn = model.predict(x_val_fold)\n",
    "#    yhat_nn = ohe.inverse_transform( pred_nn)\n",
    "#    \n",
    "#    #prepare data\n",
    "#    y_test_nn = y_val_fold.to_numpy()\n",
    "#    yhat_nn = yhat_nn.reshape( 1, -1)[0]\n",
    "#    \n",
    "#    #metrics\n",
    "#    \n",
    "#    #Balanced Accuracy\n",
    "#    balanced_acc_nn = m.balanced_accuracy_score( y_test_nn, yhat_nn )\n",
    "#    balanced_acc_list.append( balanced_acc_nn)\n",
    "#   \n",
    "#    #Kappa Metrics\n",
    "#    kappa_acc_nn = m.cohen_kappa_score( y_test_nn, yhat_nn )\n",
    "#    kappa_acc_list.append( kappa_acc_nn)\n",
    "#    \n",
    "#    i += 1"
   ]
  },
  {
   "cell_type": "code",
   "execution_count": 73,
   "id": "97324eb8",
   "metadata": {
    "ExecuteTime": {
     "end_time": "2022-07-25T13:31:36.891753Z",
     "start_time": "2022-07-25T13:31:36.873804Z"
    }
   },
   "outputs": [
    {
     "name": "stdout",
     "output_type": "stream",
     "text": [
      "Avg Balanced Accuracy: 0.44066432992312105 +/- 0.0018747300350178933\n",
      "\n",
      "Avg Kappa: 0.39978722155779817 +/- 0.002618184922024093\n"
     ]
    }
   ],
   "source": [
    "print(f'Avg Balanced Accuracy: {np.mean(balanced_acc_list)} +/- {np.std(balanced_acc_list)}\\n')\n",
    "      \n",
    "print(f'Avg Kappa: {np.mean(kappa_acc_list)} +/- {np.std(kappa_acc_list)}')"
   ]
  },
  {
   "cell_type": "code",
   "execution_count": null,
   "id": "6dd1a4a2",
   "metadata": {},
   "outputs": [],
   "source": []
  },
  {
   "cell_type": "code",
   "execution_count": null,
   "id": "616aab4d",
   "metadata": {},
   "outputs": [],
   "source": []
  },
  {
   "cell_type": "code",
   "execution_count": null,
   "id": "b6957395",
   "metadata": {},
   "outputs": [],
   "source": []
  }
 ],
 "metadata": {
  "celltoolbar": "Raw Cell Format",
  "kernelspec": {
   "display_name": "Python (pa006_airbnb)",
   "language": "python",
   "name": "pa006_airbnb"
  },
  "language_info": {
   "codemirror_mode": {
    "name": "ipython",
    "version": 3
   },
   "file_extension": ".py",
   "mimetype": "text/x-python",
   "name": "python",
   "nbconvert_exporter": "python",
   "pygments_lexer": "ipython3",
   "version": "3.8.13"
  },
  "varInspector": {
   "cols": {
    "lenName": 16,
    "lenType": 16,
    "lenVar": 40
   },
   "kernels_config": {
    "python": {
     "delete_cmd_postfix": "",
     "delete_cmd_prefix": "del ",
     "library": "var_list.py",
     "varRefreshCmd": "print(var_dic_list())"
    },
    "r": {
     "delete_cmd_postfix": ") ",
     "delete_cmd_prefix": "rm(",
     "library": "var_list.r",
     "varRefreshCmd": "cat(var_dic_list()) "
    }
   },
   "types_to_exclude": [
    "module",
    "function",
    "builtin_function_or_method",
    "instance",
    "_Feature"
   ],
   "window_display": false
  }
 },
 "nbformat": 4,
 "nbformat_minor": 5
}
