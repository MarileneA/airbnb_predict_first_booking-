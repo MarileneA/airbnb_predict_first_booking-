{
 "cells": [
  {
   "cell_type": "markdown",
   "id": "fd0a1f13",
   "metadata": {},
   "source": [
    "# Análise de Dados Airbnb"
   ]
  },
  {
   "cell_type": "markdown",
   "id": "35224751",
   "metadata": {},
   "source": [
    "O Airbnb já é considerado como sendo a maior empresa hoteleira da atualidade.\n",
    "\n",
    "A empresa não possui qualquer ativo imobiliário, é apenas uma intermediária que conecta pessoas que querem viajar (e se hospedar) com anfitriões que querem alugar seus imóveis através de uma plataforma inovadora reconhecidamente confiável.\n",
    "\n",
    "No final de 2018, a Startup fundada 10 anos atrás, já havia hospedado mais de 300 milhões de pessoas ao redor de todo o mundo, desafiando as redes hoteleiras tradicionais.\n",
    "\n",
    "Uma das iniciativas do Airbnb é disponibilizar dados do site, para algumas das principais cidades do mundo. Por meio do portal Inside Airbnb, é possível baixar uma grande quantidade de dados para desenvolver projetos e soluções de Data Science.\n",
    "\n",
    "Analisando Airbnb\n",
    "Neste notebook, iremos analisar os dados referentes à cidade Barcelona, Espanha, e ver quais insights podem ser extraídos a partir de dados brutos."
   ]
  },
  {
   "cell_type": "code",
   "execution_count": null,
   "id": "42551fb0",
   "metadata": {},
   "outputs": [],
   "source": []
  },
  {
   "cell_type": "code",
   "execution_count": null,
   "id": "c5e3ee39",
   "metadata": {},
   "outputs": [],
   "source": []
  },
  {
   "cell_type": "markdown",
   "id": "8b28c85b",
   "metadata": {},
   "source": [
    "# 0.0 IMPORTS"
   ]
  },
  {
   "cell_type": "code",
   "execution_count": 1,
   "id": "ea4b5e8d",
   "metadata": {
    "ExecuteTime": {
     "end_time": "2022-07-19T13:47:14.245805Z",
     "start_time": "2022-07-19T13:46:01.548398Z"
    }
   },
   "outputs": [
    {
     "name": "stderr",
     "output_type": "stream",
     "text": [
      "C:\\Users\\PC\\anaconda3\\envs\\pa006_airbnb\\lib\\site-packages\\tqdm\\auto.py:22: TqdmWarning: IProgress not found. Please update jupyter and ipywidgets. See https://ipywidgets.readthedocs.io/en/stable/user_install.html\n",
      "  from .autonotebook import tqdm as notebook_tqdm\n"
     ]
    }
   ],
   "source": [
    "import random\n",
    "import warnings\n",
    "import sweetviz\n",
    "import pandas      as pd\n",
    "import numpy       as np\n",
    "import seaborn     as sns\n",
    "\n",
    "import matplotlib.pyplot as plt\n",
    "from sklearn.metrics         import confusion_matrix\n",
    "from imblearn.under_sampling import RandomUnderSampler\n",
    "from imblearn                import combine as c\n",
    "from imblearn                import under_sampling as us\n",
    "from imblearn                import over_sampling as oversamp\n",
    "from scipy                   import stats as ss\n",
    "from sklearn                 import model_selection as ms\n",
    "from sklearn                 import preprocessing as pp\n",
    "from sklearn                 import metrics       as m\n",
    "from keras                   import models as ml\n",
    "from keras                   import layers as l\n",
    "#from pandas_profiling        import ProfileReport\n",
    "from IPython.core.display    import HTML\n",
    "\n",
    "warnings.filterwarnings( 'ignore' )"
   ]
  },
  {
   "cell_type": "markdown",
   "id": "b3786119",
   "metadata": {},
   "source": [
    "## 0.1 Helper Functions"
   ]
  },
  {
   "cell_type": "code",
   "execution_count": 2,
   "id": "bb9dfdd1",
   "metadata": {
    "ExecuteTime": {
     "end_time": "2022-07-19T13:47:14.277354Z",
     "start_time": "2022-07-19T13:47:14.250830Z"
    },
    "code_folding": []
   },
   "outputs": [],
   "source": [
    "def cramer_v( x, y ):\n",
    "    cm = pd.crosstab( x, y ).values\n",
    "    n = cm.sum()\n",
    "    r, k = cm.shape\n",
    "    \n",
    "    chi2 = ss.chi2_contingency( cm )[0]\n",
    "    chi2corr = max( 0, chi2 - (k-1)*(r-1)/(n-1) )\n",
    "    \n",
    "    kcorr = k - (k-1)**2/(n-1)\n",
    "    rcorr = r - (r-1)**2/(n-1)\n",
    "    \n",
    "    return np.sqrt( (chi2corr/n) / ( min( kcorr-1, rcorr-1 ) ) )\n",
    "\n",
    "#def jupyter_settings():\n",
    "#    %matplotlib inline\n",
    "#    %pylab inline\n",
    "#    \n",
    "#    plt.style.use( 'bmh' )\n",
    "#    plt.rcParams['figure.figsize'] = [25, 12]\n",
    "#    plt.rcParams['font.size'] = 24\n",
    "#    \n",
    "#    display( HTML( '<style>.container { width:100% !important; }</style>') )\n",
    "#    pd.options.display.max_columns = None\n",
    "#    pd.options.display.max_rows = None\n",
    "#    pd.set_option( 'display.expand_frame_repr', False )\n",
    "#    \n",
    "#    sns.set()"
   ]
  },
  {
   "cell_type": "markdown",
   "id": "deef088f",
   "metadata": {
    "heading_collapsed": true
   },
   "source": [
    "## 0.2 Loading Data"
   ]
  },
  {
   "cell_type": "code",
   "execution_count": 3,
   "id": "c1a87f24",
   "metadata": {
    "ExecuteTime": {
     "end_time": "2022-07-19T13:47:26.421140Z",
     "start_time": "2022-07-19T13:47:14.282348Z"
    },
    "hidden": true
   },
   "outputs": [],
   "source": [
    "df_raw = pd.read_csv('C:/Users/PC/SejaUmDataScientist/DS_Classificacao/airbnb_project/Data/train_users.csv', low_memory=True) \n",
    "\n",
    "df_sessions = pd.read_csv('C:/Users/PC/SejaUmDataScientist/DS_Classificacao/airbnb_project/Data/sessions.csv', low_memory=True)\n"
   ]
  },
  {
   "cell_type": "markdown",
   "id": "ad797c27",
   "metadata": {},
   "source": [
    "# 1.0 Passo 01 - DESCRIÇÃO DOS DADOS"
   ]
  },
  {
   "cell_type": "code",
   "execution_count": 4,
   "id": "ce02b07b",
   "metadata": {
    "ExecuteTime": {
     "end_time": "2022-07-19T13:47:26.722011Z",
     "start_time": "2022-07-19T13:47:26.423092Z"
    }
   },
   "outputs": [],
   "source": [
    "df1 = df_raw.copy()\n",
    "df1_sessions = df_sessions.copy()"
   ]
  },
  {
   "cell_type": "markdown",
   "id": "21360516",
   "metadata": {},
   "source": [
    "## 1.1 Data Dimensions"
   ]
  },
  {
   "cell_type": "code",
   "execution_count": 5,
   "id": "532bd7c8",
   "metadata": {
    "ExecuteTime": {
     "end_time": "2022-07-19T13:47:26.736962Z",
     "start_time": "2022-07-19T13:47:26.724995Z"
    }
   },
   "outputs": [
    {
     "name": "stdout",
     "output_type": "stream",
     "text": [
      "Número de linhas é igual a: 213451\n",
      "Número de colunas é igual a: 16\n"
     ]
    }
   ],
   "source": [
    "print(f'Número de linhas é igual a: {df1.shape[0]}')\n",
    "print(f'Número de colunas é igual a: {df1.shape[1]}')"
   ]
  },
  {
   "cell_type": "code",
   "execution_count": 6,
   "id": "1cada9ec",
   "metadata": {
    "ExecuteTime": {
     "end_time": "2022-07-19T13:47:26.875529Z",
     "start_time": "2022-07-19T13:47:26.739952Z"
    }
   },
   "outputs": [
    {
     "name": "stdout",
     "output_type": "stream",
     "text": [
      "Número de linhas é igual a: 10567737\n",
      "Número de colunas é igual a: 6\n"
     ]
    }
   ],
   "source": [
    "#Sessions\n",
    "print(f'Número de linhas é igual a: {df1_sessions.shape[0]}')\n",
    "print(f'Número de colunas é igual a: {df1_sessions.shape[1]}')"
   ]
  },
  {
   "cell_type": "markdown",
   "id": "036a688e",
   "metadata": {},
   "source": [
    "## 1.2 Data Types"
   ]
  },
  {
   "cell_type": "code",
   "execution_count": 7,
   "id": "75e0b913",
   "metadata": {
    "ExecuteTime": {
     "end_time": "2022-07-19T13:47:27.278333Z",
     "start_time": "2022-07-19T13:47:26.880370Z"
    }
   },
   "outputs": [
    {
     "data": {
      "text/plain": [
       "id                          object\n",
       "date_account_created        object\n",
       "timestamp_first_active       int64\n",
       "date_first_booking          object\n",
       "gender                      object\n",
       "age                        float64\n",
       "signup_method               object\n",
       "signup_flow                  int64\n",
       "language                    object\n",
       "affiliate_channel           object\n",
       "affiliate_provider          object\n",
       "first_affiliate_tracked     object\n",
       "signup_app                  object\n",
       "first_device_type           object\n",
       "first_browser               object\n",
       "country_destination         object\n",
       "dtype: object"
      ]
     },
     "execution_count": 7,
     "metadata": {},
     "output_type": "execute_result"
    }
   ],
   "source": [
    "#Data types df1\n",
    "df1.dtypes"
   ]
  },
  {
   "cell_type": "code",
   "execution_count": 8,
   "id": "fcc8fe0b",
   "metadata": {
    "ExecuteTime": {
     "end_time": "2022-07-19T13:47:27.294361Z",
     "start_time": "2022-07-19T13:47:27.281325Z"
    }
   },
   "outputs": [
    {
     "data": {
      "text/plain": [
       "user_id           object\n",
       "action            object\n",
       "action_type       object\n",
       "action_detail     object\n",
       "device_type       object\n",
       "secs_elapsed     float64\n",
       "dtype: object"
      ]
     },
     "execution_count": 8,
     "metadata": {},
     "output_type": "execute_result"
    }
   ],
   "source": [
    "#Data types df1_sessions\n",
    "df1_sessions.dtypes"
   ]
  },
  {
   "cell_type": "markdown",
   "id": "676935f8",
   "metadata": {},
   "source": [
    "## 1.3 Check NA"
   ]
  },
  {
   "cell_type": "code",
   "execution_count": 9,
   "id": "4e70d27d",
   "metadata": {
    "ExecuteTime": {
     "end_time": "2022-07-19T13:47:27.853142Z",
     "start_time": "2022-07-19T13:47:27.300275Z"
    }
   },
   "outputs": [
    {
     "data": {
      "text/plain": [
       "id                         0.000000\n",
       "date_account_created       0.000000\n",
       "timestamp_first_active     0.000000\n",
       "date_first_booking         0.583473\n",
       "gender                     0.000000\n",
       "age                        0.412226\n",
       "signup_method              0.000000\n",
       "signup_flow                0.000000\n",
       "language                   0.000000\n",
       "affiliate_channel          0.000000\n",
       "affiliate_provider         0.000000\n",
       "first_affiliate_tracked    0.028414\n",
       "signup_app                 0.000000\n",
       "first_device_type          0.000000\n",
       "first_browser              0.000000\n",
       "country_destination        0.000000\n",
       "dtype: float64"
      ]
     },
     "execution_count": 9,
     "metadata": {},
     "output_type": "execute_result"
    }
   ],
   "source": [
    "df1.isna().sum() /len(df1)"
   ]
  },
  {
   "cell_type": "code",
   "execution_count": 10,
   "id": "6c78cd26",
   "metadata": {
    "ExecuteTime": {
     "end_time": "2022-07-19T13:47:34.913107Z",
     "start_time": "2022-07-19T13:47:27.855951Z"
    }
   },
   "outputs": [
    {
     "data": {
      "text/plain": [
       "user_id          0.003264\n",
       "action           0.007535\n",
       "action_type      0.106570\n",
       "action_detail    0.106570\n",
       "device_type      0.000000\n",
       "secs_elapsed     0.012872\n",
       "dtype: float64"
      ]
     },
     "execution_count": 10,
     "metadata": {},
     "output_type": "execute_result"
    }
   ],
   "source": [
    "df1_sessions.isna().sum()/len(df1_sessions)"
   ]
  },
  {
   "cell_type": "code",
   "execution_count": 11,
   "id": "2df3799b",
   "metadata": {
    "ExecuteTime": {
     "end_time": "2022-07-19T13:47:35.052520Z",
     "start_time": "2022-07-19T13:47:34.916027Z"
    }
   },
   "outputs": [
    {
     "data": {
      "text/plain": [
       "0            untracked\n",
       "5                  omg\n",
       "12                 NaN\n",
       "13              linked\n",
       "79       tracked-other\n",
       "257            product\n",
       "6270         marketing\n",
       "11184        local ops\n",
       "Name: first_affiliate_tracked, dtype: object"
      ]
     },
     "execution_count": 11,
     "metadata": {},
     "output_type": "execute_result"
    }
   ],
   "source": [
    "df1['first_affiliate_tracked'].drop_duplicates()\n",
    "#aux = df1[df1[ 'age'].isna()]\n",
    "#aux['country_destination'].value_counts(normalize=True)"
   ]
  },
  {
   "cell_type": "code",
   "execution_count": 12,
   "id": "cba700f3",
   "metadata": {
    "ExecuteTime": {
     "end_time": "2022-07-19T13:47:41.032121Z",
     "start_time": "2022-07-19T13:47:35.054460Z"
    }
   },
   "outputs": [],
   "source": [
    "#Remover NAs\n",
    "# =====================USERS======================================\n",
    "\n",
    "#date_first_booking\n",
    "date_first_booking_max =  pd.to_datetime( df1['date_first_booking']).max().strftime('%Y%m%d')\n",
    "\n",
    "df1['date_first_booking'] = df1['date_first_booking'].fillna( date_first_booking_max)\n",
    "\n",
    "\n",
    "#age: Preencher como valor médio\n",
    "df1 = df1[( df1['age'] > 15 ) & ( df1['age'] < 120 )]\n",
    "avg_age = df1['age'].mean()\n",
    "df1['age'] = df1['age'].fillna( avg_age).astype(int)\n",
    "\n",
    "#first_affiliate_tracked\n",
    "df1 = df1[~df1['first_affiliate_tracked'].isna()]\n",
    "\n",
    "\n",
    "#============================================SESSIONS=========================================\n",
    "#user_id        3%\n",
    "df1_sessions = df1_sessions[~df1_sessions['user_id'].isna()]\n",
    "\n",
    "#action         0.7%\n",
    "df1_sessions = df1_sessions[~df1_sessions['action'].isna()]\n",
    "\n",
    "#action_type    11%\n",
    "df1_sessions = df1_sessions[~df1_sessions['action_type'].isna()]\n",
    "\n",
    "#action_detail  11%\n",
    "df1_sessions = df1_sessions[~df1_sessions['action_detail'].isna()]\n",
    "\n",
    "#secs_elapsed   1.2%\n",
    "df1_sessions = df1_sessions[~df1_sessions['secs_elapsed'].isna()]"
   ]
  },
  {
   "cell_type": "code",
   "execution_count": 13,
   "id": "151ac2ca",
   "metadata": {
    "ExecuteTime": {
     "end_time": "2022-07-19T13:47:41.278625Z",
     "start_time": "2022-07-19T13:47:41.034083Z"
    }
   },
   "outputs": [
    {
     "data": {
      "text/plain": [
       "id                         0.0\n",
       "date_account_created       0.0\n",
       "timestamp_first_active     0.0\n",
       "date_first_booking         0.0\n",
       "gender                     0.0\n",
       "age                        0.0\n",
       "signup_method              0.0\n",
       "signup_flow                0.0\n",
       "language                   0.0\n",
       "affiliate_channel          0.0\n",
       "affiliate_provider         0.0\n",
       "first_affiliate_tracked    0.0\n",
       "signup_app                 0.0\n",
       "first_device_type          0.0\n",
       "first_browser              0.0\n",
       "country_destination        0.0\n",
       "dtype: float64"
      ]
     },
     "execution_count": 13,
     "metadata": {},
     "output_type": "execute_result"
    }
   ],
   "source": [
    "df1.isna().sum() / len( df1 )"
   ]
  },
  {
   "cell_type": "code",
   "execution_count": 14,
   "id": "5b17b78d",
   "metadata": {
    "ExecuteTime": {
     "end_time": "2022-07-19T13:47:48.578613Z",
     "start_time": "2022-07-19T13:47:41.280650Z"
    }
   },
   "outputs": [
    {
     "data": {
      "text/plain": [
       "user_id          0.003264\n",
       "action           0.007535\n",
       "action_type      0.106570\n",
       "action_detail    0.106570\n",
       "device_type      0.000000\n",
       "secs_elapsed     0.012872\n",
       "dtype: float64"
      ]
     },
     "execution_count": 14,
     "metadata": {},
     "output_type": "execute_result"
    }
   ],
   "source": [
    "df_sessions.isna().sum() / len( df_sessions)"
   ]
  },
  {
   "cell_type": "markdown",
   "id": "c9fcc60e",
   "metadata": {},
   "source": [
    "## 1.4 Change Data Types"
   ]
  },
  {
   "cell_type": "code",
   "execution_count": 15,
   "id": "6c02a070",
   "metadata": {
    "ExecuteTime": {
     "end_time": "2022-07-19T13:47:48.594571Z",
     "start_time": "2022-07-19T13:47:48.581605Z"
    }
   },
   "outputs": [
    {
     "data": {
      "text/plain": [
       "id                         object\n",
       "date_account_created       object\n",
       "timestamp_first_active      int64\n",
       "date_first_booking         object\n",
       "gender                     object\n",
       "age                         int32\n",
       "signup_method              object\n",
       "signup_flow                 int64\n",
       "language                   object\n",
       "affiliate_channel          object\n",
       "affiliate_provider         object\n",
       "first_affiliate_tracked    object\n",
       "signup_app                 object\n",
       "first_device_type          object\n",
       "first_browser              object\n",
       "country_destination        object\n",
       "dtype: object"
      ]
     },
     "execution_count": 15,
     "metadata": {},
     "output_type": "execute_result"
    }
   ],
   "source": [
    "df1.dtypes"
   ]
  },
  {
   "cell_type": "code",
   "execution_count": 16,
   "id": "54ab12ec",
   "metadata": {
    "ExecuteTime": {
     "end_time": "2022-07-19T13:47:49.482852Z",
     "start_time": "2022-07-19T13:47:48.598561Z"
    }
   },
   "outputs": [],
   "source": [
    "#date_account_created   \n",
    "df1['date_account_created']=pd.to_datetime( df1['date_account_created'])\n",
    "#timestamp_first_active  \n",
    "df1['timestamp_first_active']=pd.to_datetime( df1['timestamp_first_active'], format='%Y%m%d%H%M%S')\n",
    "\n",
    "#date_first_booking\n",
    "df1['date_first_booking']=pd.to_datetime( df1['date_first_booking'])\n",
    "#age                      \n",
    "df1['age']= df1['age'].astype('int64')\n"
   ]
  },
  {
   "cell_type": "markdown",
   "id": "aec1b0a7",
   "metadata": {
    "ExecuteTime": {
     "end_time": "2022-06-27T19:06:45.522729Z",
     "start_time": "2022-06-27T19:06:45.496801Z"
    }
   },
   "source": [
    "## 1.5 Check Balanced Data"
   ]
  },
  {
   "cell_type": "code",
   "execution_count": 17,
   "id": "eb0c8cb6",
   "metadata": {
    "ExecuteTime": {
     "end_time": "2022-07-19T13:47:49.529153Z",
     "start_time": "2022-07-19T13:47:49.484872Z"
    }
   },
   "outputs": [
    {
     "data": {
      "text/plain": [
       "NDF      0.447275\n",
       "US       0.391867\n",
       "other    0.061246\n",
       "FR       0.029918\n",
       "IT       0.016423\n",
       "GB       0.014335\n",
       "ES       0.013740\n",
       "CA       0.008676\n",
       "DE       0.006858\n",
       "NL       0.004852\n",
       "AU       0.003531\n",
       "PT       0.001280\n",
       "Name: country_destination, dtype: float64"
      ]
     },
     "execution_count": 17,
     "metadata": {},
     "output_type": "execute_result"
    }
   ],
   "source": [
    "df1['country_destination'].value_counts(normalize=True)"
   ]
  },
  {
   "cell_type": "markdown",
   "id": "4e5f57a2",
   "metadata": {},
   "source": [
    "## 1.6 Descriptive Analyses"
   ]
  },
  {
   "cell_type": "code",
   "execution_count": 18,
   "id": "43f8e7f2",
   "metadata": {
    "ExecuteTime": {
     "end_time": "2022-07-19T13:47:49.700523Z",
     "start_time": "2022-07-19T13:47:49.531077Z"
    }
   },
   "outputs": [],
   "source": [
    "#==================Users===================================\n",
    "num_attributes = df1.select_dtypes( include=['int64', 'float64'])\n",
    "cat_attributes = df1.select_dtypes( exclude=['int64', 'float64', 'datetime64[ns]'])\n",
    "time_attributes = df1.select_dtypes( include= ['datetime64[ns]'])\n",
    "\n",
    "\n",
    "#====================Sessions==========================================\n",
    "num_attributes_sessions  = df1_sessions.select_dtypes( include=['int64', 'float64'])\n",
    "cat_attributes_sessions  = df1_sessions.select_dtypes( exclude=['int64', 'float64', 'datetime64[ns]'])\n",
    "time_attributes_sessions = df1_sessions.select_dtypes( include= ['datetime64[ns]'])"
   ]
  },
  {
   "cell_type": "markdown",
   "id": "f0d6058a",
   "metadata": {},
   "source": [
    "### 1.6.1 Numerical -Users"
   ]
  },
  {
   "cell_type": "code",
   "execution_count": 19,
   "id": "2416cc0b",
   "metadata": {
    "ExecuteTime": {
     "end_time": "2022-07-19T13:47:50.090607Z",
     "start_time": "2022-07-19T13:47:49.703509Z"
    }
   },
   "outputs": [
    {
     "data": {
      "text/html": [
       "<div>\n",
       "<style scoped>\n",
       "    .dataframe tbody tr th:only-of-type {\n",
       "        vertical-align: middle;\n",
       "    }\n",
       "\n",
       "    .dataframe tbody tr th {\n",
       "        vertical-align: top;\n",
       "    }\n",
       "\n",
       "    .dataframe thead th {\n",
       "        text-align: right;\n",
       "    }\n",
       "</style>\n",
       "<table border=\"1\" class=\"dataframe\">\n",
       "  <thead>\n",
       "    <tr style=\"text-align: right;\">\n",
       "      <th></th>\n",
       "      <th>attributes</th>\n",
       "      <th>min</th>\n",
       "      <th>max</th>\n",
       "      <th>range</th>\n",
       "      <th>mean</th>\n",
       "      <th>median</th>\n",
       "      <th>std</th>\n",
       "      <th>skew</th>\n",
       "      <th>kurtosis</th>\n",
       "    </tr>\n",
       "  </thead>\n",
       "  <tbody>\n",
       "    <tr>\n",
       "      <th>0</th>\n",
       "      <td>age</td>\n",
       "      <td>16.0</td>\n",
       "      <td>115.0</td>\n",
       "      <td>99.0</td>\n",
       "      <td>37.405591</td>\n",
       "      <td>34.0</td>\n",
       "      <td>13.939844</td>\n",
       "      <td>2.089718</td>\n",
       "      <td>6.516468</td>\n",
       "    </tr>\n",
       "    <tr>\n",
       "      <th>1</th>\n",
       "      <td>signup_flow</td>\n",
       "      <td>0.0</td>\n",
       "      <td>25.0</td>\n",
       "      <td>25.0</td>\n",
       "      <td>2.519513</td>\n",
       "      <td>0.0</td>\n",
       "      <td>6.604696</td>\n",
       "      <td>2.705871</td>\n",
       "      <td>5.928298</td>\n",
       "    </tr>\n",
       "  </tbody>\n",
       "</table>\n",
       "</div>"
      ],
      "text/plain": [
       "    attributes   min    max  range       mean  median        std      skew  \\\n",
       "0          age  16.0  115.0   99.0  37.405591    34.0  13.939844  2.089718   \n",
       "1  signup_flow   0.0   25.0   25.0   2.519513     0.0   6.604696  2.705871   \n",
       "\n",
       "   kurtosis  \n",
       "0  6.516468  \n",
       "1  5.928298  "
      ]
     },
     "execution_count": 19,
     "metadata": {},
     "output_type": "execute_result"
    }
   ],
   "source": [
    "#central tendency - Mean and Median\n",
    "ct1 = pd.DataFrame( num_attributes.apply(np.mean)).T\n",
    "ct2 = pd.DataFrame( num_attributes.apply(np.median)).T\n",
    "\n",
    "#Dispersions -  std, min, max. range, skew, kurtosis\n",
    "d1 = pd.DataFrame( num_attributes.apply(np.std)).T\n",
    "d2 = pd.DataFrame( num_attributes.apply(min)).T\n",
    "d3 = pd.DataFrame( num_attributes.apply(max)).T\n",
    "d4 = pd.DataFrame( num_attributes.apply( lambda x : x.max() - x.min() )).T\n",
    "d5 = pd.DataFrame( num_attributes.apply( lambda x : x.skew() )).T\n",
    "d6 = pd.DataFrame( num_attributes.apply( lambda x : x.kurtosis() )).T\n",
    "\n",
    "#Concatenar\n",
    "ct = pd.concat( [ d2, d3, d4, ct1, ct2, d1, d5, d6]).T.reset_index()\n",
    "ct.columns = ['attributes', 'min', 'max', 'range', 'mean', 'median', 'std', 'skew', 'kurtosis']\n",
    "ct"
   ]
  },
  {
   "cell_type": "markdown",
   "id": "aa910fc0",
   "metadata": {
    "ExecuteTime": {
     "end_time": "2022-06-29T13:53:34.492600Z",
     "start_time": "2022-06-29T13:53:34.465713Z"
    }
   },
   "source": [
    "### 1.6.1 Numerical -Sessions"
   ]
  },
  {
   "cell_type": "code",
   "execution_count": 20,
   "id": "07244c0f",
   "metadata": {
    "ExecuteTime": {
     "end_time": "2022-07-19T13:47:53.692327Z",
     "start_time": "2022-07-19T13:47:50.094595Z"
    }
   },
   "outputs": [
    {
     "data": {
      "text/html": [
       "<div>\n",
       "<style scoped>\n",
       "    .dataframe tbody tr th:only-of-type {\n",
       "        vertical-align: middle;\n",
       "    }\n",
       "\n",
       "    .dataframe tbody tr th {\n",
       "        vertical-align: top;\n",
       "    }\n",
       "\n",
       "    .dataframe thead th {\n",
       "        text-align: right;\n",
       "    }\n",
       "</style>\n",
       "<table border=\"1\" class=\"dataframe\">\n",
       "  <thead>\n",
       "    <tr style=\"text-align: right;\">\n",
       "      <th></th>\n",
       "      <th>attributes</th>\n",
       "      <th>min</th>\n",
       "      <th>max</th>\n",
       "      <th>range</th>\n",
       "      <th>mean</th>\n",
       "      <th>median</th>\n",
       "      <th>std</th>\n",
       "      <th>skew</th>\n",
       "      <th>kurtosis</th>\n",
       "    </tr>\n",
       "  </thead>\n",
       "  <tbody>\n",
       "    <tr>\n",
       "      <th>0</th>\n",
       "      <td>secs_elapsed</td>\n",
       "      <td>0.0</td>\n",
       "      <td>1799977.0</td>\n",
       "      <td>1799977.0</td>\n",
       "      <td>19961.8251</td>\n",
       "      <td>1369.0</td>\n",
       "      <td>88849.388449</td>\n",
       "      <td>11.137761</td>\n",
       "      <td>154.84312</td>\n",
       "    </tr>\n",
       "  </tbody>\n",
       "</table>\n",
       "</div>"
      ],
      "text/plain": [
       "     attributes  min        max      range        mean  median           std  \\\n",
       "0  secs_elapsed  0.0  1799977.0  1799977.0  19961.8251  1369.0  88849.388449   \n",
       "\n",
       "        skew   kurtosis  \n",
       "0  11.137761  154.84312  "
      ]
     },
     "execution_count": 20,
     "metadata": {},
     "output_type": "execute_result"
    }
   ],
   "source": [
    "#central tendency - Mean and Median\n",
    "ct1 = pd.DataFrame( num_attributes_sessions.apply(np.mean)).T\n",
    "ct2 = pd.DataFrame( num_attributes_sessions.apply(np.median)).T\n",
    "\n",
    "#Dispersions -  std, min, max. range, skew, kurtosis\n",
    "d1 = pd.DataFrame( num_attributes_sessions.apply(np.std)).T\n",
    "d2 = pd.DataFrame( num_attributes_sessions.apply(min)).T\n",
    "d3 = pd.DataFrame( num_attributes_sessions.apply(max)).T\n",
    "d4 = pd.DataFrame( num_attributes_sessions.apply( lambda x : x.max() - x.min() )).T\n",
    "d5 = pd.DataFrame( num_attributes_sessions.apply( lambda x : x.skew() )).T\n",
    "d6 = pd.DataFrame( num_attributes_sessions.apply( lambda x : x.kurtosis() )).T\n",
    "\n",
    "#Concatenar\n",
    "ct = pd.concat( [ d2, d3, d4, ct1, ct2, d1, d5, d6]).T.reset_index()\n",
    "ct.columns = ['attributes', 'min', 'max', 'range', 'mean', 'median', 'std', 'skew', 'kurtosis']\n",
    "ct"
   ]
  },
  {
   "cell_type": "markdown",
   "id": "8f398cd2",
   "metadata": {},
   "source": [
    "### 1.6.2 Numerical - Users"
   ]
  },
  {
   "cell_type": "code",
   "execution_count": 21,
   "id": "c64e9d2a",
   "metadata": {
    "ExecuteTime": {
     "end_time": "2022-07-19T13:47:53.865703Z",
     "start_time": "2022-07-19T13:47:53.695316Z"
    }
   },
   "outputs": [
    {
     "data": {
      "text/html": [
       "<div>\n",
       "<style scoped>\n",
       "    .dataframe tbody tr th:only-of-type {\n",
       "        vertical-align: middle;\n",
       "    }\n",
       "\n",
       "    .dataframe tbody tr th {\n",
       "        vertical-align: top;\n",
       "    }\n",
       "\n",
       "    .dataframe thead th {\n",
       "        text-align: right;\n",
       "    }\n",
       "</style>\n",
       "<table border=\"1\" class=\"dataframe\">\n",
       "  <thead>\n",
       "    <tr style=\"text-align: right;\">\n",
       "      <th></th>\n",
       "      <th>gender</th>\n",
       "      <th>signup_method</th>\n",
       "      <th>language</th>\n",
       "      <th>affiliate_channel</th>\n",
       "      <th>affiliate_provider</th>\n",
       "      <th>first_affiliate_tracked</th>\n",
       "      <th>signup_app</th>\n",
       "      <th>first_device_type</th>\n",
       "      <th>first_browser</th>\n",
       "      <th>country_destination</th>\n",
       "    </tr>\n",
       "  </thead>\n",
       "  <tbody>\n",
       "    <tr>\n",
       "      <th>count</th>\n",
       "      <td>122636</td>\n",
       "      <td>122636</td>\n",
       "      <td>122636</td>\n",
       "      <td>122636</td>\n",
       "      <td>122636</td>\n",
       "      <td>122636</td>\n",
       "      <td>122636</td>\n",
       "      <td>122636</td>\n",
       "      <td>122636</td>\n",
       "      <td>122636</td>\n",
       "    </tr>\n",
       "    <tr>\n",
       "      <th>unique</th>\n",
       "      <td>4</td>\n",
       "      <td>3</td>\n",
       "      <td>25</td>\n",
       "      <td>8</td>\n",
       "      <td>17</td>\n",
       "      <td>7</td>\n",
       "      <td>4</td>\n",
       "      <td>9</td>\n",
       "      <td>41</td>\n",
       "      <td>12</td>\n",
       "    </tr>\n",
       "    <tr>\n",
       "      <th>top</th>\n",
       "      <td>FEMALE</td>\n",
       "      <td>basic</td>\n",
       "      <td>en</td>\n",
       "      <td>direct</td>\n",
       "      <td>direct</td>\n",
       "      <td>untracked</td>\n",
       "      <td>Web</td>\n",
       "      <td>Mac Desktop</td>\n",
       "      <td>Chrome</td>\n",
       "      <td>NDF</td>\n",
       "    </tr>\n",
       "    <tr>\n",
       "      <th>freq</th>\n",
       "      <td>56362</td>\n",
       "      <td>66039</td>\n",
       "      <td>118205</td>\n",
       "      <td>79093</td>\n",
       "      <td>78954</td>\n",
       "      <td>64712</td>\n",
       "      <td>108283</td>\n",
       "      <td>57943</td>\n",
       "      <td>41778</td>\n",
       "      <td>54852</td>\n",
       "    </tr>\n",
       "  </tbody>\n",
       "</table>\n",
       "</div>"
      ],
      "text/plain": [
       "        gender signup_method language affiliate_channel affiliate_provider  \\\n",
       "count   122636        122636   122636            122636             122636   \n",
       "unique       4             3       25                 8                 17   \n",
       "top     FEMALE         basic       en            direct             direct   \n",
       "freq     56362         66039   118205             79093              78954   \n",
       "\n",
       "       first_affiliate_tracked signup_app first_device_type first_browser  \\\n",
       "count                   122636     122636            122636        122636   \n",
       "unique                       7          4                 9            41   \n",
       "top                  untracked        Web       Mac Desktop        Chrome   \n",
       "freq                     64712     108283             57943         41778   \n",
       "\n",
       "       country_destination  \n",
       "count               122636  \n",
       "unique                  12  \n",
       "top                    NDF  \n",
       "freq                 54852  "
      ]
     },
     "execution_count": 21,
     "metadata": {},
     "output_type": "execute_result"
    }
   ],
   "source": [
    "cat_attributes.drop('id', axis=1).describe()"
   ]
  },
  {
   "cell_type": "markdown",
   "id": "f2c78aa6",
   "metadata": {
    "ExecuteTime": {
     "end_time": "2022-06-29T13:53:34.492600Z",
     "start_time": "2022-06-29T13:53:34.465713Z"
    }
   },
   "source": [
    "### 1.6.3 Categorical -Sessions"
   ]
  },
  {
   "cell_type": "code",
   "execution_count": 22,
   "id": "6f933b4d",
   "metadata": {
    "ExecuteTime": {
     "end_time": "2022-07-19T13:47:57.868523Z",
     "start_time": "2022-07-19T13:47:53.868701Z"
    }
   },
   "outputs": [
    {
     "data": {
      "text/html": [
       "<div>\n",
       "<style scoped>\n",
       "    .dataframe tbody tr th:only-of-type {\n",
       "        vertical-align: middle;\n",
       "    }\n",
       "\n",
       "    .dataframe tbody tr th {\n",
       "        vertical-align: top;\n",
       "    }\n",
       "\n",
       "    .dataframe thead th {\n",
       "        text-align: right;\n",
       "    }\n",
       "</style>\n",
       "<table border=\"1\" class=\"dataframe\">\n",
       "  <thead>\n",
       "    <tr style=\"text-align: right;\">\n",
       "      <th></th>\n",
       "      <th>action</th>\n",
       "      <th>action_type</th>\n",
       "      <th>action_detail</th>\n",
       "      <th>device_type</th>\n",
       "    </tr>\n",
       "  </thead>\n",
       "  <tbody>\n",
       "    <tr>\n",
       "      <th>count</th>\n",
       "      <td>9213930</td>\n",
       "      <td>9213930</td>\n",
       "      <td>9213930</td>\n",
       "      <td>9213930</td>\n",
       "    </tr>\n",
       "    <tr>\n",
       "      <th>unique</th>\n",
       "      <td>347</td>\n",
       "      <td>10</td>\n",
       "      <td>155</td>\n",
       "      <td>14</td>\n",
       "    </tr>\n",
       "    <tr>\n",
       "      <th>top</th>\n",
       "      <td>show</td>\n",
       "      <td>view</td>\n",
       "      <td>view_search_results</td>\n",
       "      <td>Mac Desktop</td>\n",
       "    </tr>\n",
       "    <tr>\n",
       "      <th>freq</th>\n",
       "      <td>2178382</td>\n",
       "      <td>3545621</td>\n",
       "      <td>1770931</td>\n",
       "      <td>3019523</td>\n",
       "    </tr>\n",
       "  </tbody>\n",
       "</table>\n",
       "</div>"
      ],
      "text/plain": [
       "         action action_type        action_detail  device_type\n",
       "count   9213930     9213930              9213930      9213930\n",
       "unique      347          10                  155           14\n",
       "top        show        view  view_search_results  Mac Desktop\n",
       "freq    2178382     3545621              1770931      3019523"
      ]
     },
     "execution_count": 22,
     "metadata": {},
     "output_type": "execute_result"
    }
   ],
   "source": [
    "cat_attributes_sessions.drop('user_id', axis=1).describe()"
   ]
  },
  {
   "cell_type": "code",
   "execution_count": 23,
   "id": "41c7299e",
   "metadata": {
    "ExecuteTime": {
     "end_time": "2022-07-19T13:48:34.771403Z",
     "start_time": "2022-07-19T13:47:57.871516Z"
    }
   },
   "outputs": [],
   "source": [
    "#lista de atributos para cramer v\n",
    "cat_attributes_list = cat_attributes_sessions.drop('user_id', axis=1).columns.tolist()\n",
    "\n",
    "corr_dict = {}\n",
    "\n",
    "for i in range( len(cat_attributes_list) ):\n",
    "    corr_list = []\n",
    "    \n",
    "    for j in range (len(cat_attributes_list ) ):\n",
    "        ref  = cat_attributes_list[i]\n",
    "        feat = cat_attributes_list[j]\n",
    "        \n",
    "        #Correlação\n",
    "        corr = cramer_v(cat_attributes_sessions[ref], cat_attributes_sessions[feat] )\n",
    "        \n",
    "        #append a list\n",
    "        corr_list.append( corr )\n",
    "    # append correlation para cada ref atrtibuts\n",
    "    corr_dict[ref] = corr_list"
   ]
  },
  {
   "cell_type": "code",
   "execution_count": 24,
   "id": "61e1fea7",
   "metadata": {
    "ExecuteTime": {
     "end_time": "2022-07-19T13:48:35.939114Z",
     "start_time": "2022-07-19T13:48:34.774329Z"
    }
   },
   "outputs": [
    {
     "data": {
      "image/png": "[encoded data removed]",
      "text/plain": [
       "<Figure size 432x288 with 2 Axes>"
      ]
     },
     "metadata": {
      "needs_background": "light"
     },
     "output_type": "display_data"
    }
   ],
   "source": [
    "d = pd.DataFrame( corr_dict)\n",
    "d = d.set_index(d.columns)\n",
    "sns.heatmap( d, annot=True);"
   ]
  },
  {
   "cell_type": "markdown",
   "id": "dab8fd33",
   "metadata": {},
   "source": [
    "# 2.0 PASSO 02 - Feature Engeneering\n"
   ]
  },
  {
   "cell_type": "code",
   "execution_count": 25,
   "id": "01902b00",
   "metadata": {
    "ExecuteTime": {
     "end_time": "2022-07-19T13:48:35.969510Z",
     "start_time": "2022-07-19T13:48:35.943105Z"
    },
    "scrolled": true
   },
   "outputs": [
    {
     "data": {
      "text/plain": [
       "(122636, 16)"
      ]
     },
     "execution_count": 25,
     "metadata": {},
     "output_type": "execute_result"
    }
   ],
   "source": [
    "df2 =df1.copy()\n",
    "\n",
    "df2.shape\n"
   ]
  },
  {
   "cell_type": "code",
   "execution_count": 26,
   "id": "417faa2d",
   "metadata": {
    "ExecuteTime": {
     "end_time": "2022-07-19T13:48:36.154422Z",
     "start_time": "2022-07-19T13:48:35.973500Z"
    }
   },
   "outputs": [
    {
     "data": {
      "text/plain": [
       "id                                 object\n",
       "date_account_created       datetime64[ns]\n",
       "timestamp_first_active     datetime64[ns]\n",
       "date_first_booking         datetime64[ns]\n",
       "gender                             object\n",
       "age                                 int64\n",
       "signup_method                      object\n",
       "signup_flow                         int64\n",
       "language                           object\n",
       "affiliate_channel                  object\n",
       "affiliate_provider                 object\n",
       "first_affiliate_tracked            object\n",
       "signup_app                         object\n",
       "first_device_type                  object\n",
       "first_browser                      object\n",
       "country_destination                object\n",
       "dtype: object"
      ]
     },
     "execution_count": 26,
     "metadata": {},
     "output_type": "execute_result"
    }
   ],
   "source": [
    "df2.dtypes"
   ]
  },
  {
   "cell_type": "markdown",
   "id": "3e2242af",
   "metadata": {
    "ExecuteTime": {
     "end_time": "2022-06-29T19:29:05.194393Z",
     "start_time": "2022-06-29T19:29:05.188409Z"
    }
   },
   "source": [
    "## 2.1 Create new Features"
   ]
  },
  {
   "cell_type": "code",
   "execution_count": 27,
   "id": "ecb9b2ad",
   "metadata": {
    "ExecuteTime": {
     "end_time": "2022-07-19T13:48:43.604314Z",
     "start_time": "2022-07-19T13:48:36.166398Z"
    }
   },
   "outputs": [],
   "source": [
    "# days from first activate up to first booking\n",
    "df2['first_active'] = pd.to_datetime( df2['timestamp_first_active'].dt.strftime(\"%Y-%m-%d\") )\n",
    "df2['days_from_first_active_until_booking'] = (df2['date_first_booking'] -df2['first_active']).apply( lambda x: x.days)\n",
    "\n",
    "#days from first activate up to account create\n",
    "df2['days_from_first_active_until_account_created'] = (df2['date_account_created'] -df2['first_active']).apply( lambda x: x.days)\n",
    "\n",
    "#days from account create up to first booking\n",
    "df2['days_from_account_created_until_first_booking'] = (df2['date_first_booking'] -df2['date_account_created']).apply( lambda x: x.days)\n",
    "    \n",
    "\n",
    "#===================================First activate======================================\n",
    "#Year first active\n",
    "df2['year_first_active'] = df2['first_active'].dt.year\n",
    "\n",
    "#Month first active\n",
    "df2['month_first_active'] = df2['first_active'].dt.month\n",
    "\n",
    "\n",
    "#Day first active\n",
    "df2['day_first_active'] = df2['first_active'].dt.day\n",
    "\n",
    "\n",
    "#Day of week first active\n",
    "df2['day_of_week_first_active'] = df2['first_active'].dt.dayofweek\n",
    "\n",
    "\n",
    "#Week of year first active\n",
    "df2['week_of_year_first_active'] = df2['first_active'].dt.weekofyear\n",
    "\n",
    "\n",
    "#===================================Booking======================================\n",
    "#Year first booking\n",
    "df2['year_first_booking'] = df2['date_first_booking'].dt.year\n",
    "\n",
    "#Month first booking\n",
    "df2['month_first_booking'] = df2['date_first_booking'].dt.month\n",
    "\n",
    "#Day first booking\n",
    "df2['day_first_booking'] = df2['date_first_booking'].dt.day\n",
    "\n",
    "#Day of Week of first booking\n",
    "df2['day_of_week_first_booking'] = df2['date_first_booking'].dt.dayofweek\n",
    "\n",
    "#Week of first booking\n",
    "df2['week_of_year_first_booking'] = df2['date_first_booking'].dt.weekofyear\n",
    "\n",
    "\n",
    "#===================================First account created======================================\n",
    "#Year first active\n",
    "df2['year_account_created'] = df2['date_account_created'].dt.year\n",
    "\n",
    "#Month first active\n",
    "df2['month_account_created'] = df2['date_account_created'].dt.month\n",
    "\n",
    "\n",
    "#Day first active\n",
    "df2['day_account_created'] = df2['date_account_created'].dt.day\n",
    "\n",
    "\n",
    "#Day of week first active\n",
    "df2['day_of _week_first_account_created'] = df2['date_account_created'].dt.dayofweek\n",
    "\n",
    "\n",
    "#Week of year first active\n",
    "df2['week_of _year_first_account_created'] = df2['date_account_created'].dt.weekofyear\n",
    "\n",
    "\n"
   ]
  },
  {
   "cell_type": "code",
   "execution_count": 28,
   "id": "5296f0ad",
   "metadata": {
    "ExecuteTime": {
     "end_time": "2022-07-19T13:48:43.620205Z",
     "start_time": "2022-07-19T13:48:43.606233Z"
    }
   },
   "outputs": [
    {
     "data": {
      "text/plain": [
       "(122636, 35)"
      ]
     },
     "execution_count": 28,
     "metadata": {},
     "output_type": "execute_result"
    }
   ],
   "source": [
    "df2.shape"
   ]
  },
  {
   "cell_type": "markdown",
   "id": "9f69dc92",
   "metadata": {},
   "source": [
    "# 3.0 PASSO 03 - Data Filtering\n"
   ]
  },
  {
   "cell_type": "code",
   "execution_count": 29,
   "id": "7861d0fa",
   "metadata": {
    "ExecuteTime": {
     "end_time": "2022-07-19T13:48:43.789961Z",
     "start_time": "2022-07-19T13:48:43.622222Z"
    }
   },
   "outputs": [],
   "source": [
    "df3 = df2.copy()"
   ]
  },
  {
   "cell_type": "markdown",
   "id": "fda01745",
   "metadata": {},
   "source": [
    "## 3.1 Filtering Rows"
   ]
  },
  {
   "cell_type": "code",
   "execution_count": 30,
   "id": "765e83e7",
   "metadata": {
    "ExecuteTime": {
     "end_time": "2022-07-19T13:48:43.928820Z",
     "start_time": "2022-07-19T13:48:43.791994Z"
    }
   },
   "outputs": [],
   "source": [
    "#Age:entre 15 e 120 pois há poucas pessoas como mais de 120 anos\n",
    "df3 =  df3[( df2['age']> 15) & (df3['age'] < 120 )]\n",
    "\n",
    "# secs_elapsed - Não há possibilidade de ter 0 elapsed\n",
    "#df1_sessions = df1_sessions[ df1_sessions['secs_elapsed']> 0]"
   ]
  },
  {
   "cell_type": "markdown",
   "id": "c9f932d3",
   "metadata": {},
   "source": [
    "## 3.2 Columns Selection"
   ]
  },
  {
   "cell_type": "code",
   "execution_count": 31,
   "id": "7c4b463d",
   "metadata": {
    "ExecuteTime": {
     "end_time": "2022-07-19T13:48:44.068291Z",
     "start_time": "2022-07-19T13:48:43.930841Z"
    }
   },
   "outputs": [],
   "source": [
    "cols = ['date_account_created', 'date_account_created', 'date_first_booking', 'timestamp_first_active', 'first_active'] # original datetime\n"
   ]
  },
  {
   "cell_type": "markdown",
   "id": "c4cbba6f",
   "metadata": {},
   "source": [
    "# 4.0 - BALANCED DATASET"
   ]
  },
  {
   "cell_type": "code",
   "execution_count": 32,
   "id": "eba9b281",
   "metadata": {
    "ExecuteTime": {
     "end_time": "2022-07-19T13:48:44.207460Z",
     "start_time": "2022-07-19T13:48:44.071251Z"
    }
   },
   "outputs": [
    {
     "data": {
      "text/plain": [
       "(122636, 31)"
      ]
     },
     "execution_count": 32,
     "metadata": {},
     "output_type": "execute_result"
    }
   ],
   "source": [
    "df4 = df3.drop(cols, axis=1)\n",
    "df4.shape"
   ]
  },
  {
   "cell_type": "code",
   "execution_count": 33,
   "id": "4d9988b7",
   "metadata": {
    "ExecuteTime": {
     "end_time": "2022-07-19T13:48:45.068935Z",
     "start_time": "2022-07-19T13:48:44.211451Z"
    }
   },
   "outputs": [],
   "source": [
    "#Encoder Categorical Variable\n",
    "ohe = pp.OneHotEncoder()\n",
    "\n",
    "#Numerical\n",
    "col_num = df4.select_dtypes(include=['int64','float64']).columns.tolist()\n",
    "\n",
    "#Categorical\n",
    "col_cat = df4.select_dtypes(exclude=['int64','float64', 'datetime64[ns]']).drop(['id','country_destination'], axis=1).columns.tolist()\n",
    "\n",
    "\n",
    "#Encoding\n",
    "df4_dummy = pd.DataFrame( ohe.fit_transform( df4[col_cat]).toarray(), index=df4.index)\n",
    "\n",
    "\n",
    "# Joing Numerical and Categorical\n",
    "df42 = pd.concat( [ df4[col_num], df4_dummy], axis=1)\n",
    "\n"
   ]
  },
  {
   "cell_type": "code",
   "execution_count": 34,
   "id": "61495fdb",
   "metadata": {
    "ExecuteTime": {
     "end_time": "2022-07-19T13:48:45.084417Z",
     "start_time": "2022-07-19T13:48:45.070920Z"
    }
   },
   "outputs": [
    {
     "data": {
      "text/plain": [
       "(122636, 138)"
      ]
     },
     "execution_count": 34,
     "metadata": {},
     "output_type": "execute_result"
    }
   ],
   "source": [
    "df42.shape"
   ]
  },
  {
   "cell_type": "markdown",
   "id": "fb51b0f9",
   "metadata": {},
   "source": [
    "## 4.1 Random Undersampling"
   ]
  },
  {
   "cell_type": "code",
   "execution_count": 35,
   "id": "71310c7d",
   "metadata": {
    "ExecuteTime": {
     "end_time": "2022-07-19T13:48:46.287317Z",
     "start_time": "2022-07-19T13:48:45.086391Z"
    }
   },
   "outputs": [],
   "source": [
    "# Ratio_balanced\n",
    "ratio_balanced = {'NDF': 10000}\n",
    "\n",
    "#Para fazer reamostragem : definir um sampler\n",
    "undersampling = us.RandomUnderSampler(sampling_strategy=ratio_balanced, random_state=32)\n",
    "\n",
    "#aplicar o sampler\n",
    "X_under, y_under = undersampling.fit_resample(df42, df4['country_destination'])"
   ]
  },
  {
   "cell_type": "code",
   "execution_count": 36,
   "id": "e8c77a3b",
   "metadata": {
    "ExecuteTime": {
     "end_time": "2022-07-19T13:48:46.318499Z",
     "start_time": "2022-07-19T13:48:46.291120Z"
    },
    "scrolled": false
   },
   "outputs": [
    {
     "data": {
      "text/plain": [
       "NDF      54852\n",
       "US       48057\n",
       "other     7511\n",
       "FR        3669\n",
       "IT        2014\n",
       "GB        1758\n",
       "ES        1685\n",
       "CA        1064\n",
       "DE         841\n",
       "NL         595\n",
       "AU         433\n",
       "PT         157\n",
       "Name: country_destination, dtype: int64"
      ]
     },
     "execution_count": 36,
     "metadata": {},
     "output_type": "execute_result"
    }
   ],
   "source": [
    "df4['country_destination'].value_counts()"
   ]
  },
  {
   "cell_type": "code",
   "execution_count": 37,
   "id": "89b22d95",
   "metadata": {
    "ExecuteTime": {
     "end_time": "2022-07-19T13:48:46.443031Z",
     "start_time": "2022-07-19T13:48:46.320496Z"
    }
   },
   "outputs": [
    {
     "data": {
      "text/plain": [
       "US       48057\n",
       "NDF      10000\n",
       "other     7511\n",
       "FR        3669\n",
       "IT        2014\n",
       "GB        1758\n",
       "ES        1685\n",
       "CA        1064\n",
       "DE         841\n",
       "NL         595\n",
       "AU         433\n",
       "PT         157\n",
       "Name: country_destination, dtype: int64"
      ]
     },
     "execution_count": 37,
     "metadata": {},
     "output_type": "execute_result"
    }
   ],
   "source": [
    "y_under.value_counts()"
   ]
  },
  {
   "cell_type": "markdown",
   "id": "56aed11a",
   "metadata": {},
   "source": [
    "## 4.2 Random Oversampling"
   ]
  },
  {
   "cell_type": "code",
   "execution_count": 38,
   "id": "8eed9f7e",
   "metadata": {
    "ExecuteTime": {
     "end_time": "2022-07-19T13:48:48.011225Z",
     "start_time": "2022-07-19T13:48:46.445029Z"
    }
   },
   "outputs": [],
   "source": [
    "# Ratio_balanced\n",
    "#ratio_balanced = {'NDF': 10000}\n",
    "\n",
    "#Para fazer reamostragem : definir um sampler\n",
    "oversampling = oversamp.RandomOverSampler(sampling_strategy='minority', random_state=32)\n",
    "\n",
    "#aplicar o sampler\n",
    "X_over, y_over = oversampling.fit_resample(df42, df4['country_destination']) "
   ]
  },
  {
   "cell_type": "code",
   "execution_count": 39,
   "id": "572971dd",
   "metadata": {
    "ExecuteTime": {
     "end_time": "2022-07-19T13:48:48.041774Z",
     "start_time": "2022-07-19T13:48:48.013224Z"
    },
    "scrolled": true
   },
   "outputs": [
    {
     "data": {
      "text/plain": [
       "NDF      54852\n",
       "US       48057\n",
       "other     7511\n",
       "FR        3669\n",
       "IT        2014\n",
       "GB        1758\n",
       "ES        1685\n",
       "CA        1064\n",
       "DE         841\n",
       "NL         595\n",
       "AU         433\n",
       "PT         157\n",
       "Name: country_destination, dtype: int64"
      ]
     },
     "execution_count": 39,
     "metadata": {},
     "output_type": "execute_result"
    }
   ],
   "source": [
    "df4['country_destination'].value_counts()"
   ]
  },
  {
   "cell_type": "code",
   "execution_count": 40,
   "id": "f172616d",
   "metadata": {
    "ExecuteTime": {
     "end_time": "2022-07-19T13:48:48.245672Z",
     "start_time": "2022-07-19T13:48:48.043845Z"
    },
    "scrolled": true
   },
   "outputs": [
    {
     "data": {
      "text/plain": [
       "NDF      54852\n",
       "PT       54852\n",
       "US       48057\n",
       "other     7511\n",
       "FR        3669\n",
       "IT        2014\n",
       "GB        1758\n",
       "ES        1685\n",
       "CA        1064\n",
       "DE         841\n",
       "NL         595\n",
       "AU         433\n",
       "Name: country_destination, dtype: int64"
      ]
     },
     "execution_count": 40,
     "metadata": {},
     "output_type": "execute_result"
    }
   ],
   "source": [
    "y_over.value_counts()"
   ]
  },
  {
   "cell_type": "markdown",
   "id": "c7998a81",
   "metadata": {},
   "source": [
    "## 4.3 Smote + Tomeklink"
   ]
  },
  {
   "cell_type": "code",
   "execution_count": 41,
   "id": "2d30a674",
   "metadata": {
    "ExecuteTime": {
     "end_time": "2022-07-19T13:48:48.400096Z",
     "start_time": "2022-07-19T13:48:48.247514Z"
    }
   },
   "outputs": [
    {
     "data": {
      "text/plain": [
       "122636"
      ]
     },
     "execution_count": 41,
     "metadata": {},
     "output_type": "execute_result"
    }
   ],
   "source": [
    "len(df4['country_destination'])"
   ]
  },
  {
   "cell_type": "code",
   "execution_count": 42,
   "id": "32ad8d61",
   "metadata": {
    "ExecuteTime": {
     "end_time": "2022-07-19T13:48:48.554958Z",
     "start_time": "2022-07-19T13:48:48.404083Z"
    }
   },
   "outputs": [
    {
     "data": {
      "text/plain": [
       "5.325522566901877"
      ]
     },
     "execution_count": 42,
     "metadata": {},
     "output_type": "execute_result"
    }
   ],
   "source": [
    "40000/7511"
   ]
  },
  {
   "cell_type": "code",
   "execution_count": 43,
   "id": "24bf179a",
   "metadata": {
    "ExecuteTime": {
     "end_time": "2022-07-19T13:48:48.725950Z",
     "start_time": "2022-07-19T13:48:48.557953Z"
    },
    "scrolled": true
   },
   "outputs": [],
   "source": [
    "#df4['country_destination'].value_counts().to_dict()\n",
    "ratio_balanced = {'NDF':   54852,\n",
    "                  'US':    48057,\n",
    "                  'other': 6*7511,\n",
    "                  'FR':    12*3669,\n",
    "                  'IT':    20*2014,\n",
    "                  'GB':    30*1758,\n",
    "                  'ES':    30*1685,\n",
    "                  'CA':    40*1064,\n",
    "                  'DE':    50*841,\n",
    "                  'NL':    80*595,\n",
    "                  'AU':    95*433,\n",
    "                  'PT':    300*157}"
   ]
  },
  {
   "cell_type": "code",
   "execution_count": 44,
   "id": "12bc25b6",
   "metadata": {
    "ExecuteTime": {
     "end_time": "2022-07-19T14:27:41.608904Z",
     "start_time": "2022-07-19T13:48:48.729943Z"
    }
   },
   "outputs": [],
   "source": [
    "#define sampler\n",
    "smt = c.SMOTETomek(sampling_strategy=ratio_balanced, random_state=32, n_jobs=-1)\n",
    "\n",
    "# apply sampler\n",
    "X_smt, y_smt = smt.fit_resample(df42, df4['country_destination'])"
   ]
  },
  {
   "cell_type": "code",
   "execution_count": 45,
   "id": "b2d7d2cf",
   "metadata": {
    "ExecuteTime": {
     "end_time": "2022-07-19T14:27:43.535617Z",
     "start_time": "2022-07-19T14:27:41.612898Z"
    }
   },
   "outputs": [],
   "source": [
    "#Numerical data\n",
    "df43 = X_smt[col_num]\n",
    "\n",
    "#Categorical Data\n",
    "df44 =X_smt.drop(col_num, axis=1)\n",
    "df45 = pd.DataFrame( ohe.inverse_transform(df44), columns=col_cat, index=df44.index)\n",
    "#Join Numerical categorical\n",
    "df46 = pd.concat([df43, df45], axis=1)\n",
    "df4['country_destination']=y_smt\n"
   ]
  },
  {
   "cell_type": "code",
   "execution_count": 46,
   "id": "5f06ca3b",
   "metadata": {
    "ExecuteTime": {
     "end_time": "2022-07-19T14:27:43.644413Z",
     "start_time": "2022-07-19T14:27:43.541601Z"
    }
   },
   "outputs": [
    {
     "data": {
      "text/html": [
       "<div>\n",
       "<style scoped>\n",
       "    .dataframe tbody tr th:only-of-type {\n",
       "        vertical-align: middle;\n",
       "    }\n",
       "\n",
       "    .dataframe tbody tr th {\n",
       "        vertical-align: top;\n",
       "    }\n",
       "\n",
       "    .dataframe thead th {\n",
       "        text-align: right;\n",
       "    }\n",
       "</style>\n",
       "<table border=\"1\" class=\"dataframe\">\n",
       "  <thead>\n",
       "    <tr style=\"text-align: right;\">\n",
       "      <th></th>\n",
       "      <th>age</th>\n",
       "      <th>signup_flow</th>\n",
       "      <th>days_from_first_active_until_booking</th>\n",
       "      <th>days_from_first_active_until_account_created</th>\n",
       "      <th>days_from_account_created_until_first_booking</th>\n",
       "      <th>year_first_active</th>\n",
       "      <th>month_first_active</th>\n",
       "      <th>day_first_active</th>\n",
       "      <th>day_of_week_first_active</th>\n",
       "      <th>week_of_year_first_active</th>\n",
       "      <th>...</th>\n",
       "      <th>week_of _year_first_account_created</th>\n",
       "      <th>gender</th>\n",
       "      <th>signup_method</th>\n",
       "      <th>language</th>\n",
       "      <th>affiliate_channel</th>\n",
       "      <th>affiliate_provider</th>\n",
       "      <th>first_affiliate_tracked</th>\n",
       "      <th>signup_app</th>\n",
       "      <th>first_device_type</th>\n",
       "      <th>first_browser</th>\n",
       "    </tr>\n",
       "  </thead>\n",
       "  <tbody>\n",
       "    <tr>\n",
       "      <th>0</th>\n",
       "      <td>38</td>\n",
       "      <td>0</td>\n",
       "      <td>2228</td>\n",
       "      <td>732</td>\n",
       "      <td>1496</td>\n",
       "      <td>2009</td>\n",
       "      <td>5</td>\n",
       "      <td>23</td>\n",
       "      <td>5</td>\n",
       "      <td>21</td>\n",
       "      <td>...</td>\n",
       "      <td>21</td>\n",
       "      <td>MALE</td>\n",
       "      <td>facebook</td>\n",
       "      <td>en</td>\n",
       "      <td>seo</td>\n",
       "      <td>google</td>\n",
       "      <td>untracked</td>\n",
       "      <td>Web</td>\n",
       "      <td>Mac Desktop</td>\n",
       "      <td>Chrome</td>\n",
       "    </tr>\n",
       "    <tr>\n",
       "      <th>1</th>\n",
       "      <td>56</td>\n",
       "      <td>3</td>\n",
       "      <td>419</td>\n",
       "      <td>476</td>\n",
       "      <td>-57</td>\n",
       "      <td>2009</td>\n",
       "      <td>6</td>\n",
       "      <td>9</td>\n",
       "      <td>1</td>\n",
       "      <td>24</td>\n",
       "      <td>...</td>\n",
       "      <td>39</td>\n",
       "      <td>FEMALE</td>\n",
       "      <td>basic</td>\n",
       "      <td>en</td>\n",
       "      <td>direct</td>\n",
       "      <td>direct</td>\n",
       "      <td>untracked</td>\n",
       "      <td>Web</td>\n",
       "      <td>Windows Desktop</td>\n",
       "      <td>IE</td>\n",
       "    </tr>\n",
       "    <tr>\n",
       "      <th>2</th>\n",
       "      <td>42</td>\n",
       "      <td>0</td>\n",
       "      <td>1043</td>\n",
       "      <td>765</td>\n",
       "      <td>278</td>\n",
       "      <td>2009</td>\n",
       "      <td>10</td>\n",
       "      <td>31</td>\n",
       "      <td>5</td>\n",
       "      <td>44</td>\n",
       "      <td>...</td>\n",
       "      <td>49</td>\n",
       "      <td>FEMALE</td>\n",
       "      <td>facebook</td>\n",
       "      <td>en</td>\n",
       "      <td>direct</td>\n",
       "      <td>direct</td>\n",
       "      <td>untracked</td>\n",
       "      <td>Web</td>\n",
       "      <td>Mac Desktop</td>\n",
       "      <td>Firefox</td>\n",
       "    </tr>\n",
       "    <tr>\n",
       "      <th>3</th>\n",
       "      <td>41</td>\n",
       "      <td>0</td>\n",
       "      <td>72</td>\n",
       "      <td>280</td>\n",
       "      <td>-208</td>\n",
       "      <td>2009</td>\n",
       "      <td>12</td>\n",
       "      <td>8</td>\n",
       "      <td>1</td>\n",
       "      <td>50</td>\n",
       "      <td>...</td>\n",
       "      <td>37</td>\n",
       "      <td>-unknown-</td>\n",
       "      <td>basic</td>\n",
       "      <td>en</td>\n",
       "      <td>direct</td>\n",
       "      <td>direct</td>\n",
       "      <td>untracked</td>\n",
       "      <td>Web</td>\n",
       "      <td>Mac Desktop</td>\n",
       "      <td>Chrome</td>\n",
       "    </tr>\n",
       "    <tr>\n",
       "      <th>4</th>\n",
       "      <td>46</td>\n",
       "      <td>0</td>\n",
       "      <td>3</td>\n",
       "      <td>0</td>\n",
       "      <td>3</td>\n",
       "      <td>2010</td>\n",
       "      <td>1</td>\n",
       "      <td>2</td>\n",
       "      <td>5</td>\n",
       "      <td>53</td>\n",
       "      <td>...</td>\n",
       "      <td>53</td>\n",
       "      <td>FEMALE</td>\n",
       "      <td>basic</td>\n",
       "      <td>en</td>\n",
       "      <td>other</td>\n",
       "      <td>craigslist</td>\n",
       "      <td>untracked</td>\n",
       "      <td>Web</td>\n",
       "      <td>Mac Desktop</td>\n",
       "      <td>Safari</td>\n",
       "    </tr>\n",
       "  </tbody>\n",
       "</table>\n",
       "<p>5 rows × 29 columns</p>\n",
       "</div>"
      ],
      "text/plain": [
       "   age  signup_flow  days_from_first_active_until_booking  \\\n",
       "0   38            0                                  2228   \n",
       "1   56            3                                   419   \n",
       "2   42            0                                  1043   \n",
       "3   41            0                                    72   \n",
       "4   46            0                                     3   \n",
       "\n",
       "   days_from_first_active_until_account_created  \\\n",
       "0                                           732   \n",
       "1                                           476   \n",
       "2                                           765   \n",
       "3                                           280   \n",
       "4                                             0   \n",
       "\n",
       "   days_from_account_created_until_first_booking  year_first_active  \\\n",
       "0                                           1496               2009   \n",
       "1                                            -57               2009   \n",
       "2                                            278               2009   \n",
       "3                                           -208               2009   \n",
       "4                                              3               2010   \n",
       "\n",
       "   month_first_active  day_first_active  day_of_week_first_active  \\\n",
       "0                   5                23                         5   \n",
       "1                   6                 9                         1   \n",
       "2                  10                31                         5   \n",
       "3                  12                 8                         1   \n",
       "4                   1                 2                         5   \n",
       "\n",
       "   week_of_year_first_active  ...  week_of _year_first_account_created  \\\n",
       "0                         21  ...                                   21   \n",
       "1                         24  ...                                   39   \n",
       "2                         44  ...                                   49   \n",
       "3                         50  ...                                   37   \n",
       "4                         53  ...                                   53   \n",
       "\n",
       "      gender  signup_method  language  affiliate_channel  affiliate_provider  \\\n",
       "0       MALE       facebook        en                seo              google   \n",
       "1     FEMALE          basic        en             direct              direct   \n",
       "2     FEMALE       facebook        en             direct              direct   \n",
       "3  -unknown-          basic        en             direct              direct   \n",
       "4     FEMALE          basic        en              other          craigslist   \n",
       "\n",
       "   first_affiliate_tracked  signup_app  first_device_type  first_browser  \n",
       "0                untracked         Web        Mac Desktop         Chrome  \n",
       "1                untracked         Web    Windows Desktop             IE  \n",
       "2                untracked         Web        Mac Desktop        Firefox  \n",
       "3                untracked         Web        Mac Desktop         Chrome  \n",
       "4                untracked         Web        Mac Desktop         Safari  \n",
       "\n",
       "[5 rows x 29 columns]"
      ]
     },
     "execution_count": 46,
     "metadata": {},
     "output_type": "execute_result"
    }
   ],
   "source": [
    "df46.head()"
   ]
  },
  {
   "cell_type": "code",
   "execution_count": 47,
   "id": "4f0aecdd",
   "metadata": {
    "ExecuteTime": {
     "end_time": "2022-07-19T14:27:43.999396Z",
     "start_time": "2022-07-19T14:27:43.648403Z"
    }
   },
   "outputs": [
    {
     "data": {
      "text/plain": [
       "NDF      32654\n",
       "US       28100\n",
       "CA       23690\n",
       "AU       22387\n",
       "DE        5566\n",
       "other     4377\n",
       "FR        2162\n",
       "IT        1204\n",
       "GB        1048\n",
       "ES        1026\n",
       "NL         328\n",
       "PT          94\n",
       "Name: country_destination, dtype: int64"
      ]
     },
     "execution_count": 47,
     "metadata": {},
     "output_type": "execute_result"
    }
   ],
   "source": [
    "df4['country_destination'].value_counts()"
   ]
  },
  {
   "cell_type": "code",
   "execution_count": 48,
   "id": "d8dd14e0",
   "metadata": {
    "ExecuteTime": {
     "end_time": "2022-07-19T14:27:44.205191Z",
     "start_time": "2022-07-19T14:27:44.002394Z"
    },
    "scrolled": true
   },
   "outputs": [
    {
     "data": {
      "text/plain": [
       "NDF      54850\n",
       "GB       52688\n",
       "ES       50505\n",
       "NL       47598\n",
       "US       47544\n",
       "PT       47100\n",
       "other    44755\n",
       "FR       43871\n",
       "CA       42542\n",
       "DE       42036\n",
       "AU       41133\n",
       "IT       40200\n",
       "Name: country_destination, dtype: int64"
      ]
     },
     "execution_count": 48,
     "metadata": {},
     "output_type": "execute_result"
    }
   ],
   "source": [
    "y_smt.value_counts()"
   ]
  },
  {
   "cell_type": "markdown",
   "id": "470dc8b5",
   "metadata": {},
   "source": [
    "# 5.0 - EXPLORATORY DATA ANALYSIS (EDA)"
   ]
  },
  {
   "cell_type": "markdown",
   "id": "10552553",
   "metadata": {},
   "source": [
    "## 5.1 Validação de Hipótese - Dados balanceados\n"
   ]
  },
  {
   "cell_type": "code",
   "execution_count": 49,
   "id": "8952d754",
   "metadata": {
    "ExecuteTime": {
     "end_time": "2022-07-19T14:27:50.829442Z",
     "start_time": "2022-07-19T14:27:44.207994Z"
    }
   },
   "outputs": [],
   "source": [
    "df51 = df4.copy()"
   ]
  },
  {
   "cell_type": "markdown",
   "id": "021d9ce3",
   "metadata": {},
   "source": [
    "**H01**. Em todos os destinos, os usuários levam 15 dias em média, para fazer a primeira reserva no airbnb, desde a primeira ativação"
   ]
  },
  {
   "cell_type": "markdown",
   "id": "71e73823",
   "metadata": {},
   "source": [
    "**Verdadeiro** em todo destinos os usuários levam em média  até 6 dias para fazer a primeira reserva"
   ]
  },
  {
   "cell_type": "code",
   "execution_count": 50,
   "id": "f754135d",
   "metadata": {
    "ExecuteTime": {
     "end_time": "2022-07-19T14:27:51.777292Z",
     "start_time": "2022-07-19T14:27:50.832436Z"
    }
   },
   "outputs": [
    {
     "data": {
      "text/plain": [
       "<AxesSubplot:xlabel='country_destination', ylabel='days_from_first_active_until_booking'>"
      ]
     },
     "execution_count": 50,
     "metadata": {},
     "output_type": "execute_result"
    },
    {
     "data": {
      "image/png": "[encoded data removed]",
      "text/plain": [
       "<Figure size 1440x864 with 2 Axes>"
      ]
     },
     "metadata": {
      "needs_background": "light"
     },
     "output_type": "display_data"
    }
   ],
   "source": [
    "\n",
    "plt.figure( figsize=(20, 12))\n",
    "plt.subplot( 3, 1, 1 )\n",
    "aux01 = df51[['days_from_first_active_until_booking', 'country_destination']].groupby( 'country_destination' ).median().reset_index()\n",
    "sns.barplot( x='country_destination', y='days_from_first_active_until_booking', \n",
    "             data=aux01.sort_values( 'days_from_first_active_until_booking' ) )\n",
    "\n",
    "\n",
    "#Remove outliers\n",
    "plt.subplot( 3, 1, 2 )\n",
    "aux02 = df51[df51['country_destination'] != 'NDF']\n",
    "aux02 = aux02[['days_from_first_active_until_booking', 'country_destination']].groupby( 'country_destination' ).median().reset_index()\n",
    "sns.barplot( x='country_destination', y='days_from_first_active_until_booking', \n",
    "             data=aux02.sort_values( 'days_from_first_active_until_booking' ) )"
   ]
  },
  {
   "cell_type": "markdown",
   "id": "b7f6f71d",
   "metadata": {},
   "source": [
    "**H02**. Em todos os destinos, os usuários levam 3 dias em média, para fazer o cadastro no site"
   ]
  },
  {
   "cell_type": "markdown",
   "id": "e3188928",
   "metadata": {},
   "source": [
    "**Verdadeiro** Em todos os destinos os usuario levam até 2 dias para ativar o cadastro"
   ]
  },
  {
   "cell_type": "code",
   "execution_count": 51,
   "id": "966b0df5",
   "metadata": {
    "ExecuteTime": {
     "end_time": "2022-07-19T14:27:52.196230Z",
     "start_time": "2022-07-19T14:27:51.780285Z"
    }
   },
   "outputs": [
    {
     "data": {
      "text/plain": [
       "<AxesSubplot:xlabel='country_destination', ylabel='days_from_first_active_until_account_created'>"
      ]
     },
     "execution_count": 51,
     "metadata": {},
     "output_type": "execute_result"
    },
    {
     "data": {
      "image/png": "[encoded data removed]",
      "text/plain": [
       "<Figure size 1440x864 with 1 Axes>"
      ]
     },
     "metadata": {
      "needs_background": "light"
     },
     "output_type": "display_data"
    }
   ],
   "source": [
    "\n",
    "aux01 = df51[['days_from_first_active_until_account_created', 'country_destination']].groupby('country_destination').mean().reset_index()\n",
    "\n",
    "\n",
    "plt.figure(figsize=(20,12))\n",
    "plt.subplot(2, 1, 1)\n",
    "sns.barplot(x='country_destination', y='days_from_first_active_until_account_created', \n",
    "            data=aux01.sort_values('days_from_first_active_until_account_created'))\n",
    "\n"
   ]
  },
  {
   "cell_type": "markdown",
   "id": "99f6501c",
   "metadata": {},
   "source": [
    "**H03**. O Volume de reserva anual feitas durante  o verão aumentaram 20% para destinos dentro dos USA"
   ]
  },
  {
   "cell_type": "markdown",
   "id": "dfcbc52c",
   "metadata": {
    "ExecuteTime": {
     "end_time": "2022-07-03T18:28:27.437132Z",
     "start_time": "2022-07-03T18:28:27.422174Z"
    }
   },
   "source": [
    "**Falsa** Há um volume maior que 20% até 2013, depois elas caem."
   ]
  },
  {
   "cell_type": "code",
   "execution_count": 52,
   "id": "39a0ee03",
   "metadata": {
    "ExecuteTime": {
     "end_time": "2022-07-19T14:27:52.786006Z",
     "start_time": "2022-07-19T14:27:52.200079Z"
    },
    "code_folding": []
   },
   "outputs": [
    {
     "data": {
      "text/plain": [
       "<AxesSubplot:xlabel='year_first_booking', ylabel='delta'>"
      ]
     },
     "execution_count": 52,
     "metadata": {},
     "output_type": "execute_result"
    },
    {
     "data": {
      "image/png": "[encoded data removed]",
      "text/plain": [
       "<Figure size 1440x864 with 1 Axes>"
      ]
     },
     "metadata": {
      "needs_background": "light"
     },
     "output_type": "display_data"
    }
   ],
   "source": [
    "aux01 = df51[['year_first_booking', 'month_first_booking', 'country_destination']].\\\n",
    "                groupby( ['year_first_booking', 'month_first_booking', 'country_destination'] ). \\\n",
    "                size().reset_index().rename( columns={0:'count'})\n",
    "\n",
    "# select only summer\n",
    "aux01 = aux01[( aux01['month_first_booking'].isin( [6, 7, 8, 9] ) ) & (aux01['country_destination'] == 'US')]\n",
    "\n",
    "aux02 = aux01[['year_first_booking', 'count']].groupby( 'year_first_booking' ).sum().reset_index()\n",
    "\n",
    "aux02['delta'] = 100*aux02['count'].pct_change().fillna( 0 )\n",
    "\n",
    "plt.figure( figsize=(20,12))\n",
    "sns.barplot( x='year_first_booking', y='delta', data=aux02)"
   ]
  },
  {
   "cell_type": "markdown",
   "id": "a3dc323f",
   "metadata": {},
   "source": [
    "**H04**. Os usuários do sexo feminino fazem 10% mais reservas fara fora dos USA"
   ]
  },
  {
   "cell_type": "code",
   "execution_count": null,
   "id": "e49f5694",
   "metadata": {},
   "outputs": [],
   "source": []
  },
  {
   "cell_type": "code",
   "execution_count": null,
   "id": "7d0738ae",
   "metadata": {},
   "outputs": [],
   "source": []
  },
  {
   "cell_type": "markdown",
   "id": "8a09e726",
   "metadata": {},
   "source": [
    "**H05**. O Canal de mkt do google representa 40% das reservas para fora dos USA"
   ]
  },
  {
   "cell_type": "markdown",
   "id": "959483a2",
   "metadata": {},
   "source": [
    "**H06**. Destino dentro dos USA, representa 20% em todos os canais"
   ]
  },
  {
   "cell_type": "markdown",
   "id": "c5fcd6b6",
   "metadata": {},
   "source": [
    "**H07**. A idade média das pessoas é de 35 anos em todos os destinos"
   ]
  },
  {
   "cell_type": "markdown",
   "id": "89aa9e45",
   "metadata": {},
   "source": [
    "**H08**. A porcentagem de usuarios que usam o site na lingua ingles_Americano para reservar acomodações em qualquer destino é maior que 40%"
   ]
  },
  {
   "cell_type": "markdown",
   "id": "61caf5f0",
   "metadata": {},
   "source": [
    "**H09**. O número de reservas do airbnb é crescente ou decrescente ao longo dos anos?"
   ]
  },
  {
   "cell_type": "markdown",
   "id": "c629f709",
   "metadata": {},
   "source": [
    "**H10**. O número de reservas do airbnb é crescente ao longo dos anos?"
   ]
  },
  {
   "cell_type": "markdown",
   "id": "ef7f1dae",
   "metadata": {
    "ExecuteTime": {
     "end_time": "2022-07-01T19:58:53.442063Z",
     "start_time": "2022-07-01T19:58:53.337356Z"
    }
   },
   "source": [
    "## 5.2 Impacto das variaveis( Dados  balanceados)\n"
   ]
  },
  {
   "cell_type": "code",
   "execution_count": 53,
   "id": "6f8404b5",
   "metadata": {
    "ExecuteTime": {
     "end_time": "2022-07-19T14:27:52.848838Z",
     "start_time": "2022-07-19T14:27:52.788998Z"
    }
   },
   "outputs": [],
   "source": [
    "df52 = df4.copy()"
   ]
  },
  {
   "cell_type": "markdown",
   "id": "0e70a2c5",
   "metadata": {},
   "source": [
    "### 5.2.1 Analise Univariada"
   ]
  },
  {
   "cell_type": "code",
   "execution_count": 54,
   "id": "688f79d1",
   "metadata": {
    "ExecuteTime": {
     "end_time": "2022-07-19T14:27:52.989461Z",
     "start_time": "2022-07-19T14:27:52.851832Z"
    }
   },
   "outputs": [],
   "source": [
    "#my_report = sv.analyze(df52)\n",
    "#my_report.show_html() # Default arguments will generate to \"SWEETVIZ_REPORT.html\""
   ]
  },
  {
   "cell_type": "markdown",
   "id": "47848d31",
   "metadata": {
    "ExecuteTime": {
     "end_time": "2022-07-04T12:25:12.262131Z",
     "start_time": "2022-07-04T12:25:12.248126Z"
    }
   },
   "source": [
    "### 5.2.2 Analise Bivariada"
   ]
  },
  {
   "cell_type": "code",
   "execution_count": null,
   "id": "e51a0099",
   "metadata": {},
   "outputs": [],
   "source": []
  },
  {
   "cell_type": "code",
   "execution_count": null,
   "id": "5dd57529",
   "metadata": {},
   "outputs": [],
   "source": []
  },
  {
   "cell_type": "markdown",
   "id": "73447065",
   "metadata": {
    "ExecuteTime": {
     "end_time": "2022-07-01T19:58:53.442063Z",
     "start_time": "2022-07-01T19:58:53.337356Z"
    }
   },
   "source": [
    "### 5.2.3  Analises Multivariada\n"
   ]
  },
  {
   "cell_type": "code",
   "execution_count": 55,
   "id": "2ab1f120",
   "metadata": {
    "ExecuteTime": {
     "end_time": "2022-07-19T14:27:53.160647Z",
     "start_time": "2022-07-19T14:27:52.992455Z"
    }
   },
   "outputs": [],
   "source": [
    "cols = ['days_from_first_active_until_booking',  'year_first_active',  'month_first_active', 'day_first_active',\n",
    "        'day_of_week_first_active', 'week_of_year_first_active', 'month_first_booking', 'month_account_created',\n",
    "        'year_first_booking', 'week_of_year_first_booking', 'affiliate_provider',\n",
    "        'first_browser', 'first_device_type', 'language'] # high correlation"
   ]
  },
  {
   "cell_type": "code",
   "execution_count": null,
   "id": "61cd137b",
   "metadata": {},
   "outputs": [],
   "source": []
  },
  {
   "cell_type": "markdown",
   "id": "213d6dab",
   "metadata": {
    "ExecuteTime": {
     "end_time": "2022-07-06T22:53:14.640363Z",
     "start_time": "2022-07-06T22:53:14.623408Z"
    }
   },
   "source": [
    "## 5.2 Analise Bivariada - Validação de hipoteses -  Dados  desbalanceados\n"
   ]
  },
  {
   "cell_type": "code",
   "execution_count": null,
   "id": "3c6292d7",
   "metadata": {},
   "outputs": [],
   "source": []
  },
  {
   "cell_type": "markdown",
   "id": "20a0b389",
   "metadata": {},
   "source": [
    "#  6.0 - DATA PREPARATION"
   ]
  },
  {
   "cell_type": "code",
   "execution_count": 56,
   "id": "1fc2c5fc",
   "metadata": {
    "ExecuteTime": {
     "end_time": "2022-07-19T14:27:53.393025Z",
     "start_time": "2022-07-19T14:27:53.164639Z"
    }
   },
   "outputs": [
    {
     "data": {
      "text/plain": [
       "(554822, 15)"
      ]
     },
     "execution_count": 56,
     "metadata": {},
     "output_type": "execute_result"
    }
   ],
   "source": [
    "df6= df46.drop(cols, axis=1)\n",
    "df6.shape\n"
   ]
  },
  {
   "cell_type": "code",
   "execution_count": 57,
   "id": "fc92ef43",
   "metadata": {
    "ExecuteTime": {
     "end_time": "2022-07-19T14:27:59.956291Z",
     "start_time": "2022-07-19T14:27:53.396017Z"
    }
   },
   "outputs": [
    {
     "ename": "KeyError",
     "evalue": "\"['id', 'country_destination'] not found in axis\"",
     "output_type": "error",
     "traceback": [
      "\u001b[1;31m---------------------------------------------------------------------------\u001b[0m",
      "\u001b[1;31mKeyError\u001b[0m                                  Traceback (most recent call last)",
      "Input \u001b[1;32mIn [57]\u001b[0m, in \u001b[0;36m<cell line: 2>\u001b[1;34m()\u001b[0m\n\u001b[0;32m      1\u001b[0m \u001b[38;5;66;03m# Dummy Variable\u001b[39;00m\n\u001b[1;32m----> 2\u001b[0m df6_dummy \u001b[38;5;241m=\u001b[39m pd\u001b[38;5;241m.\u001b[39mget_dummies( \u001b[43mdf6\u001b[49m\u001b[38;5;241;43m.\u001b[39;49m\u001b[43mdrop\u001b[49m\u001b[43m(\u001b[49m\u001b[43m \u001b[49m\u001b[43m[\u001b[49m\u001b[38;5;124;43m'\u001b[39;49m\u001b[38;5;124;43mid\u001b[39;49m\u001b[38;5;124;43m'\u001b[39;49m\u001b[43m,\u001b[49m\u001b[38;5;124;43m'\u001b[39;49m\u001b[38;5;124;43mcountry_destination\u001b[39;49m\u001b[38;5;124;43m'\u001b[39;49m\u001b[43m]\u001b[49m\u001b[43m,\u001b[49m\u001b[43m \u001b[49m\u001b[43maxis\u001b[49m\u001b[38;5;241;43m=\u001b[39;49m\u001b[38;5;241;43m1\u001b[39;49m\u001b[43m \u001b[49m\u001b[43m)\u001b[49m )\n\u001b[0;32m      4\u001b[0m \u001b[38;5;66;03m#Join ID and country_destiantion\u001b[39;00m\n\u001b[0;32m      5\u001b[0m df6 \u001b[38;5;241m=\u001b[39mpd\u001b[38;5;241m.\u001b[39mconcat( [  df6[[\u001b[38;5;124m'\u001b[39m\u001b[38;5;124mid\u001b[39m\u001b[38;5;124m'\u001b[39m, \u001b[38;5;124m'\u001b[39m\u001b[38;5;124mcountry_destination\u001b[39m\u001b[38;5;124m'\u001b[39m]], df6_dummy],axis\u001b[38;5;241m=\u001b[39m\u001b[38;5;241m1\u001b[39m)\n",
      "File \u001b[1;32m~\\anaconda3\\envs\\pa006_airbnb\\lib\\site-packages\\pandas\\util\\_decorators.py:311\u001b[0m, in \u001b[0;36mdeprecate_nonkeyword_arguments.<locals>.decorate.<locals>.wrapper\u001b[1;34m(*args, **kwargs)\u001b[0m\n\u001b[0;32m    305\u001b[0m \u001b[38;5;28;01mif\u001b[39;00m \u001b[38;5;28mlen\u001b[39m(args) \u001b[38;5;241m>\u001b[39m num_allow_args:\n\u001b[0;32m    306\u001b[0m     warnings\u001b[38;5;241m.\u001b[39mwarn(\n\u001b[0;32m    307\u001b[0m         msg\u001b[38;5;241m.\u001b[39mformat(arguments\u001b[38;5;241m=\u001b[39marguments),\n\u001b[0;32m    308\u001b[0m         \u001b[38;5;167;01mFutureWarning\u001b[39;00m,\n\u001b[0;32m    309\u001b[0m         stacklevel\u001b[38;5;241m=\u001b[39mstacklevel,\n\u001b[0;32m    310\u001b[0m     )\n\u001b[1;32m--> 311\u001b[0m \u001b[38;5;28;01mreturn\u001b[39;00m \u001b[43mfunc\u001b[49m\u001b[43m(\u001b[49m\u001b[38;5;241;43m*\u001b[39;49m\u001b[43margs\u001b[49m\u001b[43m,\u001b[49m\u001b[43m \u001b[49m\u001b[38;5;241;43m*\u001b[39;49m\u001b[38;5;241;43m*\u001b[39;49m\u001b[43mkwargs\u001b[49m\u001b[43m)\u001b[49m\n",
      "File \u001b[1;32m~\\anaconda3\\envs\\pa006_airbnb\\lib\\site-packages\\pandas\\core\\frame.py:4954\u001b[0m, in \u001b[0;36mDataFrame.drop\u001b[1;34m(self, labels, axis, index, columns, level, inplace, errors)\u001b[0m\n\u001b[0;32m   4806\u001b[0m \u001b[38;5;129m@deprecate_nonkeyword_arguments\u001b[39m(version\u001b[38;5;241m=\u001b[39m\u001b[38;5;28;01mNone\u001b[39;00m, allowed_args\u001b[38;5;241m=\u001b[39m[\u001b[38;5;124m\"\u001b[39m\u001b[38;5;124mself\u001b[39m\u001b[38;5;124m\"\u001b[39m, \u001b[38;5;124m\"\u001b[39m\u001b[38;5;124mlabels\u001b[39m\u001b[38;5;124m\"\u001b[39m])\n\u001b[0;32m   4807\u001b[0m \u001b[38;5;28;01mdef\u001b[39;00m \u001b[38;5;21mdrop\u001b[39m(\n\u001b[0;32m   4808\u001b[0m     \u001b[38;5;28mself\u001b[39m,\n\u001b[1;32m   (...)\u001b[0m\n\u001b[0;32m   4815\u001b[0m     errors: \u001b[38;5;28mstr\u001b[39m \u001b[38;5;241m=\u001b[39m \u001b[38;5;124m\"\u001b[39m\u001b[38;5;124mraise\u001b[39m\u001b[38;5;124m\"\u001b[39m,\n\u001b[0;32m   4816\u001b[0m ):\n\u001b[0;32m   4817\u001b[0m     \u001b[38;5;124;03m\"\"\"\u001b[39;00m\n\u001b[0;32m   4818\u001b[0m \u001b[38;5;124;03m    Drop specified labels from rows or columns.\u001b[39;00m\n\u001b[0;32m   4819\u001b[0m \n\u001b[1;32m   (...)\u001b[0m\n\u001b[0;32m   4952\u001b[0m \u001b[38;5;124;03m            weight  1.0     0.8\u001b[39;00m\n\u001b[0;32m   4953\u001b[0m \u001b[38;5;124;03m    \"\"\"\u001b[39;00m\n\u001b[1;32m-> 4954\u001b[0m     \u001b[38;5;28;01mreturn\u001b[39;00m \u001b[38;5;28;43msuper\u001b[39;49m\u001b[43m(\u001b[49m\u001b[43m)\u001b[49m\u001b[38;5;241;43m.\u001b[39;49m\u001b[43mdrop\u001b[49m\u001b[43m(\u001b[49m\n\u001b[0;32m   4955\u001b[0m \u001b[43m        \u001b[49m\u001b[43mlabels\u001b[49m\u001b[38;5;241;43m=\u001b[39;49m\u001b[43mlabels\u001b[49m\u001b[43m,\u001b[49m\n\u001b[0;32m   4956\u001b[0m \u001b[43m        \u001b[49m\u001b[43maxis\u001b[49m\u001b[38;5;241;43m=\u001b[39;49m\u001b[43maxis\u001b[49m\u001b[43m,\u001b[49m\n\u001b[0;32m   4957\u001b[0m \u001b[43m        \u001b[49m\u001b[43mindex\u001b[49m\u001b[38;5;241;43m=\u001b[39;49m\u001b[43mindex\u001b[49m\u001b[43m,\u001b[49m\n\u001b[0;32m   4958\u001b[0m \u001b[43m        \u001b[49m\u001b[43mcolumns\u001b[49m\u001b[38;5;241;43m=\u001b[39;49m\u001b[43mcolumns\u001b[49m\u001b[43m,\u001b[49m\n\u001b[0;32m   4959\u001b[0m \u001b[43m        \u001b[49m\u001b[43mlevel\u001b[49m\u001b[38;5;241;43m=\u001b[39;49m\u001b[43mlevel\u001b[49m\u001b[43m,\u001b[49m\n\u001b[0;32m   4960\u001b[0m \u001b[43m        \u001b[49m\u001b[43minplace\u001b[49m\u001b[38;5;241;43m=\u001b[39;49m\u001b[43minplace\u001b[49m\u001b[43m,\u001b[49m\n\u001b[0;32m   4961\u001b[0m \u001b[43m        \u001b[49m\u001b[43merrors\u001b[49m\u001b[38;5;241;43m=\u001b[39;49m\u001b[43merrors\u001b[49m\u001b[43m,\u001b[49m\n\u001b[0;32m   4962\u001b[0m \u001b[43m    \u001b[49m\u001b[43m)\u001b[49m\n",
      "File \u001b[1;32m~\\anaconda3\\envs\\pa006_airbnb\\lib\\site-packages\\pandas\\core\\generic.py:4267\u001b[0m, in \u001b[0;36mNDFrame.drop\u001b[1;34m(self, labels, axis, index, columns, level, inplace, errors)\u001b[0m\n\u001b[0;32m   4265\u001b[0m \u001b[38;5;28;01mfor\u001b[39;00m axis, labels \u001b[38;5;129;01min\u001b[39;00m axes\u001b[38;5;241m.\u001b[39mitems():\n\u001b[0;32m   4266\u001b[0m     \u001b[38;5;28;01mif\u001b[39;00m labels \u001b[38;5;129;01mis\u001b[39;00m \u001b[38;5;129;01mnot\u001b[39;00m \u001b[38;5;28;01mNone\u001b[39;00m:\n\u001b[1;32m-> 4267\u001b[0m         obj \u001b[38;5;241m=\u001b[39m \u001b[43mobj\u001b[49m\u001b[38;5;241;43m.\u001b[39;49m\u001b[43m_drop_axis\u001b[49m\u001b[43m(\u001b[49m\u001b[43mlabels\u001b[49m\u001b[43m,\u001b[49m\u001b[43m \u001b[49m\u001b[43maxis\u001b[49m\u001b[43m,\u001b[49m\u001b[43m \u001b[49m\u001b[43mlevel\u001b[49m\u001b[38;5;241;43m=\u001b[39;49m\u001b[43mlevel\u001b[49m\u001b[43m,\u001b[49m\u001b[43m \u001b[49m\u001b[43merrors\u001b[49m\u001b[38;5;241;43m=\u001b[39;49m\u001b[43merrors\u001b[49m\u001b[43m)\u001b[49m\n\u001b[0;32m   4269\u001b[0m \u001b[38;5;28;01mif\u001b[39;00m inplace:\n\u001b[0;32m   4270\u001b[0m     \u001b[38;5;28mself\u001b[39m\u001b[38;5;241m.\u001b[39m_update_inplace(obj)\n",
      "File \u001b[1;32m~\\anaconda3\\envs\\pa006_airbnb\\lib\\site-packages\\pandas\\core\\generic.py:4311\u001b[0m, in \u001b[0;36mNDFrame._drop_axis\u001b[1;34m(self, labels, axis, level, errors, consolidate, only_slice)\u001b[0m\n\u001b[0;32m   4309\u001b[0m         new_axis \u001b[38;5;241m=\u001b[39m axis\u001b[38;5;241m.\u001b[39mdrop(labels, level\u001b[38;5;241m=\u001b[39mlevel, errors\u001b[38;5;241m=\u001b[39merrors)\n\u001b[0;32m   4310\u001b[0m     \u001b[38;5;28;01melse\u001b[39;00m:\n\u001b[1;32m-> 4311\u001b[0m         new_axis \u001b[38;5;241m=\u001b[39m \u001b[43maxis\u001b[49m\u001b[38;5;241;43m.\u001b[39;49m\u001b[43mdrop\u001b[49m\u001b[43m(\u001b[49m\u001b[43mlabels\u001b[49m\u001b[43m,\u001b[49m\u001b[43m \u001b[49m\u001b[43merrors\u001b[49m\u001b[38;5;241;43m=\u001b[39;49m\u001b[43merrors\u001b[49m\u001b[43m)\u001b[49m\n\u001b[0;32m   4312\u001b[0m     indexer \u001b[38;5;241m=\u001b[39m axis\u001b[38;5;241m.\u001b[39mget_indexer(new_axis)\n\u001b[0;32m   4314\u001b[0m \u001b[38;5;66;03m# Case for non-unique axis\u001b[39;00m\n\u001b[0;32m   4315\u001b[0m \u001b[38;5;28;01melse\u001b[39;00m:\n",
      "File \u001b[1;32m~\\anaconda3\\envs\\pa006_airbnb\\lib\\site-packages\\pandas\\core\\indexes\\base.py:6644\u001b[0m, in \u001b[0;36mIndex.drop\u001b[1;34m(self, labels, errors)\u001b[0m\n\u001b[0;32m   6642\u001b[0m \u001b[38;5;28;01mif\u001b[39;00m mask\u001b[38;5;241m.\u001b[39many():\n\u001b[0;32m   6643\u001b[0m     \u001b[38;5;28;01mif\u001b[39;00m errors \u001b[38;5;241m!=\u001b[39m \u001b[38;5;124m\"\u001b[39m\u001b[38;5;124mignore\u001b[39m\u001b[38;5;124m\"\u001b[39m:\n\u001b[1;32m-> 6644\u001b[0m         \u001b[38;5;28;01mraise\u001b[39;00m \u001b[38;5;167;01mKeyError\u001b[39;00m(\u001b[38;5;124mf\u001b[39m\u001b[38;5;124m\"\u001b[39m\u001b[38;5;132;01m{\u001b[39;00m\u001b[38;5;28mlist\u001b[39m(labels[mask])\u001b[38;5;132;01m}\u001b[39;00m\u001b[38;5;124m not found in axis\u001b[39m\u001b[38;5;124m\"\u001b[39m)\n\u001b[0;32m   6645\u001b[0m     indexer \u001b[38;5;241m=\u001b[39m indexer[\u001b[38;5;241m~\u001b[39mmask]\n\u001b[0;32m   6646\u001b[0m \u001b[38;5;28;01mreturn\u001b[39;00m \u001b[38;5;28mself\u001b[39m\u001b[38;5;241m.\u001b[39mdelete(indexer)\n",
      "\u001b[1;31mKeyError\u001b[0m: \"['id', 'country_destination'] not found in axis\""
     ]
    }
   ],
   "source": [
    "# Dummy Variable\n",
    "df6_dummy = pd.get_dummies( df6.drop( ['id','country_destination'], axis=1 ) )\n",
    "\n",
    "#Join ID and country_destiantion\n",
    "df6 =pd.concat( [  df6[['id', 'country_destination']], df6_dummy],axis=1)"
   ]
  },
  {
   "cell_type": "code",
   "execution_count": null,
   "id": "6f664479",
   "metadata": {
    "ExecuteTime": {
     "end_time": "2022-07-19T14:27:59.984181Z",
     "start_time": "2022-07-19T14:27:59.984181Z"
    }
   },
   "outputs": [],
   "source": [
    "df5.shape"
   ]
  },
  {
   "cell_type": "markdown",
   "id": "50ecb8e2",
   "metadata": {},
   "source": [
    "# 6.0 Feature Selection"
   ]
  },
  {
   "cell_type": "code",
   "execution_count": null,
   "id": "80157292",
   "metadata": {
    "ExecuteTime": {
     "end_time": "2022-07-19T14:27:59.987173Z",
     "start_time": "2022-07-19T14:27:59.987173Z"
    }
   },
   "outputs": [],
   "source": [
    "df6 = df5.copy()"
   ]
  },
  {
   "cell_type": "code",
   "execution_count": null,
   "id": "64026525",
   "metadata": {
    "ExecuteTime": {
     "end_time": "2022-07-19T14:27:59.990165Z",
     "start_time": "2022-07-19T14:27:59.990165Z"
    }
   },
   "outputs": [],
   "source": [
    "X = df6.drop(['id', 'country_destination'], axis=1)\n",
    "y = df6['country_destination'].copy()"
   ]
  },
  {
   "cell_type": "code",
   "execution_count": null,
   "id": "466d689c",
   "metadata": {
    "ExecuteTime": {
     "end_time": "2022-07-19T14:27:59.993157Z",
     "start_time": "2022-07-19T14:27:59.993157Z"
    }
   },
   "outputs": [],
   "source": [
    "#Split dataset\n",
    "X_train, X_test, y_train, y_test = ms.train_test_split( X, y, test_size=0.2, random_state=32 ) "
   ]
  },
  {
   "cell_type": "markdown",
   "id": "919e0003",
   "metadata": {},
   "source": [
    "# 7.0 MACHINE LEARNING MODEL"
   ]
  },
  {
   "cell_type": "code",
   "execution_count": null,
   "id": "86b4b527",
   "metadata": {
    "ExecuteTime": {
     "end_time": "2022-07-19T14:27:59.999141Z",
     "start_time": "2022-07-19T14:27:59.999141Z"
    }
   },
   "outputs": [],
   "source": [
    "x_train = X_train\n",
    "x_test = X_test"
   ]
  },
  {
   "cell_type": "markdown",
   "id": "1314ea2c",
   "metadata": {},
   "source": [
    "## 7.1 Baseline Model "
   ]
  },
  {
   "cell_type": "code",
   "execution_count": null,
   "id": "a530ce6d",
   "metadata": {
    "ExecuteTime": {
     "end_time": "2022-07-19T14:28:00.002133Z",
     "start_time": "2022-07-19T14:28:00.002133Z"
    }
   },
   "outputs": [],
   "source": [
    "#random.choices(populacao =, weght= , k=)\n",
    "country_destination_list = df1['country_destination'].drop_duplicates().sort_values().to_list()\n",
    "k_num = y_test.shape[0]\n",
    "country_destination_weghts = df1['country_destination'].value_counts(normalize=True).sort_index().to_list()\n",
    "\n",
    "# Modelo aleatório\n",
    "yhat_random = random.choices(population= country_destination_list, \n",
    "                             weights = country_destination_weghts,\n",
    "                             k = k_num)\n"
   ]
  },
  {
   "cell_type": "markdown",
   "id": "604d7705",
   "metadata": {},
   "source": [
    "### 7.1.1 Baseline Model Performance"
   ]
  },
  {
   "cell_type": "code",
   "execution_count": null,
   "id": "9f7ddda7",
   "metadata": {
    "ExecuteTime": {
     "end_time": "2022-07-19T14:28:00.005125Z",
     "start_time": "2022-07-19T14:28:00.005125Z"
    }
   },
   "outputs": [],
   "source": [
    "#Accuracy\n",
    "acc_random = m.accuracy_score(y_test, yhat_random)\n",
    "print(f'Accuracy: {acc_random}')\n",
    "\n",
    "#Balanced Accuracy\n",
    "balanced_acc_random = m.balanced_accuracy_score(y_test, yhat_random)\n",
    "print(f'Balanced Accuracy: {balanced_acc_random}')\n",
    "\n",
    "#Kappa Metrics\n",
    "kappa_random = m.cohen_kappa_score(y_test, yhat_random)\n",
    "print(f'Balanced Accuracy: {kappa_random}')\n",
    "print('\\n')\n",
    "\n",
    "#Classification Report\n",
    "print(m.classification_report(y_test, yhat_random))\n",
    "\n",
    "#Confusion Matrix\n",
    "cm = confusion_matrix( y_test, yhat_random)\n",
    "plt.figure(figsize=(15, 10))\n",
    "sns.heatmap(cm, annot=True);\n"
   ]
  },
  {
   "cell_type": "markdown",
   "id": "dee2fab3",
   "metadata": {
    "heading_collapsed": true
   },
   "source": [
    "## 7.2 Neural Network - MLP"
   ]
  },
  {
   "cell_type": "code",
   "execution_count": null,
   "id": "40f8bf32",
   "metadata": {
    "ExecuteTime": {
     "end_time": "2022-07-19T14:28:00.009114Z",
     "start_time": "2022-07-19T14:28:00.009114Z"
    },
    "hidden": true
   },
   "outputs": [],
   "source": [
    "ohe = pp.OneHotEncoder()\n",
    "y_train_nn = ohe.fit_transform( y_train.values.reshape(-1, 1 ) ).toarray()"
   ]
  },
  {
   "cell_type": "code",
   "execution_count": null,
   "id": "713ab89d",
   "metadata": {
    "ExecuteTime": {
     "end_time": "2022-07-19T14:28:00.015098Z",
     "start_time": "2022-07-19T14:28:00.015098Z"
    },
    "hidden": true
   },
   "outputs": [],
   "source": [
    "#df1['country_destination'].value_counts(normalize=True).sort_index().to_list()"
   ]
  },
  {
   "cell_type": "code",
   "execution_count": null,
   "id": "4fe2af7a",
   "metadata": {
    "ExecuteTime": {
     "end_time": "2022-07-19T14:28:00.018091Z",
     "start_time": "2022-07-19T14:28:00.018091Z"
    },
    "hidden": true
   },
   "outputs": [],
   "source": [
    "# Model definition\n",
    "model = ml.Sequential()\n",
    "model.add(l.Dense( 256, input_dim=x_train.shape[1], activation='relu') )\n",
    "model.add(l.Dense( 12, activation='softmax') )\n",
    "\n",
    "#Model compile\n",
    "model.compile( loss= 'categorical_crossentropy', optimizer= 'adam', metrics=['accuracy'] )\n",
    "\n",
    "#training model\n",
    "model.fit( x_train , y_train_nn, epochs=100 )"
   ]
  },
  {
   "cell_type": "markdown",
   "id": "e55ed97c",
   "metadata": {},
   "source": [
    "## 7.2.2 NN Performance"
   ]
  },
  {
   "cell_type": "code",
   "execution_count": null,
   "id": "bf13f189",
   "metadata": {
    "ExecuteTime": {
     "end_time": "2022-07-19T14:28:00.021083Z",
     "start_time": "2022-07-19T14:28:00.021083Z"
    }
   },
   "outputs": [],
   "source": [
    "#Predict\n",
    "pred_nn = model.predict( x_test )\n",
    "\n",
    "#invert prediction\n",
    "yhat_nn = ohe.inverse_transform( pred_nn)\n",
    "\n",
    "#Prediction Prepare\n",
    "y_test_nn = y_test.to_numpy()\n",
    "yhat_nn =  yhat_nn.reshape(1, -1 )[0]"
   ]
  },
  {
   "cell_type": "code",
   "execution_count": null,
   "id": "1fe9a192",
   "metadata": {
    "ExecuteTime": {
     "end_time": "2022-07-19T14:28:00.024074Z",
     "start_time": "2022-07-19T14:28:00.024074Z"
    }
   },
   "outputs": [],
   "source": [
    "#Accuracy\n",
    "acc_nn = m.accuracy_score(y_test_nn, yhat_nn)\n",
    "print(f'Accuracy: {acc_nn}')\n",
    "\n",
    "#Balanced Accuracy\n",
    "balanced_acc_nn = m.balanced_accuracy_score(y_test_nn, yhat_nn)\n",
    "print(f'Balanced Accuracy: {balanced_acc_nn}')\n",
    "\n",
    "#Kappa Metrics\n",
    "kappa_nn = m.cohen_kappa_score(y_test_nn, yhat_nn)\n",
    "print(f'Kappa score: {kappa_nn}')\n",
    "print('\\n')\n",
    "\n",
    "#Classification Report\n",
    "print(m.classification_report(y_test_nn, yhat_nn))\n",
    "\n",
    "#Confusion Matrix\n",
    "cm = confusion_matrix( y_test_nn, yhat_nn)\n",
    "plt.figure(figsize=(15, 10))\n",
    "sns.heatmap(cm, annot=True);\n",
    "\n"
   ]
  },
  {
   "cell_type": "markdown",
   "id": "77b41cd2",
   "metadata": {},
   "source": [
    "## 7.2.3 NN Performance - Cross Validation"
   ]
  },
  {
   "cell_type": "code",
   "execution_count": null,
   "id": "fa130275",
   "metadata": {
    "ExecuteTime": {
     "end_time": "2022-07-19T14:28:00.027066Z",
     "start_time": "2022-07-19T14:28:00.027066Z"
    }
   },
   "outputs": [],
   "source": [
    "#Generate k-fold\n",
    "num_folds = 5\n",
    "kfold = ms.StratifiedKFold(n_splits=num_folds, shuffle=True, random_state=32)\n",
    "\n",
    "balanced_acc_list = []\n",
    "kappa_acc_list = []\n",
    "\n",
    "i = 1\n",
    "\n",
    "for train_ix, val_ix in kfold.split(x_train, y_train):\n",
    "    print(f'Fold number {i}/{num_folds}\\n')\n",
    "    #Get fold\n",
    "    x_train_fold = x_train.iloc[train_ix]\n",
    "    y_train_fold = y_train.iloc[train_ix]\n",
    "   \n",
    "    x_val_fold = x_train.iloc[val_ix]\n",
    "    y_val_fold = y_train.iloc[val_ix]\n",
    "    \n",
    "    #target hot_encoding\n",
    "    ohe = pp.OneHotEncoder()\n",
    "    y_train_fold_nn = ohe.fit_transform(y_train_fold.values.reshape( -1, 1)).toarray()\n",
    "    \n",
    "    #Model definition\n",
    "    model = ml.Sequential()\n",
    "    model.add(l.Dense(256, input_dim=x_train.shape[1], activation='relu'))\n",
    "    model.add(l.Dense(12, activation='softmax'))\n",
    "    \n",
    "    #Compile Model\n",
    "    model.compile(loss='categorical_crossentropy', optimizer='adam', metrics=['accuracy'])\n",
    "    \n",
    "    #training model\n",
    "    model.fit( x_train_fold, y_train_fold_nn, epochs=100, batch_size=32, verbose=0)\n",
    "    \n",
    "    \n",
    "    # prediction\n",
    "    pred_nn = model.predict(x_val_fold)\n",
    "    yhat_nn = ohe.inverse_transform( pred_nn)\n",
    "    \n",
    "    #prepare data\n",
    "    y_test_nn = y_val_fold.to_numpy()\n",
    "    yhat_nn = yhat_nn.reshape( 1, -1)[0]\n",
    "    \n",
    "    #metrics\n",
    "    \n",
    "    #Balanced Accuracy\n",
    "    balanced_acc_nn = m.balanced_accuracy_score( y_test_nn, yhat_nn )\n",
    "    balanced_acc_list.append( balanced_acc_nn)\n",
    "   \n",
    "    #Kappa Metrics\n",
    "    kappa_acc_nn = m.cohen_kappa_score( y_test_nn, yhat_nn )\n",
    "    kappa_acc_list.append( kappa_acc_nn)\n",
    "    \n",
    "    i += 1"
   ]
  },
  {
   "cell_type": "code",
   "execution_count": null,
   "id": "97324eb8",
   "metadata": {
    "ExecuteTime": {
     "end_time": "2022-07-19T14:28:00.031055Z",
     "start_time": "2022-07-19T14:28:00.031055Z"
    }
   },
   "outputs": [],
   "source": [
    "print(f'Avg Balanced Accuracy: {np.mean(balanced_acc_list)} +/- {np.std(balanced_acc_list)}\\n')\n",
    "      \n",
    "print(f'Avg Kappa: {np.mean(kappa_acc_list)} +/- {np.std(kappa_acc_list)}')"
   ]
  },
  {
   "cell_type": "code",
   "execution_count": null,
   "id": "6dd1a4a2",
   "metadata": {},
   "outputs": [],
   "source": []
  },
  {
   "cell_type": "code",
   "execution_count": null,
   "id": "616aab4d",
   "metadata": {},
   "outputs": [],
   "source": []
  },
  {
   "cell_type": "code",
   "execution_count": null,
   "id": "b6957395",
   "metadata": {},
   "outputs": [],
   "source": []
  }
 ],
 "metadata": {
  "celltoolbar": "Raw Cell Format",
  "kernelspec": {
   "display_name": "Python (pa006_airbnb)",
   "language": "python",
   "name": "pa006_airbnb"
  },
  "language_info": {
   "codemirror_mode": {
    "name": "ipython",
    "version": 3
   },
   "file_extension": ".py",
   "mimetype": "text/x-python",
   "name": "python",
   "nbconvert_exporter": "python",
   "pygments_lexer": "ipython3",
   "version": "3.8.13"
  },
  "varInspector": {
   "cols": {
    "lenName": 16,
    "lenType": 16,
    "lenVar": 40
   },
   "kernels_config": {
    "python": {
     "delete_cmd_postfix": "",
     "delete_cmd_prefix": "del ",
     "library": "var_list.py",
     "varRefreshCmd": "print(var_dic_list())"
    },
    "r": {
     "delete_cmd_postfix": ") ",
     "delete_cmd_prefix": "rm(",
     "library": "var_list.r",
     "varRefreshCmd": "cat(var_dic_list()) "
    }
   },
   "types_to_exclude": [
    "module",
    "function",
    "builtin_function_or_method",
    "instance",
    "_Feature"
   ],
   "window_display": false
  }
 },
 "nbformat": 4,
 "nbformat_minor": 5
}
