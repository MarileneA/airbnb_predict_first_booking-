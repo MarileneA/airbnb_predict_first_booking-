{
 "cells": [
  {
   "cell_type": "markdown",
   "id": "8b28c85b",
   "metadata": {},
   "source": [
    "# 0.0 IMPORTS"
   ]
  },
  {
   "cell_type": "code",
   "execution_count": 1,
   "id": "ea4b5e8d",
   "metadata": {
    "ExecuteTime": {
     "end_time": "2022-06-28T12:21:40.940697Z",
     "start_time": "2022-06-28T12:19:58.697425Z"
    }
   },
   "outputs": [],
   "source": [
    "import random\n",
    "import warnings\n",
    "import pandas      as pd\n",
    "import numpy       as np\n",
    "import seaborn     as sns\n",
    "\n",
    "import matplotlib.pyplot as plt\n",
    "from sklearn.metrics         import confusion_matrix\n",
    "from sklearn                 import model_selection as ms\n",
    "from sklearn                 import preprocessing as pp\n",
    "from sklearn                 import metrics       as m\n",
    "from keras                   import models as ml\n",
    "from keras                   import layers as l\n",
    "from IPython.core.display    import HTML\n",
    "\n",
    "warnings.filterwarnings( 'ignore' )"
   ]
  },
  {
   "cell_type": "markdown",
   "id": "2b887c3a",
   "metadata": {
    "heading_collapsed": true
   },
   "source": [
    "## 0.1 Helper Functions"
   ]
  },
  {
   "cell_type": "code",
   "execution_count": 2,
   "id": "bb9dfdd1",
   "metadata": {
    "ExecuteTime": {
     "end_time": "2022-06-28T12:21:40.971987Z",
     "start_time": "2022-06-28T12:21:40.943695Z"
    },
    "hidden": true
   },
   "outputs": [],
   "source": [
    "def jupyter_settings():\n",
    "    %matplotlib inline\n",
    "    %pylab inline\n",
    "    \n",
    "    plt.style.use( 'bmh' )\n",
    "    plt.rcParams['figure.figsize'] = [25, 12]\n",
    "    plt.rcParams['font.size'] = 24\n",
    "    \n",
    "    display( HTML( '<style>.container { width:100% !important; }</style>') )\n",
    "    pd.options.display.max_columns = None\n",
    "    pd.options.display.max_rows = None\n",
    "    pd.set_option( 'display.expand_frame_repr', False )\n",
    "    \n",
    "    sns.set()"
   ]
  },
  {
   "cell_type": "code",
   "execution_count": null,
   "id": "f97a830f",
   "metadata": {
    "hidden": true
   },
   "outputs": [],
   "source": []
  },
  {
   "cell_type": "markdown",
   "id": "deef088f",
   "metadata": {},
   "source": [
    "## 0.2 Loading Data"
   ]
  },
  {
   "cell_type": "code",
   "execution_count": 45,
   "id": "c1a87f24",
   "metadata": {
    "ExecuteTime": {
     "end_time": "2022-06-28T16:53:38.835248Z",
     "start_time": "2022-06-28T16:53:27.824353Z"
    }
   },
   "outputs": [],
   "source": [
    "df_raw = pd.read_csv('train_users.csv', low_memory=True)\n",
    "\n",
    "df_sessions = pd.read_csv('sessions.csv', low_memory=True)\n"
   ]
  },
  {
   "cell_type": "markdown",
   "id": "ad797c27",
   "metadata": {},
   "source": [
    "# 1.0 Passo 01 - DESCRIÇÃO DOS DADOS"
   ]
  },
  {
   "cell_type": "code",
   "execution_count": 46,
   "id": "ce02b07b",
   "metadata": {
    "ExecuteTime": {
     "end_time": "2022-06-28T16:54:30.937856Z",
     "start_time": "2022-06-28T16:54:30.694249Z"
    }
   },
   "outputs": [],
   "source": [
    "df1 = df_raw.copy()\n",
    "df1_sessions = df_sessions.copy()"
   ]
  },
  {
   "cell_type": "markdown",
   "id": "21360516",
   "metadata": {},
   "source": [
    "## 1.1 Data Dimensions"
   ]
  },
  {
   "cell_type": "code",
   "execution_count": 5,
   "id": "532bd7c8",
   "metadata": {
    "ExecuteTime": {
     "end_time": "2022-06-28T12:21:42.604456Z",
     "start_time": "2022-06-28T12:21:42.434690Z"
    }
   },
   "outputs": [
    {
     "name": "stdout",
     "output_type": "stream",
     "text": [
      "Número de linhas é igual a: 213451\n",
      "Número de colunas é igual a: 16\n"
     ]
    }
   ],
   "source": [
    "print(f'Número de linhas é igual a: {df1.shape[0]}')\n",
    "print(f'Número de colunas é igual a: {df1.shape[1]}')"
   ]
  },
  {
   "cell_type": "code",
   "execution_count": 47,
   "id": "0c41e71f",
   "metadata": {
    "ExecuteTime": {
     "end_time": "2022-06-28T16:54:50.859470Z",
     "start_time": "2022-06-28T16:54:50.847453Z"
    }
   },
   "outputs": [
    {
     "name": "stdout",
     "output_type": "stream",
     "text": [
      "Número de linhas é igual a: 10567737\n",
      "Número de colunas é igual a: 6\n"
     ]
    }
   ],
   "source": [
    "#Sessions\n",
    "print(f'Número de linhas é igual a: {df1_sessions.shape[0]}')\n",
    "print(f'Número de colunas é igual a: {df1_sessions.shape[1]}')"
   ]
  },
  {
   "cell_type": "markdown",
   "id": "036a688e",
   "metadata": {},
   "source": [
    "## 1.2 Data Types"
   ]
  },
  {
   "cell_type": "code",
   "execution_count": 6,
   "id": "75e0b913",
   "metadata": {
    "ExecuteTime": {
     "end_time": "2022-06-28T12:21:43.008822Z",
     "start_time": "2022-06-28T12:21:42.607412Z"
    }
   },
   "outputs": [
    {
     "data": {
      "text/plain": [
       "id                          object\n",
       "date_account_created        object\n",
       "timestamp_first_active       int64\n",
       "date_first_booking          object\n",
       "gender                      object\n",
       "age                        float64\n",
       "signup_method               object\n",
       "signup_flow                  int64\n",
       "language                    object\n",
       "affiliate_channel           object\n",
       "affiliate_provider          object\n",
       "first_affiliate_tracked     object\n",
       "signup_app                  object\n",
       "first_device_type           object\n",
       "first_browser               object\n",
       "country_destination         object\n",
       "dtype: object"
      ]
     },
     "execution_count": 6,
     "metadata": {},
     "output_type": "execute_result"
    }
   ],
   "source": [
    "#Data types df1\n",
    "df1.dtypes"
   ]
  },
  {
   "cell_type": "code",
   "execution_count": 48,
   "id": "8fe3976c",
   "metadata": {
    "ExecuteTime": {
     "end_time": "2022-06-28T16:55:41.477502Z",
     "start_time": "2022-06-28T16:55:41.467497Z"
    }
   },
   "outputs": [
    {
     "data": {
      "text/plain": [
       "user_id           object\n",
       "action            object\n",
       "action_type       object\n",
       "action_detail     object\n",
       "device_type       object\n",
       "secs_elapsed     float64\n",
       "dtype: object"
      ]
     },
     "execution_count": 48,
     "metadata": {},
     "output_type": "execute_result"
    }
   ],
   "source": [
    "#Data types df1_sessions\n",
    "df1_sessions.dtypes"
   ]
  },
  {
   "cell_type": "markdown",
   "id": "676935f8",
   "metadata": {},
   "source": [
    "## 1.3 Check NA"
   ]
  },
  {
   "cell_type": "code",
   "execution_count": 7,
   "id": "4e70d27d",
   "metadata": {
    "ExecuteTime": {
     "end_time": "2022-06-28T12:21:43.440475Z",
     "start_time": "2022-06-28T12:21:43.011819Z"
    }
   },
   "outputs": [
    {
     "data": {
      "text/plain": [
       "id                              0\n",
       "date_account_created            0\n",
       "timestamp_first_active          0\n",
       "date_first_booking         124543\n",
       "gender                          0\n",
       "age                         87990\n",
       "signup_method                   0\n",
       "signup_flow                     0\n",
       "language                        0\n",
       "affiliate_channel               0\n",
       "affiliate_provider              0\n",
       "first_affiliate_tracked      6065\n",
       "signup_app                      0\n",
       "first_device_type               0\n",
       "first_browser                   0\n",
       "country_destination             0\n",
       "dtype: int64"
      ]
     },
     "execution_count": 7,
     "metadata": {},
     "output_type": "execute_result"
    }
   ],
   "source": [
    "df1.isnull().sum()"
   ]
  },
  {
   "cell_type": "code",
   "execution_count": 49,
   "id": "8d956254",
   "metadata": {
    "ExecuteTime": {
     "end_time": "2022-06-28T16:57:04.565584Z",
     "start_time": "2022-06-28T16:56:56.621930Z"
    }
   },
   "outputs": [
    {
     "data": {
      "text/plain": [
       "user_id            34496\n",
       "action             79626\n",
       "action_type      1126204\n",
       "action_detail    1126204\n",
       "device_type            0\n",
       "secs_elapsed      136031\n",
       "dtype: int64"
      ]
     },
     "execution_count": 49,
     "metadata": {},
     "output_type": "execute_result"
    }
   ],
   "source": [
    "df1_sessions.isnull().sum()"
   ]
  },
  {
   "cell_type": "markdown",
   "id": "c9fcc60e",
   "metadata": {},
   "source": [
    "## 1.4 Fillout NA"
   ]
  },
  {
   "cell_type": "code",
   "execution_count": 8,
   "id": "cba700f3",
   "metadata": {
    "ExecuteTime": {
     "end_time": "2022-06-28T12:21:44.127389Z",
     "start_time": "2022-06-28T12:21:43.443458Z"
    }
   },
   "outputs": [
    {
     "data": {
      "text/plain": [
       "(68171, 16)"
      ]
     },
     "execution_count": 8,
     "metadata": {},
     "output_type": "execute_result"
    }
   ],
   "source": [
    "#Revover NAs\n",
    "df1 = df1.dropna()\n",
    "df1.shape"
   ]
  },
  {
   "cell_type": "markdown",
   "id": "3153b42f",
   "metadata": {},
   "source": [
    "## 1.5 Change Type"
   ]
  },
  {
   "cell_type": "code",
   "execution_count": 9,
   "id": "54ab12ec",
   "metadata": {
    "ExecuteTime": {
     "end_time": "2022-06-28T12:21:44.734153Z",
     "start_time": "2022-06-28T12:21:44.129396Z"
    }
   },
   "outputs": [],
   "source": [
    "#date_account_created   \n",
    "df1['date_account_created']=pd.to_datetime( df1['date_account_created'])\n",
    "#timestamp_first_active  \n",
    "df1['timestamp_first_active']=pd.to_datetime( df1['timestamp_first_active'], format='%Y%m%d%H%M%S')\n",
    "\n",
    "#date_first_booking\n",
    "df1['date_first_booking']=pd.to_datetime( df1['date_first_booking'])\n",
    "#age                      \n",
    "df1['age']= df1['age'].astype('int64')\n"
   ]
  },
  {
   "cell_type": "markdown",
   "id": "aec1b0a7",
   "metadata": {
    "ExecuteTime": {
     "end_time": "2022-06-27T19:06:45.522729Z",
     "start_time": "2022-06-27T19:06:45.496801Z"
    }
   },
   "source": [
    "## 1.6 Check Balanced Data"
   ]
  },
  {
   "cell_type": "code",
   "execution_count": 10,
   "id": "eb0c8cb6",
   "metadata": {
    "ExecuteTime": {
     "end_time": "2022-06-28T12:21:44.796018Z",
     "start_time": "2022-06-28T12:21:44.736170Z"
    }
   },
   "outputs": [
    {
     "data": {
      "text/plain": [
       "US       0.708864\n",
       "other    0.110854\n",
       "FR       0.054085\n",
       "IT       0.029763\n",
       "GB       0.025935\n",
       "ES       0.024864\n",
       "CA       0.015696\n",
       "DE       0.012454\n",
       "NL       0.008801\n",
       "AU       0.006366\n",
       "PT       0.002318\n",
       "Name: country_destination, dtype: float64"
      ]
     },
     "execution_count": 10,
     "metadata": {},
     "output_type": "execute_result"
    }
   ],
   "source": [
    "df1['country_destination'].value_counts(normalize=True)"
   ]
  },
  {
   "cell_type": "code",
   "execution_count": null,
   "id": "c33648d8",
   "metadata": {},
   "outputs": [],
   "source": []
  },
  {
   "cell_type": "markdown",
   "id": "dab8fd33",
   "metadata": {
    "heading_collapsed": true
   },
   "source": [
    "# 2.0 PASSO 02 - Data Filtering\n"
   ]
  },
  {
   "cell_type": "code",
   "execution_count": 11,
   "id": "01902b00",
   "metadata": {
    "ExecuteTime": {
     "end_time": "2022-06-28T12:21:45.013062Z",
     "start_time": "2022-06-28T12:21:44.798943Z"
    },
    "hidden": true
   },
   "outputs": [],
   "source": [
    "df2 =df1.copy()"
   ]
  },
  {
   "cell_type": "markdown",
   "id": "fda01745",
   "metadata": {
    "hidden": true
   },
   "source": [
    "## 2.1 Filtering Rows"
   ]
  },
  {
   "cell_type": "markdown",
   "id": "c9f932d3",
   "metadata": {
    "hidden": true
   },
   "source": [
    "## 2.2 Columns Selection"
   ]
  },
  {
   "cell_type": "code",
   "execution_count": null,
   "id": "907dffaf",
   "metadata": {
    "hidden": true
   },
   "outputs": [],
   "source": []
  },
  {
   "cell_type": "code",
   "execution_count": null,
   "id": "23e68469",
   "metadata": {
    "hidden": true
   },
   "outputs": [],
   "source": []
  },
  {
   "cell_type": "markdown",
   "id": "c4cbba6f",
   "metadata": {},
   "source": [
    "# 3.0 PASSO 03 - DATA PREPARATION\n"
   ]
  },
  {
   "cell_type": "code",
   "execution_count": 12,
   "id": "815c1559",
   "metadata": {
    "ExecuteTime": {
     "end_time": "2022-06-28T12:21:45.214640Z",
     "start_time": "2022-06-28T12:21:45.016069Z"
    }
   },
   "outputs": [],
   "source": [
    "df3= df2.copy()"
   ]
  },
  {
   "cell_type": "code",
   "execution_count": 13,
   "id": "fc92ef43",
   "metadata": {
    "ExecuteTime": {
     "end_time": "2022-06-28T12:21:45.680176Z",
     "start_time": "2022-06-28T12:21:45.217639Z"
    }
   },
   "outputs": [
    {
     "data": {
      "text/html": [
       "<div>\n",
       "<style scoped>\n",
       "    .dataframe tbody tr th:only-of-type {\n",
       "        vertical-align: middle;\n",
       "    }\n",
       "\n",
       "    .dataframe tbody tr th {\n",
       "        vertical-align: top;\n",
       "    }\n",
       "\n",
       "    .dataframe thead th {\n",
       "        text-align: right;\n",
       "    }\n",
       "</style>\n",
       "<table border=\"1\" class=\"dataframe\">\n",
       "  <thead>\n",
       "    <tr style=\"text-align: right;\">\n",
       "      <th></th>\n",
       "      <th>id</th>\n",
       "      <th>country_destination</th>\n",
       "      <th>date_account_created</th>\n",
       "      <th>timestamp_first_active</th>\n",
       "      <th>date_first_booking</th>\n",
       "      <th>age</th>\n",
       "      <th>signup_flow</th>\n",
       "      <th>gender_-unknown-</th>\n",
       "      <th>gender_FEMALE</th>\n",
       "      <th>gender_MALE</th>\n",
       "      <th>...</th>\n",
       "      <th>first_browser_Safari</th>\n",
       "      <th>first_browser_SeaMonkey</th>\n",
       "      <th>first_browser_Silk</th>\n",
       "      <th>first_browser_SiteKiosk</th>\n",
       "      <th>first_browser_SlimBrowser</th>\n",
       "      <th>first_browser_Sogou Explorer</th>\n",
       "      <th>first_browser_Stainless</th>\n",
       "      <th>first_browser_TenFourFox</th>\n",
       "      <th>first_browser_TheWorld Browser</th>\n",
       "      <th>first_browser_Yandex.Browser</th>\n",
       "    </tr>\n",
       "  </thead>\n",
       "  <tbody>\n",
       "    <tr>\n",
       "      <th>2</th>\n",
       "      <td>4ft3gnwmtx</td>\n",
       "      <td>US</td>\n",
       "      <td>2010-09-28</td>\n",
       "      <td>2009-06-09 23:12:47</td>\n",
       "      <td>2010-08-02</td>\n",
       "      <td>56</td>\n",
       "      <td>3</td>\n",
       "      <td>0</td>\n",
       "      <td>1</td>\n",
       "      <td>0</td>\n",
       "      <td>...</td>\n",
       "      <td>0</td>\n",
       "      <td>0</td>\n",
       "      <td>0</td>\n",
       "      <td>0</td>\n",
       "      <td>0</td>\n",
       "      <td>0</td>\n",
       "      <td>0</td>\n",
       "      <td>0</td>\n",
       "      <td>0</td>\n",
       "      <td>0</td>\n",
       "    </tr>\n",
       "    <tr>\n",
       "      <th>3</th>\n",
       "      <td>bjjt8pjhuk</td>\n",
       "      <td>other</td>\n",
       "      <td>2011-12-05</td>\n",
       "      <td>2009-10-31 06:01:29</td>\n",
       "      <td>2012-09-08</td>\n",
       "      <td>42</td>\n",
       "      <td>0</td>\n",
       "      <td>0</td>\n",
       "      <td>1</td>\n",
       "      <td>0</td>\n",
       "      <td>...</td>\n",
       "      <td>0</td>\n",
       "      <td>0</td>\n",
       "      <td>0</td>\n",
       "      <td>0</td>\n",
       "      <td>0</td>\n",
       "      <td>0</td>\n",
       "      <td>0</td>\n",
       "      <td>0</td>\n",
       "      <td>0</td>\n",
       "      <td>0</td>\n",
       "    </tr>\n",
       "    <tr>\n",
       "      <th>4</th>\n",
       "      <td>87mebub9p4</td>\n",
       "      <td>US</td>\n",
       "      <td>2010-09-14</td>\n",
       "      <td>2009-12-08 06:11:05</td>\n",
       "      <td>2010-02-18</td>\n",
       "      <td>41</td>\n",
       "      <td>0</td>\n",
       "      <td>1</td>\n",
       "      <td>0</td>\n",
       "      <td>0</td>\n",
       "      <td>...</td>\n",
       "      <td>0</td>\n",
       "      <td>0</td>\n",
       "      <td>0</td>\n",
       "      <td>0</td>\n",
       "      <td>0</td>\n",
       "      <td>0</td>\n",
       "      <td>0</td>\n",
       "      <td>0</td>\n",
       "      <td>0</td>\n",
       "      <td>0</td>\n",
       "    </tr>\n",
       "    <tr>\n",
       "      <th>6</th>\n",
       "      <td>lsw9q7uk0j</td>\n",
       "      <td>US</td>\n",
       "      <td>2010-01-02</td>\n",
       "      <td>2010-01-02 01:25:58</td>\n",
       "      <td>2010-01-05</td>\n",
       "      <td>46</td>\n",
       "      <td>0</td>\n",
       "      <td>0</td>\n",
       "      <td>1</td>\n",
       "      <td>0</td>\n",
       "      <td>...</td>\n",
       "      <td>1</td>\n",
       "      <td>0</td>\n",
       "      <td>0</td>\n",
       "      <td>0</td>\n",
       "      <td>0</td>\n",
       "      <td>0</td>\n",
       "      <td>0</td>\n",
       "      <td>0</td>\n",
       "      <td>0</td>\n",
       "      <td>0</td>\n",
       "    </tr>\n",
       "    <tr>\n",
       "      <th>7</th>\n",
       "      <td>0d01nltbrs</td>\n",
       "      <td>US</td>\n",
       "      <td>2010-01-03</td>\n",
       "      <td>2010-01-03 19:19:05</td>\n",
       "      <td>2010-01-13</td>\n",
       "      <td>47</td>\n",
       "      <td>0</td>\n",
       "      <td>0</td>\n",
       "      <td>1</td>\n",
       "      <td>0</td>\n",
       "      <td>...</td>\n",
       "      <td>1</td>\n",
       "      <td>0</td>\n",
       "      <td>0</td>\n",
       "      <td>0</td>\n",
       "      <td>0</td>\n",
       "      <td>0</td>\n",
       "      <td>0</td>\n",
       "      <td>0</td>\n",
       "      <td>0</td>\n",
       "      <td>0</td>\n",
       "    </tr>\n",
       "    <tr>\n",
       "      <th>...</th>\n",
       "      <td>...</td>\n",
       "      <td>...</td>\n",
       "      <td>...</td>\n",
       "      <td>...</td>\n",
       "      <td>...</td>\n",
       "      <td>...</td>\n",
       "      <td>...</td>\n",
       "      <td>...</td>\n",
       "      <td>...</td>\n",
       "      <td>...</td>\n",
       "      <td>...</td>\n",
       "      <td>...</td>\n",
       "      <td>...</td>\n",
       "      <td>...</td>\n",
       "      <td>...</td>\n",
       "      <td>...</td>\n",
       "      <td>...</td>\n",
       "      <td>...</td>\n",
       "      <td>...</td>\n",
       "      <td>...</td>\n",
       "      <td>...</td>\n",
       "    </tr>\n",
       "    <tr>\n",
       "      <th>213415</th>\n",
       "      <td>7plqriggxp</td>\n",
       "      <td>FR</td>\n",
       "      <td>2014-06-30</td>\n",
       "      <td>2014-06-30 23:01:36</td>\n",
       "      <td>2014-06-30</td>\n",
       "      <td>55</td>\n",
       "      <td>0</td>\n",
       "      <td>1</td>\n",
       "      <td>0</td>\n",
       "      <td>0</td>\n",
       "      <td>...</td>\n",
       "      <td>0</td>\n",
       "      <td>0</td>\n",
       "      <td>0</td>\n",
       "      <td>0</td>\n",
       "      <td>0</td>\n",
       "      <td>0</td>\n",
       "      <td>0</td>\n",
       "      <td>0</td>\n",
       "      <td>0</td>\n",
       "      <td>0</td>\n",
       "    </tr>\n",
       "    <tr>\n",
       "      <th>213439</th>\n",
       "      <td>msucfwmlzc</td>\n",
       "      <td>US</td>\n",
       "      <td>2014-06-30</td>\n",
       "      <td>2014-06-30 23:47:29</td>\n",
       "      <td>2015-03-16</td>\n",
       "      <td>43</td>\n",
       "      <td>0</td>\n",
       "      <td>0</td>\n",
       "      <td>0</td>\n",
       "      <td>1</td>\n",
       "      <td>...</td>\n",
       "      <td>0</td>\n",
       "      <td>0</td>\n",
       "      <td>0</td>\n",
       "      <td>0</td>\n",
       "      <td>0</td>\n",
       "      <td>0</td>\n",
       "      <td>0</td>\n",
       "      <td>0</td>\n",
       "      <td>0</td>\n",
       "      <td>0</td>\n",
       "    </tr>\n",
       "    <tr>\n",
       "      <th>213441</th>\n",
       "      <td>omlc9iku7t</td>\n",
       "      <td>ES</td>\n",
       "      <td>2014-06-30</td>\n",
       "      <td>2014-06-30 23:51:51</td>\n",
       "      <td>2014-08-13</td>\n",
       "      <td>34</td>\n",
       "      <td>0</td>\n",
       "      <td>0</td>\n",
       "      <td>1</td>\n",
       "      <td>0</td>\n",
       "      <td>...</td>\n",
       "      <td>0</td>\n",
       "      <td>0</td>\n",
       "      <td>0</td>\n",
       "      <td>0</td>\n",
       "      <td>0</td>\n",
       "      <td>0</td>\n",
       "      <td>0</td>\n",
       "      <td>0</td>\n",
       "      <td>0</td>\n",
       "      <td>0</td>\n",
       "    </tr>\n",
       "    <tr>\n",
       "      <th>213443</th>\n",
       "      <td>0k26r3mir0</td>\n",
       "      <td>US</td>\n",
       "      <td>2014-06-30</td>\n",
       "      <td>2014-06-30 23:53:40</td>\n",
       "      <td>2014-07-13</td>\n",
       "      <td>36</td>\n",
       "      <td>0</td>\n",
       "      <td>0</td>\n",
       "      <td>1</td>\n",
       "      <td>0</td>\n",
       "      <td>...</td>\n",
       "      <td>1</td>\n",
       "      <td>0</td>\n",
       "      <td>0</td>\n",
       "      <td>0</td>\n",
       "      <td>0</td>\n",
       "      <td>0</td>\n",
       "      <td>0</td>\n",
       "      <td>0</td>\n",
       "      <td>0</td>\n",
       "      <td>0</td>\n",
       "    </tr>\n",
       "    <tr>\n",
       "      <th>213445</th>\n",
       "      <td>qbxza0xojf</td>\n",
       "      <td>US</td>\n",
       "      <td>2014-06-30</td>\n",
       "      <td>2014-06-30 23:55:47</td>\n",
       "      <td>2014-07-02</td>\n",
       "      <td>23</td>\n",
       "      <td>0</td>\n",
       "      <td>0</td>\n",
       "      <td>1</td>\n",
       "      <td>0</td>\n",
       "      <td>...</td>\n",
       "      <td>0</td>\n",
       "      <td>0</td>\n",
       "      <td>0</td>\n",
       "      <td>0</td>\n",
       "      <td>0</td>\n",
       "      <td>0</td>\n",
       "      <td>0</td>\n",
       "      <td>0</td>\n",
       "      <td>0</td>\n",
       "      <td>0</td>\n",
       "    </tr>\n",
       "  </tbody>\n",
       "</table>\n",
       "<p>68171 rows × 117 columns</p>\n",
       "</div>"
      ],
      "text/plain": [
       "                id country_destination date_account_created  \\\n",
       "2       4ft3gnwmtx                  US           2010-09-28   \n",
       "3       bjjt8pjhuk               other           2011-12-05   \n",
       "4       87mebub9p4                  US           2010-09-14   \n",
       "6       lsw9q7uk0j                  US           2010-01-02   \n",
       "7       0d01nltbrs                  US           2010-01-03   \n",
       "...            ...                 ...                  ...   \n",
       "213415  7plqriggxp                  FR           2014-06-30   \n",
       "213439  msucfwmlzc                  US           2014-06-30   \n",
       "213441  omlc9iku7t                  ES           2014-06-30   \n",
       "213443  0k26r3mir0                  US           2014-06-30   \n",
       "213445  qbxza0xojf                  US           2014-06-30   \n",
       "\n",
       "       timestamp_first_active date_first_booking  age  signup_flow  \\\n",
       "2         2009-06-09 23:12:47         2010-08-02   56            3   \n",
       "3         2009-10-31 06:01:29         2012-09-08   42            0   \n",
       "4         2009-12-08 06:11:05         2010-02-18   41            0   \n",
       "6         2010-01-02 01:25:58         2010-01-05   46            0   \n",
       "7         2010-01-03 19:19:05         2010-01-13   47            0   \n",
       "...                       ...                ...  ...          ...   \n",
       "213415    2014-06-30 23:01:36         2014-06-30   55            0   \n",
       "213439    2014-06-30 23:47:29         2015-03-16   43            0   \n",
       "213441    2014-06-30 23:51:51         2014-08-13   34            0   \n",
       "213443    2014-06-30 23:53:40         2014-07-13   36            0   \n",
       "213445    2014-06-30 23:55:47         2014-07-02   23            0   \n",
       "\n",
       "        gender_-unknown-  gender_FEMALE  gender_MALE  ...  \\\n",
       "2                      0              1            0  ...   \n",
       "3                      0              1            0  ...   \n",
       "4                      1              0            0  ...   \n",
       "6                      0              1            0  ...   \n",
       "7                      0              1            0  ...   \n",
       "...                  ...            ...          ...  ...   \n",
       "213415                 1              0            0  ...   \n",
       "213439                 0              0            1  ...   \n",
       "213441                 0              1            0  ...   \n",
       "213443                 0              1            0  ...   \n",
       "213445                 0              1            0  ...   \n",
       "\n",
       "        first_browser_Safari  first_browser_SeaMonkey  first_browser_Silk  \\\n",
       "2                          0                        0                   0   \n",
       "3                          0                        0                   0   \n",
       "4                          0                        0                   0   \n",
       "6                          1                        0                   0   \n",
       "7                          1                        0                   0   \n",
       "...                      ...                      ...                 ...   \n",
       "213415                     0                        0                   0   \n",
       "213439                     0                        0                   0   \n",
       "213441                     0                        0                   0   \n",
       "213443                     1                        0                   0   \n",
       "213445                     0                        0                   0   \n",
       "\n",
       "        first_browser_SiteKiosk  first_browser_SlimBrowser  \\\n",
       "2                             0                          0   \n",
       "3                             0                          0   \n",
       "4                             0                          0   \n",
       "6                             0                          0   \n",
       "7                             0                          0   \n",
       "...                         ...                        ...   \n",
       "213415                        0                          0   \n",
       "213439                        0                          0   \n",
       "213441                        0                          0   \n",
       "213443                        0                          0   \n",
       "213445                        0                          0   \n",
       "\n",
       "        first_browser_Sogou Explorer  first_browser_Stainless  \\\n",
       "2                                  0                        0   \n",
       "3                                  0                        0   \n",
       "4                                  0                        0   \n",
       "6                                  0                        0   \n",
       "7                                  0                        0   \n",
       "...                              ...                      ...   \n",
       "213415                             0                        0   \n",
       "213439                             0                        0   \n",
       "213441                             0                        0   \n",
       "213443                             0                        0   \n",
       "213445                             0                        0   \n",
       "\n",
       "        first_browser_TenFourFox  first_browser_TheWorld Browser  \\\n",
       "2                              0                               0   \n",
       "3                              0                               0   \n",
       "4                              0                               0   \n",
       "6                              0                               0   \n",
       "7                              0                               0   \n",
       "...                          ...                             ...   \n",
       "213415                         0                               0   \n",
       "213439                         0                               0   \n",
       "213441                         0                               0   \n",
       "213443                         0                               0   \n",
       "213445                         0                               0   \n",
       "\n",
       "        first_browser_Yandex.Browser  \n",
       "2                                  0  \n",
       "3                                  0  \n",
       "4                                  0  \n",
       "6                                  0  \n",
       "7                                  0  \n",
       "...                              ...  \n",
       "213415                             0  \n",
       "213439                             0  \n",
       "213441                             0  \n",
       "213443                             0  \n",
       "213445                             0  \n",
       "\n",
       "[68171 rows x 117 columns]"
      ]
     },
     "execution_count": 13,
     "metadata": {},
     "output_type": "execute_result"
    }
   ],
   "source": [
    "# Dummy Variable\n",
    "df3_dummy = pd.get_dummies( df3.drop( ['id','country_destination'], axis=1 ) )\n",
    "\n",
    "#Join ID and country_destiantion\n",
    "df3 =pd.concat( [  df3[['id', 'country_destination']], df3_dummy],axis=1)\n",
    "df3\n"
   ]
  },
  {
   "cell_type": "markdown",
   "id": "50ecb8e2",
   "metadata": {},
   "source": [
    "# 4.0 PASSO 04 - Feature Selection"
   ]
  },
  {
   "cell_type": "code",
   "execution_count": 14,
   "id": "522ba6dc",
   "metadata": {
    "ExecuteTime": {
     "end_time": "2022-06-28T12:21:45.727016Z",
     "start_time": "2022-06-28T12:21:45.684130Z"
    }
   },
   "outputs": [],
   "source": [
    "#Deletar as colunas desnecessarias pro modelo\n",
    "cols_drop = ['date_account_created', 'timestamp_first_active', 'date_first_booking']\n",
    "df4= df3.drop(cols_drop, axis=1)"
   ]
  },
  {
   "cell_type": "code",
   "execution_count": 15,
   "id": "b83460e9",
   "metadata": {
    "ExecuteTime": {
     "end_time": "2022-06-28T12:21:46.097854Z",
     "start_time": "2022-06-28T12:21:45.729010Z"
    }
   },
   "outputs": [
    {
     "data": {
      "text/html": [
       "<div>\n",
       "<style scoped>\n",
       "    .dataframe tbody tr th:only-of-type {\n",
       "        vertical-align: middle;\n",
       "    }\n",
       "\n",
       "    .dataframe tbody tr th {\n",
       "        vertical-align: top;\n",
       "    }\n",
       "\n",
       "    .dataframe thead th {\n",
       "        text-align: right;\n",
       "    }\n",
       "</style>\n",
       "<table border=\"1\" class=\"dataframe\">\n",
       "  <thead>\n",
       "    <tr style=\"text-align: right;\">\n",
       "      <th></th>\n",
       "      <th>202274</th>\n",
       "    </tr>\n",
       "  </thead>\n",
       "  <tbody>\n",
       "    <tr>\n",
       "      <th>id</th>\n",
       "      <td>2e4b52lki1</td>\n",
       "    </tr>\n",
       "    <tr>\n",
       "      <th>country_destination</th>\n",
       "      <td>US</td>\n",
       "    </tr>\n",
       "    <tr>\n",
       "      <th>age</th>\n",
       "      <td>25</td>\n",
       "    </tr>\n",
       "    <tr>\n",
       "      <th>signup_flow</th>\n",
       "      <td>0</td>\n",
       "    </tr>\n",
       "    <tr>\n",
       "      <th>gender_-unknown-</th>\n",
       "      <td>1</td>\n",
       "    </tr>\n",
       "    <tr>\n",
       "      <th>...</th>\n",
       "      <td>...</td>\n",
       "    </tr>\n",
       "    <tr>\n",
       "      <th>first_browser_Sogou Explorer</th>\n",
       "      <td>0</td>\n",
       "    </tr>\n",
       "    <tr>\n",
       "      <th>first_browser_Stainless</th>\n",
       "      <td>0</td>\n",
       "    </tr>\n",
       "    <tr>\n",
       "      <th>first_browser_TenFourFox</th>\n",
       "      <td>0</td>\n",
       "    </tr>\n",
       "    <tr>\n",
       "      <th>first_browser_TheWorld Browser</th>\n",
       "      <td>0</td>\n",
       "    </tr>\n",
       "    <tr>\n",
       "      <th>first_browser_Yandex.Browser</th>\n",
       "      <td>0</td>\n",
       "    </tr>\n",
       "  </tbody>\n",
       "</table>\n",
       "<p>114 rows × 1 columns</p>\n",
       "</div>"
      ],
      "text/plain": [
       "                                    202274\n",
       "id                              2e4b52lki1\n",
       "country_destination                     US\n",
       "age                                     25\n",
       "signup_flow                              0\n",
       "gender_-unknown-                         1\n",
       "...                                    ...\n",
       "first_browser_Sogou Explorer             0\n",
       "first_browser_Stainless                  0\n",
       "first_browser_TenFourFox                 0\n",
       "first_browser_TheWorld Browser           0\n",
       "first_browser_Yandex.Browser             0\n",
       "\n",
       "[114 rows x 1 columns]"
      ]
     },
     "execution_count": 15,
     "metadata": {},
     "output_type": "execute_result"
    }
   ],
   "source": [
    "df4.sample().T"
   ]
  },
  {
   "cell_type": "code",
   "execution_count": 16,
   "id": "64026525",
   "metadata": {
    "ExecuteTime": {
     "end_time": "2022-06-28T12:21:46.176355Z",
     "start_time": "2022-06-28T12:21:46.100652Z"
    }
   },
   "outputs": [],
   "source": [
    "X = df4.drop(['id', 'country_destination'], axis=1)\n",
    "y = df4['country_destination'].copy()"
   ]
  },
  {
   "cell_type": "code",
   "execution_count": 17,
   "id": "466d689c",
   "metadata": {
    "ExecuteTime": {
     "end_time": "2022-06-28T12:21:46.422695Z",
     "start_time": "2022-06-28T12:21:46.179311Z"
    }
   },
   "outputs": [],
   "source": [
    "#Split dataset\n",
    "X_train, X_test, y_train, y_test = ms.train_test_split( X, y, test_size=0.2, random_state=32 ) "
   ]
  },
  {
   "cell_type": "markdown",
   "id": "2c281cb0",
   "metadata": {},
   "source": [
    "# 5.0 PASSO 05 - Machine Learning Model"
   ]
  },
  {
   "cell_type": "code",
   "execution_count": 18,
   "id": "86b4b527",
   "metadata": {
    "ExecuteTime": {
     "end_time": "2022-06-28T12:21:46.576622Z",
     "start_time": "2022-06-28T12:21:46.424690Z"
    }
   },
   "outputs": [],
   "source": [
    "x_train = X_train\n",
    "x_test = X_test"
   ]
  },
  {
   "cell_type": "markdown",
   "id": "1314ea2c",
   "metadata": {},
   "source": [
    "## 5.1 Baseline Model "
   ]
  },
  {
   "cell_type": "code",
   "execution_count": 26,
   "id": "40f8bf32",
   "metadata": {
    "ExecuteTime": {
     "end_time": "2022-06-28T13:41:34.273380Z",
     "start_time": "2022-06-28T13:41:34.033827Z"
    }
   },
   "outputs": [],
   "source": [
    "ohe = pp.OneHotEncoder()\n",
    "y_train_nn = ohe.fit_transform( y_train.values.reshape(-1, 1 ) ).toarray()"
   ]
  },
  {
   "cell_type": "code",
   "execution_count": 19,
   "id": "713ab89d",
   "metadata": {
    "ExecuteTime": {
     "end_time": "2022-06-28T12:21:46.777118Z",
     "start_time": "2022-06-28T12:21:46.578617Z"
    }
   },
   "outputs": [
    {
     "data": {
      "text/plain": [
       "[0.00636634345982896,\n",
       " 0.01569582373736633,\n",
       " 0.012453976030863564,\n",
       " 0.024863945079285913,\n",
       " 0.05408458142025201,\n",
       " 0.02593478165202212,\n",
       " 0.02976338912440774,\n",
       " 0.008801396488242802,\n",
       " 0.002317701075237271,\n",
       " 0.7088644731630752,\n",
       " 0.11085358876941809]"
      ]
     },
     "execution_count": 19,
     "metadata": {},
     "output_type": "execute_result"
    }
   ],
   "source": [
    "df1['country_destination'].value_counts(normalize=True).sort_index().to_list()"
   ]
  },
  {
   "cell_type": "code",
   "execution_count": 20,
   "id": "a530ce6d",
   "metadata": {
    "ExecuteTime": {
     "end_time": "2022-06-28T12:21:46.995342Z",
     "start_time": "2022-06-28T12:21:46.779213Z"
    }
   },
   "outputs": [
    {
     "data": {
      "text/plain": [
       "13635"
      ]
     },
     "execution_count": 20,
     "metadata": {},
     "output_type": "execute_result"
    }
   ],
   "source": [
    "#random.choices(populacao =, weght= , k=)\n",
    "country_destination_list = df1['country_destination'].drop_duplicates().sort_values().to_list()\n",
    "k_num = y_test.shape[0]\n",
    "country_destination_weghts = df1['country_destination'].value_counts(normalize=True).sort_index().to_list()\n",
    "\n",
    "# Modelo aleatório\n",
    "yhat_random = random.choices(population= country_destination_list, \n",
    "                             weights = country_destination_weghts,\n",
    "                             k = k_num)\n",
    "len( yhat_random )"
   ]
  },
  {
   "cell_type": "code",
   "execution_count": 33,
   "id": "9f7ddda7",
   "metadata": {
    "ExecuteTime": {
     "end_time": "2022-06-28T14:25:30.510976Z",
     "start_time": "2022-06-28T14:25:29.497889Z"
    }
   },
   "outputs": [
    {
     "name": "stdout",
     "output_type": "stream",
     "text": [
      "Accuracy: 0.5177851118445178\n",
      "Balanced Accuracy: 0.09038502365673673\n",
      "Balanced Accuracy: 0.002329571113932394\n",
      "\n",
      "\n",
      "              precision    recall  f1-score   support\n",
      "\n",
      "          AU       0.00      0.00      0.00       101\n",
      "          CA       0.03      0.04      0.04       214\n",
      "          DE       0.00      0.00      0.00       170\n",
      "          ES       0.02      0.02      0.02       345\n",
      "          FR       0.05      0.05      0.05       710\n",
      "          GB       0.02      0.02      0.02       344\n",
      "          IT       0.03      0.03      0.03       423\n",
      "          NL       0.00      0.00      0.00       128\n",
      "          PT       0.00      0.00      0.00        36\n",
      "          US       0.71      0.71      0.71      9624\n",
      "       other       0.12      0.12      0.12      1540\n",
      "\n",
      "    accuracy                           0.52     13635\n",
      "   macro avg       0.09      0.09      0.09     13635\n",
      "weighted avg       0.52      0.52      0.52     13635\n",
      "\n"
     ]
    },
    {
     "data": {
      "image/png": "[encoded data removed]",
      "text/plain": [
       "<Figure size 1080x720 with 2 Axes>"
      ]
     },
     "metadata": {
      "needs_background": "light"
     },
     "output_type": "display_data"
    }
   ],
   "source": [
    "#Accuracy\n",
    "acc_random = m.accuracy_score(y_test, yhat_random)\n",
    "print(f'Accuracy: {acc_random}')\n",
    "\n",
    "#Balanced Accuracy\n",
    "balanced_acc_random = m.balanced_accuracy_score(y_test, yhat_random)\n",
    "print(f'Balanced Accuracy: {balanced_acc_random}')\n",
    "\n",
    "#Kappa Metrics\n",
    "kappa_random = m.cohen_kappa_score(y_test, yhat_random)\n",
    "print(f'Balanced Accuracy: {kappa_random}')\n",
    "print('\\n')\n",
    "\n",
    "#Classification Report\n",
    "print(m.classification_report(y_test, yhat_random))\n",
    "\n",
    "#Confusion Matrix\n",
    "cm = confusion_matrix( y_test, yhat_random)\n",
    "plt.figure(figsize=(15, 10))\n",
    "sns.heatmap(cm, annot=True);\n"
   ]
  },
  {
   "cell_type": "markdown",
   "id": "dee2fab3",
   "metadata": {},
   "source": [
    "## 5.2 Neural Network - MLP"
   ]
  },
  {
   "cell_type": "code",
   "execution_count": 27,
   "id": "4fe2af7a",
   "metadata": {
    "ExecuteTime": {
     "end_time": "2022-06-28T13:45:24.416434Z",
     "start_time": "2022-06-28T13:41:36.342175Z"
    }
   },
   "outputs": [
    {
     "name": "stdout",
     "output_type": "stream",
     "text": [
      "Epoch 1/100\n",
      "1705/1705 [==============================] - 24s 1ms/step - loss: 1.4066 - accuracy: 0.6949\n",
      "Epoch 2/100\n",
      "1705/1705 [==============================] - 2s 1ms/step - loss: 1.2905 - accuracy: 0.7050: 0s - loss: 1.2973 - \n",
      "Epoch 3/100\n",
      "1705/1705 [==============================] - 2s 1ms/step - loss: 1.2359 - accuracy: 0.7074\n",
      "Epoch 4/100\n",
      "1705/1705 [==============================] - 2s 1ms/step - loss: 1.2332 - accuracy: 0.7067\n",
      "Epoch 5/100\n",
      "1705/1705 [==============================] - 2s 1ms/step - loss: 1.1963 - accuracy: 0.7069\n",
      "Epoch 6/100\n",
      "1705/1705 [==============================] - 2s 1ms/step - loss: 1.1918 - accuracy: 0.7082\n",
      "Epoch 7/100\n",
      "1705/1705 [==============================] - 2s 1ms/step - loss: 1.1594 - accuracy: 0.7104\n",
      "Epoch 8/100\n",
      "1705/1705 [==============================] - 2s 1ms/step - loss: 1.1532 - accuracy: 0.7097\n",
      "Epoch 9/100\n",
      "1705/1705 [==============================] - 2s 1ms/step - loss: 1.1426 - accuracy: 0.7092\n",
      "Epoch 10/100\n",
      "1705/1705 [==============================] - 2s 1ms/step - loss: 1.1308 - accuracy: 0.7118\n",
      "Epoch 11/100\n",
      "1705/1705 [==============================] - 2s 1ms/step - loss: 1.1338 - accuracy: 0.7092\n",
      "Epoch 12/100\n",
      "1705/1705 [==============================] - 2s 1ms/step - loss: 1.1299 - accuracy: 0.7105\n",
      "Epoch 13/100\n",
      "1705/1705 [==============================] - 2s 1ms/step - loss: 1.1299 - accuracy: 0.7096\n",
      "Epoch 14/100\n",
      "1705/1705 [==============================] - 2s 1ms/step - loss: 1.1194 - accuracy: 0.7139\n",
      "Epoch 15/100\n",
      "1705/1705 [==============================] - 2s 1ms/step - loss: 1.1322 - accuracy: 0.7097\n",
      "Epoch 16/100\n",
      "1705/1705 [==============================] - 2s 1ms/step - loss: 1.1183 - accuracy: 0.7124\n",
      "Epoch 17/100\n",
      "1705/1705 [==============================] - 2s 1ms/step - loss: 1.1339 - accuracy: 0.7074\n",
      "Epoch 18/100\n",
      "1705/1705 [==============================] - 2s 1ms/step - loss: 1.1237 - accuracy: 0.7096\n",
      "Epoch 19/100\n",
      "1705/1705 [==============================] - 2s 1ms/step - loss: 1.1301 - accuracy: 0.7070\n",
      "Epoch 20/100\n",
      "1705/1705 [==============================] - 2s 1ms/step - loss: 1.1270 - accuracy: 0.7097\n",
      "Epoch 21/100\n",
      "1705/1705 [==============================] - 2s 1ms/step - loss: 1.1151 - accuracy: 0.7126: 0s - loss: 1.1129 - \n",
      "Epoch 22/100\n",
      "1705/1705 [==============================] - 2s 1ms/step - loss: 1.1251 - accuracy: 0.7091\n",
      "Epoch 23/100\n",
      "1705/1705 [==============================] - 2s 1ms/step - loss: 1.1248 - accuracy: 0.7088\n",
      "Epoch 24/100\n",
      "1705/1705 [==============================] - 2s 1ms/step - loss: 1.1114 - accuracy: 0.7119\n",
      "Epoch 25/100\n",
      "1705/1705 [==============================] - 3s 2ms/step - loss: 1.1205 - accuracy: 0.7102\n",
      "Epoch 26/100\n",
      "1705/1705 [==============================] - 2s 1ms/step - loss: 1.1262 - accuracy: 0.7080\n",
      "Epoch 27/100\n",
      "1705/1705 [==============================] - 2s 1ms/step - loss: 1.1185 - accuracy: 0.7115\n",
      "Epoch 28/100\n",
      "1705/1705 [==============================] - 2s 1ms/step - loss: 1.1130 - accuracy: 0.7114\n",
      "Epoch 29/100\n",
      "1705/1705 [==============================] - 2s 1ms/step - loss: 1.1200 - accuracy: 0.7087\n",
      "Epoch 30/100\n",
      "1705/1705 [==============================] - 2s 1ms/step - loss: 1.1177 - accuracy: 0.7082\n",
      "Epoch 31/100\n",
      "1705/1705 [==============================] - 2s 1ms/step - loss: 1.1186 - accuracy: 0.7095\n",
      "Epoch 32/100\n",
      "1705/1705 [==============================] - 2s 1ms/step - loss: 1.1169 - accuracy: 0.7091\n",
      "Epoch 33/100\n",
      "1705/1705 [==============================] - 2s 1ms/step - loss: 1.1190 - accuracy: 0.7072\n",
      "Epoch 34/100\n",
      "1705/1705 [==============================] - 3s 2ms/step - loss: 1.1106 - accuracy: 0.7110\n",
      "Epoch 35/100\n",
      "1705/1705 [==============================] - 2s 1ms/step - loss: 1.1019 - accuracy: 0.7140\n",
      "Epoch 36/100\n",
      "1705/1705 [==============================] - 2s 1ms/step - loss: 1.1120 - accuracy: 0.7114\n",
      "Epoch 37/100\n",
      "1705/1705 [==============================] - 2s 1ms/step - loss: 1.1116 - accuracy: 0.7099\n",
      "Epoch 38/100\n",
      "1705/1705 [==============================] - 2s 1ms/step - loss: 1.1088 - accuracy: 0.7110\n",
      "Epoch 39/100\n",
      "1705/1705 [==============================] - 2s 1ms/step - loss: 1.1166 - accuracy: 0.7104\n",
      "Epoch 40/100\n",
      "1705/1705 [==============================] - 2s 1ms/step - loss: 1.1058 - accuracy: 0.7111\n",
      "Epoch 41/100\n",
      "1705/1705 [==============================] - 2s 1ms/step - loss: 1.1205 - accuracy: 0.7061\n",
      "Epoch 42/100\n",
      "1705/1705 [==============================] - 2s 1ms/step - loss: 1.1066 - accuracy: 0.7133\n",
      "Epoch 43/100\n",
      "1705/1705 [==============================] - 2s 1ms/step - loss: 1.1018 - accuracy: 0.7141: \n",
      "Epoch 44/100\n",
      "1705/1705 [==============================] - 2s 1ms/step - loss: 1.1149 - accuracy: 0.7099\n",
      "Epoch 45/100\n",
      "1705/1705 [==============================] - 2s 1ms/step - loss: 1.1129 - accuracy: 0.7101\n",
      "Epoch 46/100\n",
      "1705/1705 [==============================] - 2s 1ms/step - loss: 1.1083 - accuracy: 0.7104\n",
      "Epoch 47/100\n",
      "1705/1705 [==============================] - 2s 1ms/step - loss: 1.1105 - accuracy: 0.7095\n",
      "Epoch 48/100\n",
      "1705/1705 [==============================] - 2s 1ms/step - loss: 1.1062 - accuracy: 0.7103\n",
      "Epoch 49/100\n",
      "1705/1705 [==============================] - 2s 1ms/step - loss: 1.1037 - accuracy: 0.7105\n",
      "Epoch 50/100\n",
      "1705/1705 [==============================] - 2s 1ms/step - loss: 1.1198 - accuracy: 0.7055\n",
      "Epoch 51/100\n",
      "1705/1705 [==============================] - 2s 1ms/step - loss: 1.1066 - accuracy: 0.7104\n",
      "Epoch 52/100\n",
      "1705/1705 [==============================] - 2s 1ms/step - loss: 1.1095 - accuracy: 0.7094\n",
      "Epoch 53/100\n",
      "1705/1705 [==============================] - 2s 1ms/step - loss: 1.0994 - accuracy: 0.7132\n",
      "Epoch 54/100\n",
      "1705/1705 [==============================] - 2s 1ms/step - loss: 1.0973 - accuracy: 0.7132\n",
      "Epoch 55/100\n",
      "1705/1705 [==============================] - 2s 1ms/step - loss: 1.0963 - accuracy: 0.7146\n",
      "Epoch 56/100\n",
      "1705/1705 [==============================] - 2s 1ms/step - loss: 1.1077 - accuracy: 0.7107\n",
      "Epoch 57/100\n",
      "1705/1705 [==============================] - 2s 1ms/step - loss: 1.1025 - accuracy: 0.7116\n",
      "Epoch 58/100\n",
      "1705/1705 [==============================] - 2s 1ms/step - loss: 1.1068 - accuracy: 0.7097\n",
      "Epoch 59/100\n",
      "1705/1705 [==============================] - 2s 1ms/step - loss: 1.0988 - accuracy: 0.7140\n",
      "Epoch 60/100\n",
      "1705/1705 [==============================] - 2s 1ms/step - loss: 1.1034 - accuracy: 0.7119\n",
      "Epoch 61/100\n",
      "1705/1705 [==============================] - 2s 1ms/step - loss: 1.1063 - accuracy: 0.7100\n",
      "Epoch 62/100\n",
      "1705/1705 [==============================] - 2s 1ms/step - loss: 1.0954 - accuracy: 0.7128\n",
      "Epoch 63/100\n",
      "1705/1705 [==============================] - 2s 1ms/step - loss: 1.1044 - accuracy: 0.7101\n",
      "Epoch 64/100\n",
      "1705/1705 [==============================] - 2s 1ms/step - loss: 1.1101 - accuracy: 0.7083\n",
      "Epoch 65/100\n",
      "1705/1705 [==============================] - 2s 1ms/step - loss: 1.1004 - accuracy: 0.7127\n",
      "Epoch 66/100\n",
      "1705/1705 [==============================] - 2s 1ms/step - loss: 1.1076 - accuracy: 0.7092\n",
      "Epoch 67/100\n",
      "1705/1705 [==============================] - 2s 1ms/step - loss: 1.0999 - accuracy: 0.7131\n",
      "Epoch 68/100\n",
      "1705/1705 [==============================] - 2s 1ms/step - loss: 1.0966 - accuracy: 0.7134\n",
      "Epoch 69/100\n",
      "1705/1705 [==============================] - 2s 1ms/step - loss: 1.0959 - accuracy: 0.7137\n",
      "Epoch 70/100\n",
      "1705/1705 [==============================] - 2s 1ms/step - loss: 1.0930 - accuracy: 0.7137\n",
      "Epoch 71/100\n",
      "1705/1705 [==============================] - 2s 1ms/step - loss: 1.1002 - accuracy: 0.7116\n",
      "Epoch 72/100\n",
      "1705/1705 [==============================] - 2s 1ms/step - loss: 1.1025 - accuracy: 0.7096\n",
      "Epoch 73/100\n",
      "1705/1705 [==============================] - 2s 1ms/step - loss: 1.1069 - accuracy: 0.7099\n",
      "Epoch 74/100\n",
      "1705/1705 [==============================] - 2s 1ms/step - loss: 1.1066 - accuracy: 0.7096\n",
      "Epoch 75/100\n",
      "1705/1705 [==============================] - 2s 1ms/step - loss: 1.1012 - accuracy: 0.7106\n",
      "Epoch 76/100\n",
      "1705/1705 [==============================] - 3s 2ms/step - loss: 1.0978 - accuracy: 0.7112\n",
      "Epoch 77/100\n",
      "1705/1705 [==============================] - 3s 2ms/step - loss: 1.0932 - accuracy: 0.7139: 0s -\n",
      "Epoch 78/100\n",
      "1705/1705 [==============================] - 2s 1ms/step - loss: 1.0978 - accuracy: 0.7131\n",
      "Epoch 79/100\n"
     ]
    },
    {
     "name": "stdout",
     "output_type": "stream",
     "text": [
      "1705/1705 [==============================] - 2s 1ms/step - loss: 1.1078 - accuracy: 0.7101\n",
      "Epoch 80/100\n",
      "1705/1705 [==============================] - 2s 1ms/step - loss: 1.1006 - accuracy: 0.7110\n",
      "Epoch 81/100\n",
      "1705/1705 [==============================] - 2s 1ms/step - loss: 1.0934 - accuracy: 0.7140\n",
      "Epoch 82/100\n",
      "1705/1705 [==============================] - 2s 1ms/step - loss: 1.1010 - accuracy: 0.7117\n",
      "Epoch 83/100\n",
      "1705/1705 [==============================] - 2s 1ms/step - loss: 1.0986 - accuracy: 0.7118\n",
      "Epoch 84/100\n",
      "1705/1705 [==============================] - 2s 1ms/step - loss: 1.1095 - accuracy: 0.7080\n",
      "Epoch 85/100\n",
      "1705/1705 [==============================] - 2s 1ms/step - loss: 1.1018 - accuracy: 0.7110\n",
      "Epoch 86/100\n",
      "1705/1705 [==============================] - 2s 1ms/step - loss: 1.0872 - accuracy: 0.7158\n",
      "Epoch 87/100\n",
      "1705/1705 [==============================] - 2s 1ms/step - loss: 1.1026 - accuracy: 0.7110\n",
      "Epoch 88/100\n",
      "1705/1705 [==============================] - 2s 1ms/step - loss: 1.0990 - accuracy: 0.7116\n",
      "Epoch 89/100\n",
      "1705/1705 [==============================] - 2s 1ms/step - loss: 1.1078 - accuracy: 0.7077\n",
      "Epoch 90/100\n",
      "1705/1705 [==============================] - 2s 1ms/step - loss: 1.0950 - accuracy: 0.7130\n",
      "Epoch 91/100\n",
      "1705/1705 [==============================] - 2s 1ms/step - loss: 1.1066 - accuracy: 0.7086\n",
      "Epoch 92/100\n",
      "1705/1705 [==============================] - 2s 1ms/step - loss: 1.0938 - accuracy: 0.7127\n",
      "Epoch 93/100\n",
      "1705/1705 [==============================] - 2s 1ms/step - loss: 1.0962 - accuracy: 0.7128: 0s - los\n",
      "Epoch 94/100\n",
      "1705/1705 [==============================] - 2s 1ms/step - loss: 1.0919 - accuracy: 0.7146: 0s\n",
      "Epoch 95/100\n",
      "1705/1705 [==============================] - 2s 1ms/step - loss: 1.0916 - accuracy: 0.7140\n",
      "Epoch 96/100\n",
      "1705/1705 [==============================] - 2s 1ms/step - loss: 1.1016 - accuracy: 0.7108\n",
      "Epoch 97/100\n",
      "1705/1705 [==============================] - 2s 1ms/step - loss: 1.1007 - accuracy: 0.7123\n",
      "Epoch 98/100\n",
      "1705/1705 [==============================] - 2s 1ms/step - loss: 1.0976 - accuracy: 0.7114: 0s - loss:\n",
      "Epoch 99/100\n",
      "1705/1705 [==============================] - 2s 1ms/step - loss: 1.0968 - accuracy: 0.7118\n",
      "Epoch 100/100\n",
      "1705/1705 [==============================] - 2s 1ms/step - loss: 1.1054 - accuracy: 0.7100\n"
     ]
    },
    {
     "data": {
      "text/plain": [
       "<keras.callbacks.History at 0x229b3508ac0>"
      ]
     },
     "execution_count": 27,
     "metadata": {},
     "output_type": "execute_result"
    }
   ],
   "source": [
    "# Model definition\n",
    "model = ml.Sequential()\n",
    "model.add(l.Dense( 130, input_dim=x_train.shape[1], activation='relu') )\n",
    "model.add(l.Dense( 11, activation='softmax') )\n",
    "\n",
    "#Model compile\n",
    "model.compile( loss= 'categorical_crossentropy', optimizer= 'adam', metrics=['accuracy'] )\n",
    "\n",
    "#training model\n",
    "model.fit( x_train , y_train_nn, epochs=100 )"
   ]
  },
  {
   "cell_type": "code",
   "execution_count": 29,
   "id": "bf13f189",
   "metadata": {
    "ExecuteTime": {
     "end_time": "2022-06-28T13:46:24.663295Z",
     "start_time": "2022-06-28T13:46:23.890097Z"
    }
   },
   "outputs": [],
   "source": [
    "#Predict\n",
    "pred_nn = model.predict( x_test )\n",
    "\n",
    "#invert prediction\n",
    "yhat_nn = ohe.inverse_transform( pred_nn)\n",
    "\n",
    "#Prediction Prepare\n",
    "y_test_nn = y_test.to_numpy()\n",
    "yhat_nn =  yhat_nn.reshape(1, -1 )[0]"
   ]
  },
  {
   "cell_type": "code",
   "execution_count": 30,
   "id": "1fe9a192",
   "metadata": {
    "ExecuteTime": {
     "end_time": "2022-06-28T13:46:31.463837Z",
     "start_time": "2022-06-28T13:46:28.154883Z"
    }
   },
   "outputs": [
    {
     "name": "stdout",
     "output_type": "stream",
     "text": [
      "Accuracy: 0.7035570223689036\n",
      "Balanced Accuracy: 0.0916445594503479\n",
      "Kappa score: 0.0008925000446866616\n",
      "\n",
      "\n",
      "              precision    recall  f1-score   support\n",
      "\n",
      "          AU       0.00      0.00      0.00       101\n",
      "          CA       0.00      0.00      0.00       214\n",
      "          DE       1.00      0.01      0.01       170\n",
      "          ES       0.00      0.00      0.00       345\n",
      "          FR       0.00      0.00      0.00       710\n",
      "          GB       0.00      0.00      0.00       344\n",
      "          IT       0.17      0.00      0.00       423\n",
      "          NL       0.00      0.00      0.00       128\n",
      "          PT       0.00      0.00      0.00        36\n",
      "          US       0.71      1.00      0.83      9624\n",
      "       other       0.15      0.00      0.01      1540\n",
      "\n",
      "    accuracy                           0.70     13635\n",
      "   macro avg       0.18      0.09      0.08     13635\n",
      "weighted avg       0.53      0.70      0.58     13635\n",
      "\n"
     ]
    },
    {
     "data": {
      "image/png": "[encoded data removed]",
      "text/plain": [
       "<Figure size 1080x720 with 2 Axes>"
      ]
     },
     "metadata": {
      "needs_background": "light"
     },
     "output_type": "display_data"
    }
   ],
   "source": [
    "#Accuracy\n",
    "acc_nn = m.accuracy_score(y_test_nn, yhat_nn)\n",
    "print(f'Accuracy: {acc_nn}')\n",
    "\n",
    "#Balanced Accuracy\n",
    "balanced_acc_nn = m.balanced_accuracy_score(y_test_nn, yhat_nn)\n",
    "print(f'Balanced Accuracy: {balanced_acc_nn}')\n",
    "\n",
    "#Kappa Metrics\n",
    "kappa_nn = m.cohen_kappa_score(y_test_nn, yhat_nn)\n",
    "print(f'Kappa score: {kappa_nn}')\n",
    "print('\\n')\n",
    "\n",
    "#Classification Report\n",
    "print(m.classification_report(y_test_nn, yhat_nn))\n",
    "\n",
    "#Confusion Matrix\n",
    "cm = confusion_matrix( y_test_nn, yhat_nn)\n",
    "plt.figure(figsize=(15, 10))\n",
    "sns.heatmap(cm, annot=True);\n",
    "\n"
   ]
  },
  {
   "cell_type": "markdown",
   "id": "77b41cd2",
   "metadata": {},
   "source": [
    "## 5.2.3 NN Performance - Cross Validation"
   ]
  },
  {
   "cell_type": "code",
   "execution_count": 40,
   "id": "fa130275",
   "metadata": {
    "ExecuteTime": {
     "end_time": "2022-06-28T14:41:16.535606Z",
     "start_time": "2022-06-28T14:30:29.329255Z"
    }
   },
   "outputs": [
    {
     "name": "stdout",
     "output_type": "stream",
     "text": [
      "Fold number 1/5\n",
      "Fold number 2/5\n",
      "Fold number 3/5\n",
      "Fold number 4/5\n",
      "Fold number 5/5\n"
     ]
    }
   ],
   "source": [
    "#Generate k-fold\n",
    "num_folds = 5\n",
    "kfold = ms.StratifiedKFold(n_splits=num_folds, shuffle=True, random_state=32)\n",
    "\n",
    "balanced_acc_list = []\n",
    "kappa_acc_list = []\n",
    "\n",
    "i = 1\n",
    "\n",
    "for train_ix, val_ix in kfold.split(x_train, y_train):\n",
    "    print(f'Fold number {i}/{num_folds}\\n')\n",
    "    #Get fold\n",
    "    x_train_fold = x_train.iloc[train_ix]\n",
    "    y_train_fold = y_train.iloc[train_ix]\n",
    "    \n",
    "    x_val_fold = x_train.iloc[val_ix]\n",
    "    y_val_fold = y_train.iloc[val_ix]\n",
    "    \n",
    "    #target hot_encoding\n",
    "    ohe = pp.OneHotEncoder()\n",
    "    y_train_fold_nn = ohe.fit_transform(y_train_fold.values.reshape( -1, 1)).toarray()\n",
    "    \n",
    "    #Model definition\n",
    "    model = ml.Sequential()\n",
    "    model.add(l.Dense(256, input_dim=x_train.shape[1], activation='relu'))\n",
    "    model.add(l.Dense(11, activation='softmax'))\n",
    "    \n",
    "    #Compile Model\n",
    "    model.compile(loss='categorical_crossentropy', optimizer='adam', metrics=['accuracy'])\n",
    "    \n",
    "    #training model\n",
    "    model.fit( x_train_fold, y_train_fold_nn, epochs=100, batch_size=32, verbose=0)\n",
    "    \n",
    "    \n",
    "    # prediction\n",
    "    pred_nn = model.predict(x_val_fold)\n",
    "    yhat_nn = ohe.inverse_transform( pred_nn)\n",
    "    \n",
    "    #prepare data\n",
    "    y_test_nn = y_val_fold.to_numpy()\n",
    "    yhat_nn = yhat_nn.reshape( 1, -1)[0]\n",
    "    \n",
    "    #metrics\n",
    "    \n",
    "    #Balanced Accuracy\n",
    "    balanced_acc_nn = m.balanced_accuracy_score( y_test_nn, yhat_nn )\n",
    "    balanced_acc_list.append( balanced_acc_nn)\n",
    "   \n",
    "    #Kappa Metrics\n",
    "    kappa_acc_nn = m.cohen_kappa_score( y_test_nn, yhat_nn )\n",
    "    kappa_acc_list.append( kappa_acc_nn)\n",
    "    \n",
    "    i += 1"
   ]
  },
  {
   "cell_type": "code",
   "execution_count": 44,
   "id": "97324eb8",
   "metadata": {
    "ExecuteTime": {
     "end_time": "2022-06-28T14:49:33.120027Z",
     "start_time": "2022-06-28T14:49:33.100081Z"
    }
   },
   "outputs": [
    {
     "name": "stdout",
     "output_type": "stream",
     "text": [
      "Avg Balanced Accuracy: 0.09146514236891595 +/- 0.0005706182741643112\n",
      "\n",
      "Avg Kappa: 0.0033463441292054695 +/- 0.002795698901172642\n"
     ]
    }
   ],
   "source": [
    "print(f'Avg Balanced Accuracy: {np.mean(balanced_acc_list)} +/- {np.std(balanced_acc_list)}\\n')\n",
    "      \n",
    "print(f'Avg Kappa: {np.mean(kappa_acc_list)} +/- {np.std(kappa_acc_list)}')"
   ]
  },
  {
   "cell_type": "code",
   "execution_count": null,
   "id": "1a62e8f3",
   "metadata": {},
   "outputs": [],
   "source": []
  }
 ],
 "metadata": {
  "kernelspec": {
   "display_name": "Python 3 (ipykernel)",
   "language": "python",
   "name": "python3"
  },
  "language_info": {
   "codemirror_mode": {
    "name": "ipython",
    "version": 3
   },
   "file_extension": ".py",
   "mimetype": "text/x-python",
   "name": "python",
   "nbconvert_exporter": "python",
   "pygments_lexer": "ipython3",
   "version": "3.9.7"
  },
  "varInspector": {
   "cols": {
    "lenName": 16,
    "lenType": 16,
    "lenVar": 40
   },
   "kernels_config": {
    "python": {
     "delete_cmd_postfix": "",
     "delete_cmd_prefix": "del ",
     "library": "var_list.py",
     "varRefreshCmd": "print(var_dic_list())"
    },
    "r": {
     "delete_cmd_postfix": ") ",
     "delete_cmd_prefix": "rm(",
     "library": "var_list.r",
     "varRefreshCmd": "cat(var_dic_list()) "
    }
   },
   "types_to_exclude": [
    "module",
    "function",
    "builtin_function_or_method",
    "instance",
    "_Feature"
   ],
   "window_display": false
  }
 },
 "nbformat": 4,
 "nbformat_minor": 5
}
