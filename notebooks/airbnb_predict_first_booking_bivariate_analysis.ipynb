{
 "cells": [
  {
   "cell_type": "markdown",
   "id": "8b28c85b",
   "metadata": {},
   "source": [
    "# 0.0 IMPORTS"
   ]
  },
  {
   "cell_type": "code",
   "execution_count": 1,
   "id": "ea4b5e8d",
   "metadata": {
    "ExecuteTime": {
     "end_time": "2022-07-04T11:37:39.609900Z",
     "start_time": "2022-07-04T11:36:03.464580Z"
    }
   },
   "outputs": [],
   "source": [
    "import random\n",
    "import warnings\n",
    "import sweetviz\n",
    "import pandas      as pd\n",
    "import numpy       as np\n",
    "import seaborn     as sns\n",
    "\n",
    "import matplotlib.pyplot as plt\n",
    "from sklearn.metrics         import confusion_matrix\n",
    "from imblearn.under_sampling import RandomUnderSampler\n",
    "from imblearn                import combine as c\n",
    "from imblearn                import under_sampling as us\n",
    "from imblearn                import over_sampling as oversamp\n",
    "from scipy                   import stats as ss\n",
    "from sklearn                 import model_selection as ms\n",
    "from sklearn                 import preprocessing as pp\n",
    "from sklearn                 import metrics       as m\n",
    "from keras                   import models as ml\n",
    "from keras                   import layers as l\n",
    "#from pandas_profiling        import ProfileReport\n",
    "from IPython.core.display    import HTML\n",
    "\n",
    "warnings.filterwarnings( 'ignore' )"
   ]
  },
  {
   "cell_type": "code",
   "execution_count": 2,
   "id": "0e400933",
   "metadata": {
    "ExecuteTime": {
     "end_time": "2022-07-04T11:37:39.640316Z",
     "start_time": "2022-07-04T11:37:39.628232Z"
    }
   },
   "outputs": [],
   "source": [
    "import sweetviz as sv"
   ]
  },
  {
   "cell_type": "markdown",
   "id": "b3786119",
   "metadata": {},
   "source": [
    "## 0.1 Helper Functions"
   ]
  },
  {
   "cell_type": "code",
   "execution_count": 3,
   "id": "bb9dfdd1",
   "metadata": {
    "ExecuteTime": {
     "end_time": "2022-07-04T11:37:39.779474Z",
     "start_time": "2022-07-04T11:37:39.657816Z"
    }
   },
   "outputs": [],
   "source": [
    "def cramer_v( x, y ):\n",
    "    cm = pd.crosstab( x, y ).values\n",
    "    n = cm.sum()\n",
    "    r, k = cm.shape\n",
    "    \n",
    "    chi2 = ss.chi2_contingency( cm )[0]\n",
    "    chi2corr = max( 0, chi2 - (k-1)*(r-1)/(n-1) )\n",
    "    \n",
    "    kcorr = k - (k-1)**2/(n-1)\n",
    "    rcorr = r - (r-1)**2/(n-1)\n",
    "    \n",
    "    return np.sqrt( (chi2corr/n) / ( min( kcorr-1, rcorr-1 ) ) )\n",
    "\n",
    "def jupyter_settings():\n",
    "    %matplotlib inline\n",
    "    %pylab inline\n",
    "    \n",
    "    plt.style.use( 'bmh' )\n",
    "    plt.rcParams['figure.figsize'] = [25, 12]\n",
    "    plt.rcParams['font.size'] = 24\n",
    "    \n",
    "    display( HTML( '<style>.container { width:100% !important; }</style>') )\n",
    "    pd.options.display.max_columns = None\n",
    "    pd.options.display.max_rows = None\n",
    "    pd.set_option( 'display.expand_frame_repr', False )\n",
    "    \n",
    "    sns.set()"
   ]
  },
  {
   "cell_type": "markdown",
   "id": "deef088f",
   "metadata": {},
   "source": [
    "## 0.2 Loading Data"
   ]
  },
  {
   "cell_type": "code",
   "execution_count": 4,
   "id": "c1a87f24",
   "metadata": {
    "ExecuteTime": {
     "end_time": "2022-07-04T11:37:54.340078Z",
     "start_time": "2022-07-04T11:37:39.798051Z"
    }
   },
   "outputs": [],
   "source": [
    "df_raw = pd.read_csv('C:/Users/PC/SejaUmDataScientist/DS_Classificacao/airbnb_project/Data/train_users.csv', low_memory=True) \n",
    "\n",
    "df_sessions = pd.read_csv('C:/Users/PC/SejaUmDataScientist/DS_Classificacao/airbnb_project/Data/sessions.csv', low_memory=True)\n"
   ]
  },
  {
   "cell_type": "markdown",
   "id": "ad797c27",
   "metadata": {},
   "source": [
    "# 1.0 Passo 01 - DESCRIÇÃO DOS DADOS"
   ]
  },
  {
   "cell_type": "code",
   "execution_count": 5,
   "id": "ce02b07b",
   "metadata": {
    "ExecuteTime": {
     "end_time": "2022-07-04T11:39:01.308227Z",
     "start_time": "2022-07-04T11:39:01.079956Z"
    }
   },
   "outputs": [],
   "source": [
    "df1 = df_raw.copy()\n",
    "df1_sessions = df_sessions.copy()"
   ]
  },
  {
   "cell_type": "markdown",
   "id": "21360516",
   "metadata": {},
   "source": [
    "## 1.1 Data Dimensions"
   ]
  },
  {
   "cell_type": "code",
   "execution_count": 6,
   "id": "532bd7c8",
   "metadata": {
    "ExecuteTime": {
     "end_time": "2022-07-04T11:39:01.964197Z",
     "start_time": "2022-07-04T11:39:01.951200Z"
    }
   },
   "outputs": [
    {
     "name": "stdout",
     "output_type": "stream",
     "text": [
      "Número de linhas é igual a: 213451\n",
      "Número de colunas é igual a: 16\n"
     ]
    }
   ],
   "source": [
    "print(f'Número de linhas é igual a: {df1.shape[0]}')\n",
    "print(f'Número de colunas é igual a: {df1.shape[1]}')"
   ]
  },
  {
   "cell_type": "code",
   "execution_count": 7,
   "id": "1cada9ec",
   "metadata": {
    "ExecuteTime": {
     "end_time": "2022-07-04T11:39:02.358497Z",
     "start_time": "2022-07-04T11:39:02.339547Z"
    }
   },
   "outputs": [
    {
     "name": "stdout",
     "output_type": "stream",
     "text": [
      "Número de linhas é igual a: 10567737\n",
      "Número de colunas é igual a: 6\n"
     ]
    }
   ],
   "source": [
    "#Sessions\n",
    "print(f'Número de linhas é igual a: {df1_sessions.shape[0]}')\n",
    "print(f'Número de colunas é igual a: {df1_sessions.shape[1]}')"
   ]
  },
  {
   "cell_type": "markdown",
   "id": "036a688e",
   "metadata": {},
   "source": [
    "## 1.2 Data Types"
   ]
  },
  {
   "cell_type": "code",
   "execution_count": 8,
   "id": "75e0b913",
   "metadata": {
    "ExecuteTime": {
     "end_time": "2022-07-04T11:39:03.072271Z",
     "start_time": "2022-07-04T11:39:03.047340Z"
    }
   },
   "outputs": [
    {
     "data": {
      "text/plain": [
       "id                          object\n",
       "date_account_created        object\n",
       "timestamp_first_active       int64\n",
       "date_first_booking          object\n",
       "gender                      object\n",
       "age                        float64\n",
       "signup_method               object\n",
       "signup_flow                  int64\n",
       "language                    object\n",
       "affiliate_channel           object\n",
       "affiliate_provider          object\n",
       "first_affiliate_tracked     object\n",
       "signup_app                  object\n",
       "first_device_type           object\n",
       "first_browser               object\n",
       "country_destination         object\n",
       "dtype: object"
      ]
     },
     "execution_count": 8,
     "metadata": {},
     "output_type": "execute_result"
    }
   ],
   "source": [
    "#Data types df1\n",
    "df1.dtypes"
   ]
  },
  {
   "cell_type": "code",
   "execution_count": 9,
   "id": "fcc8fe0b",
   "metadata": {
    "ExecuteTime": {
     "end_time": "2022-07-04T11:39:03.446067Z",
     "start_time": "2022-07-04T11:39:03.425087Z"
    }
   },
   "outputs": [
    {
     "data": {
      "text/plain": [
       "user_id           object\n",
       "action            object\n",
       "action_type       object\n",
       "action_detail     object\n",
       "device_type       object\n",
       "secs_elapsed     float64\n",
       "dtype: object"
      ]
     },
     "execution_count": 9,
     "metadata": {},
     "output_type": "execute_result"
    }
   ],
   "source": [
    "#Data types df1_sessions\n",
    "df1_sessions.dtypes"
   ]
  },
  {
   "cell_type": "markdown",
   "id": "676935f8",
   "metadata": {},
   "source": [
    "## 1.3 Check NA"
   ]
  },
  {
   "cell_type": "code",
   "execution_count": 10,
   "id": "4e70d27d",
   "metadata": {
    "ExecuteTime": {
     "end_time": "2022-07-04T11:39:04.663203Z",
     "start_time": "2022-07-04T11:39:04.064437Z"
    }
   },
   "outputs": [
    {
     "data": {
      "text/plain": [
       "id                         0.000000\n",
       "date_account_created       0.000000\n",
       "timestamp_first_active     0.000000\n",
       "date_first_booking         0.583473\n",
       "gender                     0.000000\n",
       "age                        0.412226\n",
       "signup_method              0.000000\n",
       "signup_flow                0.000000\n",
       "language                   0.000000\n",
       "affiliate_channel          0.000000\n",
       "affiliate_provider         0.000000\n",
       "first_affiliate_tracked    0.028414\n",
       "signup_app                 0.000000\n",
       "first_device_type          0.000000\n",
       "first_browser              0.000000\n",
       "country_destination        0.000000\n",
       "dtype: float64"
      ]
     },
     "execution_count": 10,
     "metadata": {},
     "output_type": "execute_result"
    }
   ],
   "source": [
    "df1.isna().sum() /len(df1)"
   ]
  },
  {
   "cell_type": "code",
   "execution_count": 11,
   "id": "6c78cd26",
   "metadata": {
    "ExecuteTime": {
     "end_time": "2022-07-04T11:39:12.479097Z",
     "start_time": "2022-07-04T11:39:04.714068Z"
    }
   },
   "outputs": [
    {
     "data": {
      "text/plain": [
       "user_id          0.003264\n",
       "action           0.007535\n",
       "action_type      0.106570\n",
       "action_detail    0.106570\n",
       "device_type      0.000000\n",
       "secs_elapsed     0.012872\n",
       "dtype: float64"
      ]
     },
     "execution_count": 11,
     "metadata": {},
     "output_type": "execute_result"
    }
   ],
   "source": [
    "df1_sessions.isna().sum()/len(df1_sessions)"
   ]
  },
  {
   "cell_type": "code",
   "execution_count": 12,
   "id": "2df3799b",
   "metadata": {
    "ExecuteTime": {
     "end_time": "2022-07-04T11:39:12.725006Z",
     "start_time": "2022-07-04T11:39:12.559050Z"
    }
   },
   "outputs": [
    {
     "data": {
      "text/plain": [
       "0            untracked\n",
       "5                  omg\n",
       "12                 NaN\n",
       "13              linked\n",
       "79       tracked-other\n",
       "257            product\n",
       "6270         marketing\n",
       "11184        local ops\n",
       "Name: first_affiliate_tracked, dtype: object"
      ]
     },
     "execution_count": 12,
     "metadata": {},
     "output_type": "execute_result"
    }
   ],
   "source": [
    "df1['first_affiliate_tracked'].drop_duplicates()\n",
    "#aux = df1[df1[ 'age'].isna()]\n",
    "#aux['country_destination'].value_counts(normalize=True)"
   ]
  },
  {
   "cell_type": "code",
   "execution_count": 13,
   "id": "cba700f3",
   "metadata": {
    "ExecuteTime": {
     "end_time": "2022-07-04T11:39:20.408178Z",
     "start_time": "2022-07-04T11:39:12.822806Z"
    }
   },
   "outputs": [],
   "source": [
    "#Remover NAs\n",
    "# =====================USERS======================================\n",
    "\n",
    "#date_first_booking\n",
    "date_first_booking_max =  pd.to_datetime( df1['date_first_booking']).max().strftime('%Y%m%d')\n",
    "\n",
    "df1['date_first_booking'] = df1['date_first_booking'].fillna( date_first_booking_max)\n",
    "\n",
    "\n",
    "#age: Preencher como valor médio\n",
    "df1 = df1[( df1['age'] > 15 ) & ( df1['age'] < 120 )]\n",
    "avg_age = df1['age'].mean()\n",
    "df1['age'] = df1['age'].fillna( avg_age).astype(int)\n",
    "\n",
    "#first_affiliate_tracked\n",
    "df1 = df1[~df1['first_affiliate_tracked'].isna()]\n",
    "\n",
    "\n",
    "#============================================SESSIONS=========================================\n",
    "#user_id        3%\n",
    "df1_sessions = df1_sessions[~df1_sessions['user_id'].isna()]\n",
    "\n",
    "#action         0.7%\n",
    "df1_sessions = df1_sessions[~df1_sessions['action'].isna()]\n",
    "\n",
    "#action_type    11%\n",
    "df1_sessions = df1_sessions[~df1_sessions['action_type'].isna()]\n",
    "\n",
    "#action_detail  11%\n",
    "df1_sessions = df1_sessions[~df1_sessions['action_detail'].isna()]\n",
    "\n",
    "#secs_elapsed   1.2%\n",
    "df1_sessions = df1_sessions[~df1_sessions['secs_elapsed'].isna()]"
   ]
  },
  {
   "cell_type": "code",
   "execution_count": 14,
   "id": "151ac2ca",
   "metadata": {
    "ExecuteTime": {
     "end_time": "2022-07-04T11:39:20.762582Z",
     "start_time": "2022-07-04T11:39:20.501526Z"
    }
   },
   "outputs": [
    {
     "data": {
      "text/plain": [
       "id                         0.0\n",
       "date_account_created       0.0\n",
       "timestamp_first_active     0.0\n",
       "date_first_booking         0.0\n",
       "gender                     0.0\n",
       "age                        0.0\n",
       "signup_method              0.0\n",
       "signup_flow                0.0\n",
       "language                   0.0\n",
       "affiliate_channel          0.0\n",
       "affiliate_provider         0.0\n",
       "first_affiliate_tracked    0.0\n",
       "signup_app                 0.0\n",
       "first_device_type          0.0\n",
       "first_browser              0.0\n",
       "country_destination        0.0\n",
       "dtype: float64"
      ]
     },
     "execution_count": 14,
     "metadata": {},
     "output_type": "execute_result"
    }
   ],
   "source": [
    "df1.isna().sum() / len( df1 )"
   ]
  },
  {
   "cell_type": "code",
   "execution_count": 15,
   "id": "5b17b78d",
   "metadata": {
    "ExecuteTime": {
     "end_time": "2022-07-04T11:39:30.007102Z",
     "start_time": "2022-07-04T11:39:20.813270Z"
    }
   },
   "outputs": [
    {
     "data": {
      "text/plain": [
       "user_id          0.003264\n",
       "action           0.007535\n",
       "action_type      0.106570\n",
       "action_detail    0.106570\n",
       "device_type      0.000000\n",
       "secs_elapsed     0.012872\n",
       "dtype: float64"
      ]
     },
     "execution_count": 15,
     "metadata": {},
     "output_type": "execute_result"
    }
   ],
   "source": [
    "df_sessions.isna().sum() / len( df_sessions)"
   ]
  },
  {
   "cell_type": "markdown",
   "id": "c9fcc60e",
   "metadata": {},
   "source": [
    "## 1.4 Change Data Types"
   ]
  },
  {
   "cell_type": "code",
   "execution_count": 16,
   "id": "6c02a070",
   "metadata": {
    "ExecuteTime": {
     "end_time": "2022-07-04T11:39:30.440366Z",
     "start_time": "2022-07-04T11:39:30.058950Z"
    }
   },
   "outputs": [
    {
     "data": {
      "text/plain": [
       "id                         object\n",
       "date_account_created       object\n",
       "timestamp_first_active      int64\n",
       "date_first_booking         object\n",
       "gender                     object\n",
       "age                         int32\n",
       "signup_method              object\n",
       "signup_flow                 int64\n",
       "language                   object\n",
       "affiliate_channel          object\n",
       "affiliate_provider         object\n",
       "first_affiliate_tracked    object\n",
       "signup_app                 object\n",
       "first_device_type          object\n",
       "first_browser              object\n",
       "country_destination        object\n",
       "dtype: object"
      ]
     },
     "execution_count": 16,
     "metadata": {},
     "output_type": "execute_result"
    }
   ],
   "source": [
    "df1.dtypes"
   ]
  },
  {
   "cell_type": "code",
   "execution_count": 17,
   "id": "54ab12ec",
   "metadata": {
    "ExecuteTime": {
     "end_time": "2022-07-04T11:39:44.575707Z",
     "start_time": "2022-07-04T11:39:43.322338Z"
    }
   },
   "outputs": [],
   "source": [
    "#date_account_created   \n",
    "df1['date_account_created']=pd.to_datetime( df1['date_account_created'])\n",
    "#timestamp_first_active  \n",
    "df1['timestamp_first_active']=pd.to_datetime( df1['timestamp_first_active'], format='%Y%m%d%H%M%S')\n",
    "\n",
    "#date_first_booking\n",
    "df1['date_first_booking']=pd.to_datetime( df1['date_first_booking'])\n",
    "#age                      \n",
    "df1['age']= df1['age'].astype('int64')\n"
   ]
  },
  {
   "cell_type": "markdown",
   "id": "aec1b0a7",
   "metadata": {
    "ExecuteTime": {
     "end_time": "2022-06-27T19:06:45.522729Z",
     "start_time": "2022-06-27T19:06:45.496801Z"
    }
   },
   "source": [
    "## 1.5 Check Balanced Data"
   ]
  },
  {
   "cell_type": "code",
   "execution_count": 18,
   "id": "eb0c8cb6",
   "metadata": {
    "ExecuteTime": {
     "end_time": "2022-07-04T11:39:44.759923Z",
     "start_time": "2022-07-04T11:39:44.687949Z"
    }
   },
   "outputs": [
    {
     "data": {
      "text/plain": [
       "NDF      0.447275\n",
       "US       0.391867\n",
       "other    0.061246\n",
       "FR       0.029918\n",
       "IT       0.016423\n",
       "GB       0.014335\n",
       "ES       0.013740\n",
       "CA       0.008676\n",
       "DE       0.006858\n",
       "NL       0.004852\n",
       "AU       0.003531\n",
       "PT       0.001280\n",
       "Name: country_destination, dtype: float64"
      ]
     },
     "execution_count": 18,
     "metadata": {},
     "output_type": "execute_result"
    }
   ],
   "source": [
    "df1['country_destination'].value_counts(normalize=True)"
   ]
  },
  {
   "cell_type": "markdown",
   "id": "4e5f57a2",
   "metadata": {},
   "source": [
    "## 1.6 Descriptive Analyses"
   ]
  },
  {
   "cell_type": "code",
   "execution_count": 19,
   "id": "43f8e7f2",
   "metadata": {
    "ExecuteTime": {
     "end_time": "2022-07-04T11:39:44.914218Z",
     "start_time": "2022-07-04T11:39:44.824751Z"
    }
   },
   "outputs": [],
   "source": [
    "#==================Users===================================\n",
    "num_attributes = df1.select_dtypes( include=['int64', 'float64'])\n",
    "cat_attributes = df1.select_dtypes( exclude=['int64', 'float64', 'datetime64[ns]'])\n",
    "time_attributes = df1.select_dtypes( include= ['datetime64[ns]'])\n",
    "\n",
    "\n",
    "#====================Sessions==========================================\n",
    "num_attributes_sessions  = df1_sessions.select_dtypes( include=['int64', 'float64'])\n",
    "cat_attributes_sessions  = df1_sessions.select_dtypes( exclude=['int64', 'float64', 'datetime64[ns]'])\n",
    "time_attributes_sessions = df1_sessions.select_dtypes( include= ['datetime64[ns]'])"
   ]
  },
  {
   "cell_type": "markdown",
   "id": "f0d6058a",
   "metadata": {},
   "source": [
    "### 1.6.1 Numerical -Users"
   ]
  },
  {
   "cell_type": "code",
   "execution_count": 20,
   "id": "2416cc0b",
   "metadata": {
    "ExecuteTime": {
     "end_time": "2022-07-04T11:39:47.315466Z",
     "start_time": "2022-07-04T11:39:46.915377Z"
    }
   },
   "outputs": [
    {
     "data": {
      "text/html": [
       "<div>\n",
       "<style scoped>\n",
       "    .dataframe tbody tr th:only-of-type {\n",
       "        vertical-align: middle;\n",
       "    }\n",
       "\n",
       "    .dataframe tbody tr th {\n",
       "        vertical-align: top;\n",
       "    }\n",
       "\n",
       "    .dataframe thead th {\n",
       "        text-align: right;\n",
       "    }\n",
       "</style>\n",
       "<table border=\"1\" class=\"dataframe\">\n",
       "  <thead>\n",
       "    <tr style=\"text-align: right;\">\n",
       "      <th></th>\n",
       "      <th>attributes</th>\n",
       "      <th>min</th>\n",
       "      <th>max</th>\n",
       "      <th>range</th>\n",
       "      <th>mean</th>\n",
       "      <th>median</th>\n",
       "      <th>std</th>\n",
       "      <th>skew</th>\n",
       "      <th>kurtosis</th>\n",
       "    </tr>\n",
       "  </thead>\n",
       "  <tbody>\n",
       "    <tr>\n",
       "      <th>0</th>\n",
       "      <td>age</td>\n",
       "      <td>16.0</td>\n",
       "      <td>115.0</td>\n",
       "      <td>99.0</td>\n",
       "      <td>37.405591</td>\n",
       "      <td>34.0</td>\n",
       "      <td>13.939844</td>\n",
       "      <td>2.089718</td>\n",
       "      <td>6.516468</td>\n",
       "    </tr>\n",
       "    <tr>\n",
       "      <th>1</th>\n",
       "      <td>signup_flow</td>\n",
       "      <td>0.0</td>\n",
       "      <td>25.0</td>\n",
       "      <td>25.0</td>\n",
       "      <td>2.519513</td>\n",
       "      <td>0.0</td>\n",
       "      <td>6.604696</td>\n",
       "      <td>2.705871</td>\n",
       "      <td>5.928298</td>\n",
       "    </tr>\n",
       "  </tbody>\n",
       "</table>\n",
       "</div>"
      ],
      "text/plain": [
       "    attributes   min    max  range       mean  median        std      skew  \\\n",
       "0          age  16.0  115.0   99.0  37.405591    34.0  13.939844  2.089718   \n",
       "1  signup_flow   0.0   25.0   25.0   2.519513     0.0   6.604696  2.705871   \n",
       "\n",
       "   kurtosis  \n",
       "0  6.516468  \n",
       "1  5.928298  "
      ]
     },
     "execution_count": 20,
     "metadata": {},
     "output_type": "execute_result"
    }
   ],
   "source": [
    "#central tendency - Mean and Median\n",
    "ct1 = pd.DataFrame( num_attributes.apply(np.mean)).T\n",
    "ct2 = pd.DataFrame( num_attributes.apply(np.median)).T\n",
    "\n",
    "#Dispersions -  std, min, max. range, skew, kurtosis\n",
    "d1 = pd.DataFrame( num_attributes.apply(np.std)).T\n",
    "d2 = pd.DataFrame( num_attributes.apply(min)).T\n",
    "d3 = pd.DataFrame( num_attributes.apply(max)).T\n",
    "d4 = pd.DataFrame( num_attributes.apply( lambda x : x.max() - x.min() )).T\n",
    "d5 = pd.DataFrame( num_attributes.apply( lambda x : x.skew() )).T\n",
    "d6 = pd.DataFrame( num_attributes.apply( lambda x : x.kurtosis() )).T\n",
    "\n",
    "#Concatenar\n",
    "ct = pd.concat( [ d2, d3, d4, ct1, ct2, d1, d5, d6]).T.reset_index()\n",
    "ct.columns = ['attributes', 'min', 'max', 'range', 'mean', 'median', 'std', 'skew', 'kurtosis']\n",
    "ct"
   ]
  },
  {
   "cell_type": "markdown",
   "id": "aa910fc0",
   "metadata": {
    "ExecuteTime": {
     "end_time": "2022-06-29T13:53:34.492600Z",
     "start_time": "2022-06-29T13:53:34.465713Z"
    }
   },
   "source": [
    "### 1.6.1 Numerical -Sessions"
   ]
  },
  {
   "cell_type": "code",
   "execution_count": 21,
   "id": "07244c0f",
   "metadata": {
    "ExecuteTime": {
     "end_time": "2022-07-04T11:39:50.438448Z",
     "start_time": "2022-07-04T11:39:47.490311Z"
    }
   },
   "outputs": [
    {
     "data": {
      "text/html": [
       "<div>\n",
       "<style scoped>\n",
       "    .dataframe tbody tr th:only-of-type {\n",
       "        vertical-align: middle;\n",
       "    }\n",
       "\n",
       "    .dataframe tbody tr th {\n",
       "        vertical-align: top;\n",
       "    }\n",
       "\n",
       "    .dataframe thead th {\n",
       "        text-align: right;\n",
       "    }\n",
       "</style>\n",
       "<table border=\"1\" class=\"dataframe\">\n",
       "  <thead>\n",
       "    <tr style=\"text-align: right;\">\n",
       "      <th></th>\n",
       "      <th>attributes</th>\n",
       "      <th>min</th>\n",
       "      <th>max</th>\n",
       "      <th>range</th>\n",
       "      <th>mean</th>\n",
       "      <th>median</th>\n",
       "      <th>std</th>\n",
       "      <th>skew</th>\n",
       "      <th>kurtosis</th>\n",
       "    </tr>\n",
       "  </thead>\n",
       "  <tbody>\n",
       "    <tr>\n",
       "      <th>0</th>\n",
       "      <td>secs_elapsed</td>\n",
       "      <td>0.0</td>\n",
       "      <td>1799977.0</td>\n",
       "      <td>1799977.0</td>\n",
       "      <td>19961.8251</td>\n",
       "      <td>1369.0</td>\n",
       "      <td>88849.388449</td>\n",
       "      <td>11.137761</td>\n",
       "      <td>154.84312</td>\n",
       "    </tr>\n",
       "  </tbody>\n",
       "</table>\n",
       "</div>"
      ],
      "text/plain": [
       "     attributes  min        max      range        mean  median           std  \\\n",
       "0  secs_elapsed  0.0  1799977.0  1799977.0  19961.8251  1369.0  88849.388449   \n",
       "\n",
       "        skew   kurtosis  \n",
       "0  11.137761  154.84312  "
      ]
     },
     "execution_count": 21,
     "metadata": {},
     "output_type": "execute_result"
    }
   ],
   "source": [
    "#central tendency - Mean and Median\n",
    "ct1 = pd.DataFrame( num_attributes_sessions.apply(np.mean)).T\n",
    "ct2 = pd.DataFrame( num_attributes_sessions.apply(np.median)).T\n",
    "\n",
    "#Dispersions -  std, min, max. range, skew, kurtosis\n",
    "d1 = pd.DataFrame( num_attributes_sessions.apply(np.std)).T\n",
    "d2 = pd.DataFrame( num_attributes_sessions.apply(min)).T\n",
    "d3 = pd.DataFrame( num_attributes_sessions.apply(max)).T\n",
    "d4 = pd.DataFrame( num_attributes_sessions.apply( lambda x : x.max() - x.min() )).T\n",
    "d5 = pd.DataFrame( num_attributes_sessions.apply( lambda x : x.skew() )).T\n",
    "d6 = pd.DataFrame( num_attributes_sessions.apply( lambda x : x.kurtosis() )).T\n",
    "\n",
    "#Concatenar\n",
    "ct = pd.concat( [ d2, d3, d4, ct1, ct2, d1, d5, d6]).T.reset_index()\n",
    "ct.columns = ['attributes', 'min', 'max', 'range', 'mean', 'median', 'std', 'skew', 'kurtosis']\n",
    "ct"
   ]
  },
  {
   "cell_type": "markdown",
   "id": "8f398cd2",
   "metadata": {},
   "source": [
    "### 1.6.2 Numerical - Users"
   ]
  },
  {
   "cell_type": "code",
   "execution_count": 22,
   "id": "c64e9d2a",
   "metadata": {
    "ExecuteTime": {
     "end_time": "2022-07-04T11:39:50.840996Z",
     "start_time": "2022-07-04T11:39:50.641884Z"
    }
   },
   "outputs": [
    {
     "data": {
      "text/html": [
       "<div>\n",
       "<style scoped>\n",
       "    .dataframe tbody tr th:only-of-type {\n",
       "        vertical-align: middle;\n",
       "    }\n",
       "\n",
       "    .dataframe tbody tr th {\n",
       "        vertical-align: top;\n",
       "    }\n",
       "\n",
       "    .dataframe thead th {\n",
       "        text-align: right;\n",
       "    }\n",
       "</style>\n",
       "<table border=\"1\" class=\"dataframe\">\n",
       "  <thead>\n",
       "    <tr style=\"text-align: right;\">\n",
       "      <th></th>\n",
       "      <th>gender</th>\n",
       "      <th>signup_method</th>\n",
       "      <th>language</th>\n",
       "      <th>affiliate_channel</th>\n",
       "      <th>affiliate_provider</th>\n",
       "      <th>first_affiliate_tracked</th>\n",
       "      <th>signup_app</th>\n",
       "      <th>first_device_type</th>\n",
       "      <th>first_browser</th>\n",
       "      <th>country_destination</th>\n",
       "    </tr>\n",
       "  </thead>\n",
       "  <tbody>\n",
       "    <tr>\n",
       "      <th>count</th>\n",
       "      <td>122636</td>\n",
       "      <td>122636</td>\n",
       "      <td>122636</td>\n",
       "      <td>122636</td>\n",
       "      <td>122636</td>\n",
       "      <td>122636</td>\n",
       "      <td>122636</td>\n",
       "      <td>122636</td>\n",
       "      <td>122636</td>\n",
       "      <td>122636</td>\n",
       "    </tr>\n",
       "    <tr>\n",
       "      <th>unique</th>\n",
       "      <td>4</td>\n",
       "      <td>3</td>\n",
       "      <td>25</td>\n",
       "      <td>8</td>\n",
       "      <td>17</td>\n",
       "      <td>7</td>\n",
       "      <td>4</td>\n",
       "      <td>9</td>\n",
       "      <td>41</td>\n",
       "      <td>12</td>\n",
       "    </tr>\n",
       "    <tr>\n",
       "      <th>top</th>\n",
       "      <td>FEMALE</td>\n",
       "      <td>basic</td>\n",
       "      <td>en</td>\n",
       "      <td>direct</td>\n",
       "      <td>direct</td>\n",
       "      <td>untracked</td>\n",
       "      <td>Web</td>\n",
       "      <td>Mac Desktop</td>\n",
       "      <td>Chrome</td>\n",
       "      <td>NDF</td>\n",
       "    </tr>\n",
       "    <tr>\n",
       "      <th>freq</th>\n",
       "      <td>56362</td>\n",
       "      <td>66039</td>\n",
       "      <td>118205</td>\n",
       "      <td>79093</td>\n",
       "      <td>78954</td>\n",
       "      <td>64712</td>\n",
       "      <td>108283</td>\n",
       "      <td>57943</td>\n",
       "      <td>41778</td>\n",
       "      <td>54852</td>\n",
       "    </tr>\n",
       "  </tbody>\n",
       "</table>\n",
       "</div>"
      ],
      "text/plain": [
       "        gender signup_method language affiliate_channel affiliate_provider  \\\n",
       "count   122636        122636   122636            122636             122636   \n",
       "unique       4             3       25                 8                 17   \n",
       "top     FEMALE         basic       en            direct             direct   \n",
       "freq     56362         66039   118205             79093              78954   \n",
       "\n",
       "       first_affiliate_tracked signup_app first_device_type first_browser  \\\n",
       "count                   122636     122636            122636        122636   \n",
       "unique                       7          4                 9            41   \n",
       "top                  untracked        Web       Mac Desktop        Chrome   \n",
       "freq                     64712     108283             57943         41778   \n",
       "\n",
       "       country_destination  \n",
       "count               122636  \n",
       "unique                  12  \n",
       "top                    NDF  \n",
       "freq                 54852  "
      ]
     },
     "execution_count": 22,
     "metadata": {},
     "output_type": "execute_result"
    }
   ],
   "source": [
    "cat_attributes.drop('id', axis=1).describe()"
   ]
  },
  {
   "cell_type": "markdown",
   "id": "f2c78aa6",
   "metadata": {
    "ExecuteTime": {
     "end_time": "2022-06-29T13:53:34.492600Z",
     "start_time": "2022-06-29T13:53:34.465713Z"
    }
   },
   "source": [
    "### 1.6.3 Categorical -Sessions"
   ]
  },
  {
   "cell_type": "code",
   "execution_count": 23,
   "id": "6f933b4d",
   "metadata": {
    "ExecuteTime": {
     "end_time": "2022-07-04T11:39:55.823193Z",
     "start_time": "2022-07-04T11:39:51.032988Z"
    }
   },
   "outputs": [
    {
     "data": {
      "text/html": [
       "<div>\n",
       "<style scoped>\n",
       "    .dataframe tbody tr th:only-of-type {\n",
       "        vertical-align: middle;\n",
       "    }\n",
       "\n",
       "    .dataframe tbody tr th {\n",
       "        vertical-align: top;\n",
       "    }\n",
       "\n",
       "    .dataframe thead th {\n",
       "        text-align: right;\n",
       "    }\n",
       "</style>\n",
       "<table border=\"1\" class=\"dataframe\">\n",
       "  <thead>\n",
       "    <tr style=\"text-align: right;\">\n",
       "      <th></th>\n",
       "      <th>action</th>\n",
       "      <th>action_type</th>\n",
       "      <th>action_detail</th>\n",
       "      <th>device_type</th>\n",
       "    </tr>\n",
       "  </thead>\n",
       "  <tbody>\n",
       "    <tr>\n",
       "      <th>count</th>\n",
       "      <td>9213930</td>\n",
       "      <td>9213930</td>\n",
       "      <td>9213930</td>\n",
       "      <td>9213930</td>\n",
       "    </tr>\n",
       "    <tr>\n",
       "      <th>unique</th>\n",
       "      <td>347</td>\n",
       "      <td>10</td>\n",
       "      <td>155</td>\n",
       "      <td>14</td>\n",
       "    </tr>\n",
       "    <tr>\n",
       "      <th>top</th>\n",
       "      <td>show</td>\n",
       "      <td>view</td>\n",
       "      <td>view_search_results</td>\n",
       "      <td>Mac Desktop</td>\n",
       "    </tr>\n",
       "    <tr>\n",
       "      <th>freq</th>\n",
       "      <td>2178382</td>\n",
       "      <td>3545621</td>\n",
       "      <td>1770931</td>\n",
       "      <td>3019523</td>\n",
       "    </tr>\n",
       "  </tbody>\n",
       "</table>\n",
       "</div>"
      ],
      "text/plain": [
       "         action action_type        action_detail  device_type\n",
       "count   9213930     9213930              9213930      9213930\n",
       "unique      347          10                  155           14\n",
       "top        show        view  view_search_results  Mac Desktop\n",
       "freq    2178382     3545621              1770931      3019523"
      ]
     },
     "execution_count": 23,
     "metadata": {},
     "output_type": "execute_result"
    }
   ],
   "source": [
    "cat_attributes_sessions.drop('user_id', axis=1).describe()"
   ]
  },
  {
   "cell_type": "code",
   "execution_count": 24,
   "id": "41c7299e",
   "metadata": {
    "ExecuteTime": {
     "end_time": "2022-07-04T11:40:35.298690Z",
     "start_time": "2022-07-04T11:39:56.059561Z"
    }
   },
   "outputs": [],
   "source": [
    "#lista de atributos para cramer v\n",
    "cat_attributes_list = cat_attributes_sessions.drop('user_id', axis=1).columns.tolist()\n",
    "\n",
    "corr_dict = {}\n",
    "\n",
    "for i in range( len(cat_attributes_list) ):\n",
    "    corr_list = []\n",
    "    \n",
    "    for j in range (len(cat_attributes_list ) ):\n",
    "        ref  = cat_attributes_list[i]\n",
    "        feat = cat_attributes_list[j]\n",
    "        \n",
    "        #Correlação\n",
    "        corr = cramer_v(cat_attributes_sessions[ref], cat_attributes_sessions[feat] )\n",
    "        \n",
    "        #append a list\n",
    "        corr_list.append( corr )\n",
    "    # append correlation para cada ref atrtibuts\n",
    "    corr_dict[ref] = corr_list"
   ]
  },
  {
   "cell_type": "code",
   "execution_count": 25,
   "id": "61e1fea7",
   "metadata": {
    "ExecuteTime": {
     "end_time": "2022-07-04T11:40:38.311258Z",
     "start_time": "2022-07-04T11:40:35.498154Z"
    }
   },
   "outputs": [
    {
     "data": {
      "image/png": "[encoded data removed]",
      "text/plain": [
       "<Figure size 432x288 with 2 Axes>"
      ]
     },
     "metadata": {
      "needs_background": "light"
     },
     "output_type": "display_data"
    }
   ],
   "source": [
    "d = pd.DataFrame( corr_dict)\n",
    "d = d.set_index(d.columns)\n",
    "sns.heatmap( d, annot=True);"
   ]
  },
  {
   "cell_type": "markdown",
   "id": "dab8fd33",
   "metadata": {},
   "source": [
    "# 2.0 PASSO 02 - Feature Engeneering\n"
   ]
  },
  {
   "cell_type": "code",
   "execution_count": 26,
   "id": "01902b00",
   "metadata": {
    "ExecuteTime": {
     "end_time": "2022-07-04T11:40:38.515562Z",
     "start_time": "2022-07-04T11:40:38.486579Z"
    },
    "scrolled": true
   },
   "outputs": [
    {
     "data": {
      "text/plain": [
       "(122636, 16)"
      ]
     },
     "execution_count": 26,
     "metadata": {},
     "output_type": "execute_result"
    }
   ],
   "source": [
    "df2 =df1.copy()\n",
    "\n",
    "df2.shape\n"
   ]
  },
  {
   "cell_type": "code",
   "execution_count": 27,
   "id": "417faa2d",
   "metadata": {
    "ExecuteTime": {
     "end_time": "2022-07-04T11:40:38.717527Z",
     "start_time": "2022-07-04T11:40:38.688489Z"
    }
   },
   "outputs": [
    {
     "data": {
      "text/plain": [
       "id                                 object\n",
       "date_account_created       datetime64[ns]\n",
       "timestamp_first_active     datetime64[ns]\n",
       "date_first_booking         datetime64[ns]\n",
       "gender                             object\n",
       "age                                 int64\n",
       "signup_method                      object\n",
       "signup_flow                         int64\n",
       "language                           object\n",
       "affiliate_channel                  object\n",
       "affiliate_provider                 object\n",
       "first_affiliate_tracked            object\n",
       "signup_app                         object\n",
       "first_device_type                  object\n",
       "first_browser                      object\n",
       "country_destination                object\n",
       "dtype: object"
      ]
     },
     "execution_count": 27,
     "metadata": {},
     "output_type": "execute_result"
    }
   ],
   "source": [
    "df2.dtypes"
   ]
  },
  {
   "cell_type": "markdown",
   "id": "3e2242af",
   "metadata": {
    "ExecuteTime": {
     "end_time": "2022-06-29T19:29:05.194393Z",
     "start_time": "2022-06-29T19:29:05.188409Z"
    }
   },
   "source": [
    "## 2.1 Create new Features"
   ]
  },
  {
   "cell_type": "code",
   "execution_count": 28,
   "id": "ecb9b2ad",
   "metadata": {
    "ExecuteTime": {
     "end_time": "2022-07-04T11:40:44.353909Z",
     "start_time": "2022-07-04T11:40:38.875033Z"
    }
   },
   "outputs": [],
   "source": [
    "# days from first activate up to first booking\n",
    "df2['first_active'] = pd.to_datetime( df2['timestamp_first_active'].dt.strftime(\"%Y-%m-%d\") )\n",
    "df2['days_from_first_active_until_booking'] = (df2['date_first_booking'] -df2['first_active']).apply( lambda x: x.days)\n",
    "\n",
    "#days from first activate up to account create\n",
    "df2['days_from_first_active_until_account_created'] = (df2['date_account_created'] -df2['first_active']).apply( lambda x: x.days)\n",
    "\n",
    "#days from account create up to first booking\n",
    "df2['days_from_account_created_until_first_booking'] = (df2['date_first_booking'] -df2['date_account_created']).apply( lambda x: x.days)\n",
    "    \n",
    "\n",
    "#===================================First activate======================================\n",
    "#Year first active\n",
    "df2['year_first_active'] = df2['first_active'].dt.year\n",
    "\n",
    "#Month first active\n",
    "df2['month_first_active'] = df2['first_active'].dt.month\n",
    "\n",
    "\n",
    "#Day first active\n",
    "df2['day_first_active'] = df2['first_active'].dt.day\n",
    "\n",
    "\n",
    "#Day of week first active\n",
    "df2['day_of_week_first_active'] = df2['first_active'].dt.dayofweek\n",
    "\n",
    "\n",
    "#Week of year first active\n",
    "df2['week_of_year_first_active'] = df2['first_active'].dt.weekofyear\n",
    "\n",
    "\n",
    "#===================================Booking======================================\n",
    "#Year first booking\n",
    "df2['year_first_booking'] = df2['date_first_booking'].dt.year\n",
    "\n",
    "#Month first booking\n",
    "df2['month_first_booking'] = df2['date_first_booking'].dt.month\n",
    "\n",
    "#Day first booking\n",
    "df2['day_first_booking'] = df2['date_first_booking'].dt.day\n",
    "\n",
    "#Day of Week of first booking\n",
    "df2['day_of_week_first_booking'] = df2['date_first_booking'].dt.dayofweek\n",
    "\n",
    "#Week of first booking\n",
    "df2['week_of_year_first_booking'] = df2['date_first_booking'].dt.weekofyear\n",
    "\n",
    "\n",
    "#===================================First account created======================================\n",
    "#Year first active\n",
    "df2['year_account_created'] = df2['date_account_created'].dt.year\n",
    "\n",
    "#Month first active\n",
    "df2['month_account_created'] = df2['date_account_created'].dt.month\n",
    "\n",
    "\n",
    "#Day first active\n",
    "df2['day_account_created'] = df2['date_account_created'].dt.day\n",
    "\n",
    "\n",
    "#Day of week first active\n",
    "df2['day_of _week_first_account_created'] = df2['date_account_created'].dt.dayofweek\n",
    "\n",
    "\n",
    "#Week of year first active\n",
    "df2['week_of _year_first_account_created'] = df2['date_account_created'].dt.weekofyear\n",
    "\n",
    "\n"
   ]
  },
  {
   "cell_type": "code",
   "execution_count": 29,
   "id": "5296f0ad",
   "metadata": {
    "ExecuteTime": {
     "end_time": "2022-07-04T11:40:44.572590Z",
     "start_time": "2022-07-04T11:40:44.559855Z"
    }
   },
   "outputs": [
    {
     "data": {
      "text/plain": [
       "(122636, 35)"
      ]
     },
     "execution_count": 29,
     "metadata": {},
     "output_type": "execute_result"
    }
   ],
   "source": [
    "df2.shape"
   ]
  },
  {
   "cell_type": "markdown",
   "id": "9f69dc92",
   "metadata": {},
   "source": [
    "# 3.0 PASSO 03 - Data Filtering\n"
   ]
  },
  {
   "cell_type": "code",
   "execution_count": 30,
   "id": "7861d0fa",
   "metadata": {
    "ExecuteTime": {
     "end_time": "2022-07-04T11:40:44.855537Z",
     "start_time": "2022-07-04T11:40:44.795016Z"
    }
   },
   "outputs": [],
   "source": [
    "df3 = df2.copy()"
   ]
  },
  {
   "cell_type": "markdown",
   "id": "fda01745",
   "metadata": {},
   "source": [
    "## 3.1 Filtering Rows"
   ]
  },
  {
   "cell_type": "code",
   "execution_count": 31,
   "id": "765e83e7",
   "metadata": {
    "ExecuteTime": {
     "end_time": "2022-07-04T11:40:45.139873Z",
     "start_time": "2022-07-04T11:40:45.094937Z"
    }
   },
   "outputs": [],
   "source": [
    "#Age:entre 15 e 120 pois há poucas pessoas como mais de 120 anos\n",
    "df3 =  df3[( df2['age']> 15) & (df3['age'] < 120 )]\n",
    "\n",
    "# secs_elapsed - Não há possibilidade de ter 0 elapsed\n",
    "#df1_sessions = df1_sessions[ df1_sessions['secs_elapsed']> 0]"
   ]
  },
  {
   "cell_type": "markdown",
   "id": "c9f932d3",
   "metadata": {},
   "source": [
    "## 3.2 Columns Selection"
   ]
  },
  {
   "cell_type": "code",
   "execution_count": 32,
   "id": "7c4b463d",
   "metadata": {
    "ExecuteTime": {
     "end_time": "2022-07-04T11:40:45.449509Z",
     "start_time": "2022-07-04T11:40:45.407462Z"
    }
   },
   "outputs": [],
   "source": [
    "cols = ['date_account_created', 'date_account_created', 'date_first_booking', 'timestamp_first_active', 'first_active'] # original datetime\n",
    "df3 = df3.drop( cols, axis=1 )"
   ]
  },
  {
   "cell_type": "markdown",
   "id": "c4cbba6f",
   "metadata": {},
   "source": [
    "# 4.0 - BALANCED DATASET"
   ]
  },
  {
   "cell_type": "code",
   "execution_count": 33,
   "id": "eba9b281",
   "metadata": {
    "ExecuteTime": {
     "end_time": "2022-07-04T11:40:45.728240Z",
     "start_time": "2022-07-04T11:40:45.699651Z"
    }
   },
   "outputs": [
    {
     "data": {
      "text/plain": [
       "(122636, 31)"
      ]
     },
     "execution_count": 33,
     "metadata": {},
     "output_type": "execute_result"
    }
   ],
   "source": [
    "df4 = df3.copy()\n",
    "df4.shape"
   ]
  },
  {
   "cell_type": "code",
   "execution_count": 34,
   "id": "4d9988b7",
   "metadata": {
    "ExecuteTime": {
     "end_time": "2022-07-04T11:40:46.776639Z",
     "start_time": "2022-07-04T11:40:46.015825Z"
    }
   },
   "outputs": [],
   "source": [
    "#Encoder Categorical Variable\n",
    "ohe = pp.OneHotEncoder()\n",
    "\n",
    "#Numerical\n",
    "col_num = df4.select_dtypes(include=['int64','float64']).columns.tolist()\n",
    "\n",
    "#Categorical\n",
    "col_cat = df4.select_dtypes(exclude=['int64','float64', 'datetime64[ns]']).drop(['id','country_destination'], axis=1).columns.tolist()\n",
    "\n",
    "\n",
    "#Encoding\n",
    "df4_dummy = pd.DataFrame( ohe.fit_transform( df4[col_cat]).toarray(), index=df4.index)\n",
    "\n",
    "\n",
    "# Joing Numerical and Categorical\n",
    "df42 = pd.concat( [ df4[col_num], df4_dummy], axis=1)\n",
    "\n"
   ]
  },
  {
   "cell_type": "code",
   "execution_count": 35,
   "id": "61495fdb",
   "metadata": {
    "ExecuteTime": {
     "end_time": "2022-07-04T11:40:47.270479Z",
     "start_time": "2022-07-04T11:40:47.257513Z"
    }
   },
   "outputs": [
    {
     "data": {
      "text/plain": [
       "age                                                int64\n",
       "signup_flow                                        int64\n",
       "days_from_first_active_until_booking               int64\n",
       "days_from_first_active_until_account_created       int64\n",
       "days_from_account_created_until_first_booking      int64\n",
       "                                                  ...   \n",
       "113                                              float64\n",
       "114                                              float64\n",
       "115                                              float64\n",
       "116                                              float64\n",
       "117                                              float64\n",
       "Length: 138, dtype: object"
      ]
     },
     "execution_count": 35,
     "metadata": {},
     "output_type": "execute_result"
    }
   ],
   "source": [
    "df42.dtypes"
   ]
  },
  {
   "cell_type": "markdown",
   "id": "fb51b0f9",
   "metadata": {},
   "source": [
    "## 4.1 Random Undersampling"
   ]
  },
  {
   "cell_type": "code",
   "execution_count": 37,
   "id": "71310c7d",
   "metadata": {
    "ExecuteTime": {
     "end_time": "2022-07-04T11:50:44.527094Z",
     "start_time": "2022-07-04T11:50:43.423195Z"
    }
   },
   "outputs": [],
   "source": [
    "# Ratio_balanced\n",
    "ratio_balanced = {'NDF': 10000}\n",
    "\n",
    "#Para fazer reamostragem : definir um sampler\n",
    "undersampling = us.RandomUnderSampler(sampling_strategy=ratio_balanced, random_state=32)\n",
    "\n",
    "#aplicar o sampler\n",
    "X_under, y_under = undersampling.fit_resample(df42, df4['country_destination'])"
   ]
  },
  {
   "cell_type": "code",
   "execution_count": 38,
   "id": "e8c77a3b",
   "metadata": {
    "ExecuteTime": {
     "end_time": "2022-07-04T11:50:45.049551Z",
     "start_time": "2022-07-04T11:50:45.019632Z"
    },
    "scrolled": false
   },
   "outputs": [
    {
     "data": {
      "text/plain": [
       "NDF      54852\n",
       "US       48057\n",
       "other     7511\n",
       "FR        3669\n",
       "IT        2014\n",
       "GB        1758\n",
       "ES        1685\n",
       "CA        1064\n",
       "DE         841\n",
       "NL         595\n",
       "AU         433\n",
       "PT         157\n",
       "Name: country_destination, dtype: int64"
      ]
     },
     "execution_count": 38,
     "metadata": {},
     "output_type": "execute_result"
    }
   ],
   "source": [
    "df4['country_destination'].value_counts()"
   ]
  },
  {
   "cell_type": "code",
   "execution_count": 39,
   "id": "89b22d95",
   "metadata": {
    "ExecuteTime": {
     "end_time": "2022-07-04T11:50:45.537703Z",
     "start_time": "2022-07-04T11:50:45.523741Z"
    }
   },
   "outputs": [
    {
     "data": {
      "text/plain": [
       "US       48057\n",
       "NDF      10000\n",
       "other     7511\n",
       "FR        3669\n",
       "IT        2014\n",
       "GB        1758\n",
       "ES        1685\n",
       "CA        1064\n",
       "DE         841\n",
       "NL         595\n",
       "AU         433\n",
       "PT         157\n",
       "Name: country_destination, dtype: int64"
      ]
     },
     "execution_count": 39,
     "metadata": {},
     "output_type": "execute_result"
    }
   ],
   "source": [
    "y_under.value_counts()"
   ]
  },
  {
   "cell_type": "markdown",
   "id": "56aed11a",
   "metadata": {},
   "source": [
    "## 4.2 Random Oversampling"
   ]
  },
  {
   "cell_type": "code",
   "execution_count": 40,
   "id": "8eed9f7e",
   "metadata": {
    "ExecuteTime": {
     "end_time": "2022-07-04T11:50:52.083081Z",
     "start_time": "2022-07-04T11:50:50.785076Z"
    }
   },
   "outputs": [],
   "source": [
    "# Ratio_balanced\n",
    "#ratio_balanced = {'NDF': 10000}\n",
    "\n",
    "#Para fazer reamostragem : definir um sampler\n",
    "oversampling = oversamp.RandomOverSampler(sampling_strategy='minority', random_state=32)\n",
    "\n",
    "#aplicar o sampler\n",
    "X_over, y_over = oversampling.fit_resample(df42, df4['country_destination']) "
   ]
  },
  {
   "cell_type": "code",
   "execution_count": 41,
   "id": "572971dd",
   "metadata": {
    "ExecuteTime": {
     "end_time": "2022-07-04T11:50:53.051278Z",
     "start_time": "2022-07-04T11:50:53.023389Z"
    },
    "scrolled": true
   },
   "outputs": [
    {
     "data": {
      "text/plain": [
       "NDF      54852\n",
       "US       48057\n",
       "other     7511\n",
       "FR        3669\n",
       "IT        2014\n",
       "GB        1758\n",
       "ES        1685\n",
       "CA        1064\n",
       "DE         841\n",
       "NL         595\n",
       "AU         433\n",
       "PT         157\n",
       "Name: country_destination, dtype: int64"
      ]
     },
     "execution_count": 41,
     "metadata": {},
     "output_type": "execute_result"
    }
   ],
   "source": [
    "df4['country_destination'].value_counts()"
   ]
  },
  {
   "cell_type": "code",
   "execution_count": 42,
   "id": "f172616d",
   "metadata": {
    "ExecuteTime": {
     "end_time": "2022-07-04T11:50:53.903034Z",
     "start_time": "2022-07-04T11:50:53.865149Z"
    },
    "scrolled": true
   },
   "outputs": [
    {
     "data": {
      "text/plain": [
       "NDF      54852\n",
       "PT       54852\n",
       "US       48057\n",
       "other     7511\n",
       "FR        3669\n",
       "IT        2014\n",
       "GB        1758\n",
       "ES        1685\n",
       "CA        1064\n",
       "DE         841\n",
       "NL         595\n",
       "AU         433\n",
       "Name: country_destination, dtype: int64"
      ]
     },
     "execution_count": 42,
     "metadata": {},
     "output_type": "execute_result"
    }
   ],
   "source": [
    "y_over.value_counts()"
   ]
  },
  {
   "cell_type": "markdown",
   "id": "c7998a81",
   "metadata": {},
   "source": [
    "## 4.3 Smote + Tomeklink"
   ]
  },
  {
   "cell_type": "code",
   "execution_count": 43,
   "id": "2d30a674",
   "metadata": {
    "ExecuteTime": {
     "end_time": "2022-07-04T11:50:55.019893Z",
     "start_time": "2022-07-04T11:50:55.007888Z"
    }
   },
   "outputs": [
    {
     "data": {
      "text/plain": [
       "122636"
      ]
     },
     "execution_count": 43,
     "metadata": {},
     "output_type": "execute_result"
    }
   ],
   "source": [
    "len(df4['country_destination'])"
   ]
  },
  {
   "cell_type": "code",
   "execution_count": 44,
   "id": "32ad8d61",
   "metadata": {
    "ExecuteTime": {
     "end_time": "2022-07-04T11:50:55.649679Z",
     "start_time": "2022-07-04T11:50:55.632725Z"
    }
   },
   "outputs": [
    {
     "data": {
      "text/plain": [
       "5.325522566901877"
      ]
     },
     "execution_count": 44,
     "metadata": {},
     "output_type": "execute_result"
    }
   ],
   "source": [
    "40000/7511"
   ]
  },
  {
   "cell_type": "code",
   "execution_count": 45,
   "id": "24bf179a",
   "metadata": {
    "ExecuteTime": {
     "end_time": "2022-07-04T11:50:56.276695Z",
     "start_time": "2022-07-04T11:50:56.260738Z"
    },
    "scrolled": true
   },
   "outputs": [],
   "source": [
    "#df4['country_destination'].value_counts().to_dict()\n",
    "ratio_balanced = {'NDF':   54852,\n",
    "                  'US':    48057,\n",
    "                  'other': 6*7511,\n",
    "                  'FR':    12*3669,\n",
    "                  'IT':    20*2014,\n",
    "                  'GB':    30*1758,\n",
    "                  'ES':    30*1685,\n",
    "                  'CA':    40*1064,\n",
    "                  'DE':    50*841,\n",
    "                  'NL':    80*595,\n",
    "                  'AU':    95*433,\n",
    "                  'PT':    300*157}"
   ]
  },
  {
   "cell_type": "code",
   "execution_count": null,
   "id": "12bc25b6",
   "metadata": {
    "ExecuteTime": {
     "start_time": "2022-07-04T11:50:56.772Z"
    }
   },
   "outputs": [],
   "source": [
    "#define sampler\n",
    "smt = c.SMOTETomek(sampling_strategy=ratio_balanced, random_state=32, n_jobs=-1)\n",
    "\n",
    "# apply sampler\n",
    "X_smt, y_smt = smt.fit_resample(df42, df4['country_destination'])"
   ]
  },
  {
   "cell_type": "code",
   "execution_count": null,
   "id": "b2d7d2cf",
   "metadata": {
    "ExecuteTime": {
     "start_time": "2022-07-04T11:50:58.142Z"
    }
   },
   "outputs": [],
   "source": [
    "#Numerical data\n",
    "df43 = X_smt[col_num]\n",
    "\n",
    "#Categorical Data\n",
    "df44 =X_smt.drop(col_num, axis=1)\n",
    "df45 = pd.DataFrame( ohe.inverse_transform(df44), columns=col_cat, index=df44.index)\n",
    "#Join Numerical categorical\n",
    "df46 = pd.concat([df43, df45], axis=1)\n",
    "df4['country_destination']=y_smt\n"
   ]
  },
  {
   "cell_type": "code",
   "execution_count": null,
   "id": "5f06ca3b",
   "metadata": {
    "ExecuteTime": {
     "start_time": "2022-07-04T11:50:59.657Z"
    }
   },
   "outputs": [],
   "source": [
    "df46.head()"
   ]
  },
  {
   "cell_type": "code",
   "execution_count": null,
   "id": "4f0aecdd",
   "metadata": {
    "ExecuteTime": {
     "start_time": "2022-07-04T11:51:00.415Z"
    }
   },
   "outputs": [],
   "source": [
    "df4['country_destination'].value_counts()"
   ]
  },
  {
   "cell_type": "code",
   "execution_count": null,
   "id": "d8dd14e0",
   "metadata": {
    "ExecuteTime": {
     "start_time": "2022-07-04T11:51:05.410Z"
    },
    "scrolled": true
   },
   "outputs": [],
   "source": [
    "y_smt.value_counts()"
   ]
  },
  {
   "cell_type": "markdown",
   "id": "470dc8b5",
   "metadata": {},
   "source": [
    "# 5.0 - EXPLORATORY DATA ANALYSIS (EDA)"
   ]
  },
  {
   "cell_type": "markdown",
   "id": "10552553",
   "metadata": {},
   "source": [
    "## 5.1 Analise univariada - Dados balanceados\n"
   ]
  },
  {
   "cell_type": "code",
   "execution_count": null,
   "id": "8952d754",
   "metadata": {
    "ExecuteTime": {
     "start_time": "2022-07-04T11:51:06.465Z"
    }
   },
   "outputs": [],
   "source": [
    "df51 = df46.copy()"
   ]
  },
  {
   "cell_type": "code",
   "execution_count": null,
   "id": "6f8404b5",
   "metadata": {
    "ExecuteTime": {
     "start_time": "2022-07-04T11:51:06.707Z"
    }
   },
   "outputs": [],
   "source": [
    "df52 = df4.copy()"
   ]
  },
  {
   "cell_type": "code",
   "execution_count": null,
   "id": "9acc0144",
   "metadata": {
    "ExecuteTime": {
     "start_time": "2022-07-04T11:51:06.905Z"
    }
   },
   "outputs": [],
   "source": [
    "df52.columns"
   ]
  },
  {
   "cell_type": "code",
   "execution_count": null,
   "id": "688f79d1",
   "metadata": {
    "ExecuteTime": {
     "start_time": "2022-07-04T11:51:07.127Z"
    }
   },
   "outputs": [],
   "source": [
    "#my_report = sv.analyze(df51)\n",
    "#my_report.show_html() # Default arguments will generate to \"SWEETVIZ_REPORT.html\""
   ]
  },
  {
   "cell_type": "markdown",
   "id": "ef7f1dae",
   "metadata": {
    "ExecuteTime": {
     "end_time": "2022-07-01T19:58:53.442063Z",
     "start_time": "2022-07-01T19:58:53.337356Z"
    }
   },
   "source": [
    "## 5.2 Analise Bivariada - Validação de hipoteses -  Dados  desbalanceados\n"
   ]
  },
  {
   "cell_type": "markdown",
   "id": "021d9ce3",
   "metadata": {},
   "source": [
    "**H01**. Em todos os destinos, os usuários levam 15 dias em média, para fazer a primeira reserva no airbnb, desde a primeira ativação"
   ]
  },
  {
   "cell_type": "markdown",
   "id": "71e73823",
   "metadata": {},
   "source": [
    "**Verdadeiro** em todo destinos os usuários levam em média  até 6 dias para fazer a primeira reserva"
   ]
  },
  {
   "cell_type": "code",
   "execution_count": null,
   "id": "f754135d",
   "metadata": {
    "ExecuteTime": {
     "start_time": "2022-07-04T11:51:08.783Z"
    }
   },
   "outputs": [],
   "source": [
    "\n",
    "aux01 = df52[['days_from_first_active_until_booking', 'country_destination']].groupby('country_destination').median().reset_index()\n",
    "\n",
    "\n",
    "plt.figure(figsize=(20,12))\n",
    "plt.subplot(2, 1, 1)\n",
    "sns.barplot(x='country_destination', y='days_from_first_active_until_booking', data=aux01.sort_values('days_from_first_active_until_booking'))\n",
    "\n",
    "\n",
    "\n",
    "#Remove outliers\n",
    "plt.figure(figsize=(20,12))\n",
    "plt.subplot(2, 1, 2)\n",
    "aux02 = df52[ df52['country_destination'] != 'NDF' ]\n",
    "aux02 = aux02[['days_from_first_active_until_booking', 'country_destination']].groupby('country_destination').median().reset_index()\n",
    "sns.barplot(x='country_destination', y='days_from_first_active_until_booking', \n",
    "            data=aux02.sort_values('days_from_first_active_until_booking'));\n",
    "\n",
    "\n"
   ]
  },
  {
   "cell_type": "markdown",
   "id": "b7f6f71d",
   "metadata": {},
   "source": [
    "**H02**. Em todos os destinos, os usuários levam 3 dias em média, para fazer o cadastro no site"
   ]
  },
  {
   "cell_type": "markdown",
   "id": "e3188928",
   "metadata": {},
   "source": [
    "**Verdadeiro** Em todos os destinos os usuario levam até 2 dias para ativar o cadastro"
   ]
  },
  {
   "cell_type": "code",
   "execution_count": null,
   "id": "966b0df5",
   "metadata": {
    "ExecuteTime": {
     "start_time": "2022-07-04T11:51:11.247Z"
    }
   },
   "outputs": [],
   "source": [
    "\n",
    "aux01 = df52[['days_from_first_active_until_account_created', 'country_destination']].groupby('country_destination').mean().reset_index()\n",
    "\n",
    "\n",
    "plt.figure(figsize=(20,12))\n",
    "plt.subplot(2, 1, 1)\n",
    "sns.barplot(x='country_destination', y='days_from_first_active_until_account_created', \n",
    "            data=aux01.sort_values('days_from_first_active_until_account_created'))\n",
    "\n"
   ]
  },
  {
   "cell_type": "markdown",
   "id": "99f6501c",
   "metadata": {},
   "source": [
    "**H03**. O Volume de reserva anual feitas durante  o verão aumentaram 20% para destinos dentro dos USA"
   ]
  },
  {
   "cell_type": "markdown",
   "id": "dfcbc52c",
   "metadata": {
    "ExecuteTime": {
     "end_time": "2022-07-03T18:28:27.437132Z",
     "start_time": "2022-07-03T18:28:27.422174Z"
    }
   },
   "source": [
    "**Falsa** Há um volume maior que 20% até 2013, depois elas caem."
   ]
  },
  {
   "cell_type": "code",
   "execution_count": null,
   "id": "39a0ee03",
   "metadata": {
    "ExecuteTime": {
     "start_time": "2022-07-04T11:51:12.372Z"
    },
    "code_folding": []
   },
   "outputs": [],
   "source": [
    "aux01 = df52[['year_first_booking', 'month_first_booking','country_destination']].\\\n",
    "    groupby(['year_first_booking', 'month_first_booking','country_destination' ]).\\\n",
    "    size().reset_index().rename(columns={0:'count'})\n",
    "\n",
    "#Select only summer´s months( 6, 7, 8, 9)\n",
    "aux01 = aux01[( aux01['month_first_booking'].isin( [6, 7, 8, 9] ) ) & (aux01['country_destination'] == 'US')]\n",
    "              \n",
    "\n",
    "aux02 = aux01[['year_first_booking', 'count']].groupby( 'year_first_booking' ).sum().reset_index()\n",
    "aux02['delta'] = aux02['count'].pct_change()\n",
    "\n",
    "plt.figure(figsize=(20,12))\n",
    "sns.barplot(x='year_first_booking', y='delta', data=aux02)"
   ]
  },
  {
   "cell_type": "markdown",
   "id": "a3dc323f",
   "metadata": {},
   "source": [
    "**H04**. Os usuários do sexo feminino fazem 10% mais reservas fara fora dos USA"
   ]
  },
  {
   "cell_type": "code",
   "execution_count": null,
   "id": "a9ea44c7",
   "metadata": {},
   "outputs": [],
   "source": []
  },
  {
   "cell_type": "code",
   "execution_count": null,
   "id": "85e41bcc",
   "metadata": {},
   "outputs": [],
   "source": []
  },
  {
   "cell_type": "markdown",
   "id": "8a09e726",
   "metadata": {},
   "source": [
    "**H05**. O Canal de mkt do google representa 40% das reservas para fora dos USA"
   ]
  },
  {
   "cell_type": "markdown",
   "id": "959483a2",
   "metadata": {},
   "source": [
    "**H06**. Destino dentro dos USA, representa 20% em todos os canais"
   ]
  },
  {
   "cell_type": "markdown",
   "id": "c5fcd6b6",
   "metadata": {},
   "source": [
    "**H07**. A idade média das pessoas é de 35 anos em todos os destinos"
   ]
  },
  {
   "cell_type": "markdown",
   "id": "89aa9e45",
   "metadata": {},
   "source": [
    "**H08**. A porcentagem de usuarios que usam o site na lingua ingles_Americano para reservar acomodações em qualquer destino é maior que 40%"
   ]
  },
  {
   "cell_type": "markdown",
   "id": "61caf5f0",
   "metadata": {},
   "source": [
    "**H09**. O número de reservas do airbnb é crescente ou decrescente ao longo dos anos?"
   ]
  },
  {
   "cell_type": "markdown",
   "id": "c629f709",
   "metadata": {},
   "source": [
    "**H10**. O número de reservas do airbnb é crescente ao longo dos anos?"
   ]
  },
  {
   "cell_type": "markdown",
   "id": "73447065",
   "metadata": {
    "ExecuteTime": {
     "end_time": "2022-07-01T19:58:53.442063Z",
     "start_time": "2022-07-01T19:58:53.337356Z"
    }
   },
   "source": [
    "## 5.3  Validação de hipoteses -  Dados  desbalanceados\n"
   ]
  },
  {
   "cell_type": "code",
   "execution_count": null,
   "id": "2ab1f120",
   "metadata": {},
   "outputs": [],
   "source": []
  },
  {
   "cell_type": "code",
   "execution_count": null,
   "id": "61cd137b",
   "metadata": {},
   "outputs": [],
   "source": []
  },
  {
   "cell_type": "code",
   "execution_count": null,
   "id": "f07b83a4",
   "metadata": {},
   "outputs": [],
   "source": [
    "## 5.2 Analise Bivariada - Validação de hipoteses -  Dados  desbalanceados\n"
   ]
  },
  {
   "cell_type": "code",
   "execution_count": null,
   "id": "3c6292d7",
   "metadata": {},
   "outputs": [],
   "source": []
  },
  {
   "cell_type": "markdown",
   "id": "20a0b389",
   "metadata": {},
   "source": [
    "# <font color='red'> 5.0 - DATA PREPARATION</font>"
   ]
  },
  {
   "cell_type": "code",
   "execution_count": null,
   "id": "1fc2c5fc",
   "metadata": {
    "ExecuteTime": {
     "end_time": "2022-07-01T18:37:38.992936Z",
     "start_time": "2022-07-01T18:37:38.934128Z"
    }
   },
   "outputs": [],
   "source": [
    "df5 = df4.copy()"
   ]
  },
  {
   "cell_type": "code",
   "execution_count": null,
   "id": "fc92ef43",
   "metadata": {
    "ExecuteTime": {
     "end_time": "2022-07-01T18:37:42.317475Z",
     "start_time": "2022-07-01T18:37:41.301666Z"
    }
   },
   "outputs": [],
   "source": [
    "# Dummy Variable\n",
    "df5_dummy = pd.get_dummies( df5.drop( ['id','country_destination'], axis=1 ) )\n",
    "\n",
    "#Join ID and country_destiantion\n",
    "df5 =pd.concat( [  df5[['id', 'country_destination']], df5_dummy],axis=1)"
   ]
  },
  {
   "cell_type": "code",
   "execution_count": null,
   "id": "6f664479",
   "metadata": {
    "ExecuteTime": {
     "end_time": "2022-07-01T18:37:44.912716Z",
     "start_time": "2022-07-01T18:37:44.670734Z"
    }
   },
   "outputs": [],
   "source": [
    "df5.shape"
   ]
  },
  {
   "cell_type": "markdown",
   "id": "50ecb8e2",
   "metadata": {},
   "source": [
    "# 6.0 Feature Selection"
   ]
  },
  {
   "cell_type": "code",
   "execution_count": null,
   "id": "80157292",
   "metadata": {
    "ExecuteTime": {
     "end_time": "2022-07-01T18:38:26.723851Z",
     "start_time": "2022-07-01T18:38:26.472818Z"
    }
   },
   "outputs": [],
   "source": [
    "df6 = df5.copy()"
   ]
  },
  {
   "cell_type": "code",
   "execution_count": null,
   "id": "64026525",
   "metadata": {
    "ExecuteTime": {
     "end_time": "2022-07-01T18:38:29.730299Z",
     "start_time": "2022-07-01T18:38:29.673451Z"
    }
   },
   "outputs": [],
   "source": [
    "X = df6.drop(['id', 'country_destination'], axis=1)\n",
    "y = df6['country_destination'].copy()"
   ]
  },
  {
   "cell_type": "code",
   "execution_count": null,
   "id": "466d689c",
   "metadata": {
    "ExecuteTime": {
     "end_time": "2022-07-01T18:38:33.524850Z",
     "start_time": "2022-07-01T18:38:32.758191Z"
    }
   },
   "outputs": [],
   "source": [
    "#Split dataset\n",
    "X_train, X_test, y_train, y_test = ms.train_test_split( X, y, test_size=0.2, random_state=32 ) "
   ]
  },
  {
   "cell_type": "markdown",
   "id": "919e0003",
   "metadata": {
    "heading_collapsed": true
   },
   "source": [
    "# 7.0 MACHINE LEARNING MODEL"
   ]
  },
  {
   "cell_type": "code",
   "execution_count": null,
   "id": "86b4b527",
   "metadata": {
    "ExecuteTime": {
     "end_time": "2022-07-01T18:39:12.350360Z",
     "start_time": "2022-07-01T18:39:12.337362Z"
    },
    "hidden": true
   },
   "outputs": [],
   "source": [
    "x_train = X_train\n",
    "x_test = X_test"
   ]
  },
  {
   "cell_type": "markdown",
   "id": "1314ea2c",
   "metadata": {
    "hidden": true
   },
   "source": [
    "## 7.1 Baseline Model "
   ]
  },
  {
   "cell_type": "code",
   "execution_count": null,
   "id": "a530ce6d",
   "metadata": {
    "ExecuteTime": {
     "end_time": "2022-07-01T18:39:17.020357Z",
     "start_time": "2022-07-01T18:39:14.880706Z"
    },
    "hidden": true
   },
   "outputs": [],
   "source": [
    "#random.choices(populacao =, weght= , k=)\n",
    "country_destination_list = df1['country_destination'].drop_duplicates().sort_values().to_list()\n",
    "k_num = y_test.shape[0]\n",
    "country_destination_weghts = df1['country_destination'].value_counts(normalize=True).sort_index().to_list()\n",
    "\n",
    "# Modelo aleatório\n",
    "yhat_random = random.choices(population= country_destination_list, \n",
    "                             weights = country_destination_weghts,\n",
    "                             k = k_num)\n"
   ]
  },
  {
   "cell_type": "markdown",
   "id": "604d7705",
   "metadata": {
    "hidden": true
   },
   "source": [
    "### 7.1.1 Baseline Model Performance"
   ]
  },
  {
   "cell_type": "code",
   "execution_count": null,
   "id": "9f7ddda7",
   "metadata": {
    "ExecuteTime": {
     "end_time": "2022-07-01T18:39:26.913049Z",
     "start_time": "2022-07-01T18:39:19.314928Z"
    },
    "hidden": true
   },
   "outputs": [],
   "source": [
    "#Accuracy\n",
    "acc_random = m.accuracy_score(y_test, yhat_random)\n",
    "print(f'Accuracy: {acc_random}')\n",
    "\n",
    "#Balanced Accuracy\n",
    "balanced_acc_random = m.balanced_accuracy_score(y_test, yhat_random)\n",
    "print(f'Balanced Accuracy: {balanced_acc_random}')\n",
    "\n",
    "#Kappa Metrics\n",
    "kappa_random = m.cohen_kappa_score(y_test, yhat_random)\n",
    "print(f'Balanced Accuracy: {kappa_random}')\n",
    "print('\\n')\n",
    "\n",
    "#Classification Report\n",
    "print(m.classification_report(y_test, yhat_random))\n",
    "\n",
    "#Confusion Matrix\n",
    "cm = confusion_matrix( y_test, yhat_random)\n",
    "plt.figure(figsize=(15, 10))\n",
    "sns.heatmap(cm, annot=True);\n"
   ]
  },
  {
   "cell_type": "markdown",
   "id": "dee2fab3",
   "metadata": {
    "heading_collapsed": true,
    "hidden": true
   },
   "source": [
    "## 7.2 Neural Network - MLP"
   ]
  },
  {
   "cell_type": "code",
   "execution_count": null,
   "id": "40f8bf32",
   "metadata": {
    "ExecuteTime": {
     "end_time": "2022-07-01T18:39:37.997898Z",
     "start_time": "2022-07-01T18:39:37.713091Z"
    },
    "hidden": true
   },
   "outputs": [],
   "source": [
    "ohe = pp.OneHotEncoder()\n",
    "y_train_nn = ohe.fit_transform( y_train.values.reshape(-1, 1 ) ).toarray()"
   ]
  },
  {
   "cell_type": "code",
   "execution_count": null,
   "id": "713ab89d",
   "metadata": {
    "ExecuteTime": {
     "end_time": "2022-07-01T18:39:40.006252Z",
     "start_time": "2022-07-01T18:39:39.994286Z"
    },
    "hidden": true
   },
   "outputs": [],
   "source": [
    "#df1['country_destination'].value_counts(normalize=True).sort_index().to_list()"
   ]
  },
  {
   "cell_type": "code",
   "execution_count": null,
   "id": "4fe2af7a",
   "metadata": {
    "ExecuteTime": {
     "end_time": "2022-07-01T18:47:13.847266Z",
     "start_time": "2022-07-01T18:39:41.917310Z"
    },
    "hidden": true
   },
   "outputs": [],
   "source": [
    "# Model definition\n",
    "model = ml.Sequential()\n",
    "model.add(l.Dense( 256, input_dim=x_train.shape[1], activation='relu') )\n",
    "model.add(l.Dense( 12, activation='softmax') )\n",
    "\n",
    "#Model compile\n",
    "model.compile( loss= 'categorical_crossentropy', optimizer= 'adam', metrics=['accuracy'] )\n",
    "\n",
    "#training model\n",
    "model.fit( x_train , y_train_nn, epochs=100 )"
   ]
  },
  {
   "cell_type": "markdown",
   "id": "e55ed97c",
   "metadata": {
    "hidden": true
   },
   "source": [
    "## 7.2.2 NN Performance"
   ]
  },
  {
   "cell_type": "code",
   "execution_count": null,
   "id": "bf13f189",
   "metadata": {
    "ExecuteTime": {
     "end_time": "2022-07-01T18:47:49.718211Z",
     "start_time": "2022-07-01T18:47:48.881444Z"
    },
    "hidden": true
   },
   "outputs": [],
   "source": [
    "#Predict\n",
    "pred_nn = model.predict( x_test )\n",
    "\n",
    "#invert prediction\n",
    "yhat_nn = ohe.inverse_transform( pred_nn)\n",
    "\n",
    "#Prediction Prepare\n",
    "y_test_nn = y_test.to_numpy()\n",
    "yhat_nn =  yhat_nn.reshape(1, -1 )[0]"
   ]
  },
  {
   "cell_type": "code",
   "execution_count": null,
   "id": "1fe9a192",
   "metadata": {
    "ExecuteTime": {
     "end_time": "2022-07-01T18:47:53.388792Z",
     "start_time": "2022-07-01T18:47:51.786762Z"
    },
    "hidden": true
   },
   "outputs": [],
   "source": [
    "#Accuracy\n",
    "acc_nn = m.accuracy_score(y_test_nn, yhat_nn)\n",
    "print(f'Accuracy: {acc_nn}')\n",
    "\n",
    "#Balanced Accuracy\n",
    "balanced_acc_nn = m.balanced_accuracy_score(y_test_nn, yhat_nn)\n",
    "print(f'Balanced Accuracy: {balanced_acc_nn}')\n",
    "\n",
    "#Kappa Metrics\n",
    "kappa_nn = m.cohen_kappa_score(y_test_nn, yhat_nn)\n",
    "print(f'Kappa score: {kappa_nn}')\n",
    "print('\\n')\n",
    "\n",
    "#Classification Report\n",
    "print(m.classification_report(y_test_nn, yhat_nn))\n",
    "\n",
    "#Confusion Matrix\n",
    "cm = confusion_matrix( y_test_nn, yhat_nn)\n",
    "plt.figure(figsize=(15, 10))\n",
    "sns.heatmap(cm, annot=True);\n",
    "\n"
   ]
  },
  {
   "cell_type": "markdown",
   "id": "77b41cd2",
   "metadata": {
    "hidden": true
   },
   "source": [
    "## 7.2.3 NN Performance - Cross Validation"
   ]
  },
  {
   "cell_type": "code",
   "execution_count": null,
   "id": "fa130275",
   "metadata": {
    "ExecuteTime": {
     "end_time": "2022-07-01T19:12:54.315094Z",
     "start_time": "2022-07-01T18:47:55.182054Z"
    },
    "hidden": true
   },
   "outputs": [],
   "source": [
    "#Generate k-fold\n",
    "num_folds = 5\n",
    "kfold = ms.StratifiedKFold(n_splits=num_folds, shuffle=True, random_state=32)\n",
    "\n",
    "balanced_acc_list = []\n",
    "kappa_acc_list = []\n",
    "\n",
    "i = 1\n",
    "\n",
    "for train_ix, val_ix in kfold.split(x_train, y_train):\n",
    "    print(f'Fold number {i}/{num_folds}\\n')\n",
    "    #Get fold\n",
    "    x_train_fold = x_train.iloc[train_ix]\n",
    "    y_train_fold = y_train.iloc[train_ix]\n",
    "   \n",
    "    x_val_fold = x_train.iloc[val_ix]\n",
    "    y_val_fold = y_train.iloc[val_ix]\n",
    "    \n",
    "    #target hot_encoding\n",
    "    ohe = pp.OneHotEncoder()\n",
    "    y_train_fold_nn = ohe.fit_transform(y_train_fold.values.reshape( -1, 1)).toarray()\n",
    "    \n",
    "    #Model definition\n",
    "    model = ml.Sequential()\n",
    "    model.add(l.Dense(256, input_dim=x_train.shape[1], activation='relu'))\n",
    "    model.add(l.Dense(12, activation='softmax'))\n",
    "    \n",
    "    #Compile Model\n",
    "    model.compile(loss='categorical_crossentropy', optimizer='adam', metrics=['accuracy'])\n",
    "    \n",
    "    #training model\n",
    "    model.fit( x_train_fold, y_train_fold_nn, epochs=100, batch_size=32, verbose=0)\n",
    "    \n",
    "    \n",
    "    # prediction\n",
    "    pred_nn = model.predict(x_val_fold)\n",
    "    yhat_nn = ohe.inverse_transform( pred_nn)\n",
    "    \n",
    "    #prepare data\n",
    "    y_test_nn = y_val_fold.to_numpy()\n",
    "    yhat_nn = yhat_nn.reshape( 1, -1)[0]\n",
    "    \n",
    "    #metrics\n",
    "    \n",
    "    #Balanced Accuracy\n",
    "    balanced_acc_nn = m.balanced_accuracy_score( y_test_nn, yhat_nn )\n",
    "    balanced_acc_list.append( balanced_acc_nn)\n",
    "   \n",
    "    #Kappa Metrics\n",
    "    kappa_acc_nn = m.cohen_kappa_score( y_test_nn, yhat_nn )\n",
    "    kappa_acc_list.append( kappa_acc_nn)\n",
    "    \n",
    "    i += 1"
   ]
  },
  {
   "cell_type": "code",
   "execution_count": null,
   "id": "97324eb8",
   "metadata": {
    "ExecuteTime": {
     "end_time": "2022-07-01T19:12:56.959872Z",
     "start_time": "2022-07-01T19:12:56.915586Z"
    },
    "hidden": true
   },
   "outputs": [],
   "source": [
    "print(f'Avg Balanced Accuracy: {np.mean(balanced_acc_list)} +/- {np.std(balanced_acc_list)}\\n')\n",
    "      \n",
    "print(f'Avg Kappa: {np.mean(kappa_acc_list)} +/- {np.std(kappa_acc_list)}')"
   ]
  },
  {
   "cell_type": "code",
   "execution_count": null,
   "id": "6dd1a4a2",
   "metadata": {
    "hidden": true
   },
   "outputs": [],
   "source": []
  },
  {
   "cell_type": "code",
   "execution_count": null,
   "id": "616aab4d",
   "metadata": {
    "hidden": true
   },
   "outputs": [],
   "source": []
  },
  {
   "cell_type": "code",
   "execution_count": null,
   "id": "b6957395",
   "metadata": {
    "hidden": true
   },
   "outputs": [],
   "source": []
  }
 ],
 "metadata": {
  "celltoolbar": "Raw Cell Format",
  "kernelspec": {
   "display_name": "Python 3 (ipykernel)",
   "language": "python",
   "name": "python3"
  },
  "language_info": {
   "codemirror_mode": {
    "name": "ipython",
    "version": 3
   },
   "file_extension": ".py",
   "mimetype": "text/x-python",
   "name": "python",
   "nbconvert_exporter": "python",
   "pygments_lexer": "ipython3",
   "version": "3.8.13"
  },
  "varInspector": {
   "cols": {
    "lenName": 16,
    "lenType": 16,
    "lenVar": 40
   },
   "kernels_config": {
    "python": {
     "delete_cmd_postfix": "",
     "delete_cmd_prefix": "del ",
     "library": "var_list.py",
     "varRefreshCmd": "print(var_dic_list())"
    },
    "r": {
     "delete_cmd_postfix": ") ",
     "delete_cmd_prefix": "rm(",
     "library": "var_list.r",
     "varRefreshCmd": "cat(var_dic_list()) "
    }
   },
   "types_to_exclude": [
    "module",
    "function",
    "builtin_function_or_method",
    "instance",
    "_Feature"
   ],
   "window_display": false
  }
 },
 "nbformat": 4,
 "nbformat_minor": 5
}
