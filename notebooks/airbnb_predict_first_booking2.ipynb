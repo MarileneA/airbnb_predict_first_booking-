{
 "cells": [
  {
   "cell_type": "markdown",
   "id": "8b28c85b",
   "metadata": {},
   "source": [
    "# 0.0 IMPORTS"
   ]
  },
  {
   "cell_type": "code",
   "execution_count": 1,
   "id": "ea4b5e8d",
   "metadata": {
    "ExecuteTime": {
     "end_time": "2022-06-30T13:25:33.465213Z",
     "start_time": "2022-06-30T13:24:02.346743Z"
    }
   },
   "outputs": [],
   "source": [
    "import random\n",
    "import warnings\n",
    "import pandas      as pd\n",
    "import numpy       as np\n",
    "import seaborn     as sns\n",
    "\n",
    "import matplotlib.pyplot as plt\n",
    "from sklearn.metrics         import confusion_matrix\n",
    "from scipy                   import stats as ss\n",
    "from sklearn                 import model_selection as ms\n",
    "from sklearn                 import preprocessing as pp\n",
    "from sklearn                 import metrics       as m\n",
    "from keras                   import models as ml\n",
    "from keras                   import layers as l\n",
    "from IPython.core.display    import HTML\n",
    "\n",
    "warnings.filterwarnings( 'ignore' )"
   ]
  },
  {
   "cell_type": "markdown",
   "id": "2b887c3a",
   "metadata": {},
   "source": [
    "## 0.1 Helper Functions"
   ]
  },
  {
   "cell_type": "code",
   "execution_count": 2,
   "id": "bb9dfdd1",
   "metadata": {
    "ExecuteTime": {
     "end_time": "2022-06-30T13:25:33.529176Z",
     "start_time": "2022-06-30T13:25:33.502249Z"
    }
   },
   "outputs": [],
   "source": [
    "def cramer_v( x, y ):\n",
    "    cm = pd.crosstab( x, y ).values\n",
    "    n = cm.sum()\n",
    "    r, k = cm.shape\n",
    "    \n",
    "    chi2 = ss.chi2_contingency( cm )[0]\n",
    "    chi2corr = max( 0, chi2 - (k-1)*(r-1)/(n-1) )\n",
    "    \n",
    "    kcorr = k - (k-1)**2/(n-1)\n",
    "    rcorr = r - (r-1)**2/(n-1)\n",
    "    \n",
    "    return np.sqrt( (chi2corr/n) / ( min( kcorr-1, rcorr-1 ) ) )\n",
    "\n",
    "def jupyter_settings():\n",
    "    %matplotlib inline\n",
    "    %pylab inline\n",
    "    \n",
    "    plt.style.use( 'bmh' )\n",
    "    plt.rcParams['figure.figsize'] = [25, 12]\n",
    "    plt.rcParams['font.size'] = 24\n",
    "    \n",
    "    display( HTML( '<style>.container { width:100% !important; }</style>') )\n",
    "    pd.options.display.max_columns = None\n",
    "    pd.options.display.max_rows = None\n",
    "    pd.set_option( 'display.expand_frame_repr', False )\n",
    "    \n",
    "    sns.set()"
   ]
  },
  {
   "cell_type": "markdown",
   "id": "deef088f",
   "metadata": {},
   "source": [
    "## 0.2 Loading Data"
   ]
  },
  {
   "cell_type": "code",
   "execution_count": 3,
   "id": "c1a87f24",
   "metadata": {
    "ExecuteTime": {
     "end_time": "2022-06-30T13:25:53.115312Z",
     "start_time": "2022-06-30T13:25:33.565308Z"
    }
   },
   "outputs": [],
   "source": [
    "df_raw = pd.read_csv('C:/Users/PC/SejaUmDataScientist/DS_Classificacao/airbnb_project/Data/train_users.csv', low_memory=True) \n",
    "\n",
    "df_sessions = pd.read_csv('C:/Users/PC/SejaUmDataScientist/DS_Classificacao/airbnb_project/Data/sessions.csv', low_memory=True)\n"
   ]
  },
  {
   "cell_type": "markdown",
   "id": "ad797c27",
   "metadata": {},
   "source": [
    "# 1.0 Passo 01 - DESCRIÇÃO DOS DADOS"
   ]
  },
  {
   "cell_type": "code",
   "execution_count": 4,
   "id": "ce02b07b",
   "metadata": {
    "ExecuteTime": {
     "end_time": "2022-06-30T13:25:53.780463Z",
     "start_time": "2022-06-30T13:25:53.494169Z"
    }
   },
   "outputs": [],
   "source": [
    "df1 = df_raw.copy()\n",
    "df1_sessions = df_sessions.copy()"
   ]
  },
  {
   "cell_type": "markdown",
   "id": "21360516",
   "metadata": {},
   "source": [
    "## 1.1 Data Dimensions"
   ]
  },
  {
   "cell_type": "code",
   "execution_count": 5,
   "id": "532bd7c8",
   "metadata": {
    "ExecuteTime": {
     "end_time": "2022-06-30T13:25:54.154383Z",
     "start_time": "2022-06-30T13:25:53.878635Z"
    }
   },
   "outputs": [
    {
     "name": "stdout",
     "output_type": "stream",
     "text": [
      "Número de linhas é igual a: 213451\n",
      "Número de colunas é igual a: 16\n"
     ]
    }
   ],
   "source": [
    "print(f'Número de linhas é igual a: {df1.shape[0]}')\n",
    "print(f'Número de colunas é igual a: {df1.shape[1]}')"
   ]
  },
  {
   "cell_type": "code",
   "execution_count": 6,
   "id": "1cada9ec",
   "metadata": {
    "ExecuteTime": {
     "end_time": "2022-06-30T13:25:54.355873Z",
     "start_time": "2022-06-30T13:25:54.248458Z"
    }
   },
   "outputs": [
    {
     "name": "stdout",
     "output_type": "stream",
     "text": [
      "Número de linhas é igual a: 10567737\n",
      "Número de colunas é igual a: 6\n"
     ]
    }
   ],
   "source": [
    "#Sessions\n",
    "print(f'Número de linhas é igual a: {df1_sessions.shape[0]}')\n",
    "print(f'Número de colunas é igual a: {df1_sessions.shape[1]}')"
   ]
  },
  {
   "cell_type": "markdown",
   "id": "036a688e",
   "metadata": {},
   "source": [
    "## 1.2 Data Types"
   ]
  },
  {
   "cell_type": "code",
   "execution_count": 7,
   "id": "75e0b913",
   "metadata": {
    "ExecuteTime": {
     "end_time": "2022-06-30T13:25:54.572998Z",
     "start_time": "2022-06-30T13:25:54.451854Z"
    }
   },
   "outputs": [
    {
     "data": {
      "text/plain": [
       "id                          object\n",
       "date_account_created        object\n",
       "timestamp_first_active       int64\n",
       "date_first_booking          object\n",
       "gender                      object\n",
       "age                        float64\n",
       "signup_method               object\n",
       "signup_flow                  int64\n",
       "language                    object\n",
       "affiliate_channel           object\n",
       "affiliate_provider          object\n",
       "first_affiliate_tracked     object\n",
       "signup_app                  object\n",
       "first_device_type           object\n",
       "first_browser               object\n",
       "country_destination         object\n",
       "dtype: object"
      ]
     },
     "execution_count": 7,
     "metadata": {},
     "output_type": "execute_result"
    }
   ],
   "source": [
    "#Data types df1\n",
    "df1.dtypes"
   ]
  },
  {
   "cell_type": "code",
   "execution_count": 8,
   "id": "fcc8fe0b",
   "metadata": {
    "ExecuteTime": {
     "end_time": "2022-06-30T13:25:54.788584Z",
     "start_time": "2022-06-30T13:25:54.683339Z"
    }
   },
   "outputs": [
    {
     "data": {
      "text/plain": [
       "user_id           object\n",
       "action            object\n",
       "action_type       object\n",
       "action_detail     object\n",
       "device_type       object\n",
       "secs_elapsed     float64\n",
       "dtype: object"
      ]
     },
     "execution_count": 8,
     "metadata": {},
     "output_type": "execute_result"
    }
   ],
   "source": [
    "#Data types df1_sessions\n",
    "df1_sessions.dtypes"
   ]
  },
  {
   "cell_type": "markdown",
   "id": "676935f8",
   "metadata": {},
   "source": [
    "## 1.3 Check NA"
   ]
  },
  {
   "cell_type": "code",
   "execution_count": 9,
   "id": "4e70d27d",
   "metadata": {
    "ExecuteTime": {
     "end_time": "2022-06-30T13:25:55.446850Z",
     "start_time": "2022-06-30T13:25:54.883493Z"
    }
   },
   "outputs": [
    {
     "data": {
      "text/plain": [
       "id                         0.000000\n",
       "date_account_created       0.000000\n",
       "timestamp_first_active     0.000000\n",
       "date_first_booking         0.583473\n",
       "gender                     0.000000\n",
       "age                        0.412226\n",
       "signup_method              0.000000\n",
       "signup_flow                0.000000\n",
       "language                   0.000000\n",
       "affiliate_channel          0.000000\n",
       "affiliate_provider         0.000000\n",
       "first_affiliate_tracked    0.028414\n",
       "signup_app                 0.000000\n",
       "first_device_type          0.000000\n",
       "first_browser              0.000000\n",
       "country_destination        0.000000\n",
       "dtype: float64"
      ]
     },
     "execution_count": 9,
     "metadata": {},
     "output_type": "execute_result"
    }
   ],
   "source": [
    "df1.isnull().sum() /len(df1)"
   ]
  },
  {
   "cell_type": "code",
   "execution_count": 10,
   "id": "6c78cd26",
   "metadata": {
    "ExecuteTime": {
     "end_time": "2022-06-30T13:26:02.132896Z",
     "start_time": "2022-06-30T13:25:55.530817Z"
    }
   },
   "outputs": [
    {
     "data": {
      "text/plain": [
       "user_id            34496\n",
       "action             79626\n",
       "action_type      1126204\n",
       "action_detail    1126204\n",
       "device_type            0\n",
       "secs_elapsed      136031\n",
       "dtype: int64"
      ]
     },
     "execution_count": 10,
     "metadata": {},
     "output_type": "execute_result"
    }
   ],
   "source": [
    "df1_sessions.isnull().sum()"
   ]
  },
  {
   "cell_type": "markdown",
   "id": "c9fcc60e",
   "metadata": {},
   "source": [
    "## 1.4 Change Data Types"
   ]
  },
  {
   "cell_type": "code",
   "execution_count": 11,
   "id": "70e71e6b",
   "metadata": {
    "ExecuteTime": {
     "end_time": "2022-06-30T13:26:02.574371Z",
     "start_time": "2022-06-30T13:26:02.211887Z"
    }
   },
   "outputs": [
    {
     "data": {
      "text/plain": [
       "id                         0.000000\n",
       "date_account_created       0.000000\n",
       "timestamp_first_active     0.000000\n",
       "date_first_booking         0.583473\n",
       "gender                     0.000000\n",
       "age                        0.412226\n",
       "signup_method              0.000000\n",
       "signup_flow                0.000000\n",
       "language                   0.000000\n",
       "affiliate_channel          0.000000\n",
       "affiliate_provider         0.000000\n",
       "first_affiliate_tracked    0.028414\n",
       "signup_app                 0.000000\n",
       "first_device_type          0.000000\n",
       "first_browser              0.000000\n",
       "country_destination        0.000000\n",
       "dtype: float64"
      ]
     },
     "execution_count": 11,
     "metadata": {},
     "output_type": "execute_result"
    }
   ],
   "source": [
    "#Verificar a proporção de NA's\n",
    "df1.isna().sum()/len(df1)"
   ]
  },
  {
   "cell_type": "code",
   "execution_count": 12,
   "id": "2df3799b",
   "metadata": {
    "ExecuteTime": {
     "end_time": "2022-06-30T13:26:02.730549Z",
     "start_time": "2022-06-30T13:26:02.653902Z"
    }
   },
   "outputs": [
    {
     "data": {
      "text/plain": [
       "0            untracked\n",
       "5                  omg\n",
       "12                 NaN\n",
       "13              linked\n",
       "79       tracked-other\n",
       "257            product\n",
       "6270         marketing\n",
       "11184        local ops\n",
       "Name: first_affiliate_tracked, dtype: object"
      ]
     },
     "execution_count": 12,
     "metadata": {},
     "output_type": "execute_result"
    }
   ],
   "source": [
    "df1['first_affiliate_tracked'].drop_duplicates()\n",
    "#aux = df1[df1[ 'age'].isna()]\n",
    "#aux['country_destination'].value_counts(normalize=True)"
   ]
  },
  {
   "cell_type": "code",
   "execution_count": 13,
   "id": "c57d2d61",
   "metadata": {
    "ExecuteTime": {
     "end_time": "2022-06-30T13:26:07.794146Z",
     "start_time": "2022-06-30T13:26:02.828066Z"
    }
   },
   "outputs": [
    {
     "data": {
      "text/plain": [
       "<AxesSubplot:xlabel='age', ylabel='Density'>"
      ]
     },
     "execution_count": 13,
     "metadata": {},
     "output_type": "execute_result"
    },
    {
     "data": {
      "image/png": "[encoded data removed]",
      "text/plain": [
       "<Figure size 432x288 with 1 Axes>"
      ]
     },
     "metadata": {
      "needs_background": "light"
     },
     "output_type": "display_data"
    }
   ],
   "source": [
    "#Analisando a variável idade\n",
    "sns.distplot(df1 [df1['age'] < 65]['age'])"
   ]
  },
  {
   "cell_type": "code",
   "execution_count": 14,
   "id": "cba700f3",
   "metadata": {
    "ExecuteTime": {
     "end_time": "2022-06-30T13:26:12.990994Z",
     "start_time": "2022-06-30T13:26:07.874281Z"
    }
   },
   "outputs": [],
   "source": [
    "#Remover NAs\n",
    "# =====================USERS======================================\n",
    "\n",
    "#date_first_booking\n",
    "date_first_booking_max =  pd.to_datetime( df1['date_first_booking']).max().strftime('%Y%m%d')\n",
    "\n",
    "df1['date_first_booking'] = df1['date_first_booking'].fillna( date_first_booking_max)\n",
    "\n",
    "#age: Preencher como valor médio\n",
    "avg_age = df1['age'].mean()\n",
    "df1['age'] = df1['age'].fillna( avg_age).astype(int)\n",
    "\n",
    "#first_affiliate_tracked\n",
    "df1 = df1[~df1['first_affiliate_tracked'].isna()]\n",
    "\n",
    "\n",
    "#============================================SESSIONS=========================================\n",
    "#user_id        3%\n",
    "df1_sessions = df1_sessions[~df1_sessions['user_id'].isna()]\n",
    "\n",
    "#action         0.7%\n",
    "df1_sessions = df1_sessions[~df1_sessions['action'].isna()]\n",
    "\n",
    "#action_type    11%\n",
    "df1_sessions = df1_sessions[~df1_sessions['action_type'].isna()]\n",
    "\n",
    "#action_detail  11%\n",
    "df1_sessions = df1_sessions[~df1_sessions['action_detail'].isna()]\n",
    "\n",
    "#secs_elapsed   1.2%\n",
    "df1_sessions = df1_sessions[~df1_sessions['secs_elapsed'].isna()]"
   ]
  },
  {
   "cell_type": "code",
   "execution_count": 15,
   "id": "7be6ef8e",
   "metadata": {
    "ExecuteTime": {
     "end_time": "2022-06-30T13:26:18.806620Z",
     "start_time": "2022-06-30T13:26:13.084623Z"
    }
   },
   "outputs": [
    {
     "data": {
      "text/plain": [
       "user_id          0.0\n",
       "action           0.0\n",
       "action_type      0.0\n",
       "action_detail    0.0\n",
       "device_type      0.0\n",
       "secs_elapsed     0.0\n",
       "dtype: float64"
      ]
     },
     "execution_count": 15,
     "metadata": {},
     "output_type": "execute_result"
    }
   ],
   "source": [
    "#df1_sessions \n",
    "df1_sessions.isna().sum() / len(df1_sessions)"
   ]
  },
  {
   "cell_type": "code",
   "execution_count": 16,
   "id": "54ab12ec",
   "metadata": {
    "ExecuteTime": {
     "end_time": "2022-06-30T13:26:20.112358Z",
     "start_time": "2022-06-30T13:26:18.927373Z"
    }
   },
   "outputs": [],
   "source": [
    "#date_account_created   \n",
    "df1['date_account_created']=pd.to_datetime( df1['date_account_created'])\n",
    "#timestamp_first_active  \n",
    "df1['timestamp_first_active']=pd.to_datetime( df1['timestamp_first_active'], format='%Y%m%d%H%M%S')\n",
    "\n",
    "#date_first_booking\n",
    "df1['date_first_booking']=pd.to_datetime( df1['date_first_booking'])\n",
    "#age                      \n",
    "df1['age']= df1['age'].astype('int64')\n"
   ]
  },
  {
   "cell_type": "markdown",
   "id": "aec1b0a7",
   "metadata": {
    "ExecuteTime": {
     "end_time": "2022-06-27T19:06:45.522729Z",
     "start_time": "2022-06-27T19:06:45.496801Z"
    }
   },
   "source": [
    "## 1.5 Check Balanced Data"
   ]
  },
  {
   "cell_type": "code",
   "execution_count": 17,
   "id": "eb0c8cb6",
   "metadata": {
    "ExecuteTime": {
     "end_time": "2022-06-30T13:26:20.332021Z",
     "start_time": "2022-06-30T13:26:20.223981Z"
    }
   },
   "outputs": [
    {
     "data": {
      "text/plain": [
       "NDF      0.579673\n",
       "US       0.294461\n",
       "other    0.048128\n",
       "FR       0.023623\n",
       "IT       0.013458\n",
       "GB       0.011066\n",
       "ES       0.010671\n",
       "CA       0.006707\n",
       "DE       0.005020\n",
       "NL       0.003621\n",
       "AU       0.002541\n",
       "PT       0.001032\n",
       "Name: country_destination, dtype: float64"
      ]
     },
     "execution_count": 17,
     "metadata": {},
     "output_type": "execute_result"
    }
   ],
   "source": [
    "df1['country_destination'].value_counts(normalize=True)"
   ]
  },
  {
   "cell_type": "markdown",
   "id": "4e5f57a2",
   "metadata": {},
   "source": [
    "## 1.6 Descriptive Analyses"
   ]
  },
  {
   "cell_type": "code",
   "execution_count": 18,
   "id": "43f8e7f2",
   "metadata": {
    "ExecuteTime": {
     "end_time": "2022-06-30T13:26:20.519529Z",
     "start_time": "2022-06-30T13:26:20.444726Z"
    }
   },
   "outputs": [],
   "source": [
    "#==================Users===================================\n",
    "num_attributes = df1.select_dtypes( include=['int64', 'float64'])\n",
    "cat_attributes = df1.select_dtypes( exclude=['int64', 'float64', 'datetime64[ns]'])\n",
    "time_attributes = df1.select_dtypes( include= ['datetime64[ns]'])\n",
    "\n",
    "\n",
    "#====================Sessions==========================================\n",
    "num_attributes_sessions  = df1_sessions.select_dtypes( include=['int64', 'float64'])\n",
    "cat_attributes_sessions  = df1_sessions.select_dtypes( exclude=['int64', 'float64', 'datetime64[ns]'])\n",
    "time_attributes_sessions = df1_sessions.select_dtypes( include= ['datetime64[ns]'])"
   ]
  },
  {
   "cell_type": "markdown",
   "id": "f0d6058a",
   "metadata": {},
   "source": [
    "### 1.6.1 Numerical -Users"
   ]
  },
  {
   "cell_type": "code",
   "execution_count": 19,
   "id": "2416cc0b",
   "metadata": {
    "ExecuteTime": {
     "end_time": "2022-06-30T13:26:21.129535Z",
     "start_time": "2022-06-30T13:26:20.898512Z"
    }
   },
   "outputs": [
    {
     "data": {
      "text/html": [
       "<div>\n",
       "<style scoped>\n",
       "    .dataframe tbody tr th:only-of-type {\n",
       "        vertical-align: middle;\n",
       "    }\n",
       "\n",
       "    .dataframe tbody tr th {\n",
       "        vertical-align: top;\n",
       "    }\n",
       "\n",
       "    .dataframe thead th {\n",
       "        text-align: right;\n",
       "    }\n",
       "</style>\n",
       "<table border=\"1\" class=\"dataframe\">\n",
       "  <thead>\n",
       "    <tr style=\"text-align: right;\">\n",
       "      <th></th>\n",
       "      <th>attributes</th>\n",
       "      <th>min</th>\n",
       "      <th>max</th>\n",
       "      <th>range</th>\n",
       "      <th>mean</th>\n",
       "      <th>median</th>\n",
       "      <th>std</th>\n",
       "      <th>skew</th>\n",
       "      <th>kurtosis</th>\n",
       "    </tr>\n",
       "  </thead>\n",
       "  <tbody>\n",
       "    <tr>\n",
       "      <th>0</th>\n",
       "      <td>age</td>\n",
       "      <td>1.0</td>\n",
       "      <td>2014.0</td>\n",
       "      <td>2013.0</td>\n",
       "      <td>49.183142</td>\n",
       "      <td>49.0</td>\n",
       "      <td>118.421689</td>\n",
       "      <td>16.333820</td>\n",
       "      <td>267.655434</td>\n",
       "    </tr>\n",
       "    <tr>\n",
       "      <th>1</th>\n",
       "      <td>signup_flow</td>\n",
       "      <td>0.0</td>\n",
       "      <td>25.0</td>\n",
       "      <td>25.0</td>\n",
       "      <td>3.151490</td>\n",
       "      <td>0.0</td>\n",
       "      <td>7.543915</td>\n",
       "      <td>2.287158</td>\n",
       "      <td>3.567794</td>\n",
       "    </tr>\n",
       "  </tbody>\n",
       "</table>\n",
       "</div>"
      ],
      "text/plain": [
       "    attributes  min     max   range       mean  median         std       skew  \\\n",
       "0          age  1.0  2014.0  2013.0  49.183142    49.0  118.421689  16.333820   \n",
       "1  signup_flow  0.0    25.0    25.0   3.151490     0.0    7.543915   2.287158   \n",
       "\n",
       "     kurtosis  \n",
       "0  267.655434  \n",
       "1    3.567794  "
      ]
     },
     "execution_count": 19,
     "metadata": {},
     "output_type": "execute_result"
    }
   ],
   "source": [
    "#central tendency - Mean and Median\n",
    "ct1 = pd.DataFrame( num_attributes.apply(np.mean)).T\n",
    "ct2 = pd.DataFrame( num_attributes.apply(np.median)).T\n",
    "\n",
    "#Dispersions -  std, min, max. range, skew, kurtosis\n",
    "d1 = pd.DataFrame( num_attributes.apply(np.std)).T\n",
    "d2 = pd.DataFrame( num_attributes.apply(min)).T\n",
    "d3 = pd.DataFrame( num_attributes.apply(max)).T\n",
    "d4 = pd.DataFrame( num_attributes.apply( lambda x : x.max() - x.min() )).T\n",
    "d5 = pd.DataFrame( num_attributes.apply( lambda x : x.skew() )).T\n",
    "d6 = pd.DataFrame( num_attributes.apply( lambda x : x.kurtosis() )).T\n",
    "\n",
    "#Concatenar\n",
    "ct = pd.concat( [ d2, d3, d4, ct1, ct2, d1, d5, d6]).T.reset_index()\n",
    "ct.columns = ['attributes', 'min', 'max', 'range', 'mean', 'median', 'std', 'skew', 'kurtosis']\n",
    "ct"
   ]
  },
  {
   "cell_type": "markdown",
   "id": "aa910fc0",
   "metadata": {
    "ExecuteTime": {
     "end_time": "2022-06-29T13:53:34.492600Z",
     "start_time": "2022-06-29T13:53:34.465713Z"
    }
   },
   "source": [
    "### 1.6.1 Numerical -Sessions"
   ]
  },
  {
   "cell_type": "code",
   "execution_count": 20,
   "id": "07244c0f",
   "metadata": {
    "ExecuteTime": {
     "end_time": "2022-06-30T13:26:23.290447Z",
     "start_time": "2022-06-30T13:26:21.410488Z"
    }
   },
   "outputs": [
    {
     "data": {
      "text/html": [
       "<div>\n",
       "<style scoped>\n",
       "    .dataframe tbody tr th:only-of-type {\n",
       "        vertical-align: middle;\n",
       "    }\n",
       "\n",
       "    .dataframe tbody tr th {\n",
       "        vertical-align: top;\n",
       "    }\n",
       "\n",
       "    .dataframe thead th {\n",
       "        text-align: right;\n",
       "    }\n",
       "</style>\n",
       "<table border=\"1\" class=\"dataframe\">\n",
       "  <thead>\n",
       "    <tr style=\"text-align: right;\">\n",
       "      <th></th>\n",
       "      <th>attributes</th>\n",
       "      <th>min</th>\n",
       "      <th>max</th>\n",
       "      <th>range</th>\n",
       "      <th>mean</th>\n",
       "      <th>median</th>\n",
       "      <th>std</th>\n",
       "      <th>skew</th>\n",
       "      <th>kurtosis</th>\n",
       "    </tr>\n",
       "  </thead>\n",
       "  <tbody>\n",
       "    <tr>\n",
       "      <th>0</th>\n",
       "      <td>secs_elapsed</td>\n",
       "      <td>0.0</td>\n",
       "      <td>1799977.0</td>\n",
       "      <td>1799977.0</td>\n",
       "      <td>19961.8251</td>\n",
       "      <td>1369.0</td>\n",
       "      <td>88849.388449</td>\n",
       "      <td>11.137761</td>\n",
       "      <td>154.84312</td>\n",
       "    </tr>\n",
       "  </tbody>\n",
       "</table>\n",
       "</div>"
      ],
      "text/plain": [
       "     attributes  min        max      range        mean  median           std  \\\n",
       "0  secs_elapsed  0.0  1799977.0  1799977.0  19961.8251  1369.0  88849.388449   \n",
       "\n",
       "        skew   kurtosis  \n",
       "0  11.137761  154.84312  "
      ]
     },
     "execution_count": 20,
     "metadata": {},
     "output_type": "execute_result"
    }
   ],
   "source": [
    "#central tendency - Mean and Median\n",
    "ct1 = pd.DataFrame( num_attributes_sessions.apply(np.mean)).T\n",
    "ct2 = pd.DataFrame( num_attributes_sessions.apply(np.median)).T\n",
    "\n",
    "#Dispersions -  std, min, max. range, skew, kurtosis\n",
    "d1 = pd.DataFrame( num_attributes_sessions.apply(np.std)).T\n",
    "d2 = pd.DataFrame( num_attributes_sessions.apply(min)).T\n",
    "d3 = pd.DataFrame( num_attributes_sessions.apply(max)).T\n",
    "d4 = pd.DataFrame( num_attributes_sessions.apply( lambda x : x.max() - x.min() )).T\n",
    "d5 = pd.DataFrame( num_attributes_sessions.apply( lambda x : x.skew() )).T\n",
    "d6 = pd.DataFrame( num_attributes_sessions.apply( lambda x : x.kurtosis() )).T\n",
    "\n",
    "#Concatenar\n",
    "ct = pd.concat( [ d2, d3, d4, ct1, ct2, d1, d5, d6]).T.reset_index()\n",
    "ct.columns = ['attributes', 'min', 'max', 'range', 'mean', 'median', 'std', 'skew', 'kurtosis']\n",
    "ct"
   ]
  },
  {
   "cell_type": "markdown",
   "id": "8f398cd2",
   "metadata": {},
   "source": [
    "### 1.6.2 Numerical - Users"
   ]
  },
  {
   "cell_type": "code",
   "execution_count": 21,
   "id": "c64e9d2a",
   "metadata": {
    "ExecuteTime": {
     "end_time": "2022-06-30T13:26:23.813097Z",
     "start_time": "2022-06-30T13:26:23.584985Z"
    }
   },
   "outputs": [
    {
     "data": {
      "text/html": [
       "<div>\n",
       "<style scoped>\n",
       "    .dataframe tbody tr th:only-of-type {\n",
       "        vertical-align: middle;\n",
       "    }\n",
       "\n",
       "    .dataframe tbody tr th {\n",
       "        vertical-align: top;\n",
       "    }\n",
       "\n",
       "    .dataframe thead th {\n",
       "        text-align: right;\n",
       "    }\n",
       "</style>\n",
       "<table border=\"1\" class=\"dataframe\">\n",
       "  <thead>\n",
       "    <tr style=\"text-align: right;\">\n",
       "      <th></th>\n",
       "      <th>gender</th>\n",
       "      <th>signup_method</th>\n",
       "      <th>language</th>\n",
       "      <th>affiliate_channel</th>\n",
       "      <th>affiliate_provider</th>\n",
       "      <th>first_affiliate_tracked</th>\n",
       "      <th>signup_app</th>\n",
       "      <th>first_device_type</th>\n",
       "      <th>first_browser</th>\n",
       "      <th>country_destination</th>\n",
       "    </tr>\n",
       "  </thead>\n",
       "  <tbody>\n",
       "    <tr>\n",
       "      <th>count</th>\n",
       "      <td>207386</td>\n",
       "      <td>207386</td>\n",
       "      <td>207386</td>\n",
       "      <td>207386</td>\n",
       "      <td>207386</td>\n",
       "      <td>207386</td>\n",
       "      <td>207386</td>\n",
       "      <td>207386</td>\n",
       "      <td>207386</td>\n",
       "      <td>207386</td>\n",
       "    </tr>\n",
       "    <tr>\n",
       "      <th>unique</th>\n",
       "      <td>4</td>\n",
       "      <td>3</td>\n",
       "      <td>25</td>\n",
       "      <td>8</td>\n",
       "      <td>18</td>\n",
       "      <td>7</td>\n",
       "      <td>4</td>\n",
       "      <td>9</td>\n",
       "      <td>52</td>\n",
       "      <td>12</td>\n",
       "    </tr>\n",
       "    <tr>\n",
       "      <th>top</th>\n",
       "      <td>-unknown-</td>\n",
       "      <td>basic</td>\n",
       "      <td>en</td>\n",
       "      <td>direct</td>\n",
       "      <td>direct</td>\n",
       "      <td>untracked</td>\n",
       "      <td>Web</td>\n",
       "      <td>Mac Desktop</td>\n",
       "      <td>Chrome</td>\n",
       "      <td>NDF</td>\n",
       "    </tr>\n",
       "    <tr>\n",
       "      <th>freq</th>\n",
       "      <td>91783</td>\n",
       "      <td>148297</td>\n",
       "      <td>200415</td>\n",
       "      <td>134179</td>\n",
       "      <td>133935</td>\n",
       "      <td>109232</td>\n",
       "      <td>178334</td>\n",
       "      <td>89600</td>\n",
       "      <td>63845</td>\n",
       "      <td>120216</td>\n",
       "    </tr>\n",
       "  </tbody>\n",
       "</table>\n",
       "</div>"
      ],
      "text/plain": [
       "           gender signup_method language affiliate_channel affiliate_provider  \\\n",
       "count      207386        207386   207386            207386             207386   \n",
       "unique          4             3       25                 8                 18   \n",
       "top     -unknown-         basic       en            direct             direct   \n",
       "freq        91783        148297   200415            134179             133935   \n",
       "\n",
       "       first_affiliate_tracked signup_app first_device_type first_browser  \\\n",
       "count                   207386     207386            207386        207386   \n",
       "unique                       7          4                 9            52   \n",
       "top                  untracked        Web       Mac Desktop        Chrome   \n",
       "freq                    109232     178334             89600         63845   \n",
       "\n",
       "       country_destination  \n",
       "count               207386  \n",
       "unique                  12  \n",
       "top                    NDF  \n",
       "freq                120216  "
      ]
     },
     "execution_count": 21,
     "metadata": {},
     "output_type": "execute_result"
    }
   ],
   "source": [
    "cat_attributes.drop('id', axis=1).describe()"
   ]
  },
  {
   "cell_type": "markdown",
   "id": "f2c78aa6",
   "metadata": {
    "ExecuteTime": {
     "end_time": "2022-06-29T13:53:34.492600Z",
     "start_time": "2022-06-29T13:53:34.465713Z"
    }
   },
   "source": [
    "### 1.6.3 Categorical -Sessions"
   ]
  },
  {
   "cell_type": "code",
   "execution_count": 22,
   "id": "6f933b4d",
   "metadata": {
    "ExecuteTime": {
     "end_time": "2022-06-30T13:26:27.721771Z",
     "start_time": "2022-06-30T13:26:24.098844Z"
    }
   },
   "outputs": [
    {
     "data": {
      "text/html": [
       "<div>\n",
       "<style scoped>\n",
       "    .dataframe tbody tr th:only-of-type {\n",
       "        vertical-align: middle;\n",
       "    }\n",
       "\n",
       "    .dataframe tbody tr th {\n",
       "        vertical-align: top;\n",
       "    }\n",
       "\n",
       "    .dataframe thead th {\n",
       "        text-align: right;\n",
       "    }\n",
       "</style>\n",
       "<table border=\"1\" class=\"dataframe\">\n",
       "  <thead>\n",
       "    <tr style=\"text-align: right;\">\n",
       "      <th></th>\n",
       "      <th>action</th>\n",
       "      <th>action_type</th>\n",
       "      <th>action_detail</th>\n",
       "      <th>device_type</th>\n",
       "    </tr>\n",
       "  </thead>\n",
       "  <tbody>\n",
       "    <tr>\n",
       "      <th>count</th>\n",
       "      <td>9213930</td>\n",
       "      <td>9213930</td>\n",
       "      <td>9213930</td>\n",
       "      <td>9213930</td>\n",
       "    </tr>\n",
       "    <tr>\n",
       "      <th>unique</th>\n",
       "      <td>347</td>\n",
       "      <td>10</td>\n",
       "      <td>155</td>\n",
       "      <td>14</td>\n",
       "    </tr>\n",
       "    <tr>\n",
       "      <th>top</th>\n",
       "      <td>show</td>\n",
       "      <td>view</td>\n",
       "      <td>view_search_results</td>\n",
       "      <td>Mac Desktop</td>\n",
       "    </tr>\n",
       "    <tr>\n",
       "      <th>freq</th>\n",
       "      <td>2178382</td>\n",
       "      <td>3545621</td>\n",
       "      <td>1770931</td>\n",
       "      <td>3019523</td>\n",
       "    </tr>\n",
       "  </tbody>\n",
       "</table>\n",
       "</div>"
      ],
      "text/plain": [
       "         action action_type        action_detail  device_type\n",
       "count   9213930     9213930              9213930      9213930\n",
       "unique      347          10                  155           14\n",
       "top        show        view  view_search_results  Mac Desktop\n",
       "freq    2178382     3545621              1770931      3019523"
      ]
     },
     "execution_count": 22,
     "metadata": {},
     "output_type": "execute_result"
    }
   ],
   "source": [
    "cat_attributes_sessions.drop('user_id', axis=1).describe()"
   ]
  },
  {
   "cell_type": "code",
   "execution_count": 23,
   "id": "41c7299e",
   "metadata": {
    "ExecuteTime": {
     "end_time": "2022-06-30T13:27:02.050272Z",
     "start_time": "2022-06-30T13:26:27.992783Z"
    }
   },
   "outputs": [],
   "source": [
    "#lista de atributos para cramer v\n",
    "cat_attributes_list = cat_attributes_sessions.drop('user_id', axis=1).columns.tolist()\n",
    "\n",
    "corr_dict = {}\n",
    "\n",
    "for i in range( len(cat_attributes_list) ):\n",
    "    corr_list = []\n",
    "    \n",
    "    for j in range (len(cat_attributes_list ) ):\n",
    "        ref  = cat_attributes_list[i]\n",
    "        feat = cat_attributes_list[j]\n",
    "        \n",
    "        #Correlação\n",
    "        corr = cramer_v(cat_attributes_sessions[ref], cat_attributes_sessions[feat] )\n",
    "        \n",
    "        #append a list\n",
    "        corr_list.append( corr )\n",
    "    # append correlation para cada ref atrtibuts\n",
    "    corr_dict[ref] = corr_list"
   ]
  },
  {
   "cell_type": "code",
   "execution_count": 24,
   "id": "61e1fea7",
   "metadata": {
    "ExecuteTime": {
     "end_time": "2022-06-30T13:27:02.698026Z",
     "start_time": "2022-06-30T13:27:02.383812Z"
    }
   },
   "outputs": [
    {
     "data": {
      "image/png": "[encoded data removed]",
      "text/plain": [
       "<Figure size 432x288 with 2 Axes>"
      ]
     },
     "metadata": {
      "needs_background": "light"
     },
     "output_type": "display_data"
    }
   ],
   "source": [
    "d = pd.DataFrame( corr_dict)\n",
    "d = d.set_index(d.columns)\n",
    "sns.heatmap( d, annot=True);"
   ]
  },
  {
   "cell_type": "markdown",
   "id": "dab8fd33",
   "metadata": {},
   "source": [
    "# 2.0 PASSO 02 - Feature Engeneering\n"
   ]
  },
  {
   "cell_type": "code",
   "execution_count": 64,
   "id": "01902b00",
   "metadata": {
    "ExecuteTime": {
     "end_time": "2022-06-30T14:47:27.922305Z",
     "start_time": "2022-06-30T14:47:27.878422Z"
    }
   },
   "outputs": [
    {
     "data": {
      "text/plain": [
       "id                                 object\n",
       "date_account_created       datetime64[ns]\n",
       "timestamp_first_active     datetime64[ns]\n",
       "date_first_booking         datetime64[ns]\n",
       "gender                             object\n",
       "age                                 int64\n",
       "signup_method                      object\n",
       "signup_flow                         int64\n",
       "language                           object\n",
       "affiliate_channel                  object\n",
       "affiliate_provider                 object\n",
       "first_affiliate_tracked            object\n",
       "signup_app                         object\n",
       "first_device_type                  object\n",
       "first_browser                      object\n",
       "country_destination                object\n",
       "dtype: object"
      ]
     },
     "execution_count": 64,
     "metadata": {},
     "output_type": "execute_result"
    }
   ],
   "source": [
    "df2 =df1.copy()\n",
    "df2.dtypes\n"
   ]
  },
  {
   "cell_type": "markdown",
   "id": "3e2242af",
   "metadata": {
    "ExecuteTime": {
     "end_time": "2022-06-29T19:29:05.194393Z",
     "start_time": "2022-06-29T19:29:05.188409Z"
    }
   },
   "source": [
    "## 2.1 Create new Features"
   ]
  },
  {
   "cell_type": "code",
   "execution_count": 65,
   "id": "ecb9b2ad",
   "metadata": {
    "ExecuteTime": {
     "end_time": "2022-06-30T14:47:36.393845Z",
     "start_time": "2022-06-30T14:47:28.241507Z"
    }
   },
   "outputs": [],
   "source": [
    "# days from first activate up to first booking\n",
    "df2['first_active'] = pd.to_datetime( df2['timestamp_first_active'].dt.strftime(\"%Y-%m-%d\") )\n",
    "df2['days_from_first_active_until_booking'] = (df2['date_first_booking'] -df2['first_active']).apply( lambda x: x.days)\n",
    "\n",
    "#days from first activate up to account create\n",
    "df2['days_from_first_active_until_account_created'] = (df2['date_account_created'] -df2['first_active']).apply( lambda x: x.days)\n",
    "\n",
    "#days from account create up to first booking\n",
    "df2['days_from_account_created_until_first_booking'] = (df2['date_first_booking'] -df2['date_account_created']).apply( lambda x: x.days)\n",
    "    \n",
    "\n",
    "#===================================First activate======================================\n",
    "#Year first active\n",
    "df2['year_first_active'] = df2['first_active'].dt.year\n",
    "\n",
    "#Month first active\n",
    "df2['month_first_active'] = df2['first_active'].dt.month\n",
    "\n",
    "\n",
    "#Day first active\n",
    "df2['day_first_active'] = df2['first_active'].dt.day\n",
    "\n",
    "\n",
    "#Day of week first active\n",
    "df2['day_of_week_first_active'] = df2['first_active'].dt.dayofweek\n",
    "\n",
    "\n",
    "#Week of year first active\n",
    "df2['week_of_year_first_active'] = df2['first_active'].dt.weekofyear\n",
    "\n",
    "\n",
    "#===================================Booking======================================\n",
    "#Year first booking\n",
    "df2['year_first_booking'] = df2['date_first_booking'].dt.year\n",
    "\n",
    "#Month first booking\n",
    "df2['month_first_booking'] = df2['date_first_booking'].dt.month\n",
    "\n",
    "#Day first booking\n",
    "df2['day_first_booking'] = df2['date_first_booking'].dt.day\n",
    "\n",
    "#Day of Week of first booking\n",
    "df2['day_of_week_first_booking'] = df2['date_first_booking'].dt.dayofweek\n",
    "\n",
    "#Week of first booking\n",
    "df2['week_of_year_first_booking'] = df2['date_first_booking'].dt.weekofyear\n",
    "\n",
    "\n",
    "#===================================First account created======================================\n",
    "#Year first active\n",
    "df2['year_account_created'] = df2['date_account_created'].dt.year\n",
    "\n",
    "#Month first active\n",
    "df2['month_account_created'] = df2['date_account_created'].dt.month\n",
    "\n",
    "\n",
    "#Day first active\n",
    "df2['day_account_created'] = df2['date_account_created'].dt.day\n",
    "\n",
    "\n",
    "#Day of week first active\n",
    "df2['day_of _week_first_account_created'] = df2['date_account_created'].dt.dayofweek\n",
    "\n",
    "\n",
    "#Week of year first active\n",
    "df2['week_of _year_first_account_created'] = df2['date_account_created'].dt.weekofyear\n",
    "\n",
    "\n"
   ]
  },
  {
   "cell_type": "code",
   "execution_count": 67,
   "id": "5296f0ad",
   "metadata": {
    "ExecuteTime": {
     "end_time": "2022-06-30T14:47:37.345190Z",
     "start_time": "2022-06-30T14:47:37.331964Z"
    }
   },
   "outputs": [
    {
     "data": {
      "text/plain": [
       "(207386, 35)"
      ]
     },
     "execution_count": 67,
     "metadata": {},
     "output_type": "execute_result"
    }
   ],
   "source": [
    "df2.shape"
   ]
  },
  {
   "cell_type": "markdown",
   "id": "9f69dc92",
   "metadata": {},
   "source": [
    "# 3.0 PASSO 03 - Data Filtering\n"
   ]
  },
  {
   "cell_type": "code",
   "execution_count": 68,
   "id": "7861d0fa",
   "metadata": {
    "ExecuteTime": {
     "end_time": "2022-06-30T14:49:53.946750Z",
     "start_time": "2022-06-30T14:49:53.852883Z"
    }
   },
   "outputs": [],
   "source": [
    "df3 = df2.copy()"
   ]
  },
  {
   "cell_type": "markdown",
   "id": "fda01745",
   "metadata": {},
   "source": [
    "## 3.1 Filtering Rows"
   ]
  },
  {
   "cell_type": "code",
   "execution_count": 69,
   "id": "765e83e7",
   "metadata": {
    "ExecuteTime": {
     "end_time": "2022-06-30T14:50:20.559191Z",
     "start_time": "2022-06-30T14:50:20.492139Z"
    }
   },
   "outputs": [],
   "source": [
    "#Age:entre 15 e 120 pois há poucas pessoas como mais de 120 anos\n",
    "df3 =  df3[( df2['age']> 15) & (df3['age'] < 120 )]\n",
    "\n",
    "# secs_elapsed - Não há possibilidade de ter 0 elapsed\n",
    "#df1_sessions = df1_sessions[ df1_sessions['secs_elapsed']> 0]"
   ]
  },
  {
   "cell_type": "markdown",
   "id": "c9f932d3",
   "metadata": {},
   "source": [
    "## 3.2 Columns Selection"
   ]
  },
  {
   "cell_type": "code",
   "execution_count": null,
   "id": "907dffaf",
   "metadata": {},
   "outputs": [],
   "source": []
  },
  {
   "cell_type": "code",
   "execution_count": null,
   "id": "23e68469",
   "metadata": {},
   "outputs": [],
   "source": []
  },
  {
   "cell_type": "markdown",
   "id": "c4cbba6f",
   "metadata": {},
   "source": [
    "# 4.0 PASSO 04 - DATA PREPARATION\n"
   ]
  },
  {
   "cell_type": "code",
   "execution_count": 74,
   "id": "815c1559",
   "metadata": {
    "ExecuteTime": {
     "end_time": "2022-06-30T14:52:59.326835Z",
     "start_time": "2022-06-30T14:52:59.289933Z"
    }
   },
   "outputs": [],
   "source": [
    "df4= df3.copy()"
   ]
  },
  {
   "cell_type": "code",
   "execution_count": 75,
   "id": "fc92ef43",
   "metadata": {
    "ExecuteTime": {
     "end_time": "2022-06-30T14:53:00.608490Z",
     "start_time": "2022-06-30T14:53:00.148627Z"
    }
   },
   "outputs": [
    {
     "data": {
      "text/html": [
       "<div>\n",
       "<style scoped>\n",
       "    .dataframe tbody tr th:only-of-type {\n",
       "        vertical-align: middle;\n",
       "    }\n",
       "\n",
       "    .dataframe tbody tr th {\n",
       "        vertical-align: top;\n",
       "    }\n",
       "\n",
       "    .dataframe thead th {\n",
       "        text-align: right;\n",
       "    }\n",
       "</style>\n",
       "<table border=\"1\" class=\"dataframe\">\n",
       "  <thead>\n",
       "    <tr style=\"text-align: right;\">\n",
       "      <th></th>\n",
       "      <th>id</th>\n",
       "      <th>country_destination</th>\n",
       "      <th>date_account_created</th>\n",
       "      <th>timestamp_first_active</th>\n",
       "      <th>date_first_booking</th>\n",
       "      <th>age</th>\n",
       "      <th>signup_flow</th>\n",
       "      <th>first_active</th>\n",
       "      <th>days_from_first_active_until_booking</th>\n",
       "      <th>days_from_first_active_until_account_created</th>\n",
       "      <th>...</th>\n",
       "      <th>first_browser_SeaMonkey</th>\n",
       "      <th>first_browser_Silk</th>\n",
       "      <th>first_browser_SiteKiosk</th>\n",
       "      <th>first_browser_SlimBrowser</th>\n",
       "      <th>first_browser_Sogou Explorer</th>\n",
       "      <th>first_browser_Stainless</th>\n",
       "      <th>first_browser_TenFourFox</th>\n",
       "      <th>first_browser_TheWorld Browser</th>\n",
       "      <th>first_browser_Yandex.Browser</th>\n",
       "      <th>first_browser_wOSBrowser</th>\n",
       "    </tr>\n",
       "  </thead>\n",
       "  <tbody>\n",
       "    <tr>\n",
       "      <th>0</th>\n",
       "      <td>gxn3p5htnn</td>\n",
       "      <td>NDF</td>\n",
       "      <td>2010-06-28</td>\n",
       "      <td>2009-03-19 04:32:55</td>\n",
       "      <td>2015-06-29</td>\n",
       "      <td>49</td>\n",
       "      <td>0</td>\n",
       "      <td>2009-03-19</td>\n",
       "      <td>2293</td>\n",
       "      <td>466</td>\n",
       "      <td>...</td>\n",
       "      <td>0</td>\n",
       "      <td>0</td>\n",
       "      <td>0</td>\n",
       "      <td>0</td>\n",
       "      <td>0</td>\n",
       "      <td>0</td>\n",
       "      <td>0</td>\n",
       "      <td>0</td>\n",
       "      <td>0</td>\n",
       "      <td>0</td>\n",
       "    </tr>\n",
       "    <tr>\n",
       "      <th>1</th>\n",
       "      <td>820tgsjxq7</td>\n",
       "      <td>NDF</td>\n",
       "      <td>2011-05-25</td>\n",
       "      <td>2009-05-23 17:48:09</td>\n",
       "      <td>2015-06-29</td>\n",
       "      <td>38</td>\n",
       "      <td>0</td>\n",
       "      <td>2009-05-23</td>\n",
       "      <td>2228</td>\n",
       "      <td>732</td>\n",
       "      <td>...</td>\n",
       "      <td>0</td>\n",
       "      <td>0</td>\n",
       "      <td>0</td>\n",
       "      <td>0</td>\n",
       "      <td>0</td>\n",
       "      <td>0</td>\n",
       "      <td>0</td>\n",
       "      <td>0</td>\n",
       "      <td>0</td>\n",
       "      <td>0</td>\n",
       "    </tr>\n",
       "    <tr>\n",
       "      <th>2</th>\n",
       "      <td>4ft3gnwmtx</td>\n",
       "      <td>US</td>\n",
       "      <td>2010-09-28</td>\n",
       "      <td>2009-06-09 23:12:47</td>\n",
       "      <td>2010-08-02</td>\n",
       "      <td>56</td>\n",
       "      <td>3</td>\n",
       "      <td>2009-06-09</td>\n",
       "      <td>419</td>\n",
       "      <td>476</td>\n",
       "      <td>...</td>\n",
       "      <td>0</td>\n",
       "      <td>0</td>\n",
       "      <td>0</td>\n",
       "      <td>0</td>\n",
       "      <td>0</td>\n",
       "      <td>0</td>\n",
       "      <td>0</td>\n",
       "      <td>0</td>\n",
       "      <td>0</td>\n",
       "      <td>0</td>\n",
       "    </tr>\n",
       "    <tr>\n",
       "      <th>3</th>\n",
       "      <td>bjjt8pjhuk</td>\n",
       "      <td>other</td>\n",
       "      <td>2011-12-05</td>\n",
       "      <td>2009-10-31 06:01:29</td>\n",
       "      <td>2012-09-08</td>\n",
       "      <td>42</td>\n",
       "      <td>0</td>\n",
       "      <td>2009-10-31</td>\n",
       "      <td>1043</td>\n",
       "      <td>765</td>\n",
       "      <td>...</td>\n",
       "      <td>0</td>\n",
       "      <td>0</td>\n",
       "      <td>0</td>\n",
       "      <td>0</td>\n",
       "      <td>0</td>\n",
       "      <td>0</td>\n",
       "      <td>0</td>\n",
       "      <td>0</td>\n",
       "      <td>0</td>\n",
       "      <td>0</td>\n",
       "    </tr>\n",
       "    <tr>\n",
       "      <th>4</th>\n",
       "      <td>87mebub9p4</td>\n",
       "      <td>US</td>\n",
       "      <td>2010-09-14</td>\n",
       "      <td>2009-12-08 06:11:05</td>\n",
       "      <td>2010-02-18</td>\n",
       "      <td>41</td>\n",
       "      <td>0</td>\n",
       "      <td>2009-12-08</td>\n",
       "      <td>72</td>\n",
       "      <td>280</td>\n",
       "      <td>...</td>\n",
       "      <td>0</td>\n",
       "      <td>0</td>\n",
       "      <td>0</td>\n",
       "      <td>0</td>\n",
       "      <td>0</td>\n",
       "      <td>0</td>\n",
       "      <td>0</td>\n",
       "      <td>0</td>\n",
       "      <td>0</td>\n",
       "      <td>0</td>\n",
       "    </tr>\n",
       "    <tr>\n",
       "      <th>...</th>\n",
       "      <td>...</td>\n",
       "      <td>...</td>\n",
       "      <td>...</td>\n",
       "      <td>...</td>\n",
       "      <td>...</td>\n",
       "      <td>...</td>\n",
       "      <td>...</td>\n",
       "      <td>...</td>\n",
       "      <td>...</td>\n",
       "      <td>...</td>\n",
       "      <td>...</td>\n",
       "      <td>...</td>\n",
       "      <td>...</td>\n",
       "      <td>...</td>\n",
       "      <td>...</td>\n",
       "      <td>...</td>\n",
       "      <td>...</td>\n",
       "      <td>...</td>\n",
       "      <td>...</td>\n",
       "      <td>...</td>\n",
       "      <td>...</td>\n",
       "    </tr>\n",
       "    <tr>\n",
       "      <th>213446</th>\n",
       "      <td>zxodksqpep</td>\n",
       "      <td>NDF</td>\n",
       "      <td>2014-06-30</td>\n",
       "      <td>2014-06-30 23:56:36</td>\n",
       "      <td>2015-06-29</td>\n",
       "      <td>32</td>\n",
       "      <td>0</td>\n",
       "      <td>2014-06-30</td>\n",
       "      <td>364</td>\n",
       "      <td>0</td>\n",
       "      <td>...</td>\n",
       "      <td>0</td>\n",
       "      <td>0</td>\n",
       "      <td>0</td>\n",
       "      <td>0</td>\n",
       "      <td>0</td>\n",
       "      <td>0</td>\n",
       "      <td>0</td>\n",
       "      <td>0</td>\n",
       "      <td>0</td>\n",
       "      <td>0</td>\n",
       "    </tr>\n",
       "    <tr>\n",
       "      <th>213447</th>\n",
       "      <td>mhewnxesx9</td>\n",
       "      <td>NDF</td>\n",
       "      <td>2014-06-30</td>\n",
       "      <td>2014-06-30 23:57:19</td>\n",
       "      <td>2015-06-29</td>\n",
       "      <td>49</td>\n",
       "      <td>0</td>\n",
       "      <td>2014-06-30</td>\n",
       "      <td>364</td>\n",
       "      <td>0</td>\n",
       "      <td>...</td>\n",
       "      <td>0</td>\n",
       "      <td>0</td>\n",
       "      <td>0</td>\n",
       "      <td>0</td>\n",
       "      <td>0</td>\n",
       "      <td>0</td>\n",
       "      <td>0</td>\n",
       "      <td>0</td>\n",
       "      <td>0</td>\n",
       "      <td>0</td>\n",
       "    </tr>\n",
       "    <tr>\n",
       "      <th>213448</th>\n",
       "      <td>6o3arsjbb4</td>\n",
       "      <td>NDF</td>\n",
       "      <td>2014-06-30</td>\n",
       "      <td>2014-06-30 23:57:54</td>\n",
       "      <td>2015-06-29</td>\n",
       "      <td>32</td>\n",
       "      <td>0</td>\n",
       "      <td>2014-06-30</td>\n",
       "      <td>364</td>\n",
       "      <td>0</td>\n",
       "      <td>...</td>\n",
       "      <td>0</td>\n",
       "      <td>0</td>\n",
       "      <td>0</td>\n",
       "      <td>0</td>\n",
       "      <td>0</td>\n",
       "      <td>0</td>\n",
       "      <td>0</td>\n",
       "      <td>0</td>\n",
       "      <td>0</td>\n",
       "      <td>0</td>\n",
       "    </tr>\n",
       "    <tr>\n",
       "      <th>213449</th>\n",
       "      <td>jh95kwisub</td>\n",
       "      <td>NDF</td>\n",
       "      <td>2014-06-30</td>\n",
       "      <td>2014-06-30 23:58:22</td>\n",
       "      <td>2015-06-29</td>\n",
       "      <td>49</td>\n",
       "      <td>25</td>\n",
       "      <td>2014-06-30</td>\n",
       "      <td>364</td>\n",
       "      <td>0</td>\n",
       "      <td>...</td>\n",
       "      <td>0</td>\n",
       "      <td>0</td>\n",
       "      <td>0</td>\n",
       "      <td>0</td>\n",
       "      <td>0</td>\n",
       "      <td>0</td>\n",
       "      <td>0</td>\n",
       "      <td>0</td>\n",
       "      <td>0</td>\n",
       "      <td>0</td>\n",
       "    </tr>\n",
       "    <tr>\n",
       "      <th>213450</th>\n",
       "      <td>nw9fwlyb5f</td>\n",
       "      <td>NDF</td>\n",
       "      <td>2014-06-30</td>\n",
       "      <td>2014-06-30 23:58:24</td>\n",
       "      <td>2015-06-29</td>\n",
       "      <td>49</td>\n",
       "      <td>25</td>\n",
       "      <td>2014-06-30</td>\n",
       "      <td>364</td>\n",
       "      <td>0</td>\n",
       "      <td>...</td>\n",
       "      <td>0</td>\n",
       "      <td>0</td>\n",
       "      <td>0</td>\n",
       "      <td>0</td>\n",
       "      <td>0</td>\n",
       "      <td>0</td>\n",
       "      <td>0</td>\n",
       "      <td>0</td>\n",
       "      <td>0</td>\n",
       "      <td>0</td>\n",
       "    </tr>\n",
       "  </tbody>\n",
       "</table>\n",
       "<p>206593 rows × 156 columns</p>\n",
       "</div>"
      ],
      "text/plain": [
       "                id country_destination date_account_created  \\\n",
       "0       gxn3p5htnn                 NDF           2010-06-28   \n",
       "1       820tgsjxq7                 NDF           2011-05-25   \n",
       "2       4ft3gnwmtx                  US           2010-09-28   \n",
       "3       bjjt8pjhuk               other           2011-12-05   \n",
       "4       87mebub9p4                  US           2010-09-14   \n",
       "...            ...                 ...                  ...   \n",
       "213446  zxodksqpep                 NDF           2014-06-30   \n",
       "213447  mhewnxesx9                 NDF           2014-06-30   \n",
       "213448  6o3arsjbb4                 NDF           2014-06-30   \n",
       "213449  jh95kwisub                 NDF           2014-06-30   \n",
       "213450  nw9fwlyb5f                 NDF           2014-06-30   \n",
       "\n",
       "       timestamp_first_active date_first_booking  age  signup_flow  \\\n",
       "0         2009-03-19 04:32:55         2015-06-29   49            0   \n",
       "1         2009-05-23 17:48:09         2015-06-29   38            0   \n",
       "2         2009-06-09 23:12:47         2010-08-02   56            3   \n",
       "3         2009-10-31 06:01:29         2012-09-08   42            0   \n",
       "4         2009-12-08 06:11:05         2010-02-18   41            0   \n",
       "...                       ...                ...  ...          ...   \n",
       "213446    2014-06-30 23:56:36         2015-06-29   32            0   \n",
       "213447    2014-06-30 23:57:19         2015-06-29   49            0   \n",
       "213448    2014-06-30 23:57:54         2015-06-29   32            0   \n",
       "213449    2014-06-30 23:58:22         2015-06-29   49           25   \n",
       "213450    2014-06-30 23:58:24         2015-06-29   49           25   \n",
       "\n",
       "       first_active  days_from_first_active_until_booking  \\\n",
       "0        2009-03-19                                  2293   \n",
       "1        2009-05-23                                  2228   \n",
       "2        2009-06-09                                   419   \n",
       "3        2009-10-31                                  1043   \n",
       "4        2009-12-08                                    72   \n",
       "...             ...                                   ...   \n",
       "213446   2014-06-30                                   364   \n",
       "213447   2014-06-30                                   364   \n",
       "213448   2014-06-30                                   364   \n",
       "213449   2014-06-30                                   364   \n",
       "213450   2014-06-30                                   364   \n",
       "\n",
       "        days_from_first_active_until_account_created  ...  \\\n",
       "0                                                466  ...   \n",
       "1                                                732  ...   \n",
       "2                                                476  ...   \n",
       "3                                                765  ...   \n",
       "4                                                280  ...   \n",
       "...                                              ...  ...   \n",
       "213446                                             0  ...   \n",
       "213447                                             0  ...   \n",
       "213448                                             0  ...   \n",
       "213449                                             0  ...   \n",
       "213450                                             0  ...   \n",
       "\n",
       "        first_browser_SeaMonkey  first_browser_Silk  first_browser_SiteKiosk  \\\n",
       "0                             0                   0                        0   \n",
       "1                             0                   0                        0   \n",
       "2                             0                   0                        0   \n",
       "3                             0                   0                        0   \n",
       "4                             0                   0                        0   \n",
       "...                         ...                 ...                      ...   \n",
       "213446                        0                   0                        0   \n",
       "213447                        0                   0                        0   \n",
       "213448                        0                   0                        0   \n",
       "213449                        0                   0                        0   \n",
       "213450                        0                   0                        0   \n",
       "\n",
       "        first_browser_SlimBrowser  first_browser_Sogou Explorer  \\\n",
       "0                               0                             0   \n",
       "1                               0                             0   \n",
       "2                               0                             0   \n",
       "3                               0                             0   \n",
       "4                               0                             0   \n",
       "...                           ...                           ...   \n",
       "213446                          0                             0   \n",
       "213447                          0                             0   \n",
       "213448                          0                             0   \n",
       "213449                          0                             0   \n",
       "213450                          0                             0   \n",
       "\n",
       "        first_browser_Stainless  first_browser_TenFourFox  \\\n",
       "0                             0                         0   \n",
       "1                             0                         0   \n",
       "2                             0                         0   \n",
       "3                             0                         0   \n",
       "4                             0                         0   \n",
       "...                         ...                       ...   \n",
       "213446                        0                         0   \n",
       "213447                        0                         0   \n",
       "213448                        0                         0   \n",
       "213449                        0                         0   \n",
       "213450                        0                         0   \n",
       "\n",
       "        first_browser_TheWorld Browser  first_browser_Yandex.Browser  \\\n",
       "0                                    0                             0   \n",
       "1                                    0                             0   \n",
       "2                                    0                             0   \n",
       "3                                    0                             0   \n",
       "4                                    0                             0   \n",
       "...                                ...                           ...   \n",
       "213446                               0                             0   \n",
       "213447                               0                             0   \n",
       "213448                               0                             0   \n",
       "213449                               0                             0   \n",
       "213450                               0                             0   \n",
       "\n",
       "        first_browser_wOSBrowser  \n",
       "0                              0  \n",
       "1                              0  \n",
       "2                              0  \n",
       "3                              0  \n",
       "4                              0  \n",
       "...                          ...  \n",
       "213446                         0  \n",
       "213447                         0  \n",
       "213448                         0  \n",
       "213449                         0  \n",
       "213450                         0  \n",
       "\n",
       "[206593 rows x 156 columns]"
      ]
     },
     "execution_count": 75,
     "metadata": {},
     "output_type": "execute_result"
    }
   ],
   "source": [
    "# Dummy Variable\n",
    "df4_dummy = pd.get_dummies( df4.drop( ['id','country_destination'], axis=1 ) )\n",
    "\n",
    "#Join ID and country_destiantion\n",
    "df4 =pd.concat( [  df4[['id', 'country_destination']], df4_dummy],axis=1)\n",
    "df4\n"
   ]
  },
  {
   "cell_type": "markdown",
   "id": "50ecb8e2",
   "metadata": {},
   "source": [
    "# 5.0 PASSO 05 - Feature Selection"
   ]
  },
  {
   "cell_type": "code",
   "execution_count": 76,
   "id": "522ba6dc",
   "metadata": {
    "ExecuteTime": {
     "end_time": "2022-06-30T14:53:01.504226Z",
     "start_time": "2022-06-30T14:53:01.411879Z"
    }
   },
   "outputs": [],
   "source": [
    "#Deletar as colunas desnecessarias pro modelo\n",
    "cols_drop = ['date_account_created', 'timestamp_first_active', 'date_first_booking', 'first_active']\n",
    "df5= df4.drop(cols_drop, axis=1)"
   ]
  },
  {
   "cell_type": "code",
   "execution_count": 78,
   "id": "64026525",
   "metadata": {
    "ExecuteTime": {
     "end_time": "2022-06-30T14:53:54.446672Z",
     "start_time": "2022-06-30T14:53:54.386832Z"
    }
   },
   "outputs": [],
   "source": [
    "X = df5.drop(['id', 'country_destination'], axis=1)\n",
    "y = df5['country_destination'].copy()"
   ]
  },
  {
   "cell_type": "code",
   "execution_count": 79,
   "id": "466d689c",
   "metadata": {
    "ExecuteTime": {
     "end_time": "2022-06-30T14:54:01.928081Z",
     "start_time": "2022-06-30T14:54:01.529308Z"
    }
   },
   "outputs": [],
   "source": [
    "#Split dataset\n",
    "X_train, X_test, y_train, y_test = ms.train_test_split( X, y, test_size=0.2, random_state=32 ) "
   ]
  },
  {
   "cell_type": "markdown",
   "id": "2c281cb0",
   "metadata": {},
   "source": [
    "# 6.0 PASSO 06 - Machine Learning Model"
   ]
  },
  {
   "cell_type": "code",
   "execution_count": 80,
   "id": "86b4b527",
   "metadata": {
    "ExecuteTime": {
     "end_time": "2022-06-30T14:54:25.371911Z",
     "start_time": "2022-06-30T14:54:25.354956Z"
    }
   },
   "outputs": [],
   "source": [
    "x_train = X_train\n",
    "x_test = X_test"
   ]
  },
  {
   "cell_type": "code",
   "execution_count": 81,
   "id": "6c050943",
   "metadata": {
    "ExecuteTime": {
     "end_time": "2022-06-30T14:54:43.593446Z",
     "start_time": "2022-06-30T14:54:43.570510Z"
    }
   },
   "outputs": [
    {
     "data": {
      "text/html": [
       "<div>\n",
       "<style scoped>\n",
       "    .dataframe tbody tr th:only-of-type {\n",
       "        vertical-align: middle;\n",
       "    }\n",
       "\n",
       "    .dataframe tbody tr th {\n",
       "        vertical-align: top;\n",
       "    }\n",
       "\n",
       "    .dataframe thead th {\n",
       "        text-align: right;\n",
       "    }\n",
       "</style>\n",
       "<table border=\"1\" class=\"dataframe\">\n",
       "  <thead>\n",
       "    <tr style=\"text-align: right;\">\n",
       "      <th></th>\n",
       "      <th>age</th>\n",
       "      <th>signup_flow</th>\n",
       "      <th>days_from_first_active_until_booking</th>\n",
       "      <th>days_from_first_active_until_account_created</th>\n",
       "      <th>days_from_account_created_until_first_booking</th>\n",
       "      <th>year_first_active</th>\n",
       "      <th>month_first_active</th>\n",
       "      <th>day_first_active</th>\n",
       "      <th>day_of_week_first_active</th>\n",
       "      <th>week_of_year_first_active</th>\n",
       "      <th>...</th>\n",
       "      <th>first_browser_SeaMonkey</th>\n",
       "      <th>first_browser_Silk</th>\n",
       "      <th>first_browser_SiteKiosk</th>\n",
       "      <th>first_browser_SlimBrowser</th>\n",
       "      <th>first_browser_Sogou Explorer</th>\n",
       "      <th>first_browser_Stainless</th>\n",
       "      <th>first_browser_TenFourFox</th>\n",
       "      <th>first_browser_TheWorld Browser</th>\n",
       "      <th>first_browser_Yandex.Browser</th>\n",
       "      <th>first_browser_wOSBrowser</th>\n",
       "    </tr>\n",
       "  </thead>\n",
       "  <tbody>\n",
       "    <tr>\n",
       "      <th>38694</th>\n",
       "      <td>49</td>\n",
       "      <td>0</td>\n",
       "      <td>8</td>\n",
       "      <td>0</td>\n",
       "      <td>8</td>\n",
       "      <td>2012</td>\n",
       "      <td>8</td>\n",
       "      <td>29</td>\n",
       "      <td>2</td>\n",
       "      <td>35</td>\n",
       "      <td>...</td>\n",
       "      <td>0</td>\n",
       "      <td>0</td>\n",
       "      <td>0</td>\n",
       "      <td>0</td>\n",
       "      <td>0</td>\n",
       "      <td>0</td>\n",
       "      <td>0</td>\n",
       "      <td>0</td>\n",
       "      <td>0</td>\n",
       "      <td>0</td>\n",
       "    </tr>\n",
       "    <tr>\n",
       "      <th>115575</th>\n",
       "      <td>49</td>\n",
       "      <td>0</td>\n",
       "      <td>628</td>\n",
       "      <td>0</td>\n",
       "      <td>628</td>\n",
       "      <td>2013</td>\n",
       "      <td>10</td>\n",
       "      <td>9</td>\n",
       "      <td>2</td>\n",
       "      <td>41</td>\n",
       "      <td>...</td>\n",
       "      <td>0</td>\n",
       "      <td>0</td>\n",
       "      <td>0</td>\n",
       "      <td>0</td>\n",
       "      <td>0</td>\n",
       "      <td>0</td>\n",
       "      <td>0</td>\n",
       "      <td>0</td>\n",
       "      <td>0</td>\n",
       "      <td>0</td>\n",
       "    </tr>\n",
       "    <tr>\n",
       "      <th>85496</th>\n",
       "      <td>40</td>\n",
       "      <td>0</td>\n",
       "      <td>28</td>\n",
       "      <td>0</td>\n",
       "      <td>28</td>\n",
       "      <td>2013</td>\n",
       "      <td>6</td>\n",
       "      <td>21</td>\n",
       "      <td>4</td>\n",
       "      <td>25</td>\n",
       "      <td>...</td>\n",
       "      <td>0</td>\n",
       "      <td>0</td>\n",
       "      <td>0</td>\n",
       "      <td>0</td>\n",
       "      <td>0</td>\n",
       "      <td>0</td>\n",
       "      <td>0</td>\n",
       "      <td>0</td>\n",
       "      <td>0</td>\n",
       "      <td>0</td>\n",
       "    </tr>\n",
       "    <tr>\n",
       "      <th>180102</th>\n",
       "      <td>49</td>\n",
       "      <td>0</td>\n",
       "      <td>431</td>\n",
       "      <td>0</td>\n",
       "      <td>431</td>\n",
       "      <td>2014</td>\n",
       "      <td>4</td>\n",
       "      <td>24</td>\n",
       "      <td>3</td>\n",
       "      <td>17</td>\n",
       "      <td>...</td>\n",
       "      <td>0</td>\n",
       "      <td>0</td>\n",
       "      <td>0</td>\n",
       "      <td>0</td>\n",
       "      <td>0</td>\n",
       "      <td>0</td>\n",
       "      <td>0</td>\n",
       "      <td>0</td>\n",
       "      <td>0</td>\n",
       "      <td>0</td>\n",
       "    </tr>\n",
       "    <tr>\n",
       "      <th>166815</th>\n",
       "      <td>49</td>\n",
       "      <td>25</td>\n",
       "      <td>462</td>\n",
       "      <td>0</td>\n",
       "      <td>462</td>\n",
       "      <td>2014</td>\n",
       "      <td>3</td>\n",
       "      <td>24</td>\n",
       "      <td>0</td>\n",
       "      <td>13</td>\n",
       "      <td>...</td>\n",
       "      <td>0</td>\n",
       "      <td>0</td>\n",
       "      <td>0</td>\n",
       "      <td>0</td>\n",
       "      <td>0</td>\n",
       "      <td>0</td>\n",
       "      <td>0</td>\n",
       "      <td>0</td>\n",
       "      <td>0</td>\n",
       "      <td>0</td>\n",
       "    </tr>\n",
       "  </tbody>\n",
       "</table>\n",
       "<p>5 rows × 150 columns</p>\n",
       "</div>"
      ],
      "text/plain": [
       "        age  signup_flow  days_from_first_active_until_booking  \\\n",
       "38694    49            0                                     8   \n",
       "115575   49            0                                   628   \n",
       "85496    40            0                                    28   \n",
       "180102   49            0                                   431   \n",
       "166815   49           25                                   462   \n",
       "\n",
       "        days_from_first_active_until_account_created  \\\n",
       "38694                                              0   \n",
       "115575                                             0   \n",
       "85496                                              0   \n",
       "180102                                             0   \n",
       "166815                                             0   \n",
       "\n",
       "        days_from_account_created_until_first_booking  year_first_active  \\\n",
       "38694                                               8               2012   \n",
       "115575                                            628               2013   \n",
       "85496                                              28               2013   \n",
       "180102                                            431               2014   \n",
       "166815                                            462               2014   \n",
       "\n",
       "        month_first_active  day_first_active  day_of_week_first_active  \\\n",
       "38694                    8                29                         2   \n",
       "115575                  10                 9                         2   \n",
       "85496                    6                21                         4   \n",
       "180102                   4                24                         3   \n",
       "166815                   3                24                         0   \n",
       "\n",
       "        week_of_year_first_active  ...  first_browser_SeaMonkey  \\\n",
       "38694                          35  ...                        0   \n",
       "115575                         41  ...                        0   \n",
       "85496                          25  ...                        0   \n",
       "180102                         17  ...                        0   \n",
       "166815                         13  ...                        0   \n",
       "\n",
       "        first_browser_Silk  first_browser_SiteKiosk  \\\n",
       "38694                    0                        0   \n",
       "115575                   0                        0   \n",
       "85496                    0                        0   \n",
       "180102                   0                        0   \n",
       "166815                   0                        0   \n",
       "\n",
       "        first_browser_SlimBrowser  first_browser_Sogou Explorer  \\\n",
       "38694                           0                             0   \n",
       "115575                          0                             0   \n",
       "85496                           0                             0   \n",
       "180102                          0                             0   \n",
       "166815                          0                             0   \n",
       "\n",
       "        first_browser_Stainless  first_browser_TenFourFox  \\\n",
       "38694                         0                         0   \n",
       "115575                        0                         0   \n",
       "85496                         0                         0   \n",
       "180102                        0                         0   \n",
       "166815                        0                         0   \n",
       "\n",
       "        first_browser_TheWorld Browser  first_browser_Yandex.Browser  \\\n",
       "38694                                0                             0   \n",
       "115575                               0                             0   \n",
       "85496                                0                             0   \n",
       "180102                               0                             0   \n",
       "166815                               0                             0   \n",
       "\n",
       "        first_browser_wOSBrowser  \n",
       "38694                          0  \n",
       "115575                         0  \n",
       "85496                          0  \n",
       "180102                         0  \n",
       "166815                         0  \n",
       "\n",
       "[5 rows x 150 columns]"
      ]
     },
     "execution_count": 81,
     "metadata": {},
     "output_type": "execute_result"
    }
   ],
   "source": [
    "x_train.head()"
   ]
  },
  {
   "cell_type": "markdown",
   "id": "1314ea2c",
   "metadata": {},
   "source": [
    "## 6.1 Baseline Model "
   ]
  },
  {
   "cell_type": "code",
   "execution_count": 84,
   "id": "a530ce6d",
   "metadata": {
    "ExecuteTime": {
     "end_time": "2022-06-30T14:56:13.421994Z",
     "start_time": "2022-06-30T14:56:13.367127Z"
    }
   },
   "outputs": [],
   "source": [
    "#random.choices(populacao =, weght= , k=)\n",
    "country_destination_list = df1['country_destination'].drop_duplicates().sort_values().to_list()\n",
    "k_num = y_test.shape[0]\n",
    "country_destination_weghts = df1['country_destination'].value_counts(normalize=True).sort_index().to_list()\n",
    "\n",
    "# Modelo aleatório\n",
    "yhat_random = random.choices(population= country_destination_list, \n",
    "                             weights = country_destination_weghts,\n",
    "                             k = k_num)\n"
   ]
  },
  {
   "cell_type": "markdown",
   "id": "604d7705",
   "metadata": {},
   "source": [
    "### 6.1.1 Baseline Model Performance"
   ]
  },
  {
   "cell_type": "code",
   "execution_count": 85,
   "id": "9f7ddda7",
   "metadata": {
    "ExecuteTime": {
     "end_time": "2022-06-30T14:57:21.768387Z",
     "start_time": "2022-06-30T14:57:19.748309Z"
    }
   },
   "outputs": [
    {
     "name": "stdout",
     "output_type": "stream",
     "text": [
      "Accuracy: 0.4257363440547932\n",
      "Balanced Accuracy: 0.0820940440726509\n",
      "Balanced Accuracy: 0.00048094739136772535\n",
      "\n",
      "\n",
      "              precision    recall  f1-score   support\n",
      "\n",
      "          AU       0.00      0.00      0.00       101\n",
      "          CA       0.01      0.01      0.01       265\n",
      "          DE       0.01      0.01      0.01       234\n",
      "          ES       0.01      0.01      0.01       385\n",
      "          FR       0.02      0.02      0.02       971\n",
      "          GB       0.01      0.01      0.01       457\n",
      "          IT       0.01      0.01      0.01       553\n",
      "         NDF       0.58      0.58      0.58     23927\n",
      "          NL       0.00      0.00      0.00       143\n",
      "          PT       0.00      0.00      0.00        54\n",
      "          US       0.30      0.30      0.30     12249\n",
      "       other       0.05      0.05      0.05      1980\n",
      "\n",
      "    accuracy                           0.43     41319\n",
      "   macro avg       0.08      0.08      0.08     41319\n",
      "weighted avg       0.43      0.43      0.43     41319\n",
      "\n"
     ]
    },
    {
     "data": {
      "image/png": "[encoded data removed]",
      "text/plain": [
       "<Figure size 1080x720 with 2 Axes>"
      ]
     },
     "metadata": {
      "needs_background": "light"
     },
     "output_type": "display_data"
    }
   ],
   "source": [
    "#Accuracy\n",
    "acc_random = m.accuracy_score(y_test, yhat_random)\n",
    "print(f'Accuracy: {acc_random}')\n",
    "\n",
    "#Balanced Accuracy\n",
    "balanced_acc_random = m.balanced_accuracy_score(y_test, yhat_random)\n",
    "print(f'Balanced Accuracy: {balanced_acc_random}')\n",
    "\n",
    "#Kappa Metrics\n",
    "kappa_random = m.cohen_kappa_score(y_test, yhat_random)\n",
    "print(f'Balanced Accuracy: {kappa_random}')\n",
    "print('\\n')\n",
    "\n",
    "#Classification Report\n",
    "print(m.classification_report(y_test, yhat_random))\n",
    "\n",
    "#Confusion Matrix\n",
    "cm = confusion_matrix( y_test, yhat_random)\n",
    "plt.figure(figsize=(15, 10))\n",
    "sns.heatmap(cm, annot=True);\n"
   ]
  },
  {
   "cell_type": "markdown",
   "id": "dee2fab3",
   "metadata": {},
   "source": [
    "## 5.2 Neural Network - MLP"
   ]
  },
  {
   "cell_type": "code",
   "execution_count": 86,
   "id": "40f8bf32",
   "metadata": {
    "ExecuteTime": {
     "end_time": "2022-06-30T14:57:35.968948Z",
     "start_time": "2022-06-30T14:57:35.721015Z"
    }
   },
   "outputs": [],
   "source": [
    "ohe = pp.OneHotEncoder()\n",
    "y_train_nn = ohe.fit_transform( y_train.values.reshape(-1, 1 ) ).toarray()"
   ]
  },
  {
   "cell_type": "code",
   "execution_count": 87,
   "id": "713ab89d",
   "metadata": {
    "ExecuteTime": {
     "end_time": "2022-06-30T14:57:37.051869Z",
     "start_time": "2022-06-30T14:57:37.039405Z"
    }
   },
   "outputs": [],
   "source": [
    "#df1['country_destination'].value_counts(normalize=True).sort_index().to_list()"
   ]
  },
  {
   "cell_type": "code",
   "execution_count": 88,
   "id": "4fe2af7a",
   "metadata": {
    "ExecuteTime": {
     "end_time": "2022-06-30T15:10:02.236351Z",
     "start_time": "2022-06-30T14:57:38.016668Z"
    }
   },
   "outputs": [
    {
     "name": "stdout",
     "output_type": "stream",
     "text": [
      "Epoch 1/100\n",
      "5165/5165 [==============================] - 32s 1ms/step - loss: 6.1499 - accuracy: 0.7827\n",
      "Epoch 2/100\n",
      "5165/5165 [==============================] - 8s 2ms/step - loss: 1.1813 - accuracy: 0.8234\n",
      "Epoch 3/100\n",
      "5165/5165 [==============================] - 7s 1ms/step - loss: 0.6247 - accuracy: 0.8587\n",
      "Epoch 4/100\n",
      "5165/5165 [==============================] - 7s 1ms/step - loss: 0.5139 - accuracy: 0.8711\n",
      "Epoch 5/100\n",
      "5165/5165 [==============================] - 7s 1ms/step - loss: 0.4961 - accuracy: 0.8738\n",
      "Epoch 6/100\n",
      "5165/5165 [==============================] - 7s 1ms/step - loss: 0.4991 - accuracy: 0.8726\n",
      "Epoch 7/100\n",
      "5165/5165 [==============================] - 7s 1ms/step - loss: 0.5006 - accuracy: 0.8723\n",
      "Epoch 8/100\n",
      "5165/5165 [==============================] - 8s 1ms/step - loss: 0.4996 - accuracy: 0.8724\n",
      "Epoch 9/100\n",
      "5165/5165 [==============================] - 7s 1ms/step - loss: 0.4982 - accuracy: 0.8726\n",
      "Epoch 10/100\n",
      "5165/5165 [==============================] - 7s 1ms/step - loss: 0.4959 - accuracy: 0.8734\n",
      "Epoch 11/100\n",
      "5165/5165 [==============================] - 7s 1ms/step - loss: 0.4980 - accuracy: 0.8720\n",
      "Epoch 12/100\n",
      "5165/5165 [==============================] - 7s 1ms/step - loss: 0.4946 - accuracy: 0.8737\n",
      "Epoch 13/100\n",
      "5165/5165 [==============================] - 7s 1ms/step - loss: 0.4940 - accuracy: 0.8732\n",
      "Epoch 14/100\n",
      "5165/5165 [==============================] - 6s 1ms/step - loss: 0.4960 - accuracy: 0.8733\n",
      "Epoch 15/100\n",
      "5165/5165 [==============================] - 7s 1ms/step - loss: 0.4934 - accuracy: 0.8745\n",
      "Epoch 16/100\n",
      "5165/5165 [==============================] - 7s 1ms/step - loss: 0.4939 - accuracy: 0.8738\n",
      "Epoch 17/100\n",
      "5165/5165 [==============================] - 7s 1ms/step - loss: 0.4914 - accuracy: 0.8744\n",
      "Epoch 18/100\n",
      "5165/5165 [==============================] - 7s 1ms/step - loss: 0.4928 - accuracy: 0.8729\n",
      "Epoch 19/100\n",
      "5165/5165 [==============================] - 7s 1ms/step - loss: 0.4922 - accuracy: 0.8731\n",
      "Epoch 20/100\n",
      "5165/5165 [==============================] - 7s 1ms/step - loss: 0.4884 - accuracy: 0.8744\n",
      "Epoch 21/100\n",
      "5165/5165 [==============================] - 7s 1ms/step - loss: 0.4928 - accuracy: 0.8730\n",
      "Epoch 22/100\n",
      "5165/5165 [==============================] - 8s 2ms/step - loss: 0.4887 - accuracy: 0.8743\n",
      "Epoch 23/100\n",
      "5165/5165 [==============================] - 7s 1ms/step - loss: 0.4884 - accuracy: 0.8747\n",
      "Epoch 24/100\n",
      "5165/5165 [==============================] - 7s 1ms/step - loss: 0.4912 - accuracy: 0.8737\n",
      "Epoch 25/100\n",
      "5165/5165 [==============================] - 7s 1ms/step - loss: 0.4920 - accuracy: 0.8733\n",
      "Epoch 26/100\n",
      "5165/5165 [==============================] - 7s 1ms/step - loss: 0.4944 - accuracy: 0.8728\n",
      "Epoch 27/100\n",
      "5165/5165 [==============================] - 7s 1ms/step - loss: 0.4909 - accuracy: 0.8735\n",
      "Epoch 28/100\n",
      "5165/5165 [==============================] - 7s 1ms/step - loss: 0.4916 - accuracy: 0.8734\n",
      "Epoch 29/100\n",
      "5165/5165 [==============================] - 7s 1ms/step - loss: 0.4848 - accuracy: 0.8757\n",
      "Epoch 30/100\n",
      "5165/5165 [==============================] - 7s 1ms/step - loss: 0.4888 - accuracy: 0.8744\n",
      "Epoch 31/100\n",
      "5165/5165 [==============================] - 7s 1ms/step - loss: 0.4915 - accuracy: 0.8738\n",
      "Epoch 32/100\n",
      "5165/5165 [==============================] - 7s 1ms/step - loss: 0.4885 - accuracy: 0.8746\n",
      "Epoch 33/100\n",
      "5165/5165 [==============================] - 7s 1ms/step - loss: 0.4927 - accuracy: 0.8730\n",
      "Epoch 34/100\n",
      "5165/5165 [==============================] - 7s 1ms/step - loss: 0.4925 - accuracy: 0.8728\n",
      "Epoch 35/100\n",
      "5165/5165 [==============================] - 8s 2ms/step - loss: 0.4908 - accuracy: 0.8737\n",
      "Epoch 36/100\n",
      "5165/5165 [==============================] - 7s 1ms/step - loss: 0.4898 - accuracy: 0.8740\n",
      "Epoch 37/100\n",
      "5165/5165 [==============================] - 7s 1ms/step - loss: 0.4922 - accuracy: 0.8728\n",
      "Epoch 38/100\n",
      "5165/5165 [==============================] - 7s 1ms/step - loss: 0.4921 - accuracy: 0.8736\n",
      "Epoch 39/100\n",
      "5165/5165 [==============================] - 7s 1ms/step - loss: 0.4893 - accuracy: 0.8741\n",
      "Epoch 40/100\n",
      "5165/5165 [==============================] - 7s 1ms/step - loss: 0.4882 - accuracy: 0.8745\n",
      "Epoch 41/100\n",
      "5165/5165 [==============================] - 7s 1ms/step - loss: 0.4934 - accuracy: 0.8732\n",
      "Epoch 42/100\n",
      "5165/5165 [==============================] - 7s 1ms/step - loss: 0.4898 - accuracy: 0.8738\n",
      "Epoch 43/100\n",
      "5165/5165 [==============================] - 8s 2ms/step - loss: 0.4920 - accuracy: 0.8737\n",
      "Epoch 44/100\n",
      "5165/5165 [==============================] - 8s 2ms/step - loss: 0.4936 - accuracy: 0.8729\n",
      "Epoch 45/100\n",
      "5165/5165 [==============================] - 7s 1ms/step - loss: 0.4905 - accuracy: 0.8737\n",
      "Epoch 46/100\n",
      "5165/5165 [==============================] - 9s 2ms/step - loss: 0.4911 - accuracy: 0.8732\n",
      "Epoch 47/100\n",
      "5165/5165 [==============================] - 7s 1ms/step - loss: 0.4891 - accuracy: 0.8739\n",
      "Epoch 48/100\n",
      "5165/5165 [==============================] - 7s 1ms/step - loss: 0.4908 - accuracy: 0.8737\n",
      "Epoch 49/100\n",
      "5165/5165 [==============================] - 7s 1ms/step - loss: 0.4923 - accuracy: 0.8733\n",
      "Epoch 50/100\n",
      "5165/5165 [==============================] - 8s 2ms/step - loss: 0.4914 - accuracy: 0.8730\n",
      "Epoch 51/100\n",
      "5165/5165 [==============================] - 7s 1ms/step - loss: 0.4874 - accuracy: 0.8743\n",
      "Epoch 52/100\n",
      "5165/5165 [==============================] - 7s 1ms/step - loss: 0.4961 - accuracy: 0.8725\n",
      "Epoch 53/100\n",
      "5165/5165 [==============================] - 7s 1ms/step - loss: 0.4952 - accuracy: 0.8724\n",
      "Epoch 54/100\n",
      "5165/5165 [==============================] - 8s 2ms/step - loss: 0.4906 - accuracy: 0.8736\n",
      "Epoch 55/100\n",
      "5165/5165 [==============================] - 8s 1ms/step - loss: 0.4930 - accuracy: 0.8728\n",
      "Epoch 56/100\n",
      "5165/5165 [==============================] - 7s 1ms/step - loss: 0.4895 - accuracy: 0.8741\n",
      "Epoch 57/100\n",
      "5165/5165 [==============================] - 7s 1ms/step - loss: 0.4915 - accuracy: 0.8738\n",
      "Epoch 58/100\n",
      "5165/5165 [==============================] - 8s 2ms/step - loss: 0.4906 - accuracy: 0.8734\n",
      "Epoch 59/100\n",
      "5165/5165 [==============================] - 7s 1ms/step - loss: 0.4901 - accuracy: 0.8736\n",
      "Epoch 60/100\n",
      "5165/5165 [==============================] - 7s 1ms/step - loss: 0.4882 - accuracy: 0.8744\n",
      "Epoch 61/100\n",
      "5165/5165 [==============================] - 9s 2ms/step - loss: 0.4923 - accuracy: 0.8733\n",
      "Epoch 62/100\n",
      "5165/5165 [==============================] - 7s 1ms/step - loss: 0.4872 - accuracy: 0.8749\n",
      "Epoch 63/100\n",
      "5165/5165 [==============================] - 7s 1ms/step - loss: 0.4882 - accuracy: 0.8747\n",
      "Epoch 64/100\n",
      "5165/5165 [==============================] - 7s 1ms/step - loss: 0.4931 - accuracy: 0.8730\n",
      "Epoch 65/100\n",
      "5165/5165 [==============================] - 8s 2ms/step - loss: 0.4918 - accuracy: 0.8731\n",
      "Epoch 66/100\n",
      "5165/5165 [==============================] - 7s 1ms/step - loss: 0.4929 - accuracy: 0.8730\n",
      "Epoch 67/100\n",
      "5165/5165 [==============================] - 7s 1ms/step - loss: 0.4911 - accuracy: 0.8735\n",
      "Epoch 68/100\n",
      "5165/5165 [==============================] - 7s 1ms/step - loss: 0.4917 - accuracy: 0.8733\n",
      "Epoch 69/100\n",
      "5165/5165 [==============================] - 8s 2ms/step - loss: 0.4912 - accuracy: 0.8736\n",
      "Epoch 70/100\n",
      "5165/5165 [==============================] - 7s 1ms/step - loss: 0.4908 - accuracy: 0.8733\n",
      "Epoch 71/100\n",
      "5165/5165 [==============================] - 7s 1ms/step - loss: 0.4969 - accuracy: 0.8719\n",
      "Epoch 72/100\n",
      "5165/5165 [==============================] - 8s 2ms/step - loss: 0.4902 - accuracy: 0.8741\n",
      "Epoch 73/100\n",
      "5165/5165 [==============================] - 7s 1ms/step - loss: 0.4897 - accuracy: 0.8743\n",
      "Epoch 74/100\n",
      "5165/5165 [==============================] - 8s 2ms/step - loss: 0.4934 - accuracy: 0.8736\n",
      "Epoch 75/100\n",
      "5165/5165 [==============================] - 7s 1ms/step - loss: 0.4877 - accuracy: 0.8750\n",
      "Epoch 76/100\n",
      "5165/5165 [==============================] - 7s 1ms/step - loss: 0.4846 - accuracy: 0.8756\n",
      "Epoch 77/100\n",
      "5165/5165 [==============================] - 8s 2ms/step - loss: 0.4918 - accuracy: 0.8731\n",
      "Epoch 78/100\n",
      "5165/5165 [==============================] - 8s 2ms/step - loss: 0.4850 - accuracy: 0.8750\n",
      "Epoch 79/100\n"
     ]
    },
    {
     "name": "stdout",
     "output_type": "stream",
     "text": [
      "5165/5165 [==============================] - 7s 1ms/step - loss: 0.4927 - accuracy: 0.8735\n",
      "Epoch 80/100\n",
      "5165/5165 [==============================] - 7s 1ms/step - loss: 0.4911 - accuracy: 0.8735\n",
      "Epoch 81/100\n",
      "5165/5165 [==============================] - 7s 1ms/step - loss: 0.4872 - accuracy: 0.8750\n",
      "Epoch 82/100\n",
      "5165/5165 [==============================] - 6s 1ms/step - loss: 0.4898 - accuracy: 0.8740\n",
      "Epoch 83/100\n",
      "5165/5165 [==============================] - 7s 1ms/step - loss: 0.4910 - accuracy: 0.8734\n",
      "Epoch 84/100\n",
      "5165/5165 [==============================] - 8s 1ms/step - loss: 0.4912 - accuracy: 0.8736\n",
      "Epoch 85/100\n",
      "5165/5165 [==============================] - 7s 1ms/step - loss: 0.4917 - accuracy: 0.8736\n",
      "Epoch 86/100\n",
      "5165/5165 [==============================] - 7s 1ms/step - loss: 0.4874 - accuracy: 0.8749\n",
      "Epoch 87/100\n",
      "5165/5165 [==============================] - 8s 1ms/step - loss: 0.4984 - accuracy: 0.8718\n",
      "Epoch 88/100\n",
      "5165/5165 [==============================] - 7s 1ms/step - loss: 0.4864 - accuracy: 0.8747\n",
      "Epoch 89/100\n",
      "5165/5165 [==============================] - 6s 1ms/step - loss: 0.4900 - accuracy: 0.8740\n",
      "Epoch 90/100\n",
      "5165/5165 [==============================] - 7s 1ms/step - loss: 0.4873 - accuracy: 0.8745\n",
      "Epoch 91/100\n",
      "5165/5165 [==============================] - 8s 1ms/step - loss: 0.4890 - accuracy: 0.8745\n",
      "Epoch 92/100\n",
      "5165/5165 [==============================] - 7s 1ms/step - loss: 0.4924 - accuracy: 0.8743\n",
      "Epoch 93/100\n",
      "5165/5165 [==============================] - 7s 1ms/step - loss: 0.4917 - accuracy: 0.8733\n",
      "Epoch 94/100\n",
      "5165/5165 [==============================] - 8s 1ms/step - loss: 0.4887 - accuracy: 0.8750\n",
      "Epoch 95/100\n",
      "5165/5165 [==============================] - 7s 1ms/step - loss: 0.4959 - accuracy: 0.8721\n",
      "Epoch 96/100\n",
      "5165/5165 [==============================] - 6s 1ms/step - loss: 0.4891 - accuracy: 0.8744\n",
      "Epoch 97/100\n",
      "5165/5165 [==============================] - 7s 1ms/step - loss: 0.4928 - accuracy: 0.8737\n",
      "Epoch 98/100\n",
      "5165/5165 [==============================] - 8s 1ms/step - loss: 0.4896 - accuracy: 0.8739\n",
      "Epoch 99/100\n",
      "5165/5165 [==============================] - 7s 1ms/step - loss: 0.4907 - accuracy: 0.8742\n",
      "Epoch 100/100\n",
      "5165/5165 [==============================] - 6s 1ms/step - loss: 0.4973 - accuracy: 0.8720\n"
     ]
    },
    {
     "data": {
      "text/plain": [
       "<keras.callbacks.History at 0x1c0bb500220>"
      ]
     },
     "execution_count": 88,
     "metadata": {},
     "output_type": "execute_result"
    }
   ],
   "source": [
    "# Model definition\n",
    "model = ml.Sequential()\n",
    "model.add(l.Dense( 256, input_dim=x_train.shape[1], activation='relu') )\n",
    "model.add(l.Dense( 12, activation='softmax') )\n",
    "\n",
    "#Model compile\n",
    "model.compile( loss= 'categorical_crossentropy', optimizer= 'adam', metrics=['accuracy'] )\n",
    "\n",
    "#training model\n",
    "model.fit( x_train , y_train_nn, epochs=100 )"
   ]
  },
  {
   "cell_type": "code",
   "execution_count": 89,
   "id": "bf13f189",
   "metadata": {
    "ExecuteTime": {
     "end_time": "2022-06-30T15:23:52.145788Z",
     "start_time": "2022-06-30T15:23:50.624596Z"
    }
   },
   "outputs": [],
   "source": [
    "#Predict\n",
    "pred_nn = model.predict( x_test )\n",
    "\n",
    "#invert prediction\n",
    "yhat_nn = ohe.inverse_transform( pred_nn)\n",
    "\n",
    "#Prediction Prepare\n",
    "y_test_nn = y_test.to_numpy()\n",
    "yhat_nn =  yhat_nn.reshape(1, -1 )[0]"
   ]
  },
  {
   "cell_type": "code",
   "execution_count": 90,
   "id": "1fe9a192",
   "metadata": {
    "ExecuteTime": {
     "end_time": "2022-06-30T15:23:56.073584Z",
     "start_time": "2022-06-30T15:23:53.229996Z"
    }
   },
   "outputs": [
    {
     "name": "stdout",
     "output_type": "stream",
     "text": [
      "Accuracy: 0.8751663883443452\n",
      "Balanced Accuracy: 0.16656461751979754\n",
      "Kappa score: 0.7687158386120109\n",
      "\n",
      "\n",
      "              precision    recall  f1-score   support\n",
      "\n",
      "          AU       0.00      0.00      0.00       101\n",
      "          CA       0.00      0.00      0.00       265\n",
      "          DE       0.00      0.00      0.00       234\n",
      "          ES       0.00      0.00      0.00       385\n",
      "          FR       0.00      0.00      0.00       971\n",
      "          GB       0.00      0.00      0.00       457\n",
      "          IT       0.00      0.00      0.00       553\n",
      "         NDF       1.00      1.00      1.00     23927\n",
      "          NL       0.00      0.00      0.00       143\n",
      "          PT       0.00      0.00      0.00        54\n",
      "          US       0.70      1.00      0.83     12249\n",
      "       other       0.00      0.00      0.00      1980\n",
      "\n",
      "    accuracy                           0.88     41319\n",
      "   macro avg       0.14      0.17      0.15     41319\n",
      "weighted avg       0.79      0.88      0.82     41319\n",
      "\n"
     ]
    },
    {
     "data": {
      "image/png": "[encoded data removed]",
      "text/plain": [
       "<Figure size 1080x720 with 2 Axes>"
      ]
     },
     "metadata": {
      "needs_background": "light"
     },
     "output_type": "display_data"
    }
   ],
   "source": [
    "#Accuracy\n",
    "acc_nn = m.accuracy_score(y_test_nn, yhat_nn)\n",
    "print(f'Accuracy: {acc_nn}')\n",
    "\n",
    "#Balanced Accuracy\n",
    "balanced_acc_nn = m.balanced_accuracy_score(y_test_nn, yhat_nn)\n",
    "print(f'Balanced Accuracy: {balanced_acc_nn}')\n",
    "\n",
    "#Kappa Metrics\n",
    "kappa_nn = m.cohen_kappa_score(y_test_nn, yhat_nn)\n",
    "print(f'Kappa score: {kappa_nn}')\n",
    "print('\\n')\n",
    "\n",
    "#Classification Report\n",
    "print(m.classification_report(y_test_nn, yhat_nn))\n",
    "\n",
    "#Confusion Matrix\n",
    "cm = confusion_matrix( y_test_nn, yhat_nn)\n",
    "plt.figure(figsize=(15, 10))\n",
    "sns.heatmap(cm, annot=True);\n",
    "\n"
   ]
  },
  {
   "cell_type": "markdown",
   "id": "77b41cd2",
   "metadata": {},
   "source": [
    "## 5.2.3 NN Performance - Cross Validation"
   ]
  },
  {
   "cell_type": "code",
   "execution_count": 93,
   "id": "fa130275",
   "metadata": {
    "ExecuteTime": {
     "end_time": "2022-06-30T16:09:40.585813Z",
     "start_time": "2022-06-30T16:09:40.575807Z"
    }
   },
   "outputs": [],
   "source": [
    "#Generate k-fold\n",
    "num_folds = 5\n",
    "kfold = ms.StratifiedKFold(n_splits=num_folds, shuffle=True, random_state=32)\n",
    "\n",
    "balanced_acc_list = []\n",
    "kappa_acc_list = []\n",
    "\n",
    "i = 1\n",
    "\n",
    "for train_ix, val_ix in kfold.split(x_train, y_train):\n",
    "    print(f'Fold number {i}/{num_folds}\\n')\n",
    "    #Get fold\n",
    "    x_train_fold = x_train.iloc[train_ix]\n",
    "   y_train_fold = y_train.iloc[train_ix]\n",
    "   \n",
    "   x_val_fold = x_train.iloc[val_ix]\n",
    "   y_val_fold = y_train.iloc[val_ix]\n",
    "   \n",
    "   #target hot_encoding\n",
    "   ohe = pp.OneHotEncoder()\n",
    "   y_train_fold_nn = ohe.fit_transform(y_train_fold.values.reshape( -1, 1)).toarray()\n",
    "   \n",
    "   #Model definition\n",
    "   model = ml.Sequential()\n",
    "   model.add(l.Dense(256, input_dim=x_train.shape[1], activation='relu'))\n",
    "   model.add(l.Dense(11, activation='softmax'))\n",
    "   \n",
    "   #Compile Model\n",
    "   model.compile(loss='categorical_crossentropy', optimizer='adam', metrics=['accuracy'])\n",
    "   \n",
    "   #training model\n",
    "   model.fit( x_train_fold, y_train_fold_nn, epochs=100, batch_size=32, verbose=0)\n",
    "   \n",
    "   \n",
    "   # prediction\n",
    "   pred_nn = model.predict(x_val_fold)\n",
    "   yhat_nn = ohe.inverse_transform( pred_nn)\n",
    "   \n",
    "   #prepare data\n",
    "   y_test_nn = y_val_fold.to_numpy()\n",
    "   yhat_nn = yhat_nn.reshape( 1, -1)[0]\n",
    "   \n",
    "   #metrics\n",
    "   \n",
    "   #Balanced Accuracy\n",
    "   balanced_acc_nn = m.balanced_accuracy_score( y_test_nn, yhat_nn )\n",
    "   balanced_acc_list.append( balanced_acc_nn)\n",
    "  \n",
    "   #Kappa Metrics\n",
    "   kappa_acc_nn = m.cohen_kappa_score( y_test_nn, yhat_nn )\n",
    "   kappa_acc_list.append( kappa_acc_nn)\n",
    "   \n",
    "   i += 1"
   ]
  },
  {
   "cell_type": "code",
   "execution_count": null,
   "id": "97324eb8",
   "metadata": {
    "ExecuteTime": {
     "end_time": "2022-06-30T15:24:01.899346Z",
     "start_time": "2022-06-30T15:24:01.899346Z"
    }
   },
   "outputs": [],
   "source": [
    "print(f'Avg Balanced Accuracy: {np.mean(balanced_acc_list)} +/- {np.std(balanced_acc_list)}\\n')\n",
    "      \n",
    "print(f'Avg Kappa: {np.mean(kappa_acc_list)} +/- {np.std(kappa_acc_list)}')"
   ]
  },
  {
   "cell_type": "code",
   "execution_count": null,
   "id": "1a62e8f3",
   "metadata": {
    "ExecuteTime": {
     "end_time": "2022-06-30T15:24:01.908325Z",
     "start_time": "2022-06-30T15:24:01.908325Z"
    }
   },
   "outputs": [],
   "source": [
    "x_train_fold.shape"
   ]
  },
  {
   "cell_type": "code",
   "execution_count": null,
   "id": "0dbd3cc8",
   "metadata": {
    "ExecuteTime": {
     "end_time": "2022-06-30T15:24:01.917299Z",
     "start_time": "2022-06-30T15:24:01.917299Z"
    }
   },
   "outputs": [],
   "source": [
    "y_train_nn.shape"
   ]
  },
  {
   "cell_type": "code",
   "execution_count": null,
   "id": "b6957395",
   "metadata": {},
   "outputs": [],
   "source": []
  }
 ],
 "metadata": {
  "kernelspec": {
   "display_name": "Python 3 (ipykernel)",
   "language": "python",
   "name": "python3"
  },
  "language_info": {
   "codemirror_mode": {
    "name": "ipython",
    "version": 3
   },
   "file_extension": ".py",
   "mimetype": "text/x-python",
   "name": "python",
   "nbconvert_exporter": "python",
   "pygments_lexer": "ipython3",
   "version": "3.9.7"
  },
  "varInspector": {
   "cols": {
    "lenName": 16,
    "lenType": 16,
    "lenVar": 40
   },
   "kernels_config": {
    "python": {
     "delete_cmd_postfix": "",
     "delete_cmd_prefix": "del ",
     "library": "var_list.py",
     "varRefreshCmd": "print(var_dic_list())"
    },
    "r": {
     "delete_cmd_postfix": ") ",
     "delete_cmd_prefix": "rm(",
     "library": "var_list.r",
     "varRefreshCmd": "cat(var_dic_list()) "
    }
   },
   "types_to_exclude": [
    "module",
    "function",
    "builtin_function_or_method",
    "instance",
    "_Feature"
   ],
   "window_display": false
  }
 },
 "nbformat": 4,
 "nbformat_minor": 5
}
